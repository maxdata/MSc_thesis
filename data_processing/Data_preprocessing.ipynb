{
 "cells": [
  {
   "cell_type": "code",
   "execution_count": 1,
   "id": "782ae09f",
   "metadata": {},
   "outputs": [
    {
     "name": "stderr",
     "output_type": "stream",
     "text": [
      "/home/ec2-user/anaconda3/envs/pytorch_p36/lib/python3.6/site-packages/psycopg2/__init__.py:144: UserWarning: The psycopg2 wheel package will be renamed from release 2.8; in order to keep installing from binary please use \"pip install psycopg2-binary\" instead. For details see: <http://initd.org/psycopg/docs/install.html#binary-install-from-pypi>.\n",
      "  \"\"\")\n"
     ]
    }
   ],
   "source": [
    "from sys import path\n",
    "path.append(\"/home/ec2-user/SageMaker/data-science-development/utils\")\n",
    "path.append(\"/home/ec2-user/SageMaker/data-science-development/config\")\n",
    "\n",
    "import pandas as pd\n",
    "import numpy as np\n",
    "import datetime as dt\n",
    "import matplotlib.pyplot as plt\n",
    "import pyarrow.parquet as pq\n",
    "\n",
    "import s3fs\n",
    "import os\n",
    "import torch\n",
    "import random\n",
    "import json\n",
    "# import sktime\n",
    "\n",
    "from torch import nn\n",
    "from torch.autograd import Variable\n",
    "from torch.utils.data import TensorDataset, DataLoader, WeightedRandomSampler\n",
    "\n",
    "from sklearn.model_selection import train_test_split\n",
    "from sklearn.utils import class_weight\n",
    "\n",
    "from redshift import get_from_redshift\n",
    "from datetime import datetime\n",
    "from config import Config  \n",
    "from collections import defaultdict, Counter\n",
    "from tqdm import tqdm \n",
    "from itertools import zip_longest\n",
    "\n",
    "tqdm.pandas()"
   ]
  },
  {
   "cell_type": "markdown",
   "id": "4fa9d932",
   "metadata": {},
   "source": [
    "# Loading data"
   ]
  },
  {
   "cell_type": "markdown",
   "id": "c43f3fa8",
   "metadata": {},
   "source": [
    "### Work experience"
   ]
  },
  {
   "cell_type": "code",
   "execution_count": 47,
   "id": "60966b00",
   "metadata": {},
   "outputs": [],
   "source": [
    "sql_path = os.path.join(\"/home/ec2-user/SageMaker/data-science-development/talent_recommender/daily_snapshots\",\n",
    "                        Config.query_candidate_work_experience) "
   ]
  },
  {
   "cell_type": "code",
   "execution_count": 48,
   "id": "ab884e91",
   "metadata": {},
   "outputs": [
    {
     "data": {
      "text/html": [
       "<div>\n",
       "<style scoped>\n",
       "    .dataframe tbody tr th:only-of-type {\n",
       "        vertical-align: middle;\n",
       "    }\n",
       "\n",
       "    .dataframe tbody tr th {\n",
       "        vertical-align: top;\n",
       "    }\n",
       "\n",
       "    .dataframe thead th {\n",
       "        text-align: right;\n",
       "    }\n",
       "</style>\n",
       "<table border=\"1\" class=\"dataframe\">\n",
       "  <thead>\n",
       "    <tr style=\"text-align: right;\">\n",
       "      <th></th>\n",
       "      <th>candidate_id</th>\n",
       "      <th>unique_id</th>\n",
       "      <th>date_start_job</th>\n",
       "      <th>date_end_job</th>\n",
       "      <th>function_id</th>\n",
       "      <th>isco_functie_niveau</th>\n",
       "      <th>isco_code4</th>\n",
       "      <th>function_name_self</th>\n",
       "      <th>company_name</th>\n",
       "      <th>source</th>\n",
       "    </tr>\n",
       "  </thead>\n",
       "  <tbody>\n",
       "    <tr>\n",
       "      <th>0</th>\n",
       "      <td>89030</td>\n",
       "      <td>187756</td>\n",
       "      <td>2005-04-04 00:00:00</td>\n",
       "      <td>2005-04-13</td>\n",
       "      <td>1046.0</td>\n",
       "      <td>2.0</td>\n",
       "      <td>5246.0</td>\n",
       "      <td>None</td>\n",
       "      <td>Compass Group NL/Prénatal</td>\n",
       "      <td>plaatsing</td>\n",
       "    </tr>\n",
       "    <tr>\n",
       "      <th>1</th>\n",
       "      <td>89030</td>\n",
       "      <td>187818</td>\n",
       "      <td>2005-04-08 00:00:00</td>\n",
       "      <td>2005-08-07</td>\n",
       "      <td>1046.0</td>\n",
       "      <td>2.0</td>\n",
       "      <td>5246.0</td>\n",
       "      <td>None</td>\n",
       "      <td>Albron Cat. / 3381 ASM Europe BV</td>\n",
       "      <td>plaatsing</td>\n",
       "    </tr>\n",
       "    <tr>\n",
       "      <th>2</th>\n",
       "      <td>89030</td>\n",
       "      <td>1290468</td>\n",
       "      <td>2005-09-12 00:00:00</td>\n",
       "      <td>2005-11-10</td>\n",
       "      <td>1046.0</td>\n",
       "      <td>2.0</td>\n",
       "      <td>5246.0</td>\n",
       "      <td>None</td>\n",
       "      <td>Albron cat.3695/ Schuitema</td>\n",
       "      <td>plaatsing</td>\n",
       "    </tr>\n",
       "    <tr>\n",
       "      <th>3</th>\n",
       "      <td>89030</td>\n",
       "      <td>1506287</td>\n",
       "      <td>2005-09-12 00:00:00</td>\n",
       "      <td>2005-11-10</td>\n",
       "      <td>1046.0</td>\n",
       "      <td>2.0</td>\n",
       "      <td>5246.0</td>\n",
       "      <td>None</td>\n",
       "      <td>Paresto/tripvzoudtland/09008 (9.8)</td>\n",
       "      <td>plaatsing</td>\n",
       "    </tr>\n",
       "    <tr>\n",
       "      <th>4</th>\n",
       "      <td>89030</td>\n",
       "      <td>1285504</td>\n",
       "      <td>2005-09-12 00:00:00</td>\n",
       "      <td>2005-11-10</td>\n",
       "      <td>1046.0</td>\n",
       "      <td>2.0</td>\n",
       "      <td>5246.0</td>\n",
       "      <td>None</td>\n",
       "      <td>Albron cat.3695/ Schuitema</td>\n",
       "      <td>plaatsing</td>\n",
       "    </tr>\n",
       "  </tbody>\n",
       "</table>\n",
       "</div>"
      ],
      "text/plain": [
       "   candidate_id  unique_id       date_start_job date_end_job  function_id  \\\n",
       "0         89030     187756  2005-04-04 00:00:00   2005-04-13       1046.0   \n",
       "1         89030     187818  2005-04-08 00:00:00   2005-08-07       1046.0   \n",
       "2         89030    1290468  2005-09-12 00:00:00   2005-11-10       1046.0   \n",
       "3         89030    1506287  2005-09-12 00:00:00   2005-11-10       1046.0   \n",
       "4         89030    1285504  2005-09-12 00:00:00   2005-11-10       1046.0   \n",
       "\n",
       "   isco_functie_niveau  isco_code4 function_name_self  \\\n",
       "0                  2.0      5246.0               None   \n",
       "1                  2.0      5246.0               None   \n",
       "2                  2.0      5246.0               None   \n",
       "3                  2.0      5246.0               None   \n",
       "4                  2.0      5246.0               None   \n",
       "\n",
       "                         company_name     source  \n",
       "0           Compass Group NL/Prénatal  plaatsing  \n",
       "1    Albron Cat. / 3381 ASM Europe BV  plaatsing  \n",
       "2          Albron cat.3695/ Schuitema  plaatsing  \n",
       "3  Paresto/tripvzoudtland/09008 (9.8)  plaatsing  \n",
       "4          Albron cat.3695/ Schuitema  plaatsing  "
      ]
     },
     "execution_count": 48,
     "metadata": {},
     "output_type": "execute_result"
    }
   ],
   "source": [
    "candidate_work_experience = get_from_redshift(sql_path, Config.redshift_creds)\n",
    "candidate_work_experience.head()"
   ]
  },
  {
   "cell_type": "markdown",
   "id": "24f4addf",
   "metadata": {},
   "source": [
    "### Education"
   ]
  },
  {
   "cell_type": "code",
   "execution_count": 49,
   "id": "2c701442",
   "metadata": {},
   "outputs": [],
   "source": [
    "sql_path = os.path.join(\"/home/ec2-user/SageMaker/data-science-development/talent_recommender/daily_snapshots\",\n",
    "                        Config.query_candidate_education) "
   ]
  },
  {
   "cell_type": "code",
   "execution_count": 50,
   "id": "cbcff4f2",
   "metadata": {},
   "outputs": [
    {
     "data": {
      "text/html": [
       "<div>\n",
       "<style scoped>\n",
       "    .dataframe tbody tr th:only-of-type {\n",
       "        vertical-align: middle;\n",
       "    }\n",
       "\n",
       "    .dataframe tbody tr th {\n",
       "        vertical-align: top;\n",
       "    }\n",
       "\n",
       "    .dataframe thead th {\n",
       "        text-align: right;\n",
       "    }\n",
       "</style>\n",
       "<table border=\"1\" class=\"dataframe\">\n",
       "  <thead>\n",
       "    <tr style=\"text-align: right;\">\n",
       "      <th></th>\n",
       "      <th>candidate_id</th>\n",
       "      <th>education_level</th>\n",
       "      <th>date_start</th>\n",
       "      <th>date_end</th>\n",
       "      <th>date_registrated</th>\n",
       "      <th>passed</th>\n",
       "    </tr>\n",
       "  </thead>\n",
       "  <tbody>\n",
       "    <tr>\n",
       "      <th>0</th>\n",
       "      <td>181264</td>\n",
       "      <td>2</td>\n",
       "      <td>1993-09-01 00:00:00</td>\n",
       "      <td>1994-06-30 00:00:00</td>\n",
       "      <td>2005-08-09 18:37:24</td>\n",
       "      <td>0</td>\n",
       "    </tr>\n",
       "    <tr>\n",
       "      <th>1</th>\n",
       "      <td>286976</td>\n",
       "      <td>3</td>\n",
       "      <td>1996-09-01 00:00:00</td>\n",
       "      <td>1999-09-01 00:00:00</td>\n",
       "      <td>2005-08-16 19:15:22</td>\n",
       "      <td>1</td>\n",
       "    </tr>\n",
       "    <tr>\n",
       "      <th>2</th>\n",
       "      <td>387100</td>\n",
       "      <td>3</td>\n",
       "      <td>1991-09-01 00:00:00</td>\n",
       "      <td>1997-06-01 00:00:00</td>\n",
       "      <td>2005-08-30 11:42:21</td>\n",
       "      <td>1</td>\n",
       "    </tr>\n",
       "    <tr>\n",
       "      <th>3</th>\n",
       "      <td>181264</td>\n",
       "      <td>3</td>\n",
       "      <td>1994-08-01 00:00:00</td>\n",
       "      <td>1996-07-31 00:00:00</td>\n",
       "      <td>2005-08-09 18:37:24</td>\n",
       "      <td>0</td>\n",
       "    </tr>\n",
       "    <tr>\n",
       "      <th>4</th>\n",
       "      <td>389441</td>\n",
       "      <td>2</td>\n",
       "      <td>1988-09-01 00:00:00</td>\n",
       "      <td>1990-06-01 00:00:00</td>\n",
       "      <td>2005-08-30 11:49:34</td>\n",
       "      <td>1</td>\n",
       "    </tr>\n",
       "  </tbody>\n",
       "</table>\n",
       "</div>"
      ],
      "text/plain": [
       "   candidate_id  education_level           date_start             date_end  \\\n",
       "0        181264                2  1993-09-01 00:00:00  1994-06-30 00:00:00   \n",
       "1        286976                3  1996-09-01 00:00:00  1999-09-01 00:00:00   \n",
       "2        387100                3  1991-09-01 00:00:00  1997-06-01 00:00:00   \n",
       "3        181264                3  1994-08-01 00:00:00  1996-07-31 00:00:00   \n",
       "4        389441                2  1988-09-01 00:00:00  1990-06-01 00:00:00   \n",
       "\n",
       "     date_registrated  passed  \n",
       "0 2005-08-09 18:37:24       0  \n",
       "1 2005-08-16 19:15:22       1  \n",
       "2 2005-08-30 11:42:21       1  \n",
       "3 2005-08-09 18:37:24       0  \n",
       "4 2005-08-30 11:49:34       1  "
      ]
     },
     "execution_count": 50,
     "metadata": {},
     "output_type": "execute_result"
    }
   ],
   "source": [
    "candidate_education = get_from_redshift(sql_path, Config.redshift_creds)\n",
    "candidate_education.head()"
   ]
  },
  {
   "cell_type": "markdown",
   "id": "fa805640",
   "metadata": {},
   "source": [
    "### Skills"
   ]
  },
  {
   "cell_type": "code",
   "execution_count": null,
   "id": "1f46a2f2",
   "metadata": {},
   "outputs": [],
   "source": [
    "sql_path = os.path.join(\"/home/ec2-user/SageMaker/data-science-development/talent_recommender/daily_snapshots\",\n",
    "                        Config.query_candidate_skills) "
   ]
  },
  {
   "cell_type": "markdown",
   "id": "9c5217e8",
   "metadata": {},
   "source": [
    "#### What's date start here? "
   ]
  },
  {
   "cell_type": "code",
   "execution_count": null,
   "id": "66e06a0e",
   "metadata": {},
   "outputs": [],
   "source": [
    "candidate_skill = get_from_redshift(sql_path, Config.redshift_creds)\n",
    "candidate_skill.head()"
   ]
  },
  {
   "cell_type": "markdown",
   "id": "2863927b",
   "metadata": {},
   "source": [
    "### Languages"
   ]
  },
  {
   "cell_type": "code",
   "execution_count": null,
   "id": "723bef73",
   "metadata": {},
   "outputs": [],
   "source": [
    "sql_path = os.path.join(\"/home/ec2-user/SageMaker/data-science-development/talent_recommender/daily_snapshots\",\n",
    "                        Config.query_candidate_languages) "
   ]
  },
  {
   "cell_type": "code",
   "execution_count": null,
   "id": "79d5cf76",
   "metadata": {},
   "outputs": [],
   "source": [
    "candidate_languages = get_from_redshift(sql_path, Config.redshift_creds)\n",
    "candidate_languages.head()"
   ]
  },
  {
   "cell_type": "code",
   "execution_count": null,
   "id": "acee2fb2",
   "metadata": {},
   "outputs": [],
   "source": [
    "lang_to_idx = {v : i for i, v in enumerate(sorted(candidate_languages[\"language_id\"].astype(float).unique()))}\n",
    "idx_to_lang = {i : v for i, v in lang_to_idx.items()}\n",
    "candidate_languages[\"language_id\"] = candidate_languages[\"language_id\"].progress_apply(lambda x: lang_to_idx[x])"
   ]
  },
  {
   "cell_type": "code",
   "execution_count": null,
   "id": "2150816c",
   "metadata": {},
   "outputs": [],
   "source": [
    "languages_oh = pd.crosstab(candidate_languages[\"candidate_id\"],\n",
    "                           candidate_languages[\"language_id\"])"
   ]
  },
  {
   "cell_type": "code",
   "execution_count": 27,
   "id": "3720961c",
   "metadata": {},
   "outputs": [],
   "source": [
    "languages_oh.to_csv(\"../Data/languages_one-hot.csv\")"
   ]
  },
  {
   "cell_type": "markdown",
   "id": "af65cc3a",
   "metadata": {},
   "source": [
    "### Addresses"
   ]
  },
  {
   "cell_type": "code",
   "execution_count": 18,
   "id": "9d953b29",
   "metadata": {},
   "outputs": [],
   "source": [
    "sql_path = os.path.join(\"/home/ec2-user/SageMaker/data-science-development/talent_recommender/daily_snapshots\",\n",
    "                        Config.query_candidate_addresses) "
   ]
  },
  {
   "cell_type": "code",
   "execution_count": 19,
   "id": "222fac18",
   "metadata": {},
   "outputs": [
    {
     "data": {
      "text/html": [
       "<div>\n",
       "<style scoped>\n",
       "    .dataframe tbody tr th:only-of-type {\n",
       "        vertical-align: middle;\n",
       "    }\n",
       "\n",
       "    .dataframe tbody tr th {\n",
       "        vertical-align: top;\n",
       "    }\n",
       "\n",
       "    .dataframe thead th {\n",
       "        text-align: right;\n",
       "    }\n",
       "</style>\n",
       "<table border=\"1\" class=\"dataframe\">\n",
       "  <thead>\n",
       "    <tr style=\"text-align: right;\">\n",
       "      <th></th>\n",
       "      <th>candidate_id</th>\n",
       "      <th>from_post_code</th>\n",
       "      <th>date_start</th>\n",
       "      <th>date_end</th>\n",
       "    </tr>\n",
       "  </thead>\n",
       "  <tbody>\n",
       "    <tr>\n",
       "      <th>0</th>\n",
       "      <td>2065656</td>\n",
       "      <td>9714 JV</td>\n",
       "      <td>2016-02-05 00:00:00</td>\n",
       "      <td>2016-12-26 00:00:00</td>\n",
       "    </tr>\n",
       "    <tr>\n",
       "      <th>1</th>\n",
       "      <td>2674423</td>\n",
       "      <td>1621 JW</td>\n",
       "      <td>2014-09-01 00:00:00</td>\n",
       "      <td>2015-12-16 00:00:00</td>\n",
       "    </tr>\n",
       "    <tr>\n",
       "      <th>2</th>\n",
       "      <td>7301821</td>\n",
       "      <td>3064 AW</td>\n",
       "      <td>2018-01-25 00:00:00</td>\n",
       "      <td>None</td>\n",
       "    </tr>\n",
       "    <tr>\n",
       "      <th>3</th>\n",
       "      <td>7367386</td>\n",
       "      <td>7141 WE</td>\n",
       "      <td>2018-03-26 00:00:00</td>\n",
       "      <td>None</td>\n",
       "    </tr>\n",
       "    <tr>\n",
       "      <th>4</th>\n",
       "      <td>1613716</td>\n",
       "      <td>7731 CA</td>\n",
       "      <td>2011-03-15 00:00:00</td>\n",
       "      <td>None</td>\n",
       "    </tr>\n",
       "  </tbody>\n",
       "</table>\n",
       "</div>"
      ],
      "text/plain": [
       "   candidate_id from_post_code           date_start             date_end\n",
       "0       2065656        9714 JV  2016-02-05 00:00:00  2016-12-26 00:00:00\n",
       "1       2674423        1621 JW  2014-09-01 00:00:00  2015-12-16 00:00:00\n",
       "2       7301821        3064 AW  2018-01-25 00:00:00                 None\n",
       "3       7367386        7141 WE  2018-03-26 00:00:00                 None\n",
       "4       1613716        7731 CA  2011-03-15 00:00:00                 None"
      ]
     },
     "execution_count": 19,
     "metadata": {},
     "output_type": "execute_result"
    }
   ],
   "source": [
    "candidate_addresses = get_from_redshift(sql_path, Config.redshift_creds)\n",
    "candidate_addresses.head()"
   ]
  },
  {
   "cell_type": "code",
   "execution_count": 20,
   "id": "32f232c0",
   "metadata": {},
   "outputs": [
    {
     "data": {
      "text/plain": [
       "(4148409, 4)"
      ]
     },
     "execution_count": 20,
     "metadata": {},
     "output_type": "execute_result"
    }
   ],
   "source": [
    "candidate_addresses.shape"
   ]
  },
  {
   "cell_type": "code",
   "execution_count": 21,
   "id": "4cdfd41d",
   "metadata": {},
   "outputs": [],
   "source": [
    "# Drop nonsense rows\n",
    "candidate_addresses = candidate_addresses[(candidate_addresses[\"date_start\"] >= dt.datetime(1950, 1, 1)) &\n",
    "                                          (candidate_addresses[\"date_start\"] <= dt.datetime(2025, 1, 1))]"
   ]
  },
  {
   "cell_type": "code",
   "execution_count": 22,
   "id": "676624a0",
   "metadata": {},
   "outputs": [
    {
     "data": {
      "text/plain": [
       "(4148259, 4)"
      ]
     },
     "execution_count": 22,
     "metadata": {},
     "output_type": "execute_result"
    }
   ],
   "source": [
    "candidate_addresses.shape"
   ]
  },
  {
   "cell_type": "code",
   "execution_count": 23,
   "id": "c8b29316",
   "metadata": {},
   "outputs": [],
   "source": [
    "# Only store for candidates we will actually be using\n",
    "candidate_addresses = candidate_addresses[candidate_addresses[\"candidate_id\"].isin(\n",
    "    set(candidate_work_experience[\"candidate_id\"].unique()))]"
   ]
  },
  {
   "cell_type": "code",
   "execution_count": 24,
   "id": "a2e7ceef",
   "metadata": {},
   "outputs": [
    {
     "data": {
      "text/plain": [
       "(770495, 4)"
      ]
     },
     "execution_count": 24,
     "metadata": {},
     "output_type": "execute_result"
    }
   ],
   "source": [
    "candidate_addresses.shape"
   ]
  },
  {
   "cell_type": "code",
   "execution_count": 25,
   "id": "0003b113",
   "metadata": {},
   "outputs": [
    {
     "name": "stderr",
     "output_type": "stream",
     "text": [
      "100%|██████████| 528183/528183 [02:00<00:00, 4381.98it/s]\n"
     ]
    }
   ],
   "source": [
    "most_recent_address = candidate_addresses.groupby(\"candidate_id\")[\"date_start\"].progress_apply(max)"
   ]
  },
  {
   "cell_type": "code",
   "execution_count": 26,
   "id": "99aeb5c2",
   "metadata": {},
   "outputs": [],
   "source": [
    "# TODO: do this in a way that isn't hideous\n",
    "makeshift_index = set((most_recent_address.index.astype(str) + most_recent_address.astype(str)).values)"
   ]
  },
  {
   "cell_type": "code",
   "execution_count": 27,
   "id": "97303463",
   "metadata": {},
   "outputs": [],
   "source": [
    "candidate_addresses.loc[:,\"temp\"] = candidate_addresses[\"candidate_id\"].astype(str) + candidate_addresses[\"date_start\"].astype(str)"
   ]
  },
  {
   "cell_type": "code",
   "execution_count": 28,
   "id": "f3a07558",
   "metadata": {},
   "outputs": [],
   "source": [
    "candidate_addresses = candidate_addresses[candidate_addresses[\"temp\"].isin(makeshift_index)].drop(\"temp\", axis=1)"
   ]
  },
  {
   "cell_type": "code",
   "execution_count": 29,
   "id": "f0905b50",
   "metadata": {},
   "outputs": [],
   "source": [
    "candidate_addresses[\"from_post_code\"] = candidate_addresses[\"from_post_code\"].str.slice(0, 4)"
   ]
  },
  {
   "cell_type": "code",
   "execution_count": 30,
   "id": "0802f475",
   "metadata": {},
   "outputs": [
    {
     "name": "stderr",
     "output_type": "stream",
     "text": [
      "100%|██████████| 528183/528183 [00:13<00:00, 38298.87it/s]\n"
     ]
    }
   ],
   "source": [
    "candidate_final_addresses = candidate_addresses.groupby(\"candidate_id\")[\"from_post_code\"].progress_apply(lambda x: x.values[-1])"
   ]
  },
  {
   "cell_type": "code",
   "execution_count": 31,
   "id": "aa63100e",
   "metadata": {},
   "outputs": [
    {
     "name": "stderr",
     "output_type": "stream",
     "text": [
      "100%|██████████| 528183/528183 [00:00<00:00, 604613.16it/s]\n"
     ]
    }
   ],
   "source": [
    "zip_to_idx = {v : i for i, v in enumerate(sorted(candidate_final_addresses.unique()))}\n",
    "idx_to_zip = {i : v for i, v in zip_to_idx.items()}\n",
    "candidate_final_addresses = candidate_final_addresses.progress_apply(lambda x: zip_to_idx[x])"
   ]
  },
  {
   "cell_type": "code",
   "execution_count": 35,
   "id": "9a973c68",
   "metadata": {},
   "outputs": [
    {
     "data": {
      "text/html": [
       "<div>\n",
       "<style scoped>\n",
       "    .dataframe tbody tr th:only-of-type {\n",
       "        vertical-align: middle;\n",
       "    }\n",
       "\n",
       "    .dataframe tbody tr th {\n",
       "        vertical-align: top;\n",
       "    }\n",
       "\n",
       "    .dataframe thead th {\n",
       "        text-align: right;\n",
       "    }\n",
       "</style>\n",
       "<table border=\"1\" class=\"dataframe\">\n",
       "  <thead>\n",
       "    <tr style=\"text-align: right;\">\n",
       "      <th></th>\n",
       "      <th>0</th>\n",
       "      <th>1</th>\n",
       "      <th>2</th>\n",
       "      <th>3</th>\n",
       "      <th>4</th>\n",
       "      <th>5</th>\n",
       "      <th>6</th>\n",
       "      <th>7</th>\n",
       "      <th>8</th>\n",
       "      <th>9</th>\n",
       "      <th>...</th>\n",
       "      <th>4747</th>\n",
       "      <th>4748</th>\n",
       "      <th>4749</th>\n",
       "      <th>4750</th>\n",
       "      <th>4751</th>\n",
       "      <th>4752</th>\n",
       "      <th>4753</th>\n",
       "      <th>4754</th>\n",
       "      <th>4755</th>\n",
       "      <th>4756</th>\n",
       "    </tr>\n",
       "    <tr>\n",
       "      <th>candidate_id</th>\n",
       "      <th></th>\n",
       "      <th></th>\n",
       "      <th></th>\n",
       "      <th></th>\n",
       "      <th></th>\n",
       "      <th></th>\n",
       "      <th></th>\n",
       "      <th></th>\n",
       "      <th></th>\n",
       "      <th></th>\n",
       "      <th></th>\n",
       "      <th></th>\n",
       "      <th></th>\n",
       "      <th></th>\n",
       "      <th></th>\n",
       "      <th></th>\n",
       "      <th></th>\n",
       "      <th></th>\n",
       "      <th></th>\n",
       "      <th></th>\n",
       "      <th></th>\n",
       "    </tr>\n",
       "  </thead>\n",
       "  <tbody>\n",
       "    <tr>\n",
       "      <th>84556</th>\n",
       "      <td>0</td>\n",
       "      <td>0</td>\n",
       "      <td>0</td>\n",
       "      <td>0</td>\n",
       "      <td>0</td>\n",
       "      <td>0</td>\n",
       "      <td>0</td>\n",
       "      <td>0</td>\n",
       "      <td>0</td>\n",
       "      <td>0</td>\n",
       "      <td>...</td>\n",
       "      <td>0</td>\n",
       "      <td>0</td>\n",
       "      <td>0</td>\n",
       "      <td>0</td>\n",
       "      <td>0</td>\n",
       "      <td>0</td>\n",
       "      <td>0</td>\n",
       "      <td>0</td>\n",
       "      <td>0</td>\n",
       "      <td>0</td>\n",
       "    </tr>\n",
       "    <tr>\n",
       "      <th>84612</th>\n",
       "      <td>0</td>\n",
       "      <td>0</td>\n",
       "      <td>0</td>\n",
       "      <td>0</td>\n",
       "      <td>0</td>\n",
       "      <td>0</td>\n",
       "      <td>0</td>\n",
       "      <td>0</td>\n",
       "      <td>0</td>\n",
       "      <td>0</td>\n",
       "      <td>...</td>\n",
       "      <td>0</td>\n",
       "      <td>0</td>\n",
       "      <td>0</td>\n",
       "      <td>0</td>\n",
       "      <td>0</td>\n",
       "      <td>0</td>\n",
       "      <td>0</td>\n",
       "      <td>0</td>\n",
       "      <td>0</td>\n",
       "      <td>0</td>\n",
       "    </tr>\n",
       "    <tr>\n",
       "      <th>84731</th>\n",
       "      <td>0</td>\n",
       "      <td>0</td>\n",
       "      <td>0</td>\n",
       "      <td>0</td>\n",
       "      <td>0</td>\n",
       "      <td>0</td>\n",
       "      <td>0</td>\n",
       "      <td>0</td>\n",
       "      <td>0</td>\n",
       "      <td>0</td>\n",
       "      <td>...</td>\n",
       "      <td>0</td>\n",
       "      <td>0</td>\n",
       "      <td>0</td>\n",
       "      <td>0</td>\n",
       "      <td>0</td>\n",
       "      <td>0</td>\n",
       "      <td>0</td>\n",
       "      <td>0</td>\n",
       "      <td>0</td>\n",
       "      <td>0</td>\n",
       "    </tr>\n",
       "    <tr>\n",
       "      <th>85437</th>\n",
       "      <td>0</td>\n",
       "      <td>0</td>\n",
       "      <td>0</td>\n",
       "      <td>0</td>\n",
       "      <td>0</td>\n",
       "      <td>0</td>\n",
       "      <td>0</td>\n",
       "      <td>0</td>\n",
       "      <td>0</td>\n",
       "      <td>0</td>\n",
       "      <td>...</td>\n",
       "      <td>0</td>\n",
       "      <td>0</td>\n",
       "      <td>0</td>\n",
       "      <td>0</td>\n",
       "      <td>0</td>\n",
       "      <td>0</td>\n",
       "      <td>0</td>\n",
       "      <td>0</td>\n",
       "      <td>0</td>\n",
       "      <td>0</td>\n",
       "    </tr>\n",
       "    <tr>\n",
       "      <th>85627</th>\n",
       "      <td>0</td>\n",
       "      <td>0</td>\n",
       "      <td>0</td>\n",
       "      <td>0</td>\n",
       "      <td>0</td>\n",
       "      <td>0</td>\n",
       "      <td>0</td>\n",
       "      <td>0</td>\n",
       "      <td>0</td>\n",
       "      <td>0</td>\n",
       "      <td>...</td>\n",
       "      <td>0</td>\n",
       "      <td>0</td>\n",
       "      <td>0</td>\n",
       "      <td>0</td>\n",
       "      <td>0</td>\n",
       "      <td>0</td>\n",
       "      <td>0</td>\n",
       "      <td>0</td>\n",
       "      <td>0</td>\n",
       "      <td>0</td>\n",
       "    </tr>\n",
       "  </tbody>\n",
       "</table>\n",
       "<p>5 rows × 4757 columns</p>\n",
       "</div>"
      ],
      "text/plain": [
       "              0     1     2     3     4     5     6     7     8     9     ...  \\\n",
       "candidate_id                                                              ...   \n",
       "84556            0     0     0     0     0     0     0     0     0     0  ...   \n",
       "84612            0     0     0     0     0     0     0     0     0     0  ...   \n",
       "84731            0     0     0     0     0     0     0     0     0     0  ...   \n",
       "85437            0     0     0     0     0     0     0     0     0     0  ...   \n",
       "85627            0     0     0     0     0     0     0     0     0     0  ...   \n",
       "\n",
       "              4747  4748  4749  4750  4751  4752  4753  4754  4755  4756  \n",
       "candidate_id                                                              \n",
       "84556            0     0     0     0     0     0     0     0     0     0  \n",
       "84612            0     0     0     0     0     0     0     0     0     0  \n",
       "84731            0     0     0     0     0     0     0     0     0     0  \n",
       "85437            0     0     0     0     0     0     0     0     0     0  \n",
       "85627            0     0     0     0     0     0     0     0     0     0  \n",
       "\n",
       "[5 rows x 4757 columns]"
      ]
     },
     "execution_count": 35,
     "metadata": {},
     "output_type": "execute_result"
    }
   ],
   "source": [
    "addresses_one_hot = pd.get_dummies(candidate_final_addresses)\n",
    "\n",
    "addresses_one_hot.head()"
   ]
  },
  {
   "cell_type": "code",
   "execution_count": 37,
   "id": "62e2d338",
   "metadata": {},
   "outputs": [],
   "source": [
    "# DIY Sparse matrix\n",
    "compressed_addresses_one_hot = addresses_one_hot.idxmax(axis=1)"
   ]
  },
  {
   "cell_type": "code",
   "execution_count": 38,
   "id": "dcf3089c",
   "metadata": {},
   "outputs": [],
   "source": [
    "compressed_addresses_one_hot.to_csv(\"../Data/addresses_one-hot.csv\")"
   ]
  },
  {
   "cell_type": "code",
   "execution_count": 46,
   "id": "6569db2b",
   "metadata": {},
   "outputs": [
    {
     "name": "stdout",
     "output_type": "stream",
     "text": [
      "84556 90\n",
      "[   0 3174 3173 ... 1587 4756   90]\n"
     ]
    }
   ],
   "source": [
    "for k, v in compressed_addresses_one_hot.items():\n",
    "    print(k, v)\n",
    "    a = np.zeros(4757)\n",
    "    a[v] = 1\n",
    "    break"
   ]
  },
  {
   "cell_type": "code",
   "execution_count": 54,
   "id": "b1c74882",
   "metadata": {},
   "outputs": [],
   "source": [
    "emb = nn.Embedding(4757, 10)"
   ]
  },
  {
   "cell_type": "code",
   "execution_count": 60,
   "id": "1230121e",
   "metadata": {},
   "outputs": [
    {
     "data": {
      "text/plain": [
       "(tensor([[-0.7321,  0.4676,  0.0742, -1.5482,  1.1119, -0.9195, -1.2665, -0.5721,\n",
       "           0.0527,  0.2775]], grad_fn=<EmbeddingBackward>),\n",
       " tensor([[ 0.9187,  0.3937, -0.8414,  0.1928, -0.3927,  0.9119, -0.7422,  0.6156,\n",
       "           0.2376,  1.0105]], grad_fn=<EmbeddingBackward>))"
      ]
     },
     "execution_count": 60,
     "metadata": {},
     "output_type": "execute_result"
    }
   ],
   "source": [
    "emb(torch.LongTensor([90])), emb(torch.LongTensor([50]))"
   ]
  },
  {
   "cell_type": "markdown",
   "id": "38a7d561",
   "metadata": {},
   "source": [
    "### Driving licenses"
   ]
  },
  {
   "cell_type": "code",
   "execution_count": 107,
   "id": "1ced190e",
   "metadata": {},
   "outputs": [],
   "source": [
    "sql_path = os.path.join(\"/home/ec2-user/SageMaker/data-science-development/talent_recommender/daily_snapshots\",\n",
    "                        Config.query_candidate_driving_license) "
   ]
  },
  {
   "cell_type": "code",
   "execution_count": 108,
   "id": "ea30d335",
   "metadata": {},
   "outputs": [
    {
     "data": {
      "text/html": [
       "<div>\n",
       "<style scoped>\n",
       "    .dataframe tbody tr th:only-of-type {\n",
       "        vertical-align: middle;\n",
       "    }\n",
       "\n",
       "    .dataframe tbody tr th {\n",
       "        vertical-align: top;\n",
       "    }\n",
       "\n",
       "    .dataframe thead th {\n",
       "        text-align: right;\n",
       "    }\n",
       "</style>\n",
       "<table border=\"1\" class=\"dataframe\">\n",
       "  <thead>\n",
       "    <tr style=\"text-align: right;\">\n",
       "      <th></th>\n",
       "      <th>candidate_id</th>\n",
       "      <th>driving_licenses</th>\n",
       "      <th>date_driving_license</th>\n",
       "    </tr>\n",
       "  </thead>\n",
       "  <tbody>\n",
       "    <tr>\n",
       "      <th>0</th>\n",
       "      <td>395381</td>\n",
       "      <td>A</td>\n",
       "      <td>2005-09-02 11:31:09</td>\n",
       "    </tr>\n",
       "    <tr>\n",
       "      <th>1</th>\n",
       "      <td>430828</td>\n",
       "      <td>A</td>\n",
       "      <td>2005-09-06 17:57:28</td>\n",
       "    </tr>\n",
       "    <tr>\n",
       "      <th>2</th>\n",
       "      <td>1074181</td>\n",
       "      <td>A</td>\n",
       "      <td>2013-08-07 10:06:11</td>\n",
       "    </tr>\n",
       "    <tr>\n",
       "      <th>3</th>\n",
       "      <td>1976775</td>\n",
       "      <td>A</td>\n",
       "      <td>2014-11-03 15:29:38</td>\n",
       "    </tr>\n",
       "    <tr>\n",
       "      <th>4</th>\n",
       "      <td>94916</td>\n",
       "      <td>A</td>\n",
       "      <td>2013-11-25 15:09:48</td>\n",
       "    </tr>\n",
       "  </tbody>\n",
       "</table>\n",
       "</div>"
      ],
      "text/plain": [
       "   candidate_id driving_licenses date_driving_license\n",
       "0        395381                A  2005-09-02 11:31:09\n",
       "1        430828                A  2005-09-06 17:57:28\n",
       "2       1074181                A  2013-08-07 10:06:11\n",
       "3       1976775                A  2014-11-03 15:29:38\n",
       "4         94916                A  2013-11-25 15:09:48"
      ]
     },
     "execution_count": 108,
     "metadata": {},
     "output_type": "execute_result"
    }
   ],
   "source": [
    "candidate_driving = get_from_redshift(sql_path, Config.redshift_creds)\n",
    "candidate_driving.head()"
   ]
  },
  {
   "cell_type": "code",
   "execution_count": 113,
   "id": "224108d5",
   "metadata": {},
   "outputs": [],
   "source": [
    "candidate_driving = candidate_driving[candidate_driving[\"candidate_id\"].isin(set(candidate_work_experience[\"candidate_id\"].unique()))]"
   ]
  },
  {
   "cell_type": "code",
   "execution_count": 114,
   "id": "1354ec54",
   "metadata": {},
   "outputs": [],
   "source": [
    "licenses_one_hot = pd.crosstab(candidate_driving[\"candidate_id\"],\n",
    "                               candidate_driving[\"driving_licenses\"])"
   ]
  },
  {
   "cell_type": "code",
   "execution_count": 115,
   "id": "5471ce00",
   "metadata": {},
   "outputs": [
    {
     "data": {
      "text/plain": [
       "(216926, 8)"
      ]
     },
     "execution_count": 115,
     "metadata": {},
     "output_type": "execute_result"
    }
   ],
   "source": [
    "licenses_one_hot.shape"
   ]
  },
  {
   "cell_type": "code",
   "execution_count": 116,
   "id": "a5587b5e",
   "metadata": {},
   "outputs": [],
   "source": [
    "licenses_one_hot.to_csv(\"../Data/licenses_one-hot.csv\")"
   ]
  },
  {
   "cell_type": "markdown",
   "id": "6298384e",
   "metadata": {},
   "source": [
    "# Skill reindexing"
   ]
  },
  {
   "cell_type": "code",
   "execution_count": 6,
   "id": "c6e4b660",
   "metadata": {},
   "outputs": [
    {
     "ename": "NameError",
     "evalue": "name 'candidate_skill' is not defined",
     "output_type": "error",
     "traceback": [
      "\u001b[0;31m---------------------------------------------------------------------------\u001b[0m",
      "\u001b[0;31mNameError\u001b[0m                                 Traceback (most recent call last)",
      "\u001b[0;32m<ipython-input-6-8917031d031f>\u001b[0m in \u001b[0;36m<module>\u001b[0;34m\u001b[0m\n\u001b[0;32m----> 1\u001b[0;31m \u001b[0mskill_to_idx\u001b[0m \u001b[0;34m=\u001b[0m \u001b[0;34m{\u001b[0m\u001b[0mv\u001b[0m \u001b[0;34m:\u001b[0m \u001b[0mi\u001b[0m \u001b[0;32mfor\u001b[0m \u001b[0mi\u001b[0m\u001b[0;34m,\u001b[0m \u001b[0mv\u001b[0m \u001b[0;32min\u001b[0m \u001b[0menumerate\u001b[0m\u001b[0;34m(\u001b[0m\u001b[0msorted\u001b[0m\u001b[0;34m(\u001b[0m\u001b[0mcandidate_skill\u001b[0m\u001b[0;34m[\u001b[0m\u001b[0;34m\"skill_id\"\u001b[0m\u001b[0;34m]\u001b[0m\u001b[0;34m.\u001b[0m\u001b[0mastype\u001b[0m\u001b[0;34m(\u001b[0m\u001b[0mfloat\u001b[0m\u001b[0;34m)\u001b[0m\u001b[0;34m.\u001b[0m\u001b[0munique\u001b[0m\u001b[0;34m(\u001b[0m\u001b[0;34m)\u001b[0m\u001b[0;34m)\u001b[0m\u001b[0;34m)\u001b[0m\u001b[0;34m}\u001b[0m\u001b[0;34m\u001b[0m\u001b[0;34m\u001b[0m\u001b[0m\n\u001b[0m\u001b[1;32m      2\u001b[0m \u001b[0midx_to_skill\u001b[0m \u001b[0;34m=\u001b[0m \u001b[0;34m{\u001b[0m\u001b[0mi\u001b[0m \u001b[0;34m:\u001b[0m \u001b[0mv\u001b[0m \u001b[0;32mfor\u001b[0m \u001b[0mi\u001b[0m\u001b[0;34m,\u001b[0m \u001b[0mv\u001b[0m \u001b[0;32min\u001b[0m \u001b[0mskill_to_idx\u001b[0m\u001b[0;34m.\u001b[0m\u001b[0mitems\u001b[0m\u001b[0;34m(\u001b[0m\u001b[0;34m)\u001b[0m\u001b[0;34m}\u001b[0m\u001b[0;34m\u001b[0m\u001b[0;34m\u001b[0m\u001b[0m\n\u001b[1;32m      3\u001b[0m \u001b[0mcandidate_skill\u001b[0m\u001b[0;34m[\u001b[0m\u001b[0;34m\"skill_id\"\u001b[0m\u001b[0;34m]\u001b[0m \u001b[0;34m=\u001b[0m \u001b[0mcandidate_skill\u001b[0m\u001b[0;34m[\u001b[0m\u001b[0;34m\"skill_id\"\u001b[0m\u001b[0;34m]\u001b[0m\u001b[0;34m.\u001b[0m\u001b[0mprogress_apply\u001b[0m\u001b[0;34m(\u001b[0m\u001b[0;32mlambda\u001b[0m \u001b[0mx\u001b[0m\u001b[0;34m:\u001b[0m \u001b[0mskill_to_idx\u001b[0m\u001b[0;34m[\u001b[0m\u001b[0mx\u001b[0m\u001b[0;34m]\u001b[0m\u001b[0;34m)\u001b[0m\u001b[0;34m\u001b[0m\u001b[0;34m\u001b[0m\u001b[0m\n\u001b[1;32m      4\u001b[0m \u001b[0mskills_dict\u001b[0m \u001b[0;34m=\u001b[0m \u001b[0mcandidate_skill\u001b[0m\u001b[0;34m.\u001b[0m\u001b[0mgroupby\u001b[0m\u001b[0;34m(\u001b[0m\u001b[0;34m\"candidate_id\"\u001b[0m\u001b[0;34m)\u001b[0m\u001b[0;34m[\u001b[0m\u001b[0;34m\"skill_id\"\u001b[0m\u001b[0;34m]\u001b[0m\u001b[0;34m.\u001b[0m\u001b[0mapply\u001b[0m\u001b[0;34m(\u001b[0m\u001b[0mlist\u001b[0m\u001b[0;34m)\u001b[0m\u001b[0;34m.\u001b[0m\u001b[0mto_dict\u001b[0m\u001b[0;34m(\u001b[0m\u001b[0;34m)\u001b[0m\u001b[0;34m\u001b[0m\u001b[0;34m\u001b[0m\u001b[0m\n",
      "\u001b[0;31mNameError\u001b[0m: name 'candidate_skill' is not defined"
     ]
    }
   ],
   "source": [
    "skill_to_idx = {v : i for i, v in enumerate(sorted(candidate_skill[\"skill_id\"].astype(float).unique()))}\n",
    "idx_to_skill = {i : v for i, v in skill_to_idx.items()}\n",
    "candidate_skill[\"skill_id\"] = candidate_skill[\"skill_id\"].progress_apply(lambda x: skill_to_idx[x])\n",
    "skills_dict = candidate_skill.groupby(\"candidate_id\")[\"skill_id\"].apply(list).to_dict()"
   ]
  },
  {
   "cell_type": "code",
   "execution_count": 9,
   "id": "3e32a63b",
   "metadata": {},
   "outputs": [],
   "source": [
    "# Convert lists of skills to dataframe of skills per candidate\n",
    "skills_ct = pd.crosstab(candidate_skill[\"candidate_id\"], \n",
    "                        candidate_skill[\"skill_id\"])\n",
    "\n",
    "# # skills = skills_ct.where(skills_ct != 1, skills_ct.columns.to_series(), axis=1)\n",
    "skills_ct.columns = [f\"skill_{i}\" for i in skills_ct.columns]"
   ]
  },
  {
   "cell_type": "code",
   "execution_count": 10,
   "id": "188c34e7",
   "metadata": {},
   "outputs": [
    {
     "name": "stdout",
     "output_type": "stream",
     "text": [
      "<class 'pandas.core.frame.DataFrame'>\n",
      "Int64Index: 465522 entries, 84267 to 7980693\n",
      "Columns: 317 entries, skill_0 to skill_316\n",
      "dtypes: int64(317)\n",
      "memory usage: 1.1 GB\n"
     ]
    }
   ],
   "source": [
    "skills_ct.info()"
   ]
  },
  {
   "cell_type": "code",
   "execution_count": 11,
   "id": "3af71204",
   "metadata": {},
   "outputs": [],
   "source": [
    "# skills_ct.to_csv(\"skills_one-hot.csv\")"
   ]
  },
  {
   "cell_type": "markdown",
   "id": "4c168b96",
   "metadata": {},
   "source": [
    "# Merging and formatting"
   ]
  },
  {
   "cell_type": "code",
   "execution_count": 51,
   "id": "984352d4",
   "metadata": {},
   "outputs": [],
   "source": [
    "def clean_df(df, table = \"work_experience\"):\n",
    "    \n",
    "    if table == \"work_experience\":\n",
    "        start, end = \"date_start_job\", \"date_end_job\"\n",
    "    elif table == \"education\":\n",
    "        start, end = \"date_start\", \"date_end\"\n",
    "    else:\n",
    "        return NotImplemented\n",
    "    \n",
    "    # Drop nonsense data\n",
    "    df = df[df[start] >= dt.datetime(1800, 1, 1)]\n",
    "    df = df[df[end] <= dt.datetime(2100, 1, 1)]\n",
    "\n",
    "    # Convert datetime to date\n",
    "    df[start] = pd.to_datetime(df[start]).dt.date\n",
    "    df[end] = pd.to_datetime(df[end]).dt.date\n",
    "    \n",
    "    return df\n",
    "        \n",
    "candidate_work_experience = clean_df(candidate_work_experience)\n",
    "candidate_education = clean_df(candidate_education, table = \"education\")"
   ]
  },
  {
   "cell_type": "code",
   "execution_count": 52,
   "id": "51e49844",
   "metadata": {},
   "outputs": [],
   "source": [
    "candidate_work_experience[\"time_spent\"] = (candidate_work_experience[\"date_end_job\"] - \n",
    "                                           candidate_work_experience[\"date_start_job\"]).dt.days.astype('int16')"
   ]
  },
  {
   "cell_type": "code",
   "execution_count": 53,
   "id": "17572bdc",
   "metadata": {},
   "outputs": [
    {
     "data": {
      "text/html": [
       "<div>\n",
       "<style scoped>\n",
       "    .dataframe tbody tr th:only-of-type {\n",
       "        vertical-align: middle;\n",
       "    }\n",
       "\n",
       "    .dataframe tbody tr th {\n",
       "        vertical-align: top;\n",
       "    }\n",
       "\n",
       "    .dataframe thead th {\n",
       "        text-align: right;\n",
       "    }\n",
       "</style>\n",
       "<table border=\"1\" class=\"dataframe\">\n",
       "  <thead>\n",
       "    <tr style=\"text-align: right;\">\n",
       "      <th></th>\n",
       "      <th>candidate_id</th>\n",
       "      <th>date_start_job</th>\n",
       "      <th>unique_id</th>\n",
       "      <th>date_end_job</th>\n",
       "      <th>function_id</th>\n",
       "      <th>isco_functie_niveau</th>\n",
       "      <th>isco_code4</th>\n",
       "      <th>function_name_self</th>\n",
       "      <th>company_name</th>\n",
       "      <th>source</th>\n",
       "      <th>time_spent</th>\n",
       "      <th>education</th>\n",
       "    </tr>\n",
       "  </thead>\n",
       "  <tbody>\n",
       "    <tr>\n",
       "      <th>0</th>\n",
       "      <td>89030</td>\n",
       "      <td>2005-04-04</td>\n",
       "      <td>187756</td>\n",
       "      <td>2005-04-13</td>\n",
       "      <td>1046.0</td>\n",
       "      <td>2.0</td>\n",
       "      <td>5246.0</td>\n",
       "      <td>None</td>\n",
       "      <td>Compass Group NL/Prénatal</td>\n",
       "      <td>plaatsing</td>\n",
       "      <td>9</td>\n",
       "      <td>3.0</td>\n",
       "    </tr>\n",
       "    <tr>\n",
       "      <th>1</th>\n",
       "      <td>89030</td>\n",
       "      <td>2005-04-08</td>\n",
       "      <td>187818</td>\n",
       "      <td>2005-08-07</td>\n",
       "      <td>1046.0</td>\n",
       "      <td>2.0</td>\n",
       "      <td>5246.0</td>\n",
       "      <td>None</td>\n",
       "      <td>Albron Cat. / 3381 ASM Europe BV</td>\n",
       "      <td>plaatsing</td>\n",
       "      <td>121</td>\n",
       "      <td>3.0</td>\n",
       "    </tr>\n",
       "    <tr>\n",
       "      <th>2</th>\n",
       "      <td>89030</td>\n",
       "      <td>2005-09-12</td>\n",
       "      <td>1290468</td>\n",
       "      <td>2005-11-10</td>\n",
       "      <td>1046.0</td>\n",
       "      <td>2.0</td>\n",
       "      <td>5246.0</td>\n",
       "      <td>None</td>\n",
       "      <td>Albron cat.3695/ Schuitema</td>\n",
       "      <td>plaatsing</td>\n",
       "      <td>59</td>\n",
       "      <td>3.0</td>\n",
       "    </tr>\n",
       "    <tr>\n",
       "      <th>3</th>\n",
       "      <td>89030</td>\n",
       "      <td>2005-09-12</td>\n",
       "      <td>1506287</td>\n",
       "      <td>2005-11-10</td>\n",
       "      <td>1046.0</td>\n",
       "      <td>2.0</td>\n",
       "      <td>5246.0</td>\n",
       "      <td>None</td>\n",
       "      <td>Paresto/tripvzoudtland/09008 (9.8)</td>\n",
       "      <td>plaatsing</td>\n",
       "      <td>59</td>\n",
       "      <td>3.0</td>\n",
       "    </tr>\n",
       "    <tr>\n",
       "      <th>4</th>\n",
       "      <td>89030</td>\n",
       "      <td>2005-09-12</td>\n",
       "      <td>1285504</td>\n",
       "      <td>2005-11-10</td>\n",
       "      <td>1046.0</td>\n",
       "      <td>2.0</td>\n",
       "      <td>5246.0</td>\n",
       "      <td>None</td>\n",
       "      <td>Albron cat.3695/ Schuitema</td>\n",
       "      <td>plaatsing</td>\n",
       "      <td>59</td>\n",
       "      <td>3.0</td>\n",
       "    </tr>\n",
       "  </tbody>\n",
       "</table>\n",
       "</div>"
      ],
      "text/plain": [
       "   candidate_id date_start_job  unique_id date_end_job  function_id  \\\n",
       "0         89030     2005-04-04     187756   2005-04-13       1046.0   \n",
       "1         89030     2005-04-08     187818   2005-08-07       1046.0   \n",
       "2         89030     2005-09-12    1290468   2005-11-10       1046.0   \n",
       "3         89030     2005-09-12    1506287   2005-11-10       1046.0   \n",
       "4         89030     2005-09-12    1285504   2005-11-10       1046.0   \n",
       "\n",
       "   isco_functie_niveau  isco_code4 function_name_self  \\\n",
       "0                  2.0      5246.0               None   \n",
       "1                  2.0      5246.0               None   \n",
       "2                  2.0      5246.0               None   \n",
       "3                  2.0      5246.0               None   \n",
       "4                  2.0      5246.0               None   \n",
       "\n",
       "                         company_name     source  time_spent  education  \n",
       "0           Compass Group NL/Prénatal  plaatsing           9        3.0  \n",
       "1    Albron Cat. / 3381 ASM Europe BV  plaatsing         121        3.0  \n",
       "2          Albron cat.3695/ Schuitema  plaatsing          59        3.0  \n",
       "3  Paresto/tripvzoudtland/09008 (9.8)  plaatsing          59        3.0  \n",
       "4          Albron cat.3695/ Schuitema  plaatsing          59        3.0  "
      ]
     },
     "execution_count": 53,
     "metadata": {},
     "output_type": "execute_result"
    }
   ],
   "source": [
    "def find_educations(df_work, df_education):\n",
    "\n",
    "    # Merge career data with education levels\n",
    "    career_education = pd.merge(df_work, \n",
    "                                df_education, \n",
    "                                on = \"candidate_id\", \n",
    "                                how = \"left\")[[\"candidate_id\",\n",
    "                                               \"date_start_job\",\n",
    "                                               \"date_end_job\",\n",
    "                                               \"company_name\",\n",
    "                                               \"time_spent\",\n",
    "                                               \"source\",\n",
    "                                               \"education_level\",\n",
    "                                               \"date_start\",\n",
    "                                               \"date_end\",\n",
    "                                               \"passed\"]]\n",
    "    \n",
    "    # Filter out education that were not passed (yet) at the time of starting a job\n",
    "    passed = career_education[(career_education[\"date_start_job\"] >= career_education[\"date_end\"]) & \n",
    "                              (career_education[\"passed\"] == 1)]\n",
    "    \n",
    "    # Only store the highest education level reached at the start of each job\n",
    "    education_through_time = passed.groupby([\"candidate_id\", \"date_start_job\"])[\"education_level\"].max()\n",
    "    \n",
    "    df_work.set_index([\"candidate_id\", \"date_start_job\"], inplace=True)\n",
    "\n",
    "    # Store education data in candidate_work_experience\n",
    "    df_work[\"education\"] = education_through_time\n",
    "\n",
    "    # np.nan education = no education\n",
    "    df_work[\"education\"].fillna(0, inplace=True)\n",
    "\n",
    "    # Reset index for further data augmentation\n",
    "    df_work.reset_index(inplace=True)\n",
    "        \n",
    "    return df_work\n",
    "\n",
    "candidate_work_experience = find_educations(candidate_work_experience, candidate_education)\n",
    "\n",
    "candidate_work_experience.head()"
   ]
  },
  {
   "cell_type": "code",
   "execution_count": 54,
   "id": "0929c579",
   "metadata": {},
   "outputs": [],
   "source": [
    "companies = dict(zip(set(candidate_work_experience[\"company_name\"].values), range(len(candidate_work_experience[\"company_name\"].unique()))))"
   ]
  },
  {
   "cell_type": "code",
   "execution_count": 55,
   "id": "fd74c4e0",
   "metadata": {},
   "outputs": [],
   "source": [
    "candidate_work_experience[\"company_name\"] = candidate_work_experience[\"company_name\"].apply(lambda x: companies[x])"
   ]
  },
  {
   "cell_type": "code",
   "execution_count": 56,
   "id": "aff8ff7d",
   "metadata": {},
   "outputs": [],
   "source": [
    "candidate_work_experience[\"source\"] = candidate_work_experience[\"source\"].apply(lambda x: {\"plaatsing\": 0, \"dossier\": 1}[x])"
   ]
  },
  {
   "cell_type": "code",
   "execution_count": 57,
   "id": "3810800c",
   "metadata": {},
   "outputs": [],
   "source": [
    "# Add skills\n",
    "# candidate_work_experience = pd.merge(candidate_work_experience, \n",
    "#                                      skills_ct, \n",
    "#                                      left_on=\"candidate_id\", \n",
    "#                                      right_index=True, \n",
    "#                                      how=\"left\")"
   ]
  },
  {
   "cell_type": "markdown",
   "id": "6b6b6359",
   "metadata": {},
   "source": [
    "# Filtering and reindexing"
   ]
  },
  {
   "cell_type": "code",
   "execution_count": 58,
   "id": "c6b7f1c6",
   "metadata": {},
   "outputs": [],
   "source": [
    "more_than_5 = candidate_work_experience[\"isco_code4\"].value_counts()\n",
    "more_than_5 = set(more_than_5[more_than_5 > 5].index)\n",
    "candidate_work_experience = candidate_work_experience[candidate_work_experience[\"isco_code4\"].isin(more_than_5)]"
   ]
  },
  {
   "cell_type": "code",
   "execution_count": 59,
   "id": "a74dfe87",
   "metadata": {},
   "outputs": [],
   "source": [
    "id_to_idx = {v : i for i, v in enumerate(sorted(candidate_work_experience[\"function_id\"].astype(float).unique()))}\n",
    "idx_to_id = {i : v for i, v in id_to_idx.items()}\n",
    "\n",
    "code_to_idx = {v : i for i, v in enumerate(sorted(candidate_work_experience[\"isco_code4\"].astype(float).unique()))}\n",
    "idx_to_code = {i : v for i, v in code_to_idx.items()}"
   ]
  },
  {
   "cell_type": "code",
   "execution_count": 60,
   "id": "94e01b2d",
   "metadata": {},
   "outputs": [],
   "source": [
    "candidate_work_experience[\"function_id\"] = candidate_work_experience[\"function_id\"].apply(lambda x: id_to_idx.get(x))\n",
    "candidate_work_experience[\"isco_code4\"] = candidate_work_experience[\"isco_code4\"].apply(lambda x: code_to_idx[x])"
   ]
  },
  {
   "cell_type": "code",
   "execution_count": 61,
   "id": "5a05f8b7",
   "metadata": {},
   "outputs": [
    {
     "data": {
      "text/plain": [
       "(1667336, 12)"
      ]
     },
     "execution_count": 61,
     "metadata": {},
     "output_type": "execute_result"
    }
   ],
   "source": [
    "candidate_work_experience.shape"
   ]
  },
  {
   "cell_type": "markdown",
   "id": "c6999581",
   "metadata": {},
   "source": [
    "# Add CV embeddings"
   ]
  },
  {
   "cell_type": "code",
   "execution_count": 62,
   "id": "77568fdb",
   "metadata": {},
   "outputs": [],
   "source": [
    "embedding_pd = pd.read_parquet(\"s3://s3-nl-prd-semrb-emr/embeddings/doc_embeddings/word2vec/word2vec_doc_embedding.parquet\")\n",
    "embedding_pd['cv_id'] = embedding_pd['cv_id'].astype('int')\n",
    "embedding_pd.rename(columns={\"doc_embedding\": \"tensor\"}, inplace=True)"
   ]
  },
  {
   "cell_type": "code",
   "execution_count": 63,
   "id": "279d3aa2",
   "metadata": {},
   "outputs": [],
   "source": [
    "sql_path = os.path.join(\"/home/ec2-user/SageMaker/data-science-development/talent_recommender/daily_snapshots\",\n",
    "                        Config.query_candidate_cvs) \n",
    "\n",
    "candidate_cvs = get_from_redshift(sql_path, Config.redshift_creds)"
   ]
  },
  {
   "cell_type": "code",
   "execution_count": 64,
   "id": "95dda6a9",
   "metadata": {},
   "outputs": [
    {
     "name": "stderr",
     "output_type": "stream",
     "text": [
      "/home/ec2-user/anaconda3/envs/pytorch_p36/lib/python3.6/site-packages/ipykernel/__main__.py:14: SettingWithCopyWarning: \n",
      "A value is trying to be set on a copy of a slice from a DataFrame.\n",
      "Try using .loc[row_indexer,col_indexer] = value instead\n",
      "\n",
      "See the caveats in the documentation: https://pandas.pydata.org/pandas-docs/stable/user_guide/indexing.html#returning-a-view-versus-a-copy\n"
     ]
    }
   ],
   "source": [
    "def find_embeddings(embedding_pd, candidate_cvs):\n",
    "    embedding_pd = embedding_pd.set_index(\"cv_id\")\n",
    "    \n",
    "    candidate_cvs = candidate_cvs[[\"cv_id\", \"candidate_id\", \"date_start\"]]\n",
    "\n",
    "    embedding_per_candidate = pd.merge(embedding_pd, \n",
    "                                       candidate_cvs, \n",
    "                                       left_index=True, \n",
    "                                       right_on=\"cv_id\")[[\"candidate_id\", \"embedding\", \"date_start\"]]\n",
    "    \n",
    "    matches = (set(embedding_per_candidate[\"candidate_id\"]) & set(candidate_work_experience[\"candidate_id\"]))\n",
    "    \n",
    "    matched_cvs = embedding_per_candidate[embedding_per_candidate[\"candidate_id\"].isin(matches)]\n",
    "    matched_cvs[\"date_start\"] = matched_cvs[\"date_start\"].dt.date\n",
    "    \n",
    "    last_cv_per_day = matched_cvs.groupby([\"candidate_id\", \"date_start\"])[\"embedding\"].apply(lambda x: list(x)[-1])\n",
    "    \n",
    "    cv_embeddings = last_cv_per_day.reset_index()\n",
    "    \n",
    "    return cv_embeddings\n",
    "\n",
    "cv_embeddings = find_embeddings(embedding_pd, candidate_cvs)"
   ]
  },
  {
   "cell_type": "code",
   "execution_count": 65,
   "id": "d7d95b60",
   "metadata": {},
   "outputs": [
    {
     "data": {
      "text/html": [
       "<div>\n",
       "<style scoped>\n",
       "    .dataframe tbody tr th:only-of-type {\n",
       "        vertical-align: middle;\n",
       "    }\n",
       "\n",
       "    .dataframe tbody tr th {\n",
       "        vertical-align: top;\n",
       "    }\n",
       "\n",
       "    .dataframe thead th {\n",
       "        text-align: right;\n",
       "    }\n",
       "</style>\n",
       "<table border=\"1\" class=\"dataframe\">\n",
       "  <thead>\n",
       "    <tr style=\"text-align: right;\">\n",
       "      <th></th>\n",
       "      <th>candidate_id</th>\n",
       "      <th>date_start</th>\n",
       "      <th>embedding</th>\n",
       "    </tr>\n",
       "  </thead>\n",
       "  <tbody>\n",
       "    <tr>\n",
       "      <th>0</th>\n",
       "      <td>84556.0</td>\n",
       "      <td>2020-07-02</td>\n",
       "      <td>[0.07265971601009369, -0.8582056760787964, -0....</td>\n",
       "    </tr>\n",
       "    <tr>\n",
       "      <th>1</th>\n",
       "      <td>84612.0</td>\n",
       "      <td>2020-05-30</td>\n",
       "      <td>[0.3474675714969635, -1.0429900884628296, -0.3...</td>\n",
       "    </tr>\n",
       "    <tr>\n",
       "      <th>2</th>\n",
       "      <td>84612.0</td>\n",
       "      <td>2020-06-03</td>\n",
       "      <td>[0.34068500995635986, -1.0179638862609863, -0....</td>\n",
       "    </tr>\n",
       "    <tr>\n",
       "      <th>3</th>\n",
       "      <td>84731.0</td>\n",
       "      <td>2020-06-03</td>\n",
       "      <td>[0.12455234676599503, -0.1725415289402008, -0....</td>\n",
       "    </tr>\n",
       "    <tr>\n",
       "      <th>4</th>\n",
       "      <td>85437.0</td>\n",
       "      <td>2020-06-06</td>\n",
       "      <td>[0.2048000991344452, -0.49068811535835266, -0....</td>\n",
       "    </tr>\n",
       "  </tbody>\n",
       "</table>\n",
       "</div>"
      ],
      "text/plain": [
       "   candidate_id date_start                                          embedding\n",
       "0       84556.0 2020-07-02  [0.07265971601009369, -0.8582056760787964, -0....\n",
       "1       84612.0 2020-05-30  [0.3474675714969635, -1.0429900884628296, -0.3...\n",
       "2       84612.0 2020-06-03  [0.34068500995635986, -1.0179638862609863, -0....\n",
       "3       84731.0 2020-06-03  [0.12455234676599503, -0.1725415289402008, -0....\n",
       "4       85437.0 2020-06-06  [0.2048000991344452, -0.49068811535835266, -0...."
      ]
     },
     "execution_count": 65,
     "metadata": {},
     "output_type": "execute_result"
    }
   ],
   "source": [
    "cv_embeddings.head()"
   ]
  },
  {
   "cell_type": "code",
   "execution_count": 66,
   "id": "f6868227",
   "metadata": {},
   "outputs": [],
   "source": [
    "def add_embeddings(candidate_work_experience, cv_embeddings):\n",
    "    \n",
    "    # Add CVs to candidates (includes duplicates)\n",
    "    full_merge = pd.merge(candidate_work_experience,\n",
    "                          cv_embeddings,\n",
    "                          left_on=\"candidate_id\",\n",
    "                          right_on=\"candidate_id\",\n",
    "                          how=\"left\")\n",
    "    \n",
    "    # display(full_merge)\n",
    "    \n",
    "    # Find the maximum date of uploaded cvs per job (i.e. most recent CV during each job)\n",
    "    most_recent_cvs = full_merge[(full_merge[\"date_start_job\"]\n",
    "                                  >= full_merge[\"date_start\"])].groupby(\n",
    "        \"unique_id\")[\"date_start\"].idxmax()   \n",
    "    \n",
    "    # Some candidates only added CVs after their last job started, so account for that too\n",
    "    late_cvs = full_merge[(full_merge[\"date_start_job\"] <= \n",
    "                           full_merge[\"date_start\"])].groupby(\"unique_id\")[\"date_start\"].idxmax()\n",
    "    \n",
    "    # Filter out everything we already found earlier\n",
    "    late_cvs = late_cvs[set(late_cvs.index) - set(most_recent_cvs.index)]\n",
    "    \n",
    "    # Now we have all the CVs in one place\n",
    "    cv_idxs = pd.concat([most_recent_cvs, late_cvs])\n",
    "    \n",
    "    # Combine the two frames to include candidates without any CVs\n",
    "    combined = pd.concat([full_merge[full_merge[\"embedding\"].isna()], \n",
    "                          full_merge.loc[cv_idxs.values]])\n",
    "    \n",
    "    return combined\n",
    "\n",
    "candidate_work_experience = add_embeddings(candidate_work_experience, cv_embeddings)"
   ]
  },
  {
   "cell_type": "code",
   "execution_count": 67,
   "id": "63e85258",
   "metadata": {},
   "outputs": [],
   "source": [
    "# candidate_work_experience[\"embedding\"] = candidate_work_experience[\"embedding\"].apply(lambda x: x if x is not np.nan\n",
    "#                                                                                                   else [0] * 300)"
   ]
  },
  {
   "cell_type": "code",
   "execution_count": 68,
   "id": "62f65112",
   "metadata": {},
   "outputs": [],
   "source": [
    "candidate_work_experience = candidate_work_experience.reset_index().drop(\"index\", axis=1)"
   ]
  },
  {
   "cell_type": "code",
   "execution_count": 69,
   "id": "b2c33dd7",
   "metadata": {},
   "outputs": [],
   "source": [
    "# embedding_lists = candidate_work_experience[\"embedding\"].to_list()\n",
    "# embeddings = pd.DataFrame(embedding_lists)"
   ]
  },
  {
   "cell_type": "code",
   "execution_count": 70,
   "id": "53913bd6",
   "metadata": {},
   "outputs": [],
   "source": [
    "# embeddings.columns = [f\"embedding_{i}\" for i in range(len(embeddings.columns))]"
   ]
  },
  {
   "cell_type": "code",
   "execution_count": 71,
   "id": "28119d15",
   "metadata": {},
   "outputs": [],
   "source": [
    "# candidate_work_experience = pd.concat([candidate_work_experience, embeddings], axis=1)"
   ]
  },
  {
   "cell_type": "markdown",
   "id": "b12cbbe7",
   "metadata": {},
   "source": [
    "# Ordering & Time"
   ]
  },
  {
   "cell_type": "code",
   "execution_count": 72,
   "id": "53f2c27b",
   "metadata": {},
   "outputs": [],
   "source": [
    "def add_order(df):\n",
    "    \n",
    "    # Count the number of jobs each candidate has ahd\n",
    "    job_counts = df.groupby(\"candidate_id\").size()  \n",
    "    \n",
    "    # Sort by candidate_id, date_start_job\n",
    "    sorted_df = df.sort_values(by = ['candidate_id', \"date_start_job\"])\n",
    "    \n",
    "    # Reset index\n",
    "    sorted_df.reset_index(inplace=True, drop=True)\n",
    "    \n",
    "    # Create a list of lists containing the order of each candidates jobs (which came first, second, third, etc.)\n",
    "    order = [np.arange(count) for count in job_counts.values]\n",
    "    \n",
    "    # Flatten list\n",
    "    order = [item for sublist in order for item in sublist]\n",
    "    \n",
    "    # Add order to df\n",
    "    sorted_df[\"job_order\"] = order\n",
    "    \n",
    "    # Set a candidate_id, job_order as the index\n",
    "    return sorted_df.set_index([\"candidate_id\", \n",
    "                                \"job_order\"])\n",
    "\n",
    "df = add_order(candidate_work_experience)"
   ]
  },
  {
   "cell_type": "code",
   "execution_count": 73,
   "id": "636487ef",
   "metadata": {},
   "outputs": [
    {
     "data": {
      "text/html": [
       "<div>\n",
       "<style scoped>\n",
       "    .dataframe tbody tr th:only-of-type {\n",
       "        vertical-align: middle;\n",
       "    }\n",
       "\n",
       "    .dataframe tbody tr th {\n",
       "        vertical-align: top;\n",
       "    }\n",
       "\n",
       "    .dataframe thead th {\n",
       "        text-align: right;\n",
       "    }\n",
       "</style>\n",
       "<table border=\"1\" class=\"dataframe\">\n",
       "  <thead>\n",
       "    <tr style=\"text-align: right;\">\n",
       "      <th></th>\n",
       "      <th></th>\n",
       "      <th>date_start_job</th>\n",
       "      <th>date_end_job</th>\n",
       "      <th>time_spent</th>\n",
       "      <th>isco_code4</th>\n",
       "      <th>function_id</th>\n",
       "      <th>isco_functie_niveau</th>\n",
       "      <th>company_name</th>\n",
       "      <th>source</th>\n",
       "      <th>education</th>\n",
       "      <th>embedding</th>\n",
       "    </tr>\n",
       "    <tr>\n",
       "      <th>candidate_id</th>\n",
       "      <th>job_order</th>\n",
       "      <th></th>\n",
       "      <th></th>\n",
       "      <th></th>\n",
       "      <th></th>\n",
       "      <th></th>\n",
       "      <th></th>\n",
       "      <th></th>\n",
       "      <th></th>\n",
       "      <th></th>\n",
       "      <th></th>\n",
       "    </tr>\n",
       "  </thead>\n",
       "  <tbody>\n",
       "    <tr>\n",
       "      <th rowspan=\"10\" valign=\"top\">84556</th>\n",
       "      <th>0</th>\n",
       "      <td>2000-08-01</td>\n",
       "      <td>2001-01-04</td>\n",
       "      <td>156</td>\n",
       "      <td>208</td>\n",
       "      <td>936</td>\n",
       "      <td>2.0</td>\n",
       "      <td>324258</td>\n",
       "      <td>0</td>\n",
       "      <td>0.0</td>\n",
       "      <td>[0.07265971601009369, -0.8582056760787964, -0....</td>\n",
       "    </tr>\n",
       "    <tr>\n",
       "      <th>1</th>\n",
       "      <td>2000-09-07</td>\n",
       "      <td>2001-01-01</td>\n",
       "      <td>116</td>\n",
       "      <td>348</td>\n",
       "      <td>809</td>\n",
       "      <td>1.0</td>\n",
       "      <td>324258</td>\n",
       "      <td>0</td>\n",
       "      <td>0.0</td>\n",
       "      <td>[0.07265971601009369, -0.8582056760787964, -0....</td>\n",
       "    </tr>\n",
       "    <tr>\n",
       "      <th>2</th>\n",
       "      <td>2000-09-30</td>\n",
       "      <td>2001-07-02</td>\n",
       "      <td>275</td>\n",
       "      <td>208</td>\n",
       "      <td>936</td>\n",
       "      <td>2.0</td>\n",
       "      <td>329244</td>\n",
       "      <td>0</td>\n",
       "      <td>0.0</td>\n",
       "      <td>[0.07265971601009369, -0.8582056760787964, -0....</td>\n",
       "    </tr>\n",
       "    <tr>\n",
       "      <th>3</th>\n",
       "      <td>2000-10-23</td>\n",
       "      <td>2000-10-27</td>\n",
       "      <td>4</td>\n",
       "      <td>344</td>\n",
       "      <td>1519</td>\n",
       "      <td>1.0</td>\n",
       "      <td>368140</td>\n",
       "      <td>0</td>\n",
       "      <td>0.0</td>\n",
       "      <td>[0.07265971601009369, -0.8582056760787964, -0....</td>\n",
       "    </tr>\n",
       "    <tr>\n",
       "      <th>4</th>\n",
       "      <td>2003-12-22</td>\n",
       "      <td>2004-01-02</td>\n",
       "      <td>11</td>\n",
       "      <td>344</td>\n",
       "      <td>1519</td>\n",
       "      <td>1.0</td>\n",
       "      <td>419826</td>\n",
       "      <td>0</td>\n",
       "      <td>0.0</td>\n",
       "      <td>[0.07265971601009369, -0.8582056760787964, -0....</td>\n",
       "    </tr>\n",
       "    <tr>\n",
       "      <th>5</th>\n",
       "      <td>2004-07-12</td>\n",
       "      <td>2004-07-13</td>\n",
       "      <td>1</td>\n",
       "      <td>344</td>\n",
       "      <td>1519</td>\n",
       "      <td>1.0</td>\n",
       "      <td>419826</td>\n",
       "      <td>0</td>\n",
       "      <td>0.0</td>\n",
       "      <td>[0.07265971601009369, -0.8582056760787964, -0....</td>\n",
       "    </tr>\n",
       "    <tr>\n",
       "      <th>6</th>\n",
       "      <td>2005-04-11</td>\n",
       "      <td>2005-07-01</td>\n",
       "      <td>81</td>\n",
       "      <td>344</td>\n",
       "      <td>1519</td>\n",
       "      <td>1.0</td>\n",
       "      <td>206450</td>\n",
       "      <td>0</td>\n",
       "      <td>0.0</td>\n",
       "      <td>[0.07265971601009369, -0.8582056760787964, -0....</td>\n",
       "    </tr>\n",
       "    <tr>\n",
       "      <th>7</th>\n",
       "      <td>2005-05-25</td>\n",
       "      <td>2005-06-01</td>\n",
       "      <td>7</td>\n",
       "      <td>344</td>\n",
       "      <td>1519</td>\n",
       "      <td>1.0</td>\n",
       "      <td>231269</td>\n",
       "      <td>0</td>\n",
       "      <td>0.0</td>\n",
       "      <td>[0.07265971601009369, -0.8582056760787964, -0....</td>\n",
       "    </tr>\n",
       "    <tr>\n",
       "      <th>8</th>\n",
       "      <td>2005-07-27</td>\n",
       "      <td>2005-08-26</td>\n",
       "      <td>30</td>\n",
       "      <td>344</td>\n",
       "      <td>1519</td>\n",
       "      <td>1.0</td>\n",
       "      <td>54594</td>\n",
       "      <td>0</td>\n",
       "      <td>0.0</td>\n",
       "      <td>[0.07265971601009369, -0.8582056760787964, -0....</td>\n",
       "    </tr>\n",
       "    <tr>\n",
       "      <th>9</th>\n",
       "      <td>2006-03-16</td>\n",
       "      <td>2006-05-15</td>\n",
       "      <td>60</td>\n",
       "      <td>345</td>\n",
       "      <td>893</td>\n",
       "      <td>1.0</td>\n",
       "      <td>171163</td>\n",
       "      <td>0</td>\n",
       "      <td>0.0</td>\n",
       "      <td>[0.07265971601009369, -0.8582056760787964, -0....</td>\n",
       "    </tr>\n",
       "  </tbody>\n",
       "</table>\n",
       "</div>"
      ],
      "text/plain": [
       "                       date_start_job date_end_job  time_spent  isco_code4  \\\n",
       "candidate_id job_order                                                       \n",
       "84556        0             2000-08-01   2001-01-04         156         208   \n",
       "             1             2000-09-07   2001-01-01         116         348   \n",
       "             2             2000-09-30   2001-07-02         275         208   \n",
       "             3             2000-10-23   2000-10-27           4         344   \n",
       "             4             2003-12-22   2004-01-02          11         344   \n",
       "             5             2004-07-12   2004-07-13           1         344   \n",
       "             6             2005-04-11   2005-07-01          81         344   \n",
       "             7             2005-05-25   2005-06-01           7         344   \n",
       "             8             2005-07-27   2005-08-26          30         344   \n",
       "             9             2006-03-16   2006-05-15          60         345   \n",
       "\n",
       "                        function_id  isco_functie_niveau  company_name  \\\n",
       "candidate_id job_order                                                   \n",
       "84556        0                  936                  2.0        324258   \n",
       "             1                  809                  1.0        324258   \n",
       "             2                  936                  2.0        329244   \n",
       "             3                 1519                  1.0        368140   \n",
       "             4                 1519                  1.0        419826   \n",
       "             5                 1519                  1.0        419826   \n",
       "             6                 1519                  1.0        206450   \n",
       "             7                 1519                  1.0        231269   \n",
       "             8                 1519                  1.0         54594   \n",
       "             9                  893                  1.0        171163   \n",
       "\n",
       "                        source  education  \\\n",
       "candidate_id job_order                      \n",
       "84556        0               0        0.0   \n",
       "             1               0        0.0   \n",
       "             2               0        0.0   \n",
       "             3               0        0.0   \n",
       "             4               0        0.0   \n",
       "             5               0        0.0   \n",
       "             6               0        0.0   \n",
       "             7               0        0.0   \n",
       "             8               0        0.0   \n",
       "             9               0        0.0   \n",
       "\n",
       "                                                                embedding  \n",
       "candidate_id job_order                                                     \n",
       "84556        0          [0.07265971601009369, -0.8582056760787964, -0....  \n",
       "             1          [0.07265971601009369, -0.8582056760787964, -0....  \n",
       "             2          [0.07265971601009369, -0.8582056760787964, -0....  \n",
       "             3          [0.07265971601009369, -0.8582056760787964, -0....  \n",
       "             4          [0.07265971601009369, -0.8582056760787964, -0....  \n",
       "             5          [0.07265971601009369, -0.8582056760787964, -0....  \n",
       "             6          [0.07265971601009369, -0.8582056760787964, -0....  \n",
       "             7          [0.07265971601009369, -0.8582056760787964, -0....  \n",
       "             8          [0.07265971601009369, -0.8582056760787964, -0....  \n",
       "             9          [0.07265971601009369, -0.8582056760787964, -0....  "
      ]
     },
     "execution_count": 73,
     "metadata": {},
     "output_type": "execute_result"
    }
   ],
   "source": [
    "df = df[[\"date_start_job\", \"date_end_job\", \"time_spent\", \"isco_code4\", \"function_id\",\n",
    "         \"isco_functie_niveau\", \"company_name\", \"source\", \"education\", \"embedding\"]]\n",
    "\n",
    "df.head(10)"
   ]
  },
  {
   "cell_type": "code",
   "execution_count": 74,
   "id": "447db62e",
   "metadata": {},
   "outputs": [],
   "source": [
    "def change_steps(df):\n",
    "    \"\"\"Groups users' careers by same job types. I.e., if someone didn't\n",
    "       change the type of job they had, but just the company, it will be\n",
    "       grouped into one time step.\"\"\"\n",
    "    \n",
    "    new_values = defaultdict(list)\n",
    "    \n",
    "    total_time_spent = 0\n",
    "    education = 0\n",
    "    date_end_job = dt.date(1970, 1, 1)\n",
    "    \n",
    "    for i in tqdm(range(len(df))):\n",
    "        if i < len(df) - 1:\n",
    "            current = df.iloc[i]\n",
    "            next_ = df.iloc[i + 1]\n",
    "            # Group all consecutive time steps with the same job \n",
    "            if (current.name[0] != next_.name[0]) or (current[\"isco_code4\"] != next_[\"isco_code4\"]):\n",
    "                # Add values of last correct row\n",
    "                total_time_spent += current[\"time_spent\"]\n",
    "                if current[\"education\"] > education:\n",
    "                    education = current[\"education\"]\n",
    "\n",
    "                if current[\"date_end_job\"] > date_end_job:\n",
    "                    date_end_job = current[\"date_end_job\"]\n",
    "\n",
    "                # Store results\n",
    "                new_values[\"candidate_id\"].append(current.name[0])\n",
    "                new_values[\"date_start_job\"].append(current[\"date_start_job\"])\n",
    "                new_values[\"date_end_job\"].append(date_end_job)\n",
    "                new_values[\"time_spent\"].append(total_time_spent)\n",
    "                new_values[\"isco_code4\"].append(current[\"isco_code4\"])\n",
    "                new_values[\"function_id\"].append(current[\"function_id\"])\n",
    "                new_values[\"isco_functie_niveau\"].append(current[\"isco_functie_niveau\"])\n",
    "                new_values[\"education\"].append(education)\n",
    "                new_values[\"embedding\"].append(current[\"embedding\"])\n",
    "\n",
    "                # Reset values\n",
    "                total_time_spent = 0\n",
    "                education = 0\n",
    "                date_end_job = dt.date(1970, 1, 1)           \n",
    "            else:\n",
    "                total_time_spent += current[\"time_spent\"]\n",
    "                if current[\"education\"] > education:\n",
    "                    education = current[\"education\"]\n",
    "\n",
    "                if current[\"date_end_job\"] > date_end_job:\n",
    "                    date_end_job = current[\"date_end_job\"]\n",
    "\n",
    "    return pd.DataFrame(new_values)\n",
    "\n",
    "# df = change_steps(df)"
   ]
  },
  {
   "cell_type": "code",
   "execution_count": 75,
   "id": "527d21ad",
   "metadata": {},
   "outputs": [
    {
     "data": {
      "text/html": [
       "<div>\n",
       "<style scoped>\n",
       "    .dataframe tbody tr th:only-of-type {\n",
       "        vertical-align: middle;\n",
       "    }\n",
       "\n",
       "    .dataframe tbody tr th {\n",
       "        vertical-align: top;\n",
       "    }\n",
       "\n",
       "    .dataframe thead th {\n",
       "        text-align: right;\n",
       "    }\n",
       "</style>\n",
       "<table border=\"1\" class=\"dataframe\">\n",
       "  <thead>\n",
       "    <tr style=\"text-align: right;\">\n",
       "      <th></th>\n",
       "      <th></th>\n",
       "      <th>date_start_job</th>\n",
       "      <th>date_end_job</th>\n",
       "      <th>time_spent</th>\n",
       "      <th>isco_code4</th>\n",
       "      <th>function_id</th>\n",
       "      <th>isco_functie_niveau</th>\n",
       "      <th>company_name</th>\n",
       "      <th>source</th>\n",
       "      <th>education</th>\n",
       "      <th>embedding</th>\n",
       "    </tr>\n",
       "    <tr>\n",
       "      <th>candidate_id</th>\n",
       "      <th>job_order</th>\n",
       "      <th></th>\n",
       "      <th></th>\n",
       "      <th></th>\n",
       "      <th></th>\n",
       "      <th></th>\n",
       "      <th></th>\n",
       "      <th></th>\n",
       "      <th></th>\n",
       "      <th></th>\n",
       "      <th></th>\n",
       "    </tr>\n",
       "  </thead>\n",
       "  <tbody>\n",
       "    <tr>\n",
       "      <th rowspan=\"5\" valign=\"top\">84556</th>\n",
       "      <th>0</th>\n",
       "      <td>2000-08-01</td>\n",
       "      <td>2001-01-04</td>\n",
       "      <td>156</td>\n",
       "      <td>208</td>\n",
       "      <td>936</td>\n",
       "      <td>2.0</td>\n",
       "      <td>324258</td>\n",
       "      <td>0</td>\n",
       "      <td>0.0</td>\n",
       "      <td>[0.07265971601009369, -0.8582056760787964, -0....</td>\n",
       "    </tr>\n",
       "    <tr>\n",
       "      <th>1</th>\n",
       "      <td>2000-09-07</td>\n",
       "      <td>2001-01-01</td>\n",
       "      <td>116</td>\n",
       "      <td>348</td>\n",
       "      <td>809</td>\n",
       "      <td>1.0</td>\n",
       "      <td>324258</td>\n",
       "      <td>0</td>\n",
       "      <td>0.0</td>\n",
       "      <td>[0.07265971601009369, -0.8582056760787964, -0....</td>\n",
       "    </tr>\n",
       "    <tr>\n",
       "      <th>2</th>\n",
       "      <td>2000-09-30</td>\n",
       "      <td>2001-07-02</td>\n",
       "      <td>275</td>\n",
       "      <td>208</td>\n",
       "      <td>936</td>\n",
       "      <td>2.0</td>\n",
       "      <td>329244</td>\n",
       "      <td>0</td>\n",
       "      <td>0.0</td>\n",
       "      <td>[0.07265971601009369, -0.8582056760787964, -0....</td>\n",
       "    </tr>\n",
       "    <tr>\n",
       "      <th>3</th>\n",
       "      <td>2000-10-23</td>\n",
       "      <td>2000-10-27</td>\n",
       "      <td>4</td>\n",
       "      <td>344</td>\n",
       "      <td>1519</td>\n",
       "      <td>1.0</td>\n",
       "      <td>368140</td>\n",
       "      <td>0</td>\n",
       "      <td>0.0</td>\n",
       "      <td>[0.07265971601009369, -0.8582056760787964, -0....</td>\n",
       "    </tr>\n",
       "    <tr>\n",
       "      <th>4</th>\n",
       "      <td>2003-12-22</td>\n",
       "      <td>2004-01-02</td>\n",
       "      <td>11</td>\n",
       "      <td>344</td>\n",
       "      <td>1519</td>\n",
       "      <td>1.0</td>\n",
       "      <td>419826</td>\n",
       "      <td>0</td>\n",
       "      <td>0.0</td>\n",
       "      <td>[0.07265971601009369, -0.8582056760787964, -0....</td>\n",
       "    </tr>\n",
       "  </tbody>\n",
       "</table>\n",
       "</div>"
      ],
      "text/plain": [
       "                       date_start_job date_end_job  time_spent  isco_code4  \\\n",
       "candidate_id job_order                                                       \n",
       "84556        0             2000-08-01   2001-01-04         156         208   \n",
       "             1             2000-09-07   2001-01-01         116         348   \n",
       "             2             2000-09-30   2001-07-02         275         208   \n",
       "             3             2000-10-23   2000-10-27           4         344   \n",
       "             4             2003-12-22   2004-01-02          11         344   \n",
       "\n",
       "                        function_id  isco_functie_niveau  company_name  \\\n",
       "candidate_id job_order                                                   \n",
       "84556        0                  936                  2.0        324258   \n",
       "             1                  809                  1.0        324258   \n",
       "             2                  936                  2.0        329244   \n",
       "             3                 1519                  1.0        368140   \n",
       "             4                 1519                  1.0        419826   \n",
       "\n",
       "                        source  education  \\\n",
       "candidate_id job_order                      \n",
       "84556        0               0        0.0   \n",
       "             1               0        0.0   \n",
       "             2               0        0.0   \n",
       "             3               0        0.0   \n",
       "             4               0        0.0   \n",
       "\n",
       "                                                                embedding  \n",
       "candidate_id job_order                                                     \n",
       "84556        0          [0.07265971601009369, -0.8582056760787964, -0....  \n",
       "             1          [0.07265971601009369, -0.8582056760787964, -0....  \n",
       "             2          [0.07265971601009369, -0.8582056760787964, -0....  \n",
       "             3          [0.07265971601009369, -0.8582056760787964, -0....  \n",
       "             4          [0.07265971601009369, -0.8582056760787964, -0....  "
      ]
     },
     "execution_count": 75,
     "metadata": {},
     "output_type": "execute_result"
    }
   ],
   "source": [
    "df.head()"
   ]
  },
  {
   "cell_type": "code",
   "execution_count": 76,
   "id": "3fc1188f",
   "metadata": {},
   "outputs": [
    {
     "name": "stderr",
     "output_type": "stream",
     "text": [
      "100%|██████████| 469568/469568 [07:08<00:00, 1095.55it/s]\n"
     ]
    }
   ],
   "source": [
    "# Calculate the time it took to go from one job to another (in order)\n",
    "df[\"time_between\"] = df.groupby(\n",
    "    \"candidate_id\")[\"date_start_job\"].progress_apply(lambda x: x - x.shift(1))"
   ]
  },
  {
   "cell_type": "code",
   "execution_count": 77,
   "id": "3a58b233",
   "metadata": {},
   "outputs": [],
   "source": [
    "df[\"time_between\"] = df[\"time_between\"].shift(-1).fillna(pd.Timedelta(seconds=0)).dt.days.astype('int16')"
   ]
  },
  {
   "cell_type": "code",
   "execution_count": 78,
   "id": "76318de5",
   "metadata": {},
   "outputs": [
    {
     "data": {
      "text/html": [
       "<div>\n",
       "<style scoped>\n",
       "    .dataframe tbody tr th:only-of-type {\n",
       "        vertical-align: middle;\n",
       "    }\n",
       "\n",
       "    .dataframe tbody tr th {\n",
       "        vertical-align: top;\n",
       "    }\n",
       "\n",
       "    .dataframe thead th {\n",
       "        text-align: right;\n",
       "    }\n",
       "</style>\n",
       "<table border=\"1\" class=\"dataframe\">\n",
       "  <thead>\n",
       "    <tr style=\"text-align: right;\">\n",
       "      <th></th>\n",
       "      <th></th>\n",
       "      <th>date_start_job</th>\n",
       "      <th>date_end_job</th>\n",
       "      <th>time_spent</th>\n",
       "      <th>isco_code4</th>\n",
       "      <th>function_id</th>\n",
       "      <th>isco_functie_niveau</th>\n",
       "      <th>company_name</th>\n",
       "      <th>source</th>\n",
       "      <th>education</th>\n",
       "      <th>embedding</th>\n",
       "      <th>time_between</th>\n",
       "    </tr>\n",
       "    <tr>\n",
       "      <th>candidate_id</th>\n",
       "      <th>job_order</th>\n",
       "      <th></th>\n",
       "      <th></th>\n",
       "      <th></th>\n",
       "      <th></th>\n",
       "      <th></th>\n",
       "      <th></th>\n",
       "      <th></th>\n",
       "      <th></th>\n",
       "      <th></th>\n",
       "      <th></th>\n",
       "      <th></th>\n",
       "    </tr>\n",
       "  </thead>\n",
       "  <tbody>\n",
       "    <tr>\n",
       "      <th rowspan=\"5\" valign=\"top\">84556</th>\n",
       "      <th>0</th>\n",
       "      <td>2000-08-01</td>\n",
       "      <td>2001-01-04</td>\n",
       "      <td>156</td>\n",
       "      <td>208</td>\n",
       "      <td>936</td>\n",
       "      <td>2.0</td>\n",
       "      <td>324258</td>\n",
       "      <td>0</td>\n",
       "      <td>0.0</td>\n",
       "      <td>[0.07265971601009369, -0.8582056760787964, -0....</td>\n",
       "      <td>37</td>\n",
       "    </tr>\n",
       "    <tr>\n",
       "      <th>1</th>\n",
       "      <td>2000-09-07</td>\n",
       "      <td>2001-01-01</td>\n",
       "      <td>116</td>\n",
       "      <td>348</td>\n",
       "      <td>809</td>\n",
       "      <td>1.0</td>\n",
       "      <td>324258</td>\n",
       "      <td>0</td>\n",
       "      <td>0.0</td>\n",
       "      <td>[0.07265971601009369, -0.8582056760787964, -0....</td>\n",
       "      <td>23</td>\n",
       "    </tr>\n",
       "    <tr>\n",
       "      <th>2</th>\n",
       "      <td>2000-09-30</td>\n",
       "      <td>2001-07-02</td>\n",
       "      <td>275</td>\n",
       "      <td>208</td>\n",
       "      <td>936</td>\n",
       "      <td>2.0</td>\n",
       "      <td>329244</td>\n",
       "      <td>0</td>\n",
       "      <td>0.0</td>\n",
       "      <td>[0.07265971601009369, -0.8582056760787964, -0....</td>\n",
       "      <td>23</td>\n",
       "    </tr>\n",
       "    <tr>\n",
       "      <th>3</th>\n",
       "      <td>2000-10-23</td>\n",
       "      <td>2000-10-27</td>\n",
       "      <td>4</td>\n",
       "      <td>344</td>\n",
       "      <td>1519</td>\n",
       "      <td>1.0</td>\n",
       "      <td>368140</td>\n",
       "      <td>0</td>\n",
       "      <td>0.0</td>\n",
       "      <td>[0.07265971601009369, -0.8582056760787964, -0....</td>\n",
       "      <td>1155</td>\n",
       "    </tr>\n",
       "    <tr>\n",
       "      <th>4</th>\n",
       "      <td>2003-12-22</td>\n",
       "      <td>2004-01-02</td>\n",
       "      <td>11</td>\n",
       "      <td>344</td>\n",
       "      <td>1519</td>\n",
       "      <td>1.0</td>\n",
       "      <td>419826</td>\n",
       "      <td>0</td>\n",
       "      <td>0.0</td>\n",
       "      <td>[0.07265971601009369, -0.8582056760787964, -0....</td>\n",
       "      <td>203</td>\n",
       "    </tr>\n",
       "  </tbody>\n",
       "</table>\n",
       "</div>"
      ],
      "text/plain": [
       "                       date_start_job date_end_job  time_spent  isco_code4  \\\n",
       "candidate_id job_order                                                       \n",
       "84556        0             2000-08-01   2001-01-04         156         208   \n",
       "             1             2000-09-07   2001-01-01         116         348   \n",
       "             2             2000-09-30   2001-07-02         275         208   \n",
       "             3             2000-10-23   2000-10-27           4         344   \n",
       "             4             2003-12-22   2004-01-02          11         344   \n",
       "\n",
       "                        function_id  isco_functie_niveau  company_name  \\\n",
       "candidate_id job_order                                                   \n",
       "84556        0                  936                  2.0        324258   \n",
       "             1                  809                  1.0        324258   \n",
       "             2                  936                  2.0        329244   \n",
       "             3                 1519                  1.0        368140   \n",
       "             4                 1519                  1.0        419826   \n",
       "\n",
       "                        source  education  \\\n",
       "candidate_id job_order                      \n",
       "84556        0               0        0.0   \n",
       "             1               0        0.0   \n",
       "             2               0        0.0   \n",
       "             3               0        0.0   \n",
       "             4               0        0.0   \n",
       "\n",
       "                                                                embedding  \\\n",
       "candidate_id job_order                                                      \n",
       "84556        0          [0.07265971601009369, -0.8582056760787964, -0....   \n",
       "             1          [0.07265971601009369, -0.8582056760787964, -0....   \n",
       "             2          [0.07265971601009369, -0.8582056760787964, -0....   \n",
       "             3          [0.07265971601009369, -0.8582056760787964, -0....   \n",
       "             4          [0.07265971601009369, -0.8582056760787964, -0....   \n",
       "\n",
       "                        time_between  \n",
       "candidate_id job_order                \n",
       "84556        0                    37  \n",
       "             1                    23  \n",
       "             2                    23  \n",
       "             3                  1155  \n",
       "             4                   203  "
      ]
     },
     "execution_count": 78,
     "metadata": {},
     "output_type": "execute_result"
    }
   ],
   "source": [
    "df.head()"
   ]
  },
  {
   "cell_type": "code",
   "execution_count": 79,
   "id": "3728a220",
   "metadata": {},
   "outputs": [],
   "source": [
    "num_classes = len(df[\"isco_code4\"].unique())"
   ]
  },
  {
   "cell_type": "code",
   "execution_count": 81,
   "id": "eff1d79f",
   "metadata": {},
   "outputs": [],
   "source": [
    "# df_pred = df[[\"isco_functie_niveau\", \"education\", \"function_id\"]].fillna(0)\n",
    "pred_cols = [\"time_between\", \"time_spent\", \"isco_functie_niveau\", \n",
    "             \"source\", \"education\", \"company_name\", \"function_id\", \"isco_code4\"] # + [col for col in df.columns if \"skill_\" in col]\n",
    "num_features = len(pred_cols)\n",
    "\n",
    "df_pred = df[pred_cols].fillna(0)"
   ]
  },
  {
   "cell_type": "code",
   "execution_count": 82,
   "id": "70127639",
   "metadata": {},
   "outputs": [
    {
     "data": {
      "text/html": [
       "<div>\n",
       "<style scoped>\n",
       "    .dataframe tbody tr th:only-of-type {\n",
       "        vertical-align: middle;\n",
       "    }\n",
       "\n",
       "    .dataframe tbody tr th {\n",
       "        vertical-align: top;\n",
       "    }\n",
       "\n",
       "    .dataframe thead th {\n",
       "        text-align: right;\n",
       "    }\n",
       "</style>\n",
       "<table border=\"1\" class=\"dataframe\">\n",
       "  <thead>\n",
       "    <tr style=\"text-align: right;\">\n",
       "      <th></th>\n",
       "      <th></th>\n",
       "      <th>time_between</th>\n",
       "      <th>time_spent</th>\n",
       "      <th>isco_functie_niveau</th>\n",
       "      <th>source</th>\n",
       "      <th>education</th>\n",
       "      <th>company_name</th>\n",
       "      <th>function_id</th>\n",
       "      <th>isco_code4</th>\n",
       "    </tr>\n",
       "    <tr>\n",
       "      <th>candidate_id</th>\n",
       "      <th>job_order</th>\n",
       "      <th></th>\n",
       "      <th></th>\n",
       "      <th></th>\n",
       "      <th></th>\n",
       "      <th></th>\n",
       "      <th></th>\n",
       "      <th></th>\n",
       "      <th></th>\n",
       "    </tr>\n",
       "  </thead>\n",
       "  <tbody>\n",
       "    <tr>\n",
       "      <th rowspan=\"5\" valign=\"top\">84556</th>\n",
       "      <th>0</th>\n",
       "      <td>37</td>\n",
       "      <td>156</td>\n",
       "      <td>2.0</td>\n",
       "      <td>0</td>\n",
       "      <td>0.0</td>\n",
       "      <td>324258</td>\n",
       "      <td>936</td>\n",
       "      <td>208</td>\n",
       "    </tr>\n",
       "    <tr>\n",
       "      <th>1</th>\n",
       "      <td>23</td>\n",
       "      <td>116</td>\n",
       "      <td>1.0</td>\n",
       "      <td>0</td>\n",
       "      <td>0.0</td>\n",
       "      <td>324258</td>\n",
       "      <td>809</td>\n",
       "      <td>348</td>\n",
       "    </tr>\n",
       "    <tr>\n",
       "      <th>2</th>\n",
       "      <td>23</td>\n",
       "      <td>275</td>\n",
       "      <td>2.0</td>\n",
       "      <td>0</td>\n",
       "      <td>0.0</td>\n",
       "      <td>329244</td>\n",
       "      <td>936</td>\n",
       "      <td>208</td>\n",
       "    </tr>\n",
       "    <tr>\n",
       "      <th>3</th>\n",
       "      <td>1155</td>\n",
       "      <td>4</td>\n",
       "      <td>1.0</td>\n",
       "      <td>0</td>\n",
       "      <td>0.0</td>\n",
       "      <td>368140</td>\n",
       "      <td>1519</td>\n",
       "      <td>344</td>\n",
       "    </tr>\n",
       "    <tr>\n",
       "      <th>4</th>\n",
       "      <td>203</td>\n",
       "      <td>11</td>\n",
       "      <td>1.0</td>\n",
       "      <td>0</td>\n",
       "      <td>0.0</td>\n",
       "      <td>419826</td>\n",
       "      <td>1519</td>\n",
       "      <td>344</td>\n",
       "    </tr>\n",
       "  </tbody>\n",
       "</table>\n",
       "</div>"
      ],
      "text/plain": [
       "                        time_between  time_spent  isco_functie_niveau  source  \\\n",
       "candidate_id job_order                                                          \n",
       "84556        0                    37         156                  2.0       0   \n",
       "             1                    23         116                  1.0       0   \n",
       "             2                    23         275                  2.0       0   \n",
       "             3                  1155           4                  1.0       0   \n",
       "             4                   203          11                  1.0       0   \n",
       "\n",
       "                        education  company_name  function_id  isco_code4  \n",
       "candidate_id job_order                                                    \n",
       "84556        0                0.0        324258          936         208  \n",
       "             1                0.0        324258          809         348  \n",
       "             2                0.0        329244          936         208  \n",
       "             3                0.0        368140         1519         344  \n",
       "             4                0.0        419826         1519         344  "
      ]
     },
     "execution_count": 82,
     "metadata": {},
     "output_type": "execute_result"
    }
   ],
   "source": [
    "df_pred.head()"
   ]
  },
  {
   "cell_type": "code",
   "execution_count": 41,
   "id": "95f02a27",
   "metadata": {},
   "outputs": [],
   "source": [
    "df_pred[[\"function_id\", \"isco_code4\"]].reset_index().to_csv(\"../Data/DTW_df_pred2.csv\")"
   ]
  },
  {
   "cell_type": "markdown",
   "id": "dbe79f45",
   "metadata": {},
   "source": [
    "### Create separate embedding dict\n",
    "\n",
    "Done for optimization purposes"
   ]
  },
  {
   "cell_type": "code",
   "execution_count": 51,
   "id": "76479d84",
   "metadata": {},
   "outputs": [],
   "source": [
    "embedding_order = df.reset_index()[[\"candidate_id\", \"embedding\"]]"
   ]
  },
  {
   "cell_type": "code",
   "execution_count": 52,
   "id": "19f5303b",
   "metadata": {},
   "outputs": [],
   "source": [
    "grouped_embeddings = embedding_order.groupby(\"candidate_id\")"
   ]
  },
  {
   "cell_type": "code",
   "execution_count": 53,
   "id": "8d8feb37",
   "metadata": {},
   "outputs": [
    {
     "name": "stderr",
     "output_type": "stream",
     "text": [
      "100%|██████████| 469073/469073 [01:21<00:00, 5736.13it/s]\n"
     ]
    }
   ],
   "source": [
    "embedding_a = defaultdict(lambda: defaultdict(list))\n",
    "\n",
    "# Find each time step at which the candidate got a new CV\n",
    "for candidate, values in tqdm(grouped_embeddings):\n",
    "    embeddings = values[\"embedding\"].values\n",
    "  \n",
    "    if (type(embeddings[0]) == type(np.array([]))) and np.nan not in embeddings[0]:\n",
    "        embedding_a[candidate][0] = embeddings[0]\n",
    "        \n",
    "        for i, embedding in enumerate(embeddings):\n",
    "            if i > 0:\n",
    "                truths = embeddings[i - 1] != embedding\n",
    "\n",
    "                if (type(truths) == type(np.array([]))) and (truths).all():\n",
    "                    embedding_a[candidate][i] = embedding"
   ]
  },
  {
   "cell_type": "code",
   "execution_count": 54,
   "id": "5e5b0baf",
   "metadata": {},
   "outputs": [],
   "source": [
    "class NumpyEncoder(json.JSONEncoder):\n",
    "    def default(self, obj):\n",
    "        if isinstance(obj, np.ndarray):\n",
    "            return obj.tolist()\n",
    "        return json.JSONEncoder.default(self, obj)"
   ]
  },
  {
   "cell_type": "code",
   "execution_count": 55,
   "id": "13993e2d",
   "metadata": {},
   "outputs": [],
   "source": [
    "with open('../Data/embeddings_grouped.json', 'w') as f:\n",
    "    json.dump(embedding_a, f, cls=NumpyEncoder)"
   ]
  },
  {
   "cell_type": "code",
   "execution_count": 84,
   "id": "9f38850a",
   "metadata": {},
   "outputs": [],
   "source": [
    "df_pred.reset_index().to_csv(\"../Data/df_pred_ext.csv\")"
   ]
  },
  {
   "cell_type": "code",
   "execution_count": null,
   "id": "137f240f",
   "metadata": {},
   "outputs": [],
   "source": [
    "pd.Series(skills_dict).to_csv(\"../Data/skills.csv\")"
   ]
  },
  {
   "cell_type": "markdown",
   "id": "b3cf3979",
   "metadata": {},
   "source": [
    "### Candidate Certificates"
   ]
  },
  {
   "cell_type": "code",
   "execution_count": null,
   "id": "8a82dc4c",
   "metadata": {},
   "outputs": [],
   "source": [
    "sql_path = os.path.join(\"/home/ec2-user/SageMaker/data-science-development/talent_recommender/daily_snapshots\",\n",
    "                        Config.query_candidate_certificates) \n",
    "\n",
    "candidate_certificates = get_from_redshift(sql_path, Config.redshift_creds)\n",
    "candidate_certificates.head()"
   ]
  },
  {
   "cell_type": "code",
   "execution_count": null,
   "id": "b595296b",
   "metadata": {},
   "outputs": [],
   "source": [
    "candidate_certificates = pd.crosstab(candidate_certificates[\"candidate_id\"], \n",
    "                                     candidate_certificates[\"candidate_certificate_id\"])\n",
    "candidate_certificates.head()"
   ]
  },
  {
   "cell_type": "code",
   "execution_count": null,
   "id": "55e8c4f9",
   "metadata": {},
   "outputs": [],
   "source": [
    "candidate_certificates.to_csv(\"../Data/candidate_certificates_one-hot.csv\")"
   ]
  },
  {
   "cell_type": "markdown",
   "id": "d454cb78",
   "metadata": {},
   "source": [
    "### CV Embeddings"
   ]
  },
  {
   "cell_type": "code",
   "execution_count": null,
   "id": "71e9b05b",
   "metadata": {},
   "outputs": [],
   "source": [
    "df_pred = pd.read_csv(\"../Data/df_pred.csv\")\n",
    "skills = pd.read_csv(\"../Data/skills.csv\")"
   ]
  },
  {
   "cell_type": "code",
   "execution_count": null,
   "id": "ae77a916",
   "metadata": {},
   "outputs": [],
   "source": [
    "# s3 = s3fs.S3FileSystem()\n",
    "\n",
    "# embedding_pd = pq.ParquetDataset('s3a://s3-nl-prd-semrb-emr/embeddings/doc_embeddings/xlm-roberta-base-smartmatch', filesystem=s3).read_pandas().to_pandas()\n",
    "\n",
    "# embedding_pd['cv_id'] = embedding_pd['cv_id'].astype('int')\n",
    "# embedding_pd.rename(columns={\"doc_embedding\": \"tensor\"}, inplace=True)\n",
    "# embedding_pd.head() "
   ]
  },
  {
   "cell_type": "code",
   "execution_count": null,
   "id": "8f402ac6",
   "metadata": {},
   "outputs": [],
   "source": []
  },
  {
   "cell_type": "code",
   "execution_count": null,
   "id": "bb3324d3",
   "metadata": {},
   "outputs": [],
   "source": []
  },
  {
   "cell_type": "code",
   "execution_count": null,
   "id": "edbecaa6",
   "metadata": {},
   "outputs": [],
   "source": [
    "# cvPath = 's3a://s3-nl-prd-datahub-projects/smartmatch_cv/parsed_cv'\n",
    "\n",
    "# s3 = s3fs.S3FileSystem()\n",
    "# parsedCv_pd = pq.ParquetDataset(cvPath, filesystem=s3).read_pandas().to_pandas() "
   ]
  },
  {
   "cell_type": "code",
   "execution_count": null,
   "id": "3d6fd383",
   "metadata": {},
   "outputs": [],
   "source": [
    "# parsedCv_pd"
   ]
  },
  {
   "cell_type": "code",
   "execution_count": null,
   "id": "f798ff3c",
   "metadata": {},
   "outputs": [],
   "source": []
  },
  {
   "cell_type": "code",
   "execution_count": null,
   "id": "bb411bf6",
   "metadata": {},
   "outputs": [],
   "source": []
  },
  {
   "cell_type": "code",
   "execution_count": null,
   "id": "43b49109",
   "metadata": {},
   "outputs": [],
   "source": []
  },
  {
   "cell_type": "code",
   "execution_count": null,
   "id": "5d2ed54a",
   "metadata": {},
   "outputs": [],
   "source": []
  },
  {
   "cell_type": "code",
   "execution_count": null,
   "id": "08ccdf3f",
   "metadata": {},
   "outputs": [],
   "source": []
  },
  {
   "cell_type": "code",
   "execution_count": null,
   "id": "f8e21c5a",
   "metadata": {},
   "outputs": [],
   "source": []
  },
  {
   "cell_type": "code",
   "execution_count": null,
   "id": "727e61bc",
   "metadata": {},
   "outputs": [],
   "source": []
  },
  {
   "cell_type": "code",
   "execution_count": null,
   "id": "d74c361e",
   "metadata": {},
   "outputs": [],
   "source": []
  },
  {
   "cell_type": "code",
   "execution_count": null,
   "id": "126fea4d",
   "metadata": {},
   "outputs": [],
   "source": [
    "len(set(cv_embeddings[\"candidate_id\"]) & set(df_pred[\"candidate_id\"]))"
   ]
  },
  {
   "cell_type": "code",
   "execution_count": null,
   "id": "f106481a",
   "metadata": {},
   "outputs": [],
   "source": [
    "cv_embeddings.to_csv(\"../Data/cv_w2v_embeddings.csv\")"
   ]
  },
  {
   "cell_type": "code",
   "execution_count": null,
   "id": "dd527ceb",
   "metadata": {},
   "outputs": [],
   "source": []
  }
 ],
 "metadata": {
  "kernelspec": {
   "display_name": "conda_pytorch_p36",
   "language": "python",
   "name": "conda_pytorch_p36"
  },
  "language_info": {
   "codemirror_mode": {
    "name": "ipython",
    "version": 3
   },
   "file_extension": ".py",
   "mimetype": "text/x-python",
   "name": "python",
   "nbconvert_exporter": "python",
   "pygments_lexer": "ipython3",
   "version": "3.6.13"
  }
 },
 "nbformat": 4,
 "nbformat_minor": 5
}
