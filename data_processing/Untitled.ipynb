{
 "cells": [
  {
   "cell_type": "code",
   "execution_count": 4,
   "id": "83e978be",
   "metadata": {},
   "outputs": [],
   "source": [
    "import json\n",
    "import pandas as pd"
   ]
  },
  {
   "cell_type": "code",
   "execution_count": 2,
   "id": "8cdf8372",
   "metadata": {},
   "outputs": [],
   "source": [
    "embeddings = json.load(open(\"../Data/embeddings.json\"))"
   ]
  },
  {
   "cell_type": "code",
   "execution_count": null,
   "id": "0459cba2",
   "metadata": {},
   "outputs": [],
   "source": [
    "embedding_pd = pd.read_parquet(\"s3://s3-nl-prd-semrb-emr/embeddings/doc_embeddings/word2vec/word2vec_doc_embedding.parquet\")\n",
    "embedding_pd['cv_id'] = embedding_pd['cv_id'].astype('int')\n",
    "embedding_pd.rename(columns={\"doc_embedding\": \"tensor\"}, inplace=True)"
   ]
  },
  {
   "cell_type": "code",
   "execution_count": 15,
   "id": "4d5417b4",
   "metadata": {},
   "outputs": [],
   "source": [
    "emb_df = pd.read_csv(\"../Data/cv_w2v_embeddings.csv\").drop(\"Unnamed: 0\", axis=1)"
   ]
  },
  {
   "cell_type": "code",
   "execution_count": 16,
   "id": "8a67a26d",
   "metadata": {},
   "outputs": [
    {
     "data": {
      "text/html": [
       "<div>\n",
       "<style scoped>\n",
       "    .dataframe tbody tr th:only-of-type {\n",
       "        vertical-align: middle;\n",
       "    }\n",
       "\n",
       "    .dataframe tbody tr th {\n",
       "        vertical-align: top;\n",
       "    }\n",
       "\n",
       "    .dataframe thead th {\n",
       "        text-align: right;\n",
       "    }\n",
       "</style>\n",
       "<table border=\"1\" class=\"dataframe\">\n",
       "  <thead>\n",
       "    <tr style=\"text-align: right;\">\n",
       "      <th></th>\n",
       "      <th>candidate_id</th>\n",
       "      <th>date_start</th>\n",
       "      <th>embedding</th>\n",
       "    </tr>\n",
       "  </thead>\n",
       "  <tbody>\n",
       "    <tr>\n",
       "      <th>0</th>\n",
       "      <td>84556.0</td>\n",
       "      <td>2020-07-02</td>\n",
       "      <td>[ 0.07265972 -0.85820568 -0.26867145  0.543308...</td>\n",
       "    </tr>\n",
       "    <tr>\n",
       "      <th>1</th>\n",
       "      <td>84612.0</td>\n",
       "      <td>2020-05-30</td>\n",
       "      <td>[ 3.47467571e-01 -1.04299009e+00 -3.20929319e-...</td>\n",
       "    </tr>\n",
       "    <tr>\n",
       "      <th>2</th>\n",
       "      <td>84612.0</td>\n",
       "      <td>2020-06-03</td>\n",
       "      <td>[ 3.40685010e-01 -1.01796389e+00 -3.20944011e-...</td>\n",
       "    </tr>\n",
       "    <tr>\n",
       "      <th>3</th>\n",
       "      <td>84731.0</td>\n",
       "      <td>2020-06-03</td>\n",
       "      <td>[ 0.12455235 -0.17254153 -0.4887622  -0.004285...</td>\n",
       "    </tr>\n",
       "    <tr>\n",
       "      <th>4</th>\n",
       "      <td>85437.0</td>\n",
       "      <td>2020-06-06</td>\n",
       "      <td>[ 2.04800099e-01 -4.90688115e-01 -1.86530575e-...</td>\n",
       "    </tr>\n",
       "  </tbody>\n",
       "</table>\n",
       "</div>"
      ],
      "text/plain": [
       "   candidate_id  date_start                                          embedding\n",
       "0       84556.0  2020-07-02  [ 0.07265972 -0.85820568 -0.26867145  0.543308...\n",
       "1       84612.0  2020-05-30  [ 3.47467571e-01 -1.04299009e+00 -3.20929319e-...\n",
       "2       84612.0  2020-06-03  [ 3.40685010e-01 -1.01796389e+00 -3.20944011e-...\n",
       "3       84731.0  2020-06-03  [ 0.12455235 -0.17254153 -0.4887622  -0.004285...\n",
       "4       85437.0  2020-06-06  [ 2.04800099e-01 -4.90688115e-01 -1.86530575e-..."
      ]
     },
     "execution_count": 16,
     "metadata": {},
     "output_type": "execute_result"
    }
   ],
   "source": [
    "emb_df.head()"
   ]
  },
  {
   "cell_type": "code",
   "execution_count": null,
   "id": "6e444b21",
   "metadata": {},
   "outputs": [],
   "source": []
  }
 ],
 "metadata": {
  "kernelspec": {
   "display_name": "conda_pytorch_p36",
   "language": "python",
   "name": "conda_pytorch_p36"
  },
  "language_info": {
   "codemirror_mode": {
    "name": "ipython",
    "version": 3
   },
   "file_extension": ".py",
   "mimetype": "text/x-python",
   "name": "python",
   "nbconvert_exporter": "python",
   "pygments_lexer": "ipython3",
   "version": "3.6.13"
  }
 },
 "nbformat": 4,
 "nbformat_minor": 5
}
