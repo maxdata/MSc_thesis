{
 "cells": [
  {
   "cell_type": "code",
   "execution_count": 4,
   "id": "11a2b5c6",
   "metadata": {},
   "outputs": [],
   "source": [
    "from sys import path\n",
    "path.append(\"/home/ec2-user/SageMaker/data-science-development/utils\")\n",
    "path.append(\"/home/ec2-user/SageMaker/data-science-development/config\")\n",
    "\n",
    "import pandas as pd\n",
    "import numpy as np\n",
    "import datetime as dt\n",
    "import matplotlib.pyplot as plt\n",
    "import pyarrow.parquet as pq\n",
    "\n",
    "import s3fs\n",
    "import os\n",
    "import torch\n",
    "import random\n",
    "import json\n",
    "# import sktime\n",
    "\n",
    "from torch import nn\n",
    "from torch.autograd import Variable\n",
    "from torch.utils.data import TensorDataset, DataLoader, WeightedRandomSampler\n",
    "\n",
    "from sklearn.model_selection import train_test_split\n",
    "from sklearn.utils import class_weight\n",
    "\n",
    "from redshift import get_from_redshift\n",
    "from datetime import datetime\n",
    "from config import Config  \n",
    "from collections import defaultdict, Counter\n",
    "from tqdm import tqdm \n",
    "from itertools import zip_longest\n",
    "\n",
    "tqdm.pandas()"
   ]
  },
  {
   "cell_type": "markdown",
   "id": "8440e9c6",
   "metadata": {},
   "source": [
    "# Loading data"
   ]
  },
  {
   "cell_type": "markdown",
   "id": "ea1fb52b",
   "metadata": {},
   "source": [
    "### Work experience"
   ]
  },
  {
   "cell_type": "code",
   "execution_count": 5,
   "id": "485c40d6",
   "metadata": {},
   "outputs": [],
   "source": [
    "sql_path = os.path.join(\"/home/ec2-user/SageMaker/data-science-development/talent_recommender/daily_snapshots\",\n",
    "                        Config.query_candidate_work_experience) "
   ]
  },
  {
   "cell_type": "code",
   "execution_count": 6,
   "id": "0ff1bca3",
   "metadata": {},
   "outputs": [
    {
     "data": {
      "text/html": [
       "<div>\n",
       "<style scoped>\n",
       "    .dataframe tbody tr th:only-of-type {\n",
       "        vertical-align: middle;\n",
       "    }\n",
       "\n",
       "    .dataframe tbody tr th {\n",
       "        vertical-align: top;\n",
       "    }\n",
       "\n",
       "    .dataframe thead th {\n",
       "        text-align: right;\n",
       "    }\n",
       "</style>\n",
       "<table border=\"1\" class=\"dataframe\">\n",
       "  <thead>\n",
       "    <tr style=\"text-align: right;\">\n",
       "      <th></th>\n",
       "      <th>candidate_id</th>\n",
       "      <th>unique_id</th>\n",
       "      <th>date_start_job</th>\n",
       "      <th>date_end_job</th>\n",
       "      <th>function_id</th>\n",
       "      <th>isco_functie_niveau</th>\n",
       "      <th>isco_code4</th>\n",
       "      <th>function_name_self</th>\n",
       "      <th>company_name</th>\n",
       "      <th>source</th>\n",
       "    </tr>\n",
       "  </thead>\n",
       "  <tbody>\n",
       "    <tr>\n",
       "      <th>0</th>\n",
       "      <td>89030</td>\n",
       "      <td>187756</td>\n",
       "      <td>2005-04-04 00:00:00</td>\n",
       "      <td>2005-04-13</td>\n",
       "      <td>1046.0</td>\n",
       "      <td>2.0</td>\n",
       "      <td>5246.0</td>\n",
       "      <td>None</td>\n",
       "      <td>Compass Group NL/Prénatal</td>\n",
       "      <td>plaatsing</td>\n",
       "    </tr>\n",
       "    <tr>\n",
       "      <th>1</th>\n",
       "      <td>89030</td>\n",
       "      <td>187818</td>\n",
       "      <td>2005-04-08 00:00:00</td>\n",
       "      <td>2005-08-07</td>\n",
       "      <td>1046.0</td>\n",
       "      <td>2.0</td>\n",
       "      <td>5246.0</td>\n",
       "      <td>None</td>\n",
       "      <td>Albron Cat. / 3381 ASM Europe BV</td>\n",
       "      <td>plaatsing</td>\n",
       "    </tr>\n",
       "    <tr>\n",
       "      <th>2</th>\n",
       "      <td>89030</td>\n",
       "      <td>1290468</td>\n",
       "      <td>2005-09-12 00:00:00</td>\n",
       "      <td>2005-11-10</td>\n",
       "      <td>1046.0</td>\n",
       "      <td>2.0</td>\n",
       "      <td>5246.0</td>\n",
       "      <td>None</td>\n",
       "      <td>Albron cat.3695/ Schuitema</td>\n",
       "      <td>plaatsing</td>\n",
       "    </tr>\n",
       "    <tr>\n",
       "      <th>3</th>\n",
       "      <td>89030</td>\n",
       "      <td>1285504</td>\n",
       "      <td>2005-09-12 00:00:00</td>\n",
       "      <td>2005-11-10</td>\n",
       "      <td>1046.0</td>\n",
       "      <td>2.0</td>\n",
       "      <td>5246.0</td>\n",
       "      <td>None</td>\n",
       "      <td>Albron cat.3695/ Schuitema</td>\n",
       "      <td>plaatsing</td>\n",
       "    </tr>\n",
       "    <tr>\n",
       "      <th>4</th>\n",
       "      <td>89030</td>\n",
       "      <td>1506287</td>\n",
       "      <td>2005-09-12 00:00:00</td>\n",
       "      <td>2005-11-10</td>\n",
       "      <td>1046.0</td>\n",
       "      <td>2.0</td>\n",
       "      <td>5246.0</td>\n",
       "      <td>None</td>\n",
       "      <td>Paresto/tripvzoudtland/09008 (9.8)</td>\n",
       "      <td>plaatsing</td>\n",
       "    </tr>\n",
       "  </tbody>\n",
       "</table>\n",
       "</div>"
      ],
      "text/plain": [
       "   candidate_id  unique_id       date_start_job date_end_job  function_id  \\\n",
       "0         89030     187756  2005-04-04 00:00:00   2005-04-13       1046.0   \n",
       "1         89030     187818  2005-04-08 00:00:00   2005-08-07       1046.0   \n",
       "2         89030    1290468  2005-09-12 00:00:00   2005-11-10       1046.0   \n",
       "3         89030    1285504  2005-09-12 00:00:00   2005-11-10       1046.0   \n",
       "4         89030    1506287  2005-09-12 00:00:00   2005-11-10       1046.0   \n",
       "\n",
       "   isco_functie_niveau  isco_code4 function_name_self  \\\n",
       "0                  2.0      5246.0               None   \n",
       "1                  2.0      5246.0               None   \n",
       "2                  2.0      5246.0               None   \n",
       "3                  2.0      5246.0               None   \n",
       "4                  2.0      5246.0               None   \n",
       "\n",
       "                         company_name     source  \n",
       "0           Compass Group NL/Prénatal  plaatsing  \n",
       "1    Albron Cat. / 3381 ASM Europe BV  plaatsing  \n",
       "2          Albron cat.3695/ Schuitema  plaatsing  \n",
       "3          Albron cat.3695/ Schuitema  plaatsing  \n",
       "4  Paresto/tripvzoudtland/09008 (9.8)  plaatsing  "
      ]
     },
     "execution_count": 6,
     "metadata": {},
     "output_type": "execute_result"
    }
   ],
   "source": [
    "candidate_work_experience = get_from_redshift(sql_path, Config.redshift_creds)\n",
    "candidate_work_experience.head()"
   ]
  },
  {
   "cell_type": "markdown",
   "id": "730eb413",
   "metadata": {},
   "source": [
    "### Education"
   ]
  },
  {
   "cell_type": "code",
   "execution_count": 7,
   "id": "7a483073",
   "metadata": {},
   "outputs": [],
   "source": [
    "sql_path = os.path.join(\"/home/ec2-user/SageMaker/data-science-development/talent_recommender/daily_snapshots\",\n",
    "                        Config.query_candidate_education) "
   ]
  },
  {
   "cell_type": "code",
   "execution_count": 8,
   "id": "1698fa42",
   "metadata": {},
   "outputs": [
    {
     "data": {
      "text/html": [
       "<div>\n",
       "<style scoped>\n",
       "    .dataframe tbody tr th:only-of-type {\n",
       "        vertical-align: middle;\n",
       "    }\n",
       "\n",
       "    .dataframe tbody tr th {\n",
       "        vertical-align: top;\n",
       "    }\n",
       "\n",
       "    .dataframe thead th {\n",
       "        text-align: right;\n",
       "    }\n",
       "</style>\n",
       "<table border=\"1\" class=\"dataframe\">\n",
       "  <thead>\n",
       "    <tr style=\"text-align: right;\">\n",
       "      <th></th>\n",
       "      <th>candidate_id</th>\n",
       "      <th>education_level</th>\n",
       "      <th>date_start</th>\n",
       "      <th>date_end</th>\n",
       "      <th>date_registrated</th>\n",
       "      <th>passed</th>\n",
       "    </tr>\n",
       "  </thead>\n",
       "  <tbody>\n",
       "    <tr>\n",
       "      <th>0</th>\n",
       "      <td>239187</td>\n",
       "      <td>3</td>\n",
       "      <td>1985-09-01 00:00:00</td>\n",
       "      <td>1987-06-01 00:00:00</td>\n",
       "      <td>2005-08-16 16:53:06</td>\n",
       "      <td>1</td>\n",
       "    </tr>\n",
       "    <tr>\n",
       "      <th>1</th>\n",
       "      <td>109774</td>\n",
       "      <td>2</td>\n",
       "      <td>2001-09-01 00:00:00</td>\n",
       "      <td>2004-09-01 00:00:00</td>\n",
       "      <td>2005-07-26 17:50:44</td>\n",
       "      <td>0</td>\n",
       "    </tr>\n",
       "    <tr>\n",
       "      <th>2</th>\n",
       "      <td>179574</td>\n",
       "      <td>3</td>\n",
       "      <td>2000-09-01 00:00:00</td>\n",
       "      <td>2001-06-01 00:00:00</td>\n",
       "      <td>2005-08-09 18:28:17</td>\n",
       "      <td>1</td>\n",
       "    </tr>\n",
       "    <tr>\n",
       "      <th>3</th>\n",
       "      <td>239357</td>\n",
       "      <td>2</td>\n",
       "      <td>1998-09-01 00:00:00</td>\n",
       "      <td>2002-06-08 00:00:00</td>\n",
       "      <td>2005-08-16 16:53:40</td>\n",
       "      <td>1</td>\n",
       "    </tr>\n",
       "    <tr>\n",
       "      <th>4</th>\n",
       "      <td>294921</td>\n",
       "      <td>3</td>\n",
       "      <td>2001-09-01 00:00:00</td>\n",
       "      <td>2005-08-31 00:00:00</td>\n",
       "      <td>2005-08-17 13:12:58</td>\n",
       "      <td>1</td>\n",
       "    </tr>\n",
       "  </tbody>\n",
       "</table>\n",
       "</div>"
      ],
      "text/plain": [
       "   candidate_id  education_level           date_start             date_end  \\\n",
       "0        239187                3  1985-09-01 00:00:00  1987-06-01 00:00:00   \n",
       "1        109774                2  2001-09-01 00:00:00  2004-09-01 00:00:00   \n",
       "2        179574                3  2000-09-01 00:00:00  2001-06-01 00:00:00   \n",
       "3        239357                2  1998-09-01 00:00:00  2002-06-08 00:00:00   \n",
       "4        294921                3  2001-09-01 00:00:00  2005-08-31 00:00:00   \n",
       "\n",
       "     date_registrated  passed  \n",
       "0 2005-08-16 16:53:06       1  \n",
       "1 2005-07-26 17:50:44       0  \n",
       "2 2005-08-09 18:28:17       1  \n",
       "3 2005-08-16 16:53:40       1  \n",
       "4 2005-08-17 13:12:58       1  "
      ]
     },
     "execution_count": 8,
     "metadata": {},
     "output_type": "execute_result"
    }
   ],
   "source": [
    "candidate_education = get_from_redshift(sql_path, Config.redshift_creds)\n",
    "candidate_education.head()"
   ]
  },
  {
   "cell_type": "markdown",
   "id": "a8fa3a06",
   "metadata": {},
   "source": [
    "### Skills"
   ]
  },
  {
   "cell_type": "code",
   "execution_count": null,
   "id": "cbde6ded",
   "metadata": {},
   "outputs": [],
   "source": [
    "sql_path = os.path.join(\"/home/ec2-user/SageMaker/data-science-development/talent_recommender/daily_snapshots\",\n",
    "                        Config.query_candidate_skills) "
   ]
  },
  {
   "cell_type": "markdown",
   "id": "69f5d38b",
   "metadata": {},
   "source": [
    "#### What's date start here? "
   ]
  },
  {
   "cell_type": "code",
   "execution_count": null,
   "id": "bed83f57",
   "metadata": {},
   "outputs": [],
   "source": [
    "candidate_skill = get_from_redshift(sql_path, Config.redshift_creds)\n",
    "candidate_skill.head()"
   ]
  },
  {
   "cell_type": "markdown",
   "id": "257ca5fa",
   "metadata": {},
   "source": [
    "### Languages"
   ]
  },
  {
   "cell_type": "code",
   "execution_count": null,
   "id": "0ac17b5f",
   "metadata": {},
   "outputs": [],
   "source": [
    "sql_path = os.path.join(\"/home/ec2-user/SageMaker/data-science-development/talent_recommender/daily_snapshots\",\n",
    "                        Config.query_candidate_languages) "
   ]
  },
  {
   "cell_type": "code",
   "execution_count": null,
   "id": "70a6c93c",
   "metadata": {},
   "outputs": [],
   "source": [
    "candidate_languages = get_from_redshift(sql_path, Config.redshift_creds)\n",
    "candidate_languages.head()"
   ]
  },
  {
   "cell_type": "code",
   "execution_count": null,
   "id": "52d481f5",
   "metadata": {},
   "outputs": [],
   "source": [
    "lang_to_idx = {v : i for i, v in enumerate(sorted(candidate_languages[\"language_id\"].astype(float).unique()))}\n",
    "idx_to_lang = {i : v for i, v in lang_to_idx.items()}\n",
    "candidate_languages[\"language_id\"] = candidate_languages[\"language_id\"].progress_apply(lambda x: lang_to_idx[x])"
   ]
  },
  {
   "cell_type": "code",
   "execution_count": null,
   "id": "1b7dc815",
   "metadata": {},
   "outputs": [],
   "source": [
    "languages_oh = pd.crosstab(candidate_languages[\"candidate_id\"],\n",
    "                           candidate_languages[\"language_id\"])"
   ]
  },
  {
   "cell_type": "code",
   "execution_count": 27,
   "id": "f33613e8",
   "metadata": {},
   "outputs": [],
   "source": [
    "languages_oh.to_csv(\"../Data/languages_one-hot.csv\")"
   ]
  },
  {
   "cell_type": "markdown",
   "id": "d44003f0",
   "metadata": {},
   "source": [
    "### Addresses"
   ]
  },
  {
   "cell_type": "code",
   "execution_count": 18,
   "id": "1c03fcaa",
   "metadata": {},
   "outputs": [],
   "source": [
    "sql_path = os.path.join(\"/home/ec2-user/SageMaker/data-science-development/talent_recommender/daily_snapshots\",\n",
    "                        Config.query_candidate_addresses) "
   ]
  },
  {
   "cell_type": "code",
   "execution_count": 19,
   "id": "d72ab9dd",
   "metadata": {},
   "outputs": [
    {
     "data": {
      "text/html": [
       "<div>\n",
       "<style scoped>\n",
       "    .dataframe tbody tr th:only-of-type {\n",
       "        vertical-align: middle;\n",
       "    }\n",
       "\n",
       "    .dataframe tbody tr th {\n",
       "        vertical-align: top;\n",
       "    }\n",
       "\n",
       "    .dataframe thead th {\n",
       "        text-align: right;\n",
       "    }\n",
       "</style>\n",
       "<table border=\"1\" class=\"dataframe\">\n",
       "  <thead>\n",
       "    <tr style=\"text-align: right;\">\n",
       "      <th></th>\n",
       "      <th>candidate_id</th>\n",
       "      <th>from_post_code</th>\n",
       "      <th>date_start</th>\n",
       "      <th>date_end</th>\n",
       "    </tr>\n",
       "  </thead>\n",
       "  <tbody>\n",
       "    <tr>\n",
       "      <th>0</th>\n",
       "      <td>2065656</td>\n",
       "      <td>9714 JV</td>\n",
       "      <td>2016-02-05 00:00:00</td>\n",
       "      <td>2016-12-26 00:00:00</td>\n",
       "    </tr>\n",
       "    <tr>\n",
       "      <th>1</th>\n",
       "      <td>2674423</td>\n",
       "      <td>1621 JW</td>\n",
       "      <td>2014-09-01 00:00:00</td>\n",
       "      <td>2015-12-16 00:00:00</td>\n",
       "    </tr>\n",
       "    <tr>\n",
       "      <th>2</th>\n",
       "      <td>7301821</td>\n",
       "      <td>3064 AW</td>\n",
       "      <td>2018-01-25 00:00:00</td>\n",
       "      <td>None</td>\n",
       "    </tr>\n",
       "    <tr>\n",
       "      <th>3</th>\n",
       "      <td>7367386</td>\n",
       "      <td>7141 WE</td>\n",
       "      <td>2018-03-26 00:00:00</td>\n",
       "      <td>None</td>\n",
       "    </tr>\n",
       "    <tr>\n",
       "      <th>4</th>\n",
       "      <td>1613716</td>\n",
       "      <td>7731 CA</td>\n",
       "      <td>2011-03-15 00:00:00</td>\n",
       "      <td>None</td>\n",
       "    </tr>\n",
       "  </tbody>\n",
       "</table>\n",
       "</div>"
      ],
      "text/plain": [
       "   candidate_id from_post_code           date_start             date_end\n",
       "0       2065656        9714 JV  2016-02-05 00:00:00  2016-12-26 00:00:00\n",
       "1       2674423        1621 JW  2014-09-01 00:00:00  2015-12-16 00:00:00\n",
       "2       7301821        3064 AW  2018-01-25 00:00:00                 None\n",
       "3       7367386        7141 WE  2018-03-26 00:00:00                 None\n",
       "4       1613716        7731 CA  2011-03-15 00:00:00                 None"
      ]
     },
     "execution_count": 19,
     "metadata": {},
     "output_type": "execute_result"
    }
   ],
   "source": [
    "candidate_addresses = get_from_redshift(sql_path, Config.redshift_creds)\n",
    "candidate_addresses.head()"
   ]
  },
  {
   "cell_type": "code",
   "execution_count": 20,
   "id": "6f6b4236",
   "metadata": {},
   "outputs": [
    {
     "data": {
      "text/plain": [
       "(4148409, 4)"
      ]
     },
     "execution_count": 20,
     "metadata": {},
     "output_type": "execute_result"
    }
   ],
   "source": [
    "candidate_addresses.shape"
   ]
  },
  {
   "cell_type": "code",
   "execution_count": 21,
   "id": "b5e97ae4",
   "metadata": {},
   "outputs": [],
   "source": [
    "# Drop nonsense rows\n",
    "candidate_addresses = candidate_addresses[(candidate_addresses[\"date_start\"] >= dt.datetime(1950, 1, 1)) &\n",
    "                                          (candidate_addresses[\"date_start\"] <= dt.datetime(2025, 1, 1))]"
   ]
  },
  {
   "cell_type": "code",
   "execution_count": 22,
   "id": "6f086494",
   "metadata": {},
   "outputs": [
    {
     "data": {
      "text/plain": [
       "(4148259, 4)"
      ]
     },
     "execution_count": 22,
     "metadata": {},
     "output_type": "execute_result"
    }
   ],
   "source": [
    "candidate_addresses.shape"
   ]
  },
  {
   "cell_type": "code",
   "execution_count": 23,
   "id": "988f2333",
   "metadata": {},
   "outputs": [],
   "source": [
    "# Only store for candidates we will actually be using\n",
    "candidate_addresses = candidate_addresses[candidate_addresses[\"candidate_id\"].isin(\n",
    "    set(candidate_work_experience[\"candidate_id\"].unique()))]"
   ]
  },
  {
   "cell_type": "code",
   "execution_count": 24,
   "id": "1a1538fa",
   "metadata": {},
   "outputs": [
    {
     "data": {
      "text/plain": [
       "(770495, 4)"
      ]
     },
     "execution_count": 24,
     "metadata": {},
     "output_type": "execute_result"
    }
   ],
   "source": [
    "candidate_addresses.shape"
   ]
  },
  {
   "cell_type": "code",
   "execution_count": 25,
   "id": "257b4380",
   "metadata": {},
   "outputs": [
    {
     "name": "stderr",
     "output_type": "stream",
     "text": [
      "100%|██████████| 528183/528183 [02:00<00:00, 4381.98it/s]\n"
     ]
    }
   ],
   "source": [
    "most_recent_address = candidate_addresses.groupby(\"candidate_id\")[\"date_start\"].progress_apply(max)"
   ]
  },
  {
   "cell_type": "code",
   "execution_count": 26,
   "id": "7b190ac5",
   "metadata": {},
   "outputs": [],
   "source": [
    "# TODO: do this in a way that isn't hideous\n",
    "makeshift_index = set((most_recent_address.index.astype(str) + most_recent_address.astype(str)).values)"
   ]
  },
  {
   "cell_type": "code",
   "execution_count": 27,
   "id": "314c4deb",
   "metadata": {},
   "outputs": [],
   "source": [
    "candidate_addresses.loc[:,\"temp\"] = candidate_addresses[\"candidate_id\"].astype(str) + candidate_addresses[\"date_start\"].astype(str)"
   ]
  },
  {
   "cell_type": "code",
   "execution_count": 28,
   "id": "dab7ddf8",
   "metadata": {},
   "outputs": [],
   "source": [
    "candidate_addresses = candidate_addresses[candidate_addresses[\"temp\"].isin(makeshift_index)].drop(\"temp\", axis=1)"
   ]
  },
  {
   "cell_type": "code",
   "execution_count": 29,
   "id": "7df4623c",
   "metadata": {},
   "outputs": [],
   "source": [
    "candidate_addresses[\"from_post_code\"] = candidate_addresses[\"from_post_code\"].str.slice(0, 4)"
   ]
  },
  {
   "cell_type": "code",
   "execution_count": 30,
   "id": "dd6526fc",
   "metadata": {},
   "outputs": [
    {
     "name": "stderr",
     "output_type": "stream",
     "text": [
      "100%|██████████| 528183/528183 [00:13<00:00, 38298.87it/s]\n"
     ]
    }
   ],
   "source": [
    "candidate_final_addresses = candidate_addresses.groupby(\"candidate_id\")[\"from_post_code\"].progress_apply(lambda x: x.values[-1])"
   ]
  },
  {
   "cell_type": "code",
   "execution_count": 31,
   "id": "2ed73c97",
   "metadata": {},
   "outputs": [
    {
     "name": "stderr",
     "output_type": "stream",
     "text": [
      "100%|██████████| 528183/528183 [00:00<00:00, 604613.16it/s]\n"
     ]
    }
   ],
   "source": [
    "zip_to_idx = {v : i for i, v in enumerate(sorted(candidate_final_addresses.unique()))}\n",
    "idx_to_zip = {i : v for i, v in zip_to_idx.items()}\n",
    "candidate_final_addresses = candidate_final_addresses.progress_apply(lambda x: zip_to_idx[x])"
   ]
  },
  {
   "cell_type": "code",
   "execution_count": 35,
   "id": "6946bc22",
   "metadata": {},
   "outputs": [
    {
     "data": {
      "text/html": [
       "<div>\n",
       "<style scoped>\n",
       "    .dataframe tbody tr th:only-of-type {\n",
       "        vertical-align: middle;\n",
       "    }\n",
       "\n",
       "    .dataframe tbody tr th {\n",
       "        vertical-align: top;\n",
       "    }\n",
       "\n",
       "    .dataframe thead th {\n",
       "        text-align: right;\n",
       "    }\n",
       "</style>\n",
       "<table border=\"1\" class=\"dataframe\">\n",
       "  <thead>\n",
       "    <tr style=\"text-align: right;\">\n",
       "      <th></th>\n",
       "      <th>0</th>\n",
       "      <th>1</th>\n",
       "      <th>2</th>\n",
       "      <th>3</th>\n",
       "      <th>4</th>\n",
       "      <th>5</th>\n",
       "      <th>6</th>\n",
       "      <th>7</th>\n",
       "      <th>8</th>\n",
       "      <th>9</th>\n",
       "      <th>...</th>\n",
       "      <th>4747</th>\n",
       "      <th>4748</th>\n",
       "      <th>4749</th>\n",
       "      <th>4750</th>\n",
       "      <th>4751</th>\n",
       "      <th>4752</th>\n",
       "      <th>4753</th>\n",
       "      <th>4754</th>\n",
       "      <th>4755</th>\n",
       "      <th>4756</th>\n",
       "    </tr>\n",
       "    <tr>\n",
       "      <th>candidate_id</th>\n",
       "      <th></th>\n",
       "      <th></th>\n",
       "      <th></th>\n",
       "      <th></th>\n",
       "      <th></th>\n",
       "      <th></th>\n",
       "      <th></th>\n",
       "      <th></th>\n",
       "      <th></th>\n",
       "      <th></th>\n",
       "      <th></th>\n",
       "      <th></th>\n",
       "      <th></th>\n",
       "      <th></th>\n",
       "      <th></th>\n",
       "      <th></th>\n",
       "      <th></th>\n",
       "      <th></th>\n",
       "      <th></th>\n",
       "      <th></th>\n",
       "      <th></th>\n",
       "    </tr>\n",
       "  </thead>\n",
       "  <tbody>\n",
       "    <tr>\n",
       "      <th>84556</th>\n",
       "      <td>0</td>\n",
       "      <td>0</td>\n",
       "      <td>0</td>\n",
       "      <td>0</td>\n",
       "      <td>0</td>\n",
       "      <td>0</td>\n",
       "      <td>0</td>\n",
       "      <td>0</td>\n",
       "      <td>0</td>\n",
       "      <td>0</td>\n",
       "      <td>...</td>\n",
       "      <td>0</td>\n",
       "      <td>0</td>\n",
       "      <td>0</td>\n",
       "      <td>0</td>\n",
       "      <td>0</td>\n",
       "      <td>0</td>\n",
       "      <td>0</td>\n",
       "      <td>0</td>\n",
       "      <td>0</td>\n",
       "      <td>0</td>\n",
       "    </tr>\n",
       "    <tr>\n",
       "      <th>84612</th>\n",
       "      <td>0</td>\n",
       "      <td>0</td>\n",
       "      <td>0</td>\n",
       "      <td>0</td>\n",
       "      <td>0</td>\n",
       "      <td>0</td>\n",
       "      <td>0</td>\n",
       "      <td>0</td>\n",
       "      <td>0</td>\n",
       "      <td>0</td>\n",
       "      <td>...</td>\n",
       "      <td>0</td>\n",
       "      <td>0</td>\n",
       "      <td>0</td>\n",
       "      <td>0</td>\n",
       "      <td>0</td>\n",
       "      <td>0</td>\n",
       "      <td>0</td>\n",
       "      <td>0</td>\n",
       "      <td>0</td>\n",
       "      <td>0</td>\n",
       "    </tr>\n",
       "    <tr>\n",
       "      <th>84731</th>\n",
       "      <td>0</td>\n",
       "      <td>0</td>\n",
       "      <td>0</td>\n",
       "      <td>0</td>\n",
       "      <td>0</td>\n",
       "      <td>0</td>\n",
       "      <td>0</td>\n",
       "      <td>0</td>\n",
       "      <td>0</td>\n",
       "      <td>0</td>\n",
       "      <td>...</td>\n",
       "      <td>0</td>\n",
       "      <td>0</td>\n",
       "      <td>0</td>\n",
       "      <td>0</td>\n",
       "      <td>0</td>\n",
       "      <td>0</td>\n",
       "      <td>0</td>\n",
       "      <td>0</td>\n",
       "      <td>0</td>\n",
       "      <td>0</td>\n",
       "    </tr>\n",
       "    <tr>\n",
       "      <th>85437</th>\n",
       "      <td>0</td>\n",
       "      <td>0</td>\n",
       "      <td>0</td>\n",
       "      <td>0</td>\n",
       "      <td>0</td>\n",
       "      <td>0</td>\n",
       "      <td>0</td>\n",
       "      <td>0</td>\n",
       "      <td>0</td>\n",
       "      <td>0</td>\n",
       "      <td>...</td>\n",
       "      <td>0</td>\n",
       "      <td>0</td>\n",
       "      <td>0</td>\n",
       "      <td>0</td>\n",
       "      <td>0</td>\n",
       "      <td>0</td>\n",
       "      <td>0</td>\n",
       "      <td>0</td>\n",
       "      <td>0</td>\n",
       "      <td>0</td>\n",
       "    </tr>\n",
       "    <tr>\n",
       "      <th>85627</th>\n",
       "      <td>0</td>\n",
       "      <td>0</td>\n",
       "      <td>0</td>\n",
       "      <td>0</td>\n",
       "      <td>0</td>\n",
       "      <td>0</td>\n",
       "      <td>0</td>\n",
       "      <td>0</td>\n",
       "      <td>0</td>\n",
       "      <td>0</td>\n",
       "      <td>...</td>\n",
       "      <td>0</td>\n",
       "      <td>0</td>\n",
       "      <td>0</td>\n",
       "      <td>0</td>\n",
       "      <td>0</td>\n",
       "      <td>0</td>\n",
       "      <td>0</td>\n",
       "      <td>0</td>\n",
       "      <td>0</td>\n",
       "      <td>0</td>\n",
       "    </tr>\n",
       "  </tbody>\n",
       "</table>\n",
       "<p>5 rows × 4757 columns</p>\n",
       "</div>"
      ],
      "text/plain": [
       "              0     1     2     3     4     5     6     7     8     9     ...  \\\n",
       "candidate_id                                                              ...   \n",
       "84556            0     0     0     0     0     0     0     0     0     0  ...   \n",
       "84612            0     0     0     0     0     0     0     0     0     0  ...   \n",
       "84731            0     0     0     0     0     0     0     0     0     0  ...   \n",
       "85437            0     0     0     0     0     0     0     0     0     0  ...   \n",
       "85627            0     0     0     0     0     0     0     0     0     0  ...   \n",
       "\n",
       "              4747  4748  4749  4750  4751  4752  4753  4754  4755  4756  \n",
       "candidate_id                                                              \n",
       "84556            0     0     0     0     0     0     0     0     0     0  \n",
       "84612            0     0     0     0     0     0     0     0     0     0  \n",
       "84731            0     0     0     0     0     0     0     0     0     0  \n",
       "85437            0     0     0     0     0     0     0     0     0     0  \n",
       "85627            0     0     0     0     0     0     0     0     0     0  \n",
       "\n",
       "[5 rows x 4757 columns]"
      ]
     },
     "execution_count": 35,
     "metadata": {},
     "output_type": "execute_result"
    }
   ],
   "source": [
    "addresses_one_hot = pd.get_dummies(candidate_final_addresses)\n",
    "\n",
    "addresses_one_hot.head()"
   ]
  },
  {
   "cell_type": "code",
   "execution_count": 37,
   "id": "9358a159",
   "metadata": {},
   "outputs": [],
   "source": [
    "# DIY Sparse matrix\n",
    "compressed_addresses_one_hot = addresses_one_hot.idxmax(axis=1)"
   ]
  },
  {
   "cell_type": "code",
   "execution_count": 38,
   "id": "96509f37",
   "metadata": {},
   "outputs": [],
   "source": [
    "compressed_addresses_one_hot.to_csv(\"../Data/addresses_one-hot.csv\")"
   ]
  },
  {
   "cell_type": "code",
   "execution_count": 46,
   "id": "fc0f5729",
   "metadata": {},
   "outputs": [
    {
     "name": "stdout",
     "output_type": "stream",
     "text": [
      "84556 90\n",
      "[   0 3174 3173 ... 1587 4756   90]\n"
     ]
    }
   ],
   "source": [
    "for k, v in compressed_addresses_one_hot.items():\n",
    "    print(k, v)\n",
    "    a = np.zeros(4757)\n",
    "    a[v] = 1\n",
    "    break"
   ]
  },
  {
   "cell_type": "code",
   "execution_count": 54,
   "id": "2f0f9a83",
   "metadata": {},
   "outputs": [],
   "source": [
    "emb = nn.Embedding(4757, 10)"
   ]
  },
  {
   "cell_type": "code",
   "execution_count": 60,
   "id": "46554ff3",
   "metadata": {},
   "outputs": [
    {
     "data": {
      "text/plain": [
       "(tensor([[-0.7321,  0.4676,  0.0742, -1.5482,  1.1119, -0.9195, -1.2665, -0.5721,\n",
       "           0.0527,  0.2775]], grad_fn=<EmbeddingBackward>),\n",
       " tensor([[ 0.9187,  0.3937, -0.8414,  0.1928, -0.3927,  0.9119, -0.7422,  0.6156,\n",
       "           0.2376,  1.0105]], grad_fn=<EmbeddingBackward>))"
      ]
     },
     "execution_count": 60,
     "metadata": {},
     "output_type": "execute_result"
    }
   ],
   "source": [
    "emb(torch.LongTensor([90])), emb(torch.LongTensor([50]))"
   ]
  },
  {
   "cell_type": "markdown",
   "id": "88dc4861",
   "metadata": {},
   "source": [
    "### Driving licenses"
   ]
  },
  {
   "cell_type": "code",
   "execution_count": 107,
   "id": "278547ec",
   "metadata": {},
   "outputs": [],
   "source": [
    "sql_path = os.path.join(\"/home/ec2-user/SageMaker/data-science-development/talent_recommender/daily_snapshots\",\n",
    "                        Config.query_candidate_driving_license) "
   ]
  },
  {
   "cell_type": "code",
   "execution_count": 108,
   "id": "dd1cfc08",
   "metadata": {},
   "outputs": [
    {
     "data": {
      "text/html": [
       "<div>\n",
       "<style scoped>\n",
       "    .dataframe tbody tr th:only-of-type {\n",
       "        vertical-align: middle;\n",
       "    }\n",
       "\n",
       "    .dataframe tbody tr th {\n",
       "        vertical-align: top;\n",
       "    }\n",
       "\n",
       "    .dataframe thead th {\n",
       "        text-align: right;\n",
       "    }\n",
       "</style>\n",
       "<table border=\"1\" class=\"dataframe\">\n",
       "  <thead>\n",
       "    <tr style=\"text-align: right;\">\n",
       "      <th></th>\n",
       "      <th>candidate_id</th>\n",
       "      <th>driving_licenses</th>\n",
       "      <th>date_driving_license</th>\n",
       "    </tr>\n",
       "  </thead>\n",
       "  <tbody>\n",
       "    <tr>\n",
       "      <th>0</th>\n",
       "      <td>395381</td>\n",
       "      <td>A</td>\n",
       "      <td>2005-09-02 11:31:09</td>\n",
       "    </tr>\n",
       "    <tr>\n",
       "      <th>1</th>\n",
       "      <td>430828</td>\n",
       "      <td>A</td>\n",
       "      <td>2005-09-06 17:57:28</td>\n",
       "    </tr>\n",
       "    <tr>\n",
       "      <th>2</th>\n",
       "      <td>1074181</td>\n",
       "      <td>A</td>\n",
       "      <td>2013-08-07 10:06:11</td>\n",
       "    </tr>\n",
       "    <tr>\n",
       "      <th>3</th>\n",
       "      <td>1976775</td>\n",
       "      <td>A</td>\n",
       "      <td>2014-11-03 15:29:38</td>\n",
       "    </tr>\n",
       "    <tr>\n",
       "      <th>4</th>\n",
       "      <td>94916</td>\n",
       "      <td>A</td>\n",
       "      <td>2013-11-25 15:09:48</td>\n",
       "    </tr>\n",
       "  </tbody>\n",
       "</table>\n",
       "</div>"
      ],
      "text/plain": [
       "   candidate_id driving_licenses date_driving_license\n",
       "0        395381                A  2005-09-02 11:31:09\n",
       "1        430828                A  2005-09-06 17:57:28\n",
       "2       1074181                A  2013-08-07 10:06:11\n",
       "3       1976775                A  2014-11-03 15:29:38\n",
       "4         94916                A  2013-11-25 15:09:48"
      ]
     },
     "execution_count": 108,
     "metadata": {},
     "output_type": "execute_result"
    }
   ],
   "source": [
    "candidate_driving = get_from_redshift(sql_path, Config.redshift_creds)\n",
    "candidate_driving.head()"
   ]
  },
  {
   "cell_type": "code",
   "execution_count": 113,
   "id": "16b4cb4d",
   "metadata": {},
   "outputs": [],
   "source": [
    "candidate_driving = candidate_driving[candidate_driving[\"candidate_id\"].isin(set(candidate_work_experience[\"candidate_id\"].unique()))]"
   ]
  },
  {
   "cell_type": "code",
   "execution_count": 114,
   "id": "54d4e94a",
   "metadata": {},
   "outputs": [],
   "source": [
    "licenses_one_hot = pd.crosstab(candidate_driving[\"candidate_id\"],\n",
    "                               candidate_driving[\"driving_licenses\"])"
   ]
  },
  {
   "cell_type": "code",
   "execution_count": 115,
   "id": "2929ff96",
   "metadata": {},
   "outputs": [
    {
     "data": {
      "text/plain": [
       "(216926, 8)"
      ]
     },
     "execution_count": 115,
     "metadata": {},
     "output_type": "execute_result"
    }
   ],
   "source": [
    "licenses_one_hot.shape"
   ]
  },
  {
   "cell_type": "code",
   "execution_count": 116,
   "id": "d1a3ece7",
   "metadata": {},
   "outputs": [],
   "source": [
    "licenses_one_hot.to_csv(\"../Data/licenses_one-hot.csv\")"
   ]
  },
  {
   "cell_type": "markdown",
   "id": "2f9db7dd",
   "metadata": {},
   "source": [
    "# Skill reindexing"
   ]
  },
  {
   "cell_type": "code",
   "execution_count": 6,
   "id": "f368061a",
   "metadata": {},
   "outputs": [
    {
     "ename": "NameError",
     "evalue": "name 'candidate_skill' is not defined",
     "output_type": "error",
     "traceback": [
      "\u001b[0;31m---------------------------------------------------------------------------\u001b[0m",
      "\u001b[0;31mNameError\u001b[0m                                 Traceback (most recent call last)",
      "\u001b[0;32m<ipython-input-6-8917031d031f>\u001b[0m in \u001b[0;36m<module>\u001b[0;34m\u001b[0m\n\u001b[0;32m----> 1\u001b[0;31m \u001b[0mskill_to_idx\u001b[0m \u001b[0;34m=\u001b[0m \u001b[0;34m{\u001b[0m\u001b[0mv\u001b[0m \u001b[0;34m:\u001b[0m \u001b[0mi\u001b[0m \u001b[0;32mfor\u001b[0m \u001b[0mi\u001b[0m\u001b[0;34m,\u001b[0m \u001b[0mv\u001b[0m \u001b[0;32min\u001b[0m \u001b[0menumerate\u001b[0m\u001b[0;34m(\u001b[0m\u001b[0msorted\u001b[0m\u001b[0;34m(\u001b[0m\u001b[0mcandidate_skill\u001b[0m\u001b[0;34m[\u001b[0m\u001b[0;34m\"skill_id\"\u001b[0m\u001b[0;34m]\u001b[0m\u001b[0;34m.\u001b[0m\u001b[0mastype\u001b[0m\u001b[0;34m(\u001b[0m\u001b[0mfloat\u001b[0m\u001b[0;34m)\u001b[0m\u001b[0;34m.\u001b[0m\u001b[0munique\u001b[0m\u001b[0;34m(\u001b[0m\u001b[0;34m)\u001b[0m\u001b[0;34m)\u001b[0m\u001b[0;34m)\u001b[0m\u001b[0;34m}\u001b[0m\u001b[0;34m\u001b[0m\u001b[0;34m\u001b[0m\u001b[0m\n\u001b[0m\u001b[1;32m      2\u001b[0m \u001b[0midx_to_skill\u001b[0m \u001b[0;34m=\u001b[0m \u001b[0;34m{\u001b[0m\u001b[0mi\u001b[0m \u001b[0;34m:\u001b[0m \u001b[0mv\u001b[0m \u001b[0;32mfor\u001b[0m \u001b[0mi\u001b[0m\u001b[0;34m,\u001b[0m \u001b[0mv\u001b[0m \u001b[0;32min\u001b[0m \u001b[0mskill_to_idx\u001b[0m\u001b[0;34m.\u001b[0m\u001b[0mitems\u001b[0m\u001b[0;34m(\u001b[0m\u001b[0;34m)\u001b[0m\u001b[0;34m}\u001b[0m\u001b[0;34m\u001b[0m\u001b[0;34m\u001b[0m\u001b[0m\n\u001b[1;32m      3\u001b[0m \u001b[0mcandidate_skill\u001b[0m\u001b[0;34m[\u001b[0m\u001b[0;34m\"skill_id\"\u001b[0m\u001b[0;34m]\u001b[0m \u001b[0;34m=\u001b[0m \u001b[0mcandidate_skill\u001b[0m\u001b[0;34m[\u001b[0m\u001b[0;34m\"skill_id\"\u001b[0m\u001b[0;34m]\u001b[0m\u001b[0;34m.\u001b[0m\u001b[0mprogress_apply\u001b[0m\u001b[0;34m(\u001b[0m\u001b[0;32mlambda\u001b[0m \u001b[0mx\u001b[0m\u001b[0;34m:\u001b[0m \u001b[0mskill_to_idx\u001b[0m\u001b[0;34m[\u001b[0m\u001b[0mx\u001b[0m\u001b[0;34m]\u001b[0m\u001b[0;34m)\u001b[0m\u001b[0;34m\u001b[0m\u001b[0;34m\u001b[0m\u001b[0m\n\u001b[1;32m      4\u001b[0m \u001b[0mskills_dict\u001b[0m \u001b[0;34m=\u001b[0m \u001b[0mcandidate_skill\u001b[0m\u001b[0;34m.\u001b[0m\u001b[0mgroupby\u001b[0m\u001b[0;34m(\u001b[0m\u001b[0;34m\"candidate_id\"\u001b[0m\u001b[0;34m)\u001b[0m\u001b[0;34m[\u001b[0m\u001b[0;34m\"skill_id\"\u001b[0m\u001b[0;34m]\u001b[0m\u001b[0;34m.\u001b[0m\u001b[0mapply\u001b[0m\u001b[0;34m(\u001b[0m\u001b[0mlist\u001b[0m\u001b[0;34m)\u001b[0m\u001b[0;34m.\u001b[0m\u001b[0mto_dict\u001b[0m\u001b[0;34m(\u001b[0m\u001b[0;34m)\u001b[0m\u001b[0;34m\u001b[0m\u001b[0;34m\u001b[0m\u001b[0m\n",
      "\u001b[0;31mNameError\u001b[0m: name 'candidate_skill' is not defined"
     ]
    }
   ],
   "source": [
    "skill_to_idx = {v : i for i, v in enumerate(sorted(candidate_skill[\"skill_id\"].astype(float).unique()))}\n",
    "idx_to_skill = {i : v for i, v in skill_to_idx.items()}\n",
    "candidate_skill[\"skill_id\"] = candidate_skill[\"skill_id\"].progress_apply(lambda x: skill_to_idx[x])\n",
    "skills_dict = candidate_skill.groupby(\"candidate_id\")[\"skill_id\"].apply(list).to_dict()"
   ]
  },
  {
   "cell_type": "code",
   "execution_count": 9,
   "id": "77ea347d",
   "metadata": {},
   "outputs": [],
   "source": [
    "# Convert lists of skills to dataframe of skills per candidate\n",
    "skills_ct = pd.crosstab(candidate_skill[\"candidate_id\"], \n",
    "                        candidate_skill[\"skill_id\"])\n",
    "\n",
    "# # skills = skills_ct.where(skills_ct != 1, skills_ct.columns.to_series(), axis=1)\n",
    "skills_ct.columns = [f\"skill_{i}\" for i in skills_ct.columns]"
   ]
  },
  {
   "cell_type": "code",
   "execution_count": 10,
   "id": "739b9421",
   "metadata": {},
   "outputs": [
    {
     "name": "stdout",
     "output_type": "stream",
     "text": [
      "<class 'pandas.core.frame.DataFrame'>\n",
      "Int64Index: 465522 entries, 84267 to 7980693\n",
      "Columns: 317 entries, skill_0 to skill_316\n",
      "dtypes: int64(317)\n",
      "memory usage: 1.1 GB\n"
     ]
    }
   ],
   "source": [
    "skills_ct.info()"
   ]
  },
  {
   "cell_type": "code",
   "execution_count": 11,
   "id": "a92ac825",
   "metadata": {},
   "outputs": [],
   "source": [
    "# skills_ct.to_csv(\"skills_one-hot.csv\")"
   ]
  },
  {
   "cell_type": "markdown",
   "id": "b24bc0ab",
   "metadata": {},
   "source": [
    "# Merging and formatting"
   ]
  },
  {
   "cell_type": "code",
   "execution_count": 9,
   "id": "352bd745",
   "metadata": {},
   "outputs": [],
   "source": [
    "def clean_df(df, table = \"work_experience\"):\n",
    "    \n",
    "    if table == \"work_experience\":\n",
    "        start, end = \"date_start_job\", \"date_end_job\"\n",
    "    elif table == \"education\":\n",
    "        start, end = \"date_start\", \"date_end\"\n",
    "    else:\n",
    "        return NotImplemented\n",
    "    \n",
    "    # Drop nonsense data\n",
    "    df = df[df[start] >= dt.datetime(1800, 1, 1)]\n",
    "    df = df[df[end] <= dt.datetime(2100, 1, 1)]\n",
    "\n",
    "    # Convert datetime to date\n",
    "    df[start] = pd.to_datetime(df[start]).dt.date\n",
    "    df[end] = pd.to_datetime(df[end]).dt.date\n",
    "    \n",
    "    return df\n",
    "        \n",
    "candidate_work_experience = clean_df(candidate_work_experience)\n",
    "candidate_education = clean_df(candidate_education, table = \"education\")"
   ]
  },
  {
   "cell_type": "code",
   "execution_count": 10,
   "id": "ef562378",
   "metadata": {},
   "outputs": [],
   "source": [
    "candidate_work_experience[\"time_spent\"] = (candidate_work_experience[\"date_end_job\"] - \n",
    "                                           candidate_work_experience[\"date_start_job\"]).dt.days.astype('int16')"
   ]
  },
  {
   "cell_type": "code",
   "execution_count": 11,
   "id": "4e47c623",
   "metadata": {},
   "outputs": [
    {
     "data": {
      "text/html": [
       "<div>\n",
       "<style scoped>\n",
       "    .dataframe tbody tr th:only-of-type {\n",
       "        vertical-align: middle;\n",
       "    }\n",
       "\n",
       "    .dataframe tbody tr th {\n",
       "        vertical-align: top;\n",
       "    }\n",
       "\n",
       "    .dataframe thead th {\n",
       "        text-align: right;\n",
       "    }\n",
       "</style>\n",
       "<table border=\"1\" class=\"dataframe\">\n",
       "  <thead>\n",
       "    <tr style=\"text-align: right;\">\n",
       "      <th></th>\n",
       "      <th>candidate_id</th>\n",
       "      <th>date_start_job</th>\n",
       "      <th>unique_id</th>\n",
       "      <th>date_end_job</th>\n",
       "      <th>function_id</th>\n",
       "      <th>isco_functie_niveau</th>\n",
       "      <th>isco_code4</th>\n",
       "      <th>function_name_self</th>\n",
       "      <th>company_name</th>\n",
       "      <th>source</th>\n",
       "      <th>time_spent</th>\n",
       "      <th>education</th>\n",
       "    </tr>\n",
       "  </thead>\n",
       "  <tbody>\n",
       "    <tr>\n",
       "      <th>0</th>\n",
       "      <td>89030</td>\n",
       "      <td>2005-04-04</td>\n",
       "      <td>187756</td>\n",
       "      <td>2005-04-13</td>\n",
       "      <td>1046.0</td>\n",
       "      <td>2.0</td>\n",
       "      <td>5246.0</td>\n",
       "      <td>None</td>\n",
       "      <td>Compass Group NL/Prénatal</td>\n",
       "      <td>plaatsing</td>\n",
       "      <td>9</td>\n",
       "      <td>3.0</td>\n",
       "    </tr>\n",
       "    <tr>\n",
       "      <th>1</th>\n",
       "      <td>89030</td>\n",
       "      <td>2005-04-08</td>\n",
       "      <td>187818</td>\n",
       "      <td>2005-08-07</td>\n",
       "      <td>1046.0</td>\n",
       "      <td>2.0</td>\n",
       "      <td>5246.0</td>\n",
       "      <td>None</td>\n",
       "      <td>Albron Cat. / 3381 ASM Europe BV</td>\n",
       "      <td>plaatsing</td>\n",
       "      <td>121</td>\n",
       "      <td>3.0</td>\n",
       "    </tr>\n",
       "    <tr>\n",
       "      <th>2</th>\n",
       "      <td>89030</td>\n",
       "      <td>2005-09-12</td>\n",
       "      <td>1290468</td>\n",
       "      <td>2005-11-10</td>\n",
       "      <td>1046.0</td>\n",
       "      <td>2.0</td>\n",
       "      <td>5246.0</td>\n",
       "      <td>None</td>\n",
       "      <td>Albron cat.3695/ Schuitema</td>\n",
       "      <td>plaatsing</td>\n",
       "      <td>59</td>\n",
       "      <td>3.0</td>\n",
       "    </tr>\n",
       "    <tr>\n",
       "      <th>3</th>\n",
       "      <td>89030</td>\n",
       "      <td>2005-09-12</td>\n",
       "      <td>1285504</td>\n",
       "      <td>2005-11-10</td>\n",
       "      <td>1046.0</td>\n",
       "      <td>2.0</td>\n",
       "      <td>5246.0</td>\n",
       "      <td>None</td>\n",
       "      <td>Albron cat.3695/ Schuitema</td>\n",
       "      <td>plaatsing</td>\n",
       "      <td>59</td>\n",
       "      <td>3.0</td>\n",
       "    </tr>\n",
       "    <tr>\n",
       "      <th>4</th>\n",
       "      <td>89030</td>\n",
       "      <td>2005-09-12</td>\n",
       "      <td>1506287</td>\n",
       "      <td>2005-11-10</td>\n",
       "      <td>1046.0</td>\n",
       "      <td>2.0</td>\n",
       "      <td>5246.0</td>\n",
       "      <td>None</td>\n",
       "      <td>Paresto/tripvzoudtland/09008 (9.8)</td>\n",
       "      <td>plaatsing</td>\n",
       "      <td>59</td>\n",
       "      <td>3.0</td>\n",
       "    </tr>\n",
       "  </tbody>\n",
       "</table>\n",
       "</div>"
      ],
      "text/plain": [
       "   candidate_id date_start_job  unique_id date_end_job  function_id  \\\n",
       "0         89030     2005-04-04     187756   2005-04-13       1046.0   \n",
       "1         89030     2005-04-08     187818   2005-08-07       1046.0   \n",
       "2         89030     2005-09-12    1290468   2005-11-10       1046.0   \n",
       "3         89030     2005-09-12    1285504   2005-11-10       1046.0   \n",
       "4         89030     2005-09-12    1506287   2005-11-10       1046.0   \n",
       "\n",
       "   isco_functie_niveau  isco_code4 function_name_self  \\\n",
       "0                  2.0      5246.0               None   \n",
       "1                  2.0      5246.0               None   \n",
       "2                  2.0      5246.0               None   \n",
       "3                  2.0      5246.0               None   \n",
       "4                  2.0      5246.0               None   \n",
       "\n",
       "                         company_name     source  time_spent  education  \n",
       "0           Compass Group NL/Prénatal  plaatsing           9        3.0  \n",
       "1    Albron Cat. / 3381 ASM Europe BV  plaatsing         121        3.0  \n",
       "2          Albron cat.3695/ Schuitema  plaatsing          59        3.0  \n",
       "3          Albron cat.3695/ Schuitema  plaatsing          59        3.0  \n",
       "4  Paresto/tripvzoudtland/09008 (9.8)  plaatsing          59        3.0  "
      ]
     },
     "execution_count": 11,
     "metadata": {},
     "output_type": "execute_result"
    }
   ],
   "source": [
    "def find_educations(df_work, df_education):\n",
    "\n",
    "    # Merge career data with education levels\n",
    "    career_education = pd.merge(df_work, \n",
    "                                df_education, \n",
    "                                on = \"candidate_id\", \n",
    "                                how = \"left\")[[\"candidate_id\",\n",
    "                                               \"date_start_job\",\n",
    "                                               \"date_end_job\",\n",
    "                                               \"time_spent\",\n",
    "                                               \"education_level\",\n",
    "                                               \"date_start\",\n",
    "                                               \"date_end\",\n",
    "                                               \"passed\"]]\n",
    "    \n",
    "    # Filter out education that were not passed (yet) at the time of starting a job\n",
    "    passed = career_education[(career_education[\"date_start_job\"] >= career_education[\"date_end\"]) & \n",
    "                              (career_education[\"passed\"] == 1)]\n",
    "    \n",
    "    # Only store the highest education level reached at the start of each job\n",
    "    education_through_time = passed.groupby([\"candidate_id\", \"date_start_job\"])[\"education_level\"].max()\n",
    "    \n",
    "    df_work.set_index([\"candidate_id\", \"date_start_job\"], inplace=True)\n",
    "\n",
    "    # Store education data in candidate_work_experience\n",
    "    df_work[\"education\"] = education_through_time\n",
    "\n",
    "    # np.nan education = no education\n",
    "    df_work[\"education\"].fillna(0, inplace=True)\n",
    "\n",
    "    # Reset index for further data augmentation\n",
    "    df_work.reset_index(inplace=True)\n",
    "        \n",
    "    return df_work\n",
    "\n",
    "candidate_work_experience = find_educations(candidate_work_experience, candidate_education)\n",
    "\n",
    "candidate_work_experience.head()"
   ]
  },
  {
   "cell_type": "code",
   "execution_count": 12,
   "id": "76101f06",
   "metadata": {},
   "outputs": [],
   "source": [
    "# Add skills\n",
    "# candidate_work_experience = pd.merge(candidate_work_experience, \n",
    "#                                      skills_ct, \n",
    "#                                      left_on=\"candidate_id\", \n",
    "#                                      right_index=True, \n",
    "#                                      how=\"left\")"
   ]
  },
  {
   "cell_type": "markdown",
   "id": "79216b2e",
   "metadata": {},
   "source": [
    "# Filtering and reindexing"
   ]
  },
  {
   "cell_type": "code",
   "execution_count": 13,
   "id": "85ee166f",
   "metadata": {},
   "outputs": [],
   "source": [
    "more_than_5 = candidate_work_experience[\"isco_code4\"].value_counts()\n",
    "more_than_5 = set(more_than_5[more_than_5 > 5].index)\n",
    "candidate_work_experience = candidate_work_experience[candidate_work_experience[\"isco_code4\"].isin(more_than_5)]"
   ]
  },
  {
   "cell_type": "code",
   "execution_count": 14,
   "id": "5b48cc7d",
   "metadata": {},
   "outputs": [],
   "source": [
    "id_to_idx = {v : i for i, v in enumerate(sorted(candidate_work_experience[\"function_id\"].astype(float).unique()))}\n",
    "idx_to_id = {i : v for i, v in id_to_idx.items()}\n",
    "\n",
    "code_to_idx = {v : i for i, v in enumerate(sorted(candidate_work_experience[\"isco_code4\"].astype(float).unique()))}\n",
    "idx_to_code = {i : v for i, v in code_to_idx.items()}"
   ]
  },
  {
   "cell_type": "code",
   "execution_count": 15,
   "id": "31d28a11",
   "metadata": {},
   "outputs": [],
   "source": [
    "candidate_work_experience[\"function_id\"] = candidate_work_experience[\"function_id\"].apply(lambda x: id_to_idx.get(x))\n",
    "candidate_work_experience[\"isco_code4\"] = candidate_work_experience[\"isco_code4\"].apply(lambda x: code_to_idx[x])"
   ]
  },
  {
   "cell_type": "code",
   "execution_count": 16,
   "id": "586df7fb",
   "metadata": {},
   "outputs": [
    {
     "data": {
      "text/plain": [
       "(1666369, 12)"
      ]
     },
     "execution_count": 16,
     "metadata": {},
     "output_type": "execute_result"
    }
   ],
   "source": [
    "candidate_work_experience.shape"
   ]
  },
  {
   "cell_type": "markdown",
   "id": "dae7834b",
   "metadata": {},
   "source": [
    "# Add CV embeddings"
   ]
  },
  {
   "cell_type": "code",
   "execution_count": 17,
   "id": "1a3a9d14",
   "metadata": {},
   "outputs": [],
   "source": [
    "embedding_pd = pd.read_parquet(\"s3://s3-nl-prd-semrb-emr/embeddings/doc_embeddings/word2vec/word2vec_doc_embedding.parquet\")\n",
    "embedding_pd['cv_id'] = embedding_pd['cv_id'].astype('int')\n",
    "embedding_pd.rename(columns={\"doc_embedding\": \"tensor\"}, inplace=True)"
   ]
  },
  {
   "cell_type": "code",
   "execution_count": 18,
   "id": "e702a0cf",
   "metadata": {},
   "outputs": [],
   "source": [
    "sql_path = os.path.join(\"/home/ec2-user/SageMaker/data-science-development/talent_recommender/daily_snapshots\",\n",
    "                        Config.query_candidate_cvs) \n",
    "\n",
    "candidate_cvs = get_from_redshift(sql_path, Config.redshift_creds)"
   ]
  },
  {
   "cell_type": "code",
   "execution_count": 19,
   "id": "4ce04752",
   "metadata": {},
   "outputs": [
    {
     "name": "stderr",
     "output_type": "stream",
     "text": [
      "/home/ec2-user/anaconda3/envs/pytorch_p36/lib/python3.6/site-packages/ipykernel/__main__.py:14: SettingWithCopyWarning: \n",
      "A value is trying to be set on a copy of a slice from a DataFrame.\n",
      "Try using .loc[row_indexer,col_indexer] = value instead\n",
      "\n",
      "See the caveats in the documentation: https://pandas.pydata.org/pandas-docs/stable/user_guide/indexing.html#returning-a-view-versus-a-copy\n"
     ]
    }
   ],
   "source": [
    "def find_embeddings(embedding_pd, candidate_cvs):\n",
    "    embedding_pd = embedding_pd.set_index(\"cv_id\")\n",
    "    \n",
    "    candidate_cvs = candidate_cvs[[\"cv_id\", \"candidate_id\", \"date_start\"]]\n",
    "\n",
    "    embedding_per_candidate = pd.merge(embedding_pd, \n",
    "                                       candidate_cvs, \n",
    "                                       left_index=True, \n",
    "                                       right_on=\"cv_id\")[[\"candidate_id\", \"embedding\", \"date_start\"]]\n",
    "    \n",
    "    matches = (set(embedding_per_candidate[\"candidate_id\"]) & set(candidate_work_experience[\"candidate_id\"]))\n",
    "    \n",
    "    matched_cvs = embedding_per_candidate[embedding_per_candidate[\"candidate_id\"].isin(matches)]\n",
    "    matched_cvs[\"date_start\"] = matched_cvs[\"date_start\"].dt.date\n",
    "    \n",
    "    last_cv_per_day = matched_cvs.groupby([\"candidate_id\", \"date_start\"])[\"embedding\"].apply(lambda x: list(x)[-1])\n",
    "    \n",
    "    cv_embeddings = last_cv_per_day.reset_index()\n",
    "    \n",
    "    return cv_embeddings\n",
    "\n",
    "cv_embeddings = find_embeddings(embedding_pd, candidate_cvs)"
   ]
  },
  {
   "cell_type": "code",
   "execution_count": 20,
   "id": "e1460e3d",
   "metadata": {},
   "outputs": [
    {
     "data": {
      "text/html": [
       "<div>\n",
       "<style scoped>\n",
       "    .dataframe tbody tr th:only-of-type {\n",
       "        vertical-align: middle;\n",
       "    }\n",
       "\n",
       "    .dataframe tbody tr th {\n",
       "        vertical-align: top;\n",
       "    }\n",
       "\n",
       "    .dataframe thead th {\n",
       "        text-align: right;\n",
       "    }\n",
       "</style>\n",
       "<table border=\"1\" class=\"dataframe\">\n",
       "  <thead>\n",
       "    <tr style=\"text-align: right;\">\n",
       "      <th></th>\n",
       "      <th>candidate_id</th>\n",
       "      <th>date_start</th>\n",
       "      <th>embedding</th>\n",
       "    </tr>\n",
       "  </thead>\n",
       "  <tbody>\n",
       "    <tr>\n",
       "      <th>0</th>\n",
       "      <td>84556.0</td>\n",
       "      <td>2020-07-02</td>\n",
       "      <td>[0.07265971601009369, -0.8582056760787964, -0....</td>\n",
       "    </tr>\n",
       "    <tr>\n",
       "      <th>1</th>\n",
       "      <td>84612.0</td>\n",
       "      <td>2020-05-30</td>\n",
       "      <td>[0.3474675714969635, -1.0429900884628296, -0.3...</td>\n",
       "    </tr>\n",
       "    <tr>\n",
       "      <th>2</th>\n",
       "      <td>84612.0</td>\n",
       "      <td>2020-06-03</td>\n",
       "      <td>[0.34068500995635986, -1.0179638862609863, -0....</td>\n",
       "    </tr>\n",
       "    <tr>\n",
       "      <th>3</th>\n",
       "      <td>84731.0</td>\n",
       "      <td>2020-06-03</td>\n",
       "      <td>[0.12455234676599503, -0.1725415289402008, -0....</td>\n",
       "    </tr>\n",
       "    <tr>\n",
       "      <th>4</th>\n",
       "      <td>85437.0</td>\n",
       "      <td>2020-06-06</td>\n",
       "      <td>[0.2048000991344452, -0.49068811535835266, -0....</td>\n",
       "    </tr>\n",
       "  </tbody>\n",
       "</table>\n",
       "</div>"
      ],
      "text/plain": [
       "   candidate_id date_start                                          embedding\n",
       "0       84556.0 2020-07-02  [0.07265971601009369, -0.8582056760787964, -0....\n",
       "1       84612.0 2020-05-30  [0.3474675714969635, -1.0429900884628296, -0.3...\n",
       "2       84612.0 2020-06-03  [0.34068500995635986, -1.0179638862609863, -0....\n",
       "3       84731.0 2020-06-03  [0.12455234676599503, -0.1725415289402008, -0....\n",
       "4       85437.0 2020-06-06  [0.2048000991344452, -0.49068811535835266, -0...."
      ]
     },
     "execution_count": 20,
     "metadata": {},
     "output_type": "execute_result"
    }
   ],
   "source": [
    "cv_embeddings.head()"
   ]
  },
  {
   "cell_type": "code",
   "execution_count": 21,
   "id": "60bb7452",
   "metadata": {},
   "outputs": [],
   "source": [
    "def add_embeddings(candidate_work_experience, cv_embeddings):\n",
    "    \n",
    "    # Add CVs to candidates (includes duplicates)\n",
    "    full_merge = pd.merge(candidate_work_experience,\n",
    "                          cv_embeddings,\n",
    "                          left_on=\"candidate_id\",\n",
    "                          right_on=\"candidate_id\",\n",
    "                          how=\"left\")\n",
    "    \n",
    "    # display(full_merge)\n",
    "    \n",
    "    # Find the maximum date of uploaded cvs per job (i.e. most recent CV during each job)\n",
    "    most_recent_cvs = full_merge[(full_merge[\"date_start_job\"]\n",
    "                                  >= full_merge[\"date_start\"])].groupby(\n",
    "        \"unique_id\")[\"date_start\"].idxmax()   \n",
    "    \n",
    "    # Some candidates only added CVs after their last job started, so account for that too\n",
    "    late_cvs = full_merge[(full_merge[\"date_start_job\"] <= \n",
    "                           full_merge[\"date_start\"])].groupby(\"unique_id\")[\"date_start\"].idxmax()\n",
    "    \n",
    "    # Filter out everything we already found earlier\n",
    "    late_cvs = late_cvs[set(late_cvs.index) - set(most_recent_cvs.index)]\n",
    "    \n",
    "    # Now we have all the CVs in one place\n",
    "    cv_idxs = pd.concat([most_recent_cvs, late_cvs])\n",
    "    \n",
    "    # Combine the two frames to include candidates without any CVs\n",
    "    combined = pd.concat([full_merge[full_merge[\"embedding\"].isna()], \n",
    "                          full_merge.loc[cv_idxs.values]])\n",
    "    \n",
    "    return combined\n",
    "\n",
    "candidate_work_experience = add_embeddings(candidate_work_experience, cv_embeddings)"
   ]
  },
  {
   "cell_type": "code",
   "execution_count": 22,
   "id": "117fbbd1",
   "metadata": {},
   "outputs": [],
   "source": [
    "# candidate_work_experience[\"embedding\"] = candidate_work_experience[\"embedding\"].apply(lambda x: x if x is not np.nan\n",
    "#                                                                                                   else [0] * 300)"
   ]
  },
  {
   "cell_type": "code",
   "execution_count": 23,
   "id": "dd5c4493",
   "metadata": {},
   "outputs": [],
   "source": [
    "candidate_work_experience = candidate_work_experience.reset_index().drop(\"index\", axis=1)"
   ]
  },
  {
   "cell_type": "code",
   "execution_count": 24,
   "id": "bf52a471",
   "metadata": {},
   "outputs": [],
   "source": [
    "# embedding_lists = candidate_work_experience[\"embedding\"].to_list()\n",
    "# embeddings = pd.DataFrame(embedding_lists)"
   ]
  },
  {
   "cell_type": "code",
   "execution_count": 25,
   "id": "da2491e4",
   "metadata": {},
   "outputs": [],
   "source": [
    "# embeddings.columns = [f\"embedding_{i}\" for i in range(len(embeddings.columns))]"
   ]
  },
  {
   "cell_type": "code",
   "execution_count": 26,
   "id": "6a17d06d",
   "metadata": {},
   "outputs": [],
   "source": [
    "# candidate_work_experience = pd.concat([candidate_work_experience, embeddings], axis=1)"
   ]
  },
  {
   "cell_type": "markdown",
   "id": "b3b50d88",
   "metadata": {},
   "source": [
    "# Ordering & Time"
   ]
  },
  {
   "cell_type": "code",
   "execution_count": 27,
   "id": "faa2c799",
   "metadata": {},
   "outputs": [],
   "source": [
    "def add_order(df):\n",
    "    \n",
    "    # Count the number of jobs each candidate has ahd\n",
    "    job_counts = df.groupby(\"candidate_id\").size()  \n",
    "    \n",
    "    # Sort by candidate_id, date_start_job\n",
    "    sorted_df = df.sort_values(by = ['candidate_id', \"date_start_job\"])\n",
    "    \n",
    "    # Reset index\n",
    "    sorted_df.reset_index(inplace=True, drop=True)\n",
    "    \n",
    "    # Create a list of lists containing the order of each candidates jobs (which came first, second, third, etc.)\n",
    "    order = [np.arange(count) for count in job_counts.values]\n",
    "    \n",
    "    # Flatten list\n",
    "    order = [item for sublist in order for item in sublist]\n",
    "    \n",
    "    # Add order to df\n",
    "    sorted_df[\"job_order\"] = order\n",
    "    \n",
    "    # Set a candidate_id, job_order as the index\n",
    "    return sorted_df.set_index([\"candidate_id\", \n",
    "                                \"job_order\"])\n",
    "\n",
    "df = add_order(candidate_work_experience)"
   ]
  },
  {
   "cell_type": "code",
   "execution_count": 29,
   "id": "8215bd30",
   "metadata": {},
   "outputs": [
    {
     "data": {
      "text/html": [
       "<div>\n",
       "<style scoped>\n",
       "    .dataframe tbody tr th:only-of-type {\n",
       "        vertical-align: middle;\n",
       "    }\n",
       "\n",
       "    .dataframe tbody tr th {\n",
       "        vertical-align: top;\n",
       "    }\n",
       "\n",
       "    .dataframe thead th {\n",
       "        text-align: right;\n",
       "    }\n",
       "</style>\n",
       "<table border=\"1\" class=\"dataframe\">\n",
       "  <thead>\n",
       "    <tr style=\"text-align: right;\">\n",
       "      <th></th>\n",
       "      <th></th>\n",
       "      <th>date_start_job</th>\n",
       "      <th>date_end_job</th>\n",
       "      <th>time_spent</th>\n",
       "      <th>isco_code4</th>\n",
       "      <th>function_id</th>\n",
       "      <th>isco_functie_niveau</th>\n",
       "      <th>company_name</th>\n",
       "      <th>source</th>\n",
       "      <th>education</th>\n",
       "      <th>embedding</th>\n",
       "    </tr>\n",
       "    <tr>\n",
       "      <th>candidate_id</th>\n",
       "      <th>job_order</th>\n",
       "      <th></th>\n",
       "      <th></th>\n",
       "      <th></th>\n",
       "      <th></th>\n",
       "      <th></th>\n",
       "      <th></th>\n",
       "      <th></th>\n",
       "      <th></th>\n",
       "      <th></th>\n",
       "      <th></th>\n",
       "    </tr>\n",
       "  </thead>\n",
       "  <tbody>\n",
       "    <tr>\n",
       "      <th rowspan=\"10\" valign=\"top\">84556</th>\n",
       "      <th>0</th>\n",
       "      <td>2000-08-01</td>\n",
       "      <td>2001-01-04</td>\n",
       "      <td>156</td>\n",
       "      <td>208</td>\n",
       "      <td>936</td>\n",
       "      <td>2.0</td>\n",
       "      <td>(oud 3146Amsterdam RAI Catering Services</td>\n",
       "      <td>plaatsing</td>\n",
       "      <td>0.0</td>\n",
       "      <td>[0.07265971601009369, -0.8582056760787964, -0....</td>\n",
       "    </tr>\n",
       "    <tr>\n",
       "      <th>1</th>\n",
       "      <td>2000-09-07</td>\n",
       "      <td>2001-01-01</td>\n",
       "      <td>116</td>\n",
       "      <td>348</td>\n",
       "      <td>809</td>\n",
       "      <td>1.0</td>\n",
       "      <td>(oud 3146Amsterdam RAI Catering Services</td>\n",
       "      <td>plaatsing</td>\n",
       "      <td>0.0</td>\n",
       "      <td>[0.07265971601009369, -0.8582056760787964, -0....</td>\n",
       "    </tr>\n",
       "    <tr>\n",
       "      <th>2</th>\n",
       "      <td>2000-09-30</td>\n",
       "      <td>2001-07-02</td>\n",
       "      <td>275</td>\n",
       "      <td>208</td>\n",
       "      <td>936</td>\n",
       "      <td>2.0</td>\n",
       "      <td>AMSTERDAM RAI CATERING SERVICES B.V.</td>\n",
       "      <td>plaatsing</td>\n",
       "      <td>0.0</td>\n",
       "      <td>[0.07265971601009369, -0.8582056760787964, -0....</td>\n",
       "    </tr>\n",
       "    <tr>\n",
       "      <th>3</th>\n",
       "      <td>2000-10-23</td>\n",
       "      <td>2000-10-27</td>\n",
       "      <td>4</td>\n",
       "      <td>344</td>\n",
       "      <td>1519</td>\n",
       "      <td>1.0</td>\n",
       "      <td>Formido Bouwmarkt</td>\n",
       "      <td>plaatsing</td>\n",
       "      <td>0.0</td>\n",
       "      <td>[0.07265971601009369, -0.8582056760787964, -0....</td>\n",
       "    </tr>\n",
       "    <tr>\n",
       "      <th>4</th>\n",
       "      <td>2003-12-22</td>\n",
       "      <td>2004-01-02</td>\n",
       "      <td>11</td>\n",
       "      <td>344</td>\n",
       "      <td>1519</td>\n",
       "      <td>1.0</td>\n",
       "      <td>Yakult Nederland B.V.</td>\n",
       "      <td>plaatsing</td>\n",
       "      <td>0.0</td>\n",
       "      <td>[0.07265971601009369, -0.8582056760787964, -0....</td>\n",
       "    </tr>\n",
       "    <tr>\n",
       "      <th>5</th>\n",
       "      <td>2004-07-12</td>\n",
       "      <td>2004-07-13</td>\n",
       "      <td>1</td>\n",
       "      <td>344</td>\n",
       "      <td>1519</td>\n",
       "      <td>1.0</td>\n",
       "      <td>Yakult Nederland B.V.</td>\n",
       "      <td>plaatsing</td>\n",
       "      <td>0.0</td>\n",
       "      <td>[0.07265971601009369, -0.8582056760787964, -0....</td>\n",
       "    </tr>\n",
       "    <tr>\n",
       "      <th>6</th>\n",
       "      <td>2005-04-11</td>\n",
       "      <td>2005-07-01</td>\n",
       "      <td>81</td>\n",
       "      <td>344</td>\n",
       "      <td>1519</td>\n",
       "      <td>1.0</td>\n",
       "      <td>Intersnack Nederland B.V.</td>\n",
       "      <td>plaatsing</td>\n",
       "      <td>0.0</td>\n",
       "      <td>[0.07265971601009369, -0.8582056760787964, -0....</td>\n",
       "    </tr>\n",
       "    <tr>\n",
       "      <th>7</th>\n",
       "      <td>2005-05-25</td>\n",
       "      <td>2005-06-01</td>\n",
       "      <td>7</td>\n",
       "      <td>344</td>\n",
       "      <td>1519</td>\n",
       "      <td>1.0</td>\n",
       "      <td>TTG Garantiegevallen BU 1</td>\n",
       "      <td>plaatsing</td>\n",
       "      <td>0.0</td>\n",
       "      <td>[0.07265971601009369, -0.8582056760787964, -0....</td>\n",
       "    </tr>\n",
       "    <tr>\n",
       "      <th>8</th>\n",
       "      <td>2005-07-27</td>\n",
       "      <td>2005-08-26</td>\n",
       "      <td>30</td>\n",
       "      <td>344</td>\n",
       "      <td>1519</td>\n",
       "      <td>1.0</td>\n",
       "      <td>Coback B.V.</td>\n",
       "      <td>plaatsing</td>\n",
       "      <td>0.0</td>\n",
       "      <td>[0.07265971601009369, -0.8582056760787964, -0....</td>\n",
       "    </tr>\n",
       "    <tr>\n",
       "      <th>9</th>\n",
       "      <td>2006-03-16</td>\n",
       "      <td>2006-05-15</td>\n",
       "      <td>60</td>\n",
       "      <td>345</td>\n",
       "      <td>893</td>\n",
       "      <td>1.0</td>\n",
       "      <td>Tempo-Team inzake Opleidingen AH</td>\n",
       "      <td>plaatsing</td>\n",
       "      <td>0.0</td>\n",
       "      <td>[0.07265971601009369, -0.8582056760787964, -0....</td>\n",
       "    </tr>\n",
       "  </tbody>\n",
       "</table>\n",
       "</div>"
      ],
      "text/plain": [
       "                       date_start_job date_end_job  time_spent  isco_code4  \\\n",
       "candidate_id job_order                                                       \n",
       "84556        0             2000-08-01   2001-01-04         156         208   \n",
       "             1             2000-09-07   2001-01-01         116         348   \n",
       "             2             2000-09-30   2001-07-02         275         208   \n",
       "             3             2000-10-23   2000-10-27           4         344   \n",
       "             4             2003-12-22   2004-01-02          11         344   \n",
       "             5             2004-07-12   2004-07-13           1         344   \n",
       "             6             2005-04-11   2005-07-01          81         344   \n",
       "             7             2005-05-25   2005-06-01           7         344   \n",
       "             8             2005-07-27   2005-08-26          30         344   \n",
       "             9             2006-03-16   2006-05-15          60         345   \n",
       "\n",
       "                        function_id  isco_functie_niveau  \\\n",
       "candidate_id job_order                                     \n",
       "84556        0                  936                  2.0   \n",
       "             1                  809                  1.0   \n",
       "             2                  936                  2.0   \n",
       "             3                 1519                  1.0   \n",
       "             4                 1519                  1.0   \n",
       "             5                 1519                  1.0   \n",
       "             6                 1519                  1.0   \n",
       "             7                 1519                  1.0   \n",
       "             8                 1519                  1.0   \n",
       "             9                  893                  1.0   \n",
       "\n",
       "                                                    company_name     source  \\\n",
       "candidate_id job_order                                                        \n",
       "84556        0          (oud 3146Amsterdam RAI Catering Services  plaatsing   \n",
       "             1          (oud 3146Amsterdam RAI Catering Services  plaatsing   \n",
       "             2              AMSTERDAM RAI CATERING SERVICES B.V.  plaatsing   \n",
       "             3                                 Formido Bouwmarkt  plaatsing   \n",
       "             4                             Yakult Nederland B.V.  plaatsing   \n",
       "             5                             Yakult Nederland B.V.  plaatsing   \n",
       "             6                         Intersnack Nederland B.V.  plaatsing   \n",
       "             7                         TTG Garantiegevallen BU 1  plaatsing   \n",
       "             8                                       Coback B.V.  plaatsing   \n",
       "             9                  Tempo-Team inzake Opleidingen AH  plaatsing   \n",
       "\n",
       "                        education  \\\n",
       "candidate_id job_order              \n",
       "84556        0                0.0   \n",
       "             1                0.0   \n",
       "             2                0.0   \n",
       "             3                0.0   \n",
       "             4                0.0   \n",
       "             5                0.0   \n",
       "             6                0.0   \n",
       "             7                0.0   \n",
       "             8                0.0   \n",
       "             9                0.0   \n",
       "\n",
       "                                                                embedding  \n",
       "candidate_id job_order                                                     \n",
       "84556        0          [0.07265971601009369, -0.8582056760787964, -0....  \n",
       "             1          [0.07265971601009369, -0.8582056760787964, -0....  \n",
       "             2          [0.07265971601009369, -0.8582056760787964, -0....  \n",
       "             3          [0.07265971601009369, -0.8582056760787964, -0....  \n",
       "             4          [0.07265971601009369, -0.8582056760787964, -0....  \n",
       "             5          [0.07265971601009369, -0.8582056760787964, -0....  \n",
       "             6          [0.07265971601009369, -0.8582056760787964, -0....  \n",
       "             7          [0.07265971601009369, -0.8582056760787964, -0....  \n",
       "             8          [0.07265971601009369, -0.8582056760787964, -0....  \n",
       "             9          [0.07265971601009369, -0.8582056760787964, -0....  "
      ]
     },
     "execution_count": 29,
     "metadata": {},
     "output_type": "execute_result"
    }
   ],
   "source": [
    "df = df[[\"date_start_job\", \"date_end_job\", \"time_spent\", \"isco_code4\", \"function_id\",\n",
    "         \"isco_functie_niveau\", \"company_name\", \"source\", \"education\", \"embedding\"]]\n",
    "\n",
    "df.head(10)"
   ]
  },
  {
   "cell_type": "code",
   "execution_count": 30,
   "id": "64d4135c",
   "metadata": {},
   "outputs": [
    {
     "name": "stderr",
     "output_type": "stream",
     "text": [
      "100%|██████████| 1665709/1665709 [22:29<00:00, 1234.18it/s]\n"
     ]
    }
   ],
   "source": [
    "def change_steps(df):\n",
    "    \"\"\"Groups users' careers by same job types. I.e., if someone didn't\n",
    "       change the type of job they had, but just the company, it will be\n",
    "       grouped into one time step.\"\"\"\n",
    "    \n",
    "    new_values = defaultdict(list)\n",
    "    \n",
    "    total_time_spent = 0\n",
    "    education = 0\n",
    "    date_end_job = dt.date(1970, 1, 1)\n",
    "    \n",
    "    for i in tqdm(range(len(df))):\n",
    "        if i < len(df) - 1:\n",
    "            current = df.iloc[i]\n",
    "            next_ = df.iloc[i + 1]\n",
    "            # Group all consecutive time steps with the same job \n",
    "            if (current.name[0] != next_.name[0]) or (current[\"isco_code4\"] != next_[\"isco_code4\"]):\n",
    "                # Add values of last correct row\n",
    "                total_time_spent += current[\"time_spent\"]\n",
    "                if current[\"education\"] > education:\n",
    "                    education = current[\"education\"]\n",
    "\n",
    "                if current[\"date_end_job\"] > date_end_job:\n",
    "                    date_end_job = current[\"date_end_job\"]\n",
    "\n",
    "                # Store results\n",
    "                new_values[\"candidate_id\"].append(current.name[0])\n",
    "                new_values[\"date_start_job\"].append(current[\"date_start_job\"])\n",
    "                new_values[\"date_end_job\"].append(date_end_job)\n",
    "                new_values[\"time_spent\"].append(total_time_spent)\n",
    "                new_values[\"isco_code4\"].append(current[\"isco_code4\"])\n",
    "                new_values[\"function_id\"].append(current[\"function_id\"])\n",
    "                new_values[\"isco_functie_niveau\"].append(current[\"isco_functie_niveau\"])\n",
    "                new_values[\"education\"].append(education)\n",
    "                new_values[\"embedding\"].append(current[\"embedding\"])\n",
    "\n",
    "                # Reset values\n",
    "                total_time_spent = 0\n",
    "                education = 0\n",
    "                date_end_job = dt.date(1970, 1, 1)           \n",
    "            else:\n",
    "                total_time_spent += current[\"time_spent\"]\n",
    "                if current[\"education\"] > education:\n",
    "                    education = current[\"education\"]\n",
    "\n",
    "                if current[\"date_end_job\"] > date_end_job:\n",
    "                    date_end_job = current[\"date_end_job\"]\n",
    "\n",
    "    return pd.DataFrame(new_values)\n",
    "\n",
    "df = change_steps(df)"
   ]
  },
  {
   "cell_type": "code",
   "execution_count": 34,
   "id": "4ef8f6c3",
   "metadata": {},
   "outputs": [
    {
     "data": {
      "text/html": [
       "<div>\n",
       "<style scoped>\n",
       "    .dataframe tbody tr th:only-of-type {\n",
       "        vertical-align: middle;\n",
       "    }\n",
       "\n",
       "    .dataframe tbody tr th {\n",
       "        vertical-align: top;\n",
       "    }\n",
       "\n",
       "    .dataframe thead th {\n",
       "        text-align: right;\n",
       "    }\n",
       "</style>\n",
       "<table border=\"1\" class=\"dataframe\">\n",
       "  <thead>\n",
       "    <tr style=\"text-align: right;\">\n",
       "      <th></th>\n",
       "      <th>candidate_id</th>\n",
       "      <th>date_start_job</th>\n",
       "      <th>date_end_job</th>\n",
       "      <th>time_spent</th>\n",
       "      <th>isco_code4</th>\n",
       "      <th>function_id</th>\n",
       "      <th>isco_functie_niveau</th>\n",
       "      <th>education</th>\n",
       "      <th>embedding</th>\n",
       "    </tr>\n",
       "  </thead>\n",
       "  <tbody>\n",
       "    <tr>\n",
       "      <th>0</th>\n",
       "      <td>84556</td>\n",
       "      <td>2000-08-01</td>\n",
       "      <td>2001-01-04</td>\n",
       "      <td>156</td>\n",
       "      <td>208</td>\n",
       "      <td>936</td>\n",
       "      <td>2.0</td>\n",
       "      <td>0.0</td>\n",
       "      <td>[0.07265971601009369, -0.8582056760787964, -0....</td>\n",
       "    </tr>\n",
       "    <tr>\n",
       "      <th>1</th>\n",
       "      <td>84556</td>\n",
       "      <td>2000-09-07</td>\n",
       "      <td>2001-01-01</td>\n",
       "      <td>116</td>\n",
       "      <td>348</td>\n",
       "      <td>809</td>\n",
       "      <td>1.0</td>\n",
       "      <td>0.0</td>\n",
       "      <td>[0.07265971601009369, -0.8582056760787964, -0....</td>\n",
       "    </tr>\n",
       "    <tr>\n",
       "      <th>2</th>\n",
       "      <td>84556</td>\n",
       "      <td>2000-09-30</td>\n",
       "      <td>2001-07-02</td>\n",
       "      <td>275</td>\n",
       "      <td>208</td>\n",
       "      <td>936</td>\n",
       "      <td>2.0</td>\n",
       "      <td>0.0</td>\n",
       "      <td>[0.07265971601009369, -0.8582056760787964, -0....</td>\n",
       "    </tr>\n",
       "    <tr>\n",
       "      <th>3</th>\n",
       "      <td>84556</td>\n",
       "      <td>2005-07-27</td>\n",
       "      <td>2005-08-26</td>\n",
       "      <td>134</td>\n",
       "      <td>344</td>\n",
       "      <td>1519</td>\n",
       "      <td>1.0</td>\n",
       "      <td>0.0</td>\n",
       "      <td>[0.07265971601009369, -0.8582056760787964, -0....</td>\n",
       "    </tr>\n",
       "    <tr>\n",
       "      <th>4</th>\n",
       "      <td>84556</td>\n",
       "      <td>2006-05-17</td>\n",
       "      <td>2006-07-10</td>\n",
       "      <td>174</td>\n",
       "      <td>345</td>\n",
       "      <td>893</td>\n",
       "      <td>1.0</td>\n",
       "      <td>0.0</td>\n",
       "      <td>[0.07265971601009369, -0.8582056760787964, -0....</td>\n",
       "    </tr>\n",
       "  </tbody>\n",
       "</table>\n",
       "</div>"
      ],
      "text/plain": [
       "   candidate_id date_start_job date_end_job  time_spent  isco_code4  \\\n",
       "0         84556     2000-08-01   2001-01-04         156         208   \n",
       "1         84556     2000-09-07   2001-01-01         116         348   \n",
       "2         84556     2000-09-30   2001-07-02         275         208   \n",
       "3         84556     2005-07-27   2005-08-26         134         344   \n",
       "4         84556     2006-05-17   2006-07-10         174         345   \n",
       "\n",
       "   function_id  isco_functie_niveau  education  \\\n",
       "0          936                  2.0        0.0   \n",
       "1          809                  1.0        0.0   \n",
       "2          936                  2.0        0.0   \n",
       "3         1519                  1.0        0.0   \n",
       "4          893                  1.0        0.0   \n",
       "\n",
       "                                           embedding  \n",
       "0  [0.07265971601009369, -0.8582056760787964, -0....  \n",
       "1  [0.07265971601009369, -0.8582056760787964, -0....  \n",
       "2  [0.07265971601009369, -0.8582056760787964, -0....  \n",
       "3  [0.07265971601009369, -0.8582056760787964, -0....  \n",
       "4  [0.07265971601009369, -0.8582056760787964, -0....  "
      ]
     },
     "execution_count": 34,
     "metadata": {},
     "output_type": "execute_result"
    }
   ],
   "source": [
    "df.head()"
   ]
  },
  {
   "cell_type": "code",
   "execution_count": 35,
   "id": "53e449ce",
   "metadata": {},
   "outputs": [
    {
     "name": "stderr",
     "output_type": "stream",
     "text": [
      "100%|██████████| 469073/469073 [05:05<00:00, 1537.53it/s]\n"
     ]
    }
   ],
   "source": [
    "# Calculate the time it took to go from one job to another (in order)\n",
    "df[\"time_between\"] = df.groupby(\n",
    "    \"candidate_id\")[\"date_start_job\"].progress_apply(lambda x: x - x.shift(1))"
   ]
  },
  {
   "cell_type": "code",
   "execution_count": 36,
   "id": "f4bf84a9",
   "metadata": {},
   "outputs": [],
   "source": [
    "df[\"time_between\"] = df[\"time_between\"].shift(-1).fillna(pd.Timedelta(seconds=0)).dt.days.astype('int16')"
   ]
  },
  {
   "cell_type": "code",
   "execution_count": 37,
   "id": "61f4c606",
   "metadata": {},
   "outputs": [
    {
     "data": {
      "text/html": [
       "<div>\n",
       "<style scoped>\n",
       "    .dataframe tbody tr th:only-of-type {\n",
       "        vertical-align: middle;\n",
       "    }\n",
       "\n",
       "    .dataframe tbody tr th {\n",
       "        vertical-align: top;\n",
       "    }\n",
       "\n",
       "    .dataframe thead th {\n",
       "        text-align: right;\n",
       "    }\n",
       "</style>\n",
       "<table border=\"1\" class=\"dataframe\">\n",
       "  <thead>\n",
       "    <tr style=\"text-align: right;\">\n",
       "      <th></th>\n",
       "      <th>candidate_id</th>\n",
       "      <th>date_start_job</th>\n",
       "      <th>date_end_job</th>\n",
       "      <th>time_spent</th>\n",
       "      <th>isco_code4</th>\n",
       "      <th>function_id</th>\n",
       "      <th>isco_functie_niveau</th>\n",
       "      <th>education</th>\n",
       "      <th>embedding</th>\n",
       "      <th>time_between</th>\n",
       "    </tr>\n",
       "  </thead>\n",
       "  <tbody>\n",
       "    <tr>\n",
       "      <th>0</th>\n",
       "      <td>84556</td>\n",
       "      <td>2000-08-01</td>\n",
       "      <td>2001-01-04</td>\n",
       "      <td>156</td>\n",
       "      <td>208</td>\n",
       "      <td>936</td>\n",
       "      <td>2.0</td>\n",
       "      <td>0.0</td>\n",
       "      <td>[0.07265971601009369, -0.8582056760787964, -0....</td>\n",
       "      <td>37</td>\n",
       "    </tr>\n",
       "    <tr>\n",
       "      <th>1</th>\n",
       "      <td>84556</td>\n",
       "      <td>2000-09-07</td>\n",
       "      <td>2001-01-01</td>\n",
       "      <td>116</td>\n",
       "      <td>348</td>\n",
       "      <td>809</td>\n",
       "      <td>1.0</td>\n",
       "      <td>0.0</td>\n",
       "      <td>[0.07265971601009369, -0.8582056760787964, -0....</td>\n",
       "      <td>23</td>\n",
       "    </tr>\n",
       "    <tr>\n",
       "      <th>2</th>\n",
       "      <td>84556</td>\n",
       "      <td>2000-09-30</td>\n",
       "      <td>2001-07-02</td>\n",
       "      <td>275</td>\n",
       "      <td>208</td>\n",
       "      <td>936</td>\n",
       "      <td>2.0</td>\n",
       "      <td>0.0</td>\n",
       "      <td>[0.07265971601009369, -0.8582056760787964, -0....</td>\n",
       "      <td>1761</td>\n",
       "    </tr>\n",
       "    <tr>\n",
       "      <th>3</th>\n",
       "      <td>84556</td>\n",
       "      <td>2005-07-27</td>\n",
       "      <td>2005-08-26</td>\n",
       "      <td>134</td>\n",
       "      <td>344</td>\n",
       "      <td>1519</td>\n",
       "      <td>1.0</td>\n",
       "      <td>0.0</td>\n",
       "      <td>[0.07265971601009369, -0.8582056760787964, -0....</td>\n",
       "      <td>294</td>\n",
       "    </tr>\n",
       "    <tr>\n",
       "      <th>4</th>\n",
       "      <td>84556</td>\n",
       "      <td>2006-05-17</td>\n",
       "      <td>2006-07-10</td>\n",
       "      <td>174</td>\n",
       "      <td>345</td>\n",
       "      <td>893</td>\n",
       "      <td>1.0</td>\n",
       "      <td>0.0</td>\n",
       "      <td>[0.07265971601009369, -0.8582056760787964, -0....</td>\n",
       "      <td>252</td>\n",
       "    </tr>\n",
       "  </tbody>\n",
       "</table>\n",
       "</div>"
      ],
      "text/plain": [
       "   candidate_id date_start_job date_end_job  time_spent  isco_code4  \\\n",
       "0         84556     2000-08-01   2001-01-04         156         208   \n",
       "1         84556     2000-09-07   2001-01-01         116         348   \n",
       "2         84556     2000-09-30   2001-07-02         275         208   \n",
       "3         84556     2005-07-27   2005-08-26         134         344   \n",
       "4         84556     2006-05-17   2006-07-10         174         345   \n",
       "\n",
       "   function_id  isco_functie_niveau  education  \\\n",
       "0          936                  2.0        0.0   \n",
       "1          809                  1.0        0.0   \n",
       "2          936                  2.0        0.0   \n",
       "3         1519                  1.0        0.0   \n",
       "4          893                  1.0        0.0   \n",
       "\n",
       "                                           embedding  time_between  \n",
       "0  [0.07265971601009369, -0.8582056760787964, -0....            37  \n",
       "1  [0.07265971601009369, -0.8582056760787964, -0....            23  \n",
       "2  [0.07265971601009369, -0.8582056760787964, -0....          1761  \n",
       "3  [0.07265971601009369, -0.8582056760787964, -0....           294  \n",
       "4  [0.07265971601009369, -0.8582056760787964, -0....           252  "
      ]
     },
     "execution_count": 37,
     "metadata": {},
     "output_type": "execute_result"
    }
   ],
   "source": [
    "df.head()"
   ]
  },
  {
   "cell_type": "code",
   "execution_count": 38,
   "id": "ef25f549",
   "metadata": {},
   "outputs": [],
   "source": [
    "num_classes = len(df[\"isco_code4\"].unique())"
   ]
  },
  {
   "cell_type": "code",
   "execution_count": 49,
   "id": "74ce7fd2",
   "metadata": {},
   "outputs": [],
   "source": [
    "# df_pred = df[[\"isco_functie_niveau\", \"education\", \"function_id\"]].fillna(0)\n",
    "pred_cols = [\"candidate_id\",\"time_between\", \"time_spent\", \"isco_functie_niveau\", \n",
    "             \"education\", \"function_id\", \"isco_code4\"] # + [col for col in df.columns if \"skill_\" in col]\n",
    "num_features = len(pred_cols)\n",
    "\n",
    "df_pred = df[pred_cols].fillna(0)"
   ]
  },
  {
   "cell_type": "code",
   "execution_count": 50,
   "id": "6ed7e2d7",
   "metadata": {},
   "outputs": [
    {
     "data": {
      "text/html": [
       "<div>\n",
       "<style scoped>\n",
       "    .dataframe tbody tr th:only-of-type {\n",
       "        vertical-align: middle;\n",
       "    }\n",
       "\n",
       "    .dataframe tbody tr th {\n",
       "        vertical-align: top;\n",
       "    }\n",
       "\n",
       "    .dataframe thead th {\n",
       "        text-align: right;\n",
       "    }\n",
       "</style>\n",
       "<table border=\"1\" class=\"dataframe\">\n",
       "  <thead>\n",
       "    <tr style=\"text-align: right;\">\n",
       "      <th></th>\n",
       "      <th>candidate_id</th>\n",
       "      <th>time_between</th>\n",
       "      <th>time_spent</th>\n",
       "      <th>isco_functie_niveau</th>\n",
       "      <th>education</th>\n",
       "      <th>function_id</th>\n",
       "      <th>isco_code4</th>\n",
       "    </tr>\n",
       "  </thead>\n",
       "  <tbody>\n",
       "    <tr>\n",
       "      <th>0</th>\n",
       "      <td>84556</td>\n",
       "      <td>37</td>\n",
       "      <td>156</td>\n",
       "      <td>2.0</td>\n",
       "      <td>0.0</td>\n",
       "      <td>936</td>\n",
       "      <td>208</td>\n",
       "    </tr>\n",
       "    <tr>\n",
       "      <th>1</th>\n",
       "      <td>84556</td>\n",
       "      <td>23</td>\n",
       "      <td>116</td>\n",
       "      <td>1.0</td>\n",
       "      <td>0.0</td>\n",
       "      <td>809</td>\n",
       "      <td>348</td>\n",
       "    </tr>\n",
       "    <tr>\n",
       "      <th>2</th>\n",
       "      <td>84556</td>\n",
       "      <td>1761</td>\n",
       "      <td>275</td>\n",
       "      <td>2.0</td>\n",
       "      <td>0.0</td>\n",
       "      <td>936</td>\n",
       "      <td>208</td>\n",
       "    </tr>\n",
       "    <tr>\n",
       "      <th>3</th>\n",
       "      <td>84556</td>\n",
       "      <td>294</td>\n",
       "      <td>134</td>\n",
       "      <td>1.0</td>\n",
       "      <td>0.0</td>\n",
       "      <td>1519</td>\n",
       "      <td>344</td>\n",
       "    </tr>\n",
       "    <tr>\n",
       "      <th>4</th>\n",
       "      <td>84556</td>\n",
       "      <td>252</td>\n",
       "      <td>174</td>\n",
       "      <td>1.0</td>\n",
       "      <td>0.0</td>\n",
       "      <td>893</td>\n",
       "      <td>345</td>\n",
       "    </tr>\n",
       "  </tbody>\n",
       "</table>\n",
       "</div>"
      ],
      "text/plain": [
       "   candidate_id  time_between  time_spent  isco_functie_niveau  education  \\\n",
       "0         84556            37         156                  2.0        0.0   \n",
       "1         84556            23         116                  1.0        0.0   \n",
       "2         84556          1761         275                  2.0        0.0   \n",
       "3         84556           294         134                  1.0        0.0   \n",
       "4         84556           252         174                  1.0        0.0   \n",
       "\n",
       "   function_id  isco_code4  \n",
       "0          936         208  \n",
       "1          809         348  \n",
       "2          936         208  \n",
       "3         1519         344  \n",
       "4          893         345  "
      ]
     },
     "execution_count": 50,
     "metadata": {},
     "output_type": "execute_result"
    }
   ],
   "source": [
    "df_pred.head()"
   ]
  },
  {
   "cell_type": "code",
   "execution_count": 41,
   "id": "9ded2457",
   "metadata": {},
   "outputs": [],
   "source": [
    "df_pred[[\"function_id\", \"isco_code4\"]].reset_index().to_csv(\"../Data/DTW_df_pred2.csv\")"
   ]
  },
  {
   "cell_type": "markdown",
   "id": "2fdef12d",
   "metadata": {},
   "source": [
    "### Create separate embedding dict\n",
    "\n",
    "Done for optimization purposes"
   ]
  },
  {
   "cell_type": "code",
   "execution_count": 51,
   "id": "c727109c",
   "metadata": {},
   "outputs": [],
   "source": [
    "embedding_order = df.reset_index()[[\"candidate_id\", \"embedding\"]]"
   ]
  },
  {
   "cell_type": "code",
   "execution_count": 52,
   "id": "f2c9847f",
   "metadata": {},
   "outputs": [],
   "source": [
    "grouped_embeddings = embedding_order.groupby(\"candidate_id\")"
   ]
  },
  {
   "cell_type": "code",
   "execution_count": 53,
   "id": "80303c9f",
   "metadata": {},
   "outputs": [
    {
     "name": "stderr",
     "output_type": "stream",
     "text": [
      "100%|██████████| 469073/469073 [01:21<00:00, 5736.13it/s]\n"
     ]
    }
   ],
   "source": [
    "embedding_a = defaultdict(lambda: defaultdict(list))\n",
    "\n",
    "# Find each time step at which the candidate got a new CV\n",
    "for candidate, values in tqdm(grouped_embeddings):\n",
    "    embeddings = values[\"embedding\"].values\n",
    "  \n",
    "    if (type(embeddings[0]) == type(np.array([]))) and np.nan not in embeddings[0]:\n",
    "        embedding_a[candidate][0] = embeddings[0]\n",
    "        \n",
    "        for i, embedding in enumerate(embeddings):\n",
    "            if i > 0:\n",
    "                truths = embeddings[i - 1] != embedding\n",
    "\n",
    "                if (type(truths) == type(np.array([]))) and (truths).all():\n",
    "                    embedding_a[candidate][i] = embedding"
   ]
  },
  {
   "cell_type": "code",
   "execution_count": 54,
   "id": "35ecc544",
   "metadata": {},
   "outputs": [],
   "source": [
    "class NumpyEncoder(json.JSONEncoder):\n",
    "    def default(self, obj):\n",
    "        if isinstance(obj, np.ndarray):\n",
    "            return obj.tolist()\n",
    "        return json.JSONEncoder.default(self, obj)"
   ]
  },
  {
   "cell_type": "code",
   "execution_count": 55,
   "id": "0fae9b9d",
   "metadata": {},
   "outputs": [],
   "source": [
    "with open('../Data/embeddings_grouped.json', 'w') as f:\n",
    "    json.dump(embedding_a, f, cls=NumpyEncoder)"
   ]
  },
  {
   "cell_type": "code",
   "execution_count": 56,
   "id": "552ce7d1",
   "metadata": {},
   "outputs": [],
   "source": [
    "df_pred.reset_index().to_csv(\"../Data/df_pred_grouped.csv\")"
   ]
  },
  {
   "cell_type": "code",
   "execution_count": null,
   "id": "4e448dca",
   "metadata": {},
   "outputs": [],
   "source": [
    "pd.Series(skills_dict).to_csv(\"../Data/skills.csv\")"
   ]
  },
  {
   "cell_type": "markdown",
   "id": "f4f8767b",
   "metadata": {},
   "source": [
    "### Candidate Certificates"
   ]
  },
  {
   "cell_type": "code",
   "execution_count": null,
   "id": "4fa9c182",
   "metadata": {},
   "outputs": [],
   "source": [
    "sql_path = os.path.join(\"/home/ec2-user/SageMaker/data-science-development/talent_recommender/daily_snapshots\",\n",
    "                        Config.query_candidate_certificates) \n",
    "\n",
    "candidate_certificates = get_from_redshift(sql_path, Config.redshift_creds)\n",
    "candidate_certificates.head()"
   ]
  },
  {
   "cell_type": "code",
   "execution_count": null,
   "id": "e5f971e3",
   "metadata": {},
   "outputs": [],
   "source": [
    "candidate_certificates = pd.crosstab(candidate_certificates[\"candidate_id\"], \n",
    "                                     candidate_certificates[\"candidate_certificate_id\"])\n",
    "candidate_certificates.head()"
   ]
  },
  {
   "cell_type": "code",
   "execution_count": null,
   "id": "6e67e80c",
   "metadata": {},
   "outputs": [],
   "source": [
    "candidate_certificates.to_csv(\"../Data/candidate_certificates_one-hot.csv\")"
   ]
  },
  {
   "cell_type": "markdown",
   "id": "88fd57b0",
   "metadata": {},
   "source": [
    "### CV Embeddings"
   ]
  },
  {
   "cell_type": "code",
   "execution_count": null,
   "id": "17a3e8d6",
   "metadata": {},
   "outputs": [],
   "source": [
    "df_pred = pd.read_csv(\"../Data/df_pred.csv\")\n",
    "skills = pd.read_csv(\"../Data/skills.csv\")"
   ]
  },
  {
   "cell_type": "code",
   "execution_count": null,
   "id": "bfe6ebe2",
   "metadata": {},
   "outputs": [],
   "source": [
    "# s3 = s3fs.S3FileSystem()\n",
    "\n",
    "# embedding_pd = pq.ParquetDataset('s3a://s3-nl-prd-semrb-emr/embeddings/doc_embeddings/xlm-roberta-base-smartmatch', filesystem=s3).read_pandas().to_pandas()\n",
    "\n",
    "# embedding_pd['cv_id'] = embedding_pd['cv_id'].astype('int')\n",
    "# embedding_pd.rename(columns={\"doc_embedding\": \"tensor\"}, inplace=True)\n",
    "# embedding_pd.head() "
   ]
  },
  {
   "cell_type": "code",
   "execution_count": null,
   "id": "e722e539",
   "metadata": {},
   "outputs": [],
   "source": []
  },
  {
   "cell_type": "code",
   "execution_count": null,
   "id": "e49792dc",
   "metadata": {},
   "outputs": [],
   "source": []
  },
  {
   "cell_type": "code",
   "execution_count": null,
   "id": "bff51e5f",
   "metadata": {},
   "outputs": [],
   "source": [
    "# cvPath = 's3a://s3-nl-prd-datahub-projects/smartmatch_cv/parsed_cv'\n",
    "\n",
    "# s3 = s3fs.S3FileSystem()\n",
    "# parsedCv_pd = pq.ParquetDataset(cvPath, filesystem=s3).read_pandas().to_pandas() "
   ]
  },
  {
   "cell_type": "code",
   "execution_count": null,
   "id": "df4fe937",
   "metadata": {},
   "outputs": [],
   "source": [
    "# parsedCv_pd"
   ]
  },
  {
   "cell_type": "code",
   "execution_count": null,
   "id": "f592dd59",
   "metadata": {},
   "outputs": [],
   "source": []
  },
  {
   "cell_type": "code",
   "execution_count": null,
   "id": "aad1e613",
   "metadata": {},
   "outputs": [],
   "source": []
  },
  {
   "cell_type": "code",
   "execution_count": null,
   "id": "20d9f1bf",
   "metadata": {},
   "outputs": [],
   "source": []
  },
  {
   "cell_type": "code",
   "execution_count": null,
   "id": "b082dbea",
   "metadata": {},
   "outputs": [],
   "source": []
  },
  {
   "cell_type": "code",
   "execution_count": null,
   "id": "cee4f994",
   "metadata": {},
   "outputs": [],
   "source": []
  },
  {
   "cell_type": "code",
   "execution_count": null,
   "id": "97195090",
   "metadata": {},
   "outputs": [],
   "source": []
  },
  {
   "cell_type": "code",
   "execution_count": null,
   "id": "e774a5a3",
   "metadata": {},
   "outputs": [],
   "source": []
  },
  {
   "cell_type": "code",
   "execution_count": null,
   "id": "36c08ac9",
   "metadata": {},
   "outputs": [],
   "source": []
  },
  {
   "cell_type": "code",
   "execution_count": null,
   "id": "1e0c935b",
   "metadata": {},
   "outputs": [],
   "source": [
    "len(set(cv_embeddings[\"candidate_id\"]) & set(df_pred[\"candidate_id\"]))"
   ]
  },
  {
   "cell_type": "code",
   "execution_count": null,
   "id": "cf05fe8e",
   "metadata": {},
   "outputs": [],
   "source": [
    "cv_embeddings.to_csv(\"../Data/cv_w2v_embeddings.csv\")"
   ]
  },
  {
   "cell_type": "code",
   "execution_count": null,
   "id": "6726d248",
   "metadata": {},
   "outputs": [],
   "source": []
  }
 ],
 "metadata": {
  "kernelspec": {
   "display_name": "conda_pytorch_p36",
   "language": "python",
   "name": "conda_pytorch_p36"
  },
  "language_info": {
   "codemirror_mode": {
    "name": "ipython",
    "version": 3
   },
   "file_extension": ".py",
   "mimetype": "text/x-python",
   "name": "python",
   "nbconvert_exporter": "python",
   "pygments_lexer": "ipython3",
   "version": "3.6.13"
  }
 },
 "nbformat": 4,
 "nbformat_minor": 5
}
