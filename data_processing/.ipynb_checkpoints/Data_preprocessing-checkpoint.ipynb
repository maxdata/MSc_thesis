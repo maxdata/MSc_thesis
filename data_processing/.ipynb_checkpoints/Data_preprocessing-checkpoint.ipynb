{
 "cells": [
  {
   "cell_type": "code",
   "execution_count": 8,
   "id": "6ab84cb7",
   "metadata": {},
   "outputs": [],
   "source": [
    "from sys import path\n",
    "path.append(\"/home/ec2-user/SageMaker/data-science-development/utils\")\n",
    "path.append(\"/home/ec2-user/SageMaker/data-science-development/config\")\n",
    "\n",
    "import pandas as pd\n",
    "import numpy as np\n",
    "import datetime as dt\n",
    "import matplotlib.pyplot as plt\n",
    "import pyarrow.parquet as pq\n",
    "\n",
    "import s3fs\n",
    "import os\n",
    "import torch\n",
    "import random\n",
    "import json\n",
    "# import sktime\n",
    "\n",
    "from torch import nn\n",
    "from torch.autograd import Variable\n",
    "from torch.utils.data import TensorDataset, DataLoader, WeightedRandomSampler\n",
    "\n",
    "from sklearn.model_selection import train_test_split\n",
    "from sklearn.utils import class_weight\n",
    "\n",
    "from redshift import get_from_redshift\n",
    "from datetime import datetime\n",
    "from config import Config  \n",
    "from collections import defaultdict, Counter\n",
    "from tqdm import tqdm \n",
    "from itertools import zip_longest\n",
    "\n",
    "tqdm.pandas()"
   ]
  },
  {
   "cell_type": "markdown",
   "id": "46d02357",
   "metadata": {},
   "source": [
    "# Loading data"
   ]
  },
  {
   "cell_type": "markdown",
   "id": "7fdc8244",
   "metadata": {},
   "source": [
    "### Work experience"
   ]
  },
  {
   "cell_type": "code",
   "execution_count": 9,
   "id": "787e4916",
   "metadata": {},
   "outputs": [],
   "source": [
    "sql_path = os.path.join(\"/home/ec2-user/SageMaker/data-science-development/talent_recommender/daily_snapshots\",\n",
    "                        Config.query_candidate_work_experience) "
   ]
  },
  {
   "cell_type": "code",
   "execution_count": 10,
   "id": "b0b68129",
   "metadata": {},
   "outputs": [
    {
     "data": {
      "text/html": [
       "<div>\n",
       "<style scoped>\n",
       "    .dataframe tbody tr th:only-of-type {\n",
       "        vertical-align: middle;\n",
       "    }\n",
       "\n",
       "    .dataframe tbody tr th {\n",
       "        vertical-align: top;\n",
       "    }\n",
       "\n",
       "    .dataframe thead th {\n",
       "        text-align: right;\n",
       "    }\n",
       "</style>\n",
       "<table border=\"1\" class=\"dataframe\">\n",
       "  <thead>\n",
       "    <tr style=\"text-align: right;\">\n",
       "      <th></th>\n",
       "      <th>candidate_id</th>\n",
       "      <th>unique_id</th>\n",
       "      <th>date_start_job</th>\n",
       "      <th>date_end_job</th>\n",
       "      <th>function_id</th>\n",
       "      <th>isco_functie_niveau</th>\n",
       "      <th>isco_code4</th>\n",
       "      <th>function_name_self</th>\n",
       "      <th>company_name</th>\n",
       "      <th>source</th>\n",
       "    </tr>\n",
       "  </thead>\n",
       "  <tbody>\n",
       "    <tr>\n",
       "      <th>0</th>\n",
       "      <td>85712</td>\n",
       "      <td>8739639</td>\n",
       "      <td>2017-12-14 00:00:00</td>\n",
       "      <td>2018-08-01</td>\n",
       "      <td>2338.0</td>\n",
       "      <td>2.0</td>\n",
       "      <td>4321.0</td>\n",
       "      <td>None</td>\n",
       "      <td>Tapfin inz UPS SP (HFD)</td>\n",
       "      <td>plaatsing</td>\n",
       "    </tr>\n",
       "    <tr>\n",
       "      <th>1</th>\n",
       "      <td>85712</td>\n",
       "      <td>8777822</td>\n",
       "      <td>2018-01-22 00:00:00</td>\n",
       "      <td>2018-01-24</td>\n",
       "      <td>2038.0</td>\n",
       "      <td>1.0</td>\n",
       "      <td>9329.0</td>\n",
       "      <td>None</td>\n",
       "      <td>Arvato Benelux BV</td>\n",
       "      <td>plaatsing</td>\n",
       "    </tr>\n",
       "    <tr>\n",
       "      <th>2</th>\n",
       "      <td>85712</td>\n",
       "      <td>9977222</td>\n",
       "      <td>2020-07-27 00:00:00</td>\n",
       "      <td>2020-12-14</td>\n",
       "      <td>2038.0</td>\n",
       "      <td>1.0</td>\n",
       "      <td>9329.0</td>\n",
       "      <td>None</td>\n",
       "      <td>Koninklijke de Ruyter B.V.</td>\n",
       "      <td>plaatsing</td>\n",
       "    </tr>\n",
       "    <tr>\n",
       "      <th>3</th>\n",
       "      <td>85712</td>\n",
       "      <td>9981694</td>\n",
       "      <td>2020-08-02 00:00:00</td>\n",
       "      <td>2020-08-10</td>\n",
       "      <td>2038.0</td>\n",
       "      <td>1.0</td>\n",
       "      <td>9329.0</td>\n",
       "      <td>Productiemedewerker</td>\n",
       "      <td>Grozette BV</td>\n",
       "      <td>plaatsing</td>\n",
       "    </tr>\n",
       "    <tr>\n",
       "      <th>4</th>\n",
       "      <td>85888</td>\n",
       "      <td>15682354</td>\n",
       "      <td>2009-02-01 00:00:00</td>\n",
       "      <td>2011-02-01</td>\n",
       "      <td>NaN</td>\n",
       "      <td>NaN</td>\n",
       "      <td>NaN</td>\n",
       "      <td>beheerder</td>\n",
       "      <td>eurest catering</td>\n",
       "      <td>dossier</td>\n",
       "    </tr>\n",
       "  </tbody>\n",
       "</table>\n",
       "</div>"
      ],
      "text/plain": [
       "   candidate_id  unique_id       date_start_job date_end_job  function_id  \\\n",
       "0         85712    8739639  2017-12-14 00:00:00   2018-08-01       2338.0   \n",
       "1         85712    8777822  2018-01-22 00:00:00   2018-01-24       2038.0   \n",
       "2         85712    9977222  2020-07-27 00:00:00   2020-12-14       2038.0   \n",
       "3         85712    9981694  2020-08-02 00:00:00   2020-08-10       2038.0   \n",
       "4         85888   15682354  2009-02-01 00:00:00   2011-02-01          NaN   \n",
       "\n",
       "   isco_functie_niveau  isco_code4   function_name_self  \\\n",
       "0                  2.0      4321.0                 None   \n",
       "1                  1.0      9329.0                 None   \n",
       "2                  1.0      9329.0                 None   \n",
       "3                  1.0      9329.0  Productiemedewerker   \n",
       "4                  NaN         NaN            beheerder   \n",
       "\n",
       "                 company_name     source  \n",
       "0     Tapfin inz UPS SP (HFD)  plaatsing  \n",
       "1           Arvato Benelux BV  plaatsing  \n",
       "2  Koninklijke de Ruyter B.V.  plaatsing  \n",
       "3                 Grozette BV  plaatsing  \n",
       "4             eurest catering    dossier  "
      ]
     },
     "execution_count": 10,
     "metadata": {},
     "output_type": "execute_result"
    }
   ],
   "source": [
    "candidate_work_experience = get_from_redshift(sql_path, Config.redshift_creds)\n",
    "candidate_work_experience.head()"
   ]
  },
  {
   "cell_type": "markdown",
   "id": "e2a7b9f2",
   "metadata": {},
   "source": [
    "### Education"
   ]
  },
  {
   "cell_type": "code",
   "execution_count": 11,
   "id": "4e1b8f80",
   "metadata": {},
   "outputs": [],
   "source": [
    "sql_path = os.path.join(\"/home/ec2-user/SageMaker/data-science-development/talent_recommender/daily_snapshots\",\n",
    "                        Config.query_candidate_education) "
   ]
  },
  {
   "cell_type": "code",
   "execution_count": 12,
   "id": "bc82e570",
   "metadata": {},
   "outputs": [
    {
     "data": {
      "text/html": [
       "<div>\n",
       "<style scoped>\n",
       "    .dataframe tbody tr th:only-of-type {\n",
       "        vertical-align: middle;\n",
       "    }\n",
       "\n",
       "    .dataframe tbody tr th {\n",
       "        vertical-align: top;\n",
       "    }\n",
       "\n",
       "    .dataframe thead th {\n",
       "        text-align: right;\n",
       "    }\n",
       "</style>\n",
       "<table border=\"1\" class=\"dataframe\">\n",
       "  <thead>\n",
       "    <tr style=\"text-align: right;\">\n",
       "      <th></th>\n",
       "      <th>candidate_id</th>\n",
       "      <th>education_level</th>\n",
       "      <th>date_start</th>\n",
       "      <th>date_end</th>\n",
       "      <th>date_registrated</th>\n",
       "      <th>passed</th>\n",
       "    </tr>\n",
       "  </thead>\n",
       "  <tbody>\n",
       "    <tr>\n",
       "      <th>0</th>\n",
       "      <td>311285</td>\n",
       "      <td>2</td>\n",
       "      <td>1980-09-01 00:00:00</td>\n",
       "      <td>1985-07-01 00:00:00</td>\n",
       "      <td>2005-08-17 14:11:21</td>\n",
       "      <td>1</td>\n",
       "    </tr>\n",
       "    <tr>\n",
       "      <th>1</th>\n",
       "      <td>96722</td>\n",
       "      <td>4</td>\n",
       "      <td>1992-04-25 00:00:00</td>\n",
       "      <td>1994-04-25 00:00:00</td>\n",
       "      <td>2005-07-26 17:14:33</td>\n",
       "      <td>0</td>\n",
       "    </tr>\n",
       "    <tr>\n",
       "      <th>2</th>\n",
       "      <td>382387</td>\n",
       "      <td>3</td>\n",
       "      <td>1974-09-01 00:00:00</td>\n",
       "      <td>1980-09-01 00:00:00</td>\n",
       "      <td>2005-08-30 11:23:41</td>\n",
       "      <td>1</td>\n",
       "    </tr>\n",
       "    <tr>\n",
       "      <th>3</th>\n",
       "      <td>283389</td>\n",
       "      <td>2</td>\n",
       "      <td>1995-08-01 00:00:00</td>\n",
       "      <td>1999-07-01 00:00:00</td>\n",
       "      <td>2005-08-16 19:05:46</td>\n",
       "      <td>1</td>\n",
       "    </tr>\n",
       "    <tr>\n",
       "      <th>4</th>\n",
       "      <td>296299</td>\n",
       "      <td>3</td>\n",
       "      <td>1995-09-01 00:00:00</td>\n",
       "      <td>1996-01-01 00:00:00</td>\n",
       "      <td>2005-08-17 13:15:27</td>\n",
       "      <td>0</td>\n",
       "    </tr>\n",
       "  </tbody>\n",
       "</table>\n",
       "</div>"
      ],
      "text/plain": [
       "   candidate_id  education_level           date_start             date_end  \\\n",
       "0        311285                2  1980-09-01 00:00:00  1985-07-01 00:00:00   \n",
       "1         96722                4  1992-04-25 00:00:00  1994-04-25 00:00:00   \n",
       "2        382387                3  1974-09-01 00:00:00  1980-09-01 00:00:00   \n",
       "3        283389                2  1995-08-01 00:00:00  1999-07-01 00:00:00   \n",
       "4        296299                3  1995-09-01 00:00:00  1996-01-01 00:00:00   \n",
       "\n",
       "     date_registrated  passed  \n",
       "0 2005-08-17 14:11:21       1  \n",
       "1 2005-07-26 17:14:33       0  \n",
       "2 2005-08-30 11:23:41       1  \n",
       "3 2005-08-16 19:05:46       1  \n",
       "4 2005-08-17 13:15:27       0  "
      ]
     },
     "execution_count": 12,
     "metadata": {},
     "output_type": "execute_result"
    }
   ],
   "source": [
    "candidate_education = get_from_redshift(sql_path, Config.redshift_creds)\n",
    "candidate_education.head()"
   ]
  },
  {
   "cell_type": "markdown",
   "id": "c6bf6d43",
   "metadata": {},
   "source": [
    "### Skills"
   ]
  },
  {
   "cell_type": "code",
   "execution_count": 13,
   "id": "36a391d1",
   "metadata": {},
   "outputs": [],
   "source": [
    "sql_path = os.path.join(\"/home/ec2-user/SageMaker/data-science-development/talent_recommender/daily_snapshots\",\n",
    "                        Config.query_candidate_skills) "
   ]
  },
  {
   "cell_type": "markdown",
   "id": "21fe5abf",
   "metadata": {},
   "source": [
    "#### What's date start here? "
   ]
  },
  {
   "cell_type": "code",
   "execution_count": 14,
   "id": "b2cd02a4",
   "metadata": {},
   "outputs": [
    {
     "data": {
      "text/html": [
       "<div>\n",
       "<style scoped>\n",
       "    .dataframe tbody tr th:only-of-type {\n",
       "        vertical-align: middle;\n",
       "    }\n",
       "\n",
       "    .dataframe tbody tr th {\n",
       "        vertical-align: top;\n",
       "    }\n",
       "\n",
       "    .dataframe thead th {\n",
       "        text-align: right;\n",
       "    }\n",
       "</style>\n",
       "<table border=\"1\" class=\"dataframe\">\n",
       "  <thead>\n",
       "    <tr style=\"text-align: right;\">\n",
       "      <th></th>\n",
       "      <th>candidate_id</th>\n",
       "      <th>skill_id</th>\n",
       "      <th>date_start</th>\n",
       "    </tr>\n",
       "  </thead>\n",
       "  <tbody>\n",
       "    <tr>\n",
       "      <th>0</th>\n",
       "      <td>4903762</td>\n",
       "      <td>12</td>\n",
       "      <td>2013-12-04 16:49:22</td>\n",
       "    </tr>\n",
       "    <tr>\n",
       "      <th>1</th>\n",
       "      <td>6778587</td>\n",
       "      <td>62</td>\n",
       "      <td>2016-11-16 09:22:24</td>\n",
       "    </tr>\n",
       "    <tr>\n",
       "      <th>2</th>\n",
       "      <td>6717737</td>\n",
       "      <td>2937</td>\n",
       "      <td>2016-08-10 09:37:53</td>\n",
       "    </tr>\n",
       "    <tr>\n",
       "      <th>3</th>\n",
       "      <td>3430665</td>\n",
       "      <td>3575</td>\n",
       "      <td>2015-12-07 09:13:36</td>\n",
       "    </tr>\n",
       "    <tr>\n",
       "      <th>4</th>\n",
       "      <td>6790096</td>\n",
       "      <td>3030</td>\n",
       "      <td>2016-10-13 16:28:29</td>\n",
       "    </tr>\n",
       "  </tbody>\n",
       "</table>\n",
       "</div>"
      ],
      "text/plain": [
       "   candidate_id  skill_id          date_start\n",
       "0       4903762        12 2013-12-04 16:49:22\n",
       "1       6778587        62 2016-11-16 09:22:24\n",
       "2       6717737      2937 2016-08-10 09:37:53\n",
       "3       3430665      3575 2015-12-07 09:13:36\n",
       "4       6790096      3030 2016-10-13 16:28:29"
      ]
     },
     "execution_count": 14,
     "metadata": {},
     "output_type": "execute_result"
    }
   ],
   "source": [
    "candidate_skill = get_from_redshift(sql_path, Config.redshift_creds)\n",
    "candidate_skill.head()"
   ]
  },
  {
   "cell_type": "markdown",
   "id": "ac62e998",
   "metadata": {},
   "source": [
    "### Languages"
   ]
  },
  {
   "cell_type": "code",
   "execution_count": 17,
   "id": "485997f2",
   "metadata": {},
   "outputs": [],
   "source": [
    "sql_path = os.path.join(\"/home/ec2-user/SageMaker/data-science-development/talent_recommender/daily_snapshots\",\n",
    "                        Config.query_candidate_languages) "
   ]
  },
  {
   "cell_type": "code",
   "execution_count": 18,
   "id": "236a54d7",
   "metadata": {},
   "outputs": [
    {
     "data": {
      "text/html": [
       "<div>\n",
       "<style scoped>\n",
       "    .dataframe tbody tr th:only-of-type {\n",
       "        vertical-align: middle;\n",
       "    }\n",
       "\n",
       "    .dataframe tbody tr th {\n",
       "        vertical-align: top;\n",
       "    }\n",
       "\n",
       "    .dataframe thead th {\n",
       "        text-align: right;\n",
       "    }\n",
       "</style>\n",
       "<table border=\"1\" class=\"dataframe\">\n",
       "  <thead>\n",
       "    <tr style=\"text-align: right;\">\n",
       "      <th></th>\n",
       "      <th>candidate_id</th>\n",
       "      <th>language_id</th>\n",
       "      <th>date_start</th>\n",
       "    </tr>\n",
       "  </thead>\n",
       "  <tbody>\n",
       "    <tr>\n",
       "      <th>0</th>\n",
       "      <td>1948141</td>\n",
       "      <td>17</td>\n",
       "      <td>2010-03-09 18:37:49</td>\n",
       "    </tr>\n",
       "    <tr>\n",
       "      <th>1</th>\n",
       "      <td>2492125</td>\n",
       "      <td>17</td>\n",
       "      <td>2010-03-09 18:38:03</td>\n",
       "    </tr>\n",
       "    <tr>\n",
       "      <th>2</th>\n",
       "      <td>716267</td>\n",
       "      <td>15</td>\n",
       "      <td>2010-03-09 18:38:21</td>\n",
       "    </tr>\n",
       "    <tr>\n",
       "      <th>3</th>\n",
       "      <td>1589104</td>\n",
       "      <td>17</td>\n",
       "      <td>2010-03-09 18:38:34</td>\n",
       "    </tr>\n",
       "    <tr>\n",
       "      <th>4</th>\n",
       "      <td>2660131</td>\n",
       "      <td>40</td>\n",
       "      <td>2010-03-09 18:38:52</td>\n",
       "    </tr>\n",
       "  </tbody>\n",
       "</table>\n",
       "</div>"
      ],
      "text/plain": [
       "   candidate_id  language_id          date_start\n",
       "0       1948141           17 2010-03-09 18:37:49\n",
       "1       2492125           17 2010-03-09 18:38:03\n",
       "2        716267           15 2010-03-09 18:38:21\n",
       "3       1589104           17 2010-03-09 18:38:34\n",
       "4       2660131           40 2010-03-09 18:38:52"
      ]
     },
     "execution_count": 18,
     "metadata": {},
     "output_type": "execute_result"
    }
   ],
   "source": [
    "candidate_languages = get_from_redshift(sql_path, Config.redshift_creds)\n",
    "candidate_languages.head()"
   ]
  },
  {
   "cell_type": "code",
   "execution_count": 19,
   "id": "49a57bd4",
   "metadata": {},
   "outputs": [],
   "source": [
    "lang_to_idx = {v : i for i, v in enumerate(sorted(candidate_languages[\"language_id\"].astype(float).unique()))}\n",
    "idx_to_lang = {i : v for i, v in lang_to_idx.items()}\n",
    "candidate_languages[\"language_id\"] = candidate_languages[\"language_id\"].progress_apply(lambda x: lang_to_idx[x])"
   ]
  },
  {
   "cell_type": "code",
   "execution_count": 24,
   "id": "86e2d0f1",
   "metadata": {},
   "outputs": [],
   "source": [
    "languages_oh = pd.crosstab(candidate_languages[\"candidate_id\"],\n",
    "                           candidate_languages[\"language_id\"])"
   ]
  },
  {
   "cell_type": "code",
   "execution_count": 27,
   "id": "0537538c",
   "metadata": {},
   "outputs": [],
   "source": [
    "languages_oh.to_csv(\"../Data/languages_one-hot.csv\")"
   ]
  },
  {
   "cell_type": "markdown",
   "id": "214d1dc0",
   "metadata": {},
   "source": [
    "### Addresses"
   ]
  },
  {
   "cell_type": "code",
   "execution_count": 18,
   "id": "45d5c59d",
   "metadata": {},
   "outputs": [],
   "source": [
    "sql_path = os.path.join(\"/home/ec2-user/SageMaker/data-science-development/talent_recommender/daily_snapshots\",\n",
    "                        Config.query_candidate_addresses) "
   ]
  },
  {
   "cell_type": "code",
   "execution_count": 19,
   "id": "6493eaca",
   "metadata": {},
   "outputs": [
    {
     "data": {
      "text/html": [
       "<div>\n",
       "<style scoped>\n",
       "    .dataframe tbody tr th:only-of-type {\n",
       "        vertical-align: middle;\n",
       "    }\n",
       "\n",
       "    .dataframe tbody tr th {\n",
       "        vertical-align: top;\n",
       "    }\n",
       "\n",
       "    .dataframe thead th {\n",
       "        text-align: right;\n",
       "    }\n",
       "</style>\n",
       "<table border=\"1\" class=\"dataframe\">\n",
       "  <thead>\n",
       "    <tr style=\"text-align: right;\">\n",
       "      <th></th>\n",
       "      <th>candidate_id</th>\n",
       "      <th>from_post_code</th>\n",
       "      <th>date_start</th>\n",
       "      <th>date_end</th>\n",
       "    </tr>\n",
       "  </thead>\n",
       "  <tbody>\n",
       "    <tr>\n",
       "      <th>0</th>\n",
       "      <td>2065656</td>\n",
       "      <td>9714 JV</td>\n",
       "      <td>2016-02-05 00:00:00</td>\n",
       "      <td>2016-12-26 00:00:00</td>\n",
       "    </tr>\n",
       "    <tr>\n",
       "      <th>1</th>\n",
       "      <td>2674423</td>\n",
       "      <td>1621 JW</td>\n",
       "      <td>2014-09-01 00:00:00</td>\n",
       "      <td>2015-12-16 00:00:00</td>\n",
       "    </tr>\n",
       "    <tr>\n",
       "      <th>2</th>\n",
       "      <td>7301821</td>\n",
       "      <td>3064 AW</td>\n",
       "      <td>2018-01-25 00:00:00</td>\n",
       "      <td>None</td>\n",
       "    </tr>\n",
       "    <tr>\n",
       "      <th>3</th>\n",
       "      <td>7367386</td>\n",
       "      <td>7141 WE</td>\n",
       "      <td>2018-03-26 00:00:00</td>\n",
       "      <td>None</td>\n",
       "    </tr>\n",
       "    <tr>\n",
       "      <th>4</th>\n",
       "      <td>1613716</td>\n",
       "      <td>7731 CA</td>\n",
       "      <td>2011-03-15 00:00:00</td>\n",
       "      <td>None</td>\n",
       "    </tr>\n",
       "  </tbody>\n",
       "</table>\n",
       "</div>"
      ],
      "text/plain": [
       "   candidate_id from_post_code           date_start             date_end\n",
       "0       2065656        9714 JV  2016-02-05 00:00:00  2016-12-26 00:00:00\n",
       "1       2674423        1621 JW  2014-09-01 00:00:00  2015-12-16 00:00:00\n",
       "2       7301821        3064 AW  2018-01-25 00:00:00                 None\n",
       "3       7367386        7141 WE  2018-03-26 00:00:00                 None\n",
       "4       1613716        7731 CA  2011-03-15 00:00:00                 None"
      ]
     },
     "execution_count": 19,
     "metadata": {},
     "output_type": "execute_result"
    }
   ],
   "source": [
    "candidate_addresses = get_from_redshift(sql_path, Config.redshift_creds)\n",
    "candidate_addresses.head()"
   ]
  },
  {
   "cell_type": "code",
   "execution_count": 20,
   "id": "57d4688a",
   "metadata": {},
   "outputs": [
    {
     "data": {
      "text/plain": [
       "(4148409, 4)"
      ]
     },
     "execution_count": 20,
     "metadata": {},
     "output_type": "execute_result"
    }
   ],
   "source": [
    "candidate_addresses.shape"
   ]
  },
  {
   "cell_type": "code",
   "execution_count": 21,
   "id": "8cebff47",
   "metadata": {},
   "outputs": [],
   "source": [
    "# Drop nonsense rows\n",
    "candidate_addresses = candidate_addresses[(candidate_addresses[\"date_start\"] >= dt.datetime(1950, 1, 1)) &\n",
    "                                          (candidate_addresses[\"date_start\"] <= dt.datetime(2025, 1, 1))]"
   ]
  },
  {
   "cell_type": "code",
   "execution_count": 22,
   "id": "953f60c9",
   "metadata": {},
   "outputs": [
    {
     "data": {
      "text/plain": [
       "(4148259, 4)"
      ]
     },
     "execution_count": 22,
     "metadata": {},
     "output_type": "execute_result"
    }
   ],
   "source": [
    "candidate_addresses.shape"
   ]
  },
  {
   "cell_type": "code",
   "execution_count": 23,
   "id": "8481434d",
   "metadata": {},
   "outputs": [],
   "source": [
    "# Only store for candidates we will actually be using\n",
    "candidate_addresses = candidate_addresses[candidate_addresses[\"candidate_id\"].isin(\n",
    "    set(candidate_work_experience[\"candidate_id\"].unique()))]"
   ]
  },
  {
   "cell_type": "code",
   "execution_count": 24,
   "id": "b6e45b67",
   "metadata": {},
   "outputs": [
    {
     "data": {
      "text/plain": [
       "(770495, 4)"
      ]
     },
     "execution_count": 24,
     "metadata": {},
     "output_type": "execute_result"
    }
   ],
   "source": [
    "candidate_addresses.shape"
   ]
  },
  {
   "cell_type": "code",
   "execution_count": 25,
   "id": "0ce4de81",
   "metadata": {},
   "outputs": [
    {
     "name": "stderr",
     "output_type": "stream",
     "text": [
      "100%|██████████| 528183/528183 [02:00<00:00, 4381.98it/s]\n"
     ]
    }
   ],
   "source": [
    "most_recent_address = candidate_addresses.groupby(\"candidate_id\")[\"date_start\"].progress_apply(max)"
   ]
  },
  {
   "cell_type": "code",
   "execution_count": 26,
   "id": "7f53c1d2",
   "metadata": {},
   "outputs": [],
   "source": [
    "# TODO: do this in a way that isn't hideous\n",
    "makeshift_index = set((most_recent_address.index.astype(str) + most_recent_address.astype(str)).values)"
   ]
  },
  {
   "cell_type": "code",
   "execution_count": 27,
   "id": "3eb31d48",
   "metadata": {},
   "outputs": [],
   "source": [
    "candidate_addresses.loc[:,\"temp\"] = candidate_addresses[\"candidate_id\"].astype(str) + candidate_addresses[\"date_start\"].astype(str)"
   ]
  },
  {
   "cell_type": "code",
   "execution_count": 28,
   "id": "5eb7c073",
   "metadata": {},
   "outputs": [],
   "source": [
    "candidate_addresses = candidate_addresses[candidate_addresses[\"temp\"].isin(makeshift_index)].drop(\"temp\", axis=1)"
   ]
  },
  {
   "cell_type": "code",
   "execution_count": 29,
   "id": "8b700158",
   "metadata": {},
   "outputs": [],
   "source": [
    "candidate_addresses[\"from_post_code\"] = candidate_addresses[\"from_post_code\"].str.slice(0, 4)"
   ]
  },
  {
   "cell_type": "code",
   "execution_count": 30,
   "id": "0911e69f",
   "metadata": {},
   "outputs": [
    {
     "name": "stderr",
     "output_type": "stream",
     "text": [
      "100%|██████████| 528183/528183 [00:13<00:00, 38298.87it/s]\n"
     ]
    }
   ],
   "source": [
    "candidate_final_addresses = candidate_addresses.groupby(\"candidate_id\")[\"from_post_code\"].progress_apply(lambda x: x.values[-1])"
   ]
  },
  {
   "cell_type": "code",
   "execution_count": 31,
   "id": "8299d668",
   "metadata": {},
   "outputs": [
    {
     "name": "stderr",
     "output_type": "stream",
     "text": [
      "100%|██████████| 528183/528183 [00:00<00:00, 604613.16it/s]\n"
     ]
    }
   ],
   "source": [
    "zip_to_idx = {v : i for i, v in enumerate(sorted(candidate_final_addresses.unique()))}\n",
    "idx_to_zip = {i : v for i, v in zip_to_idx.items()}\n",
    "candidate_final_addresses = candidate_final_addresses.progress_apply(lambda x: zip_to_idx[x])"
   ]
  },
  {
   "cell_type": "code",
   "execution_count": 35,
   "id": "fd83de27",
   "metadata": {},
   "outputs": [
    {
     "data": {
      "text/html": [
       "<div>\n",
       "<style scoped>\n",
       "    .dataframe tbody tr th:only-of-type {\n",
       "        vertical-align: middle;\n",
       "    }\n",
       "\n",
       "    .dataframe tbody tr th {\n",
       "        vertical-align: top;\n",
       "    }\n",
       "\n",
       "    .dataframe thead th {\n",
       "        text-align: right;\n",
       "    }\n",
       "</style>\n",
       "<table border=\"1\" class=\"dataframe\">\n",
       "  <thead>\n",
       "    <tr style=\"text-align: right;\">\n",
       "      <th></th>\n",
       "      <th>0</th>\n",
       "      <th>1</th>\n",
       "      <th>2</th>\n",
       "      <th>3</th>\n",
       "      <th>4</th>\n",
       "      <th>5</th>\n",
       "      <th>6</th>\n",
       "      <th>7</th>\n",
       "      <th>8</th>\n",
       "      <th>9</th>\n",
       "      <th>...</th>\n",
       "      <th>4747</th>\n",
       "      <th>4748</th>\n",
       "      <th>4749</th>\n",
       "      <th>4750</th>\n",
       "      <th>4751</th>\n",
       "      <th>4752</th>\n",
       "      <th>4753</th>\n",
       "      <th>4754</th>\n",
       "      <th>4755</th>\n",
       "      <th>4756</th>\n",
       "    </tr>\n",
       "    <tr>\n",
       "      <th>candidate_id</th>\n",
       "      <th></th>\n",
       "      <th></th>\n",
       "      <th></th>\n",
       "      <th></th>\n",
       "      <th></th>\n",
       "      <th></th>\n",
       "      <th></th>\n",
       "      <th></th>\n",
       "      <th></th>\n",
       "      <th></th>\n",
       "      <th></th>\n",
       "      <th></th>\n",
       "      <th></th>\n",
       "      <th></th>\n",
       "      <th></th>\n",
       "      <th></th>\n",
       "      <th></th>\n",
       "      <th></th>\n",
       "      <th></th>\n",
       "      <th></th>\n",
       "      <th></th>\n",
       "    </tr>\n",
       "  </thead>\n",
       "  <tbody>\n",
       "    <tr>\n",
       "      <th>84556</th>\n",
       "      <td>0</td>\n",
       "      <td>0</td>\n",
       "      <td>0</td>\n",
       "      <td>0</td>\n",
       "      <td>0</td>\n",
       "      <td>0</td>\n",
       "      <td>0</td>\n",
       "      <td>0</td>\n",
       "      <td>0</td>\n",
       "      <td>0</td>\n",
       "      <td>...</td>\n",
       "      <td>0</td>\n",
       "      <td>0</td>\n",
       "      <td>0</td>\n",
       "      <td>0</td>\n",
       "      <td>0</td>\n",
       "      <td>0</td>\n",
       "      <td>0</td>\n",
       "      <td>0</td>\n",
       "      <td>0</td>\n",
       "      <td>0</td>\n",
       "    </tr>\n",
       "    <tr>\n",
       "      <th>84612</th>\n",
       "      <td>0</td>\n",
       "      <td>0</td>\n",
       "      <td>0</td>\n",
       "      <td>0</td>\n",
       "      <td>0</td>\n",
       "      <td>0</td>\n",
       "      <td>0</td>\n",
       "      <td>0</td>\n",
       "      <td>0</td>\n",
       "      <td>0</td>\n",
       "      <td>...</td>\n",
       "      <td>0</td>\n",
       "      <td>0</td>\n",
       "      <td>0</td>\n",
       "      <td>0</td>\n",
       "      <td>0</td>\n",
       "      <td>0</td>\n",
       "      <td>0</td>\n",
       "      <td>0</td>\n",
       "      <td>0</td>\n",
       "      <td>0</td>\n",
       "    </tr>\n",
       "    <tr>\n",
       "      <th>84731</th>\n",
       "      <td>0</td>\n",
       "      <td>0</td>\n",
       "      <td>0</td>\n",
       "      <td>0</td>\n",
       "      <td>0</td>\n",
       "      <td>0</td>\n",
       "      <td>0</td>\n",
       "      <td>0</td>\n",
       "      <td>0</td>\n",
       "      <td>0</td>\n",
       "      <td>...</td>\n",
       "      <td>0</td>\n",
       "      <td>0</td>\n",
       "      <td>0</td>\n",
       "      <td>0</td>\n",
       "      <td>0</td>\n",
       "      <td>0</td>\n",
       "      <td>0</td>\n",
       "      <td>0</td>\n",
       "      <td>0</td>\n",
       "      <td>0</td>\n",
       "    </tr>\n",
       "    <tr>\n",
       "      <th>85437</th>\n",
       "      <td>0</td>\n",
       "      <td>0</td>\n",
       "      <td>0</td>\n",
       "      <td>0</td>\n",
       "      <td>0</td>\n",
       "      <td>0</td>\n",
       "      <td>0</td>\n",
       "      <td>0</td>\n",
       "      <td>0</td>\n",
       "      <td>0</td>\n",
       "      <td>...</td>\n",
       "      <td>0</td>\n",
       "      <td>0</td>\n",
       "      <td>0</td>\n",
       "      <td>0</td>\n",
       "      <td>0</td>\n",
       "      <td>0</td>\n",
       "      <td>0</td>\n",
       "      <td>0</td>\n",
       "      <td>0</td>\n",
       "      <td>0</td>\n",
       "    </tr>\n",
       "    <tr>\n",
       "      <th>85627</th>\n",
       "      <td>0</td>\n",
       "      <td>0</td>\n",
       "      <td>0</td>\n",
       "      <td>0</td>\n",
       "      <td>0</td>\n",
       "      <td>0</td>\n",
       "      <td>0</td>\n",
       "      <td>0</td>\n",
       "      <td>0</td>\n",
       "      <td>0</td>\n",
       "      <td>...</td>\n",
       "      <td>0</td>\n",
       "      <td>0</td>\n",
       "      <td>0</td>\n",
       "      <td>0</td>\n",
       "      <td>0</td>\n",
       "      <td>0</td>\n",
       "      <td>0</td>\n",
       "      <td>0</td>\n",
       "      <td>0</td>\n",
       "      <td>0</td>\n",
       "    </tr>\n",
       "  </tbody>\n",
       "</table>\n",
       "<p>5 rows × 4757 columns</p>\n",
       "</div>"
      ],
      "text/plain": [
       "              0     1     2     3     4     5     6     7     8     9     ...  \\\n",
       "candidate_id                                                              ...   \n",
       "84556            0     0     0     0     0     0     0     0     0     0  ...   \n",
       "84612            0     0     0     0     0     0     0     0     0     0  ...   \n",
       "84731            0     0     0     0     0     0     0     0     0     0  ...   \n",
       "85437            0     0     0     0     0     0     0     0     0     0  ...   \n",
       "85627            0     0     0     0     0     0     0     0     0     0  ...   \n",
       "\n",
       "              4747  4748  4749  4750  4751  4752  4753  4754  4755  4756  \n",
       "candidate_id                                                              \n",
       "84556            0     0     0     0     0     0     0     0     0     0  \n",
       "84612            0     0     0     0     0     0     0     0     0     0  \n",
       "84731            0     0     0     0     0     0     0     0     0     0  \n",
       "85437            0     0     0     0     0     0     0     0     0     0  \n",
       "85627            0     0     0     0     0     0     0     0     0     0  \n",
       "\n",
       "[5 rows x 4757 columns]"
      ]
     },
     "execution_count": 35,
     "metadata": {},
     "output_type": "execute_result"
    }
   ],
   "source": [
    "addresses_one_hot = pd.get_dummies(candidate_final_addresses)\n",
    "\n",
    "addresses_one_hot.head()"
   ]
  },
  {
   "cell_type": "code",
   "execution_count": 37,
   "id": "f186226e",
   "metadata": {},
   "outputs": [],
   "source": [
    "# DIY Sparse matrix\n",
    "compressed_addresses_one_hot = addresses_one_hot.idxmax(axis=1)"
   ]
  },
  {
   "cell_type": "code",
   "execution_count": 38,
   "id": "73212293",
   "metadata": {},
   "outputs": [],
   "source": [
    "compressed_addresses_one_hot.to_csv(\"../Data/addresses_one-hot.csv\")"
   ]
  },
  {
   "cell_type": "code",
   "execution_count": 46,
   "id": "ddebbc8b",
   "metadata": {},
   "outputs": [
    {
     "name": "stdout",
     "output_type": "stream",
     "text": [
      "84556 90\n",
      "[   0 3174 3173 ... 1587 4756   90]\n"
     ]
    }
   ],
   "source": [
    "for k, v in compressed_addresses_one_hot.items():\n",
    "    print(k, v)\n",
    "    a = np.zeros(4757)\n",
    "    a[v] = 1\n",
    "    break"
   ]
  },
  {
   "cell_type": "code",
   "execution_count": 54,
   "id": "59d45c37",
   "metadata": {},
   "outputs": [],
   "source": [
    "emb = nn.Embedding(4757, 10)"
   ]
  },
  {
   "cell_type": "code",
   "execution_count": 60,
   "id": "9e2f55f3",
   "metadata": {},
   "outputs": [
    {
     "data": {
      "text/plain": [
       "(tensor([[-0.7321,  0.4676,  0.0742, -1.5482,  1.1119, -0.9195, -1.2665, -0.5721,\n",
       "           0.0527,  0.2775]], grad_fn=<EmbeddingBackward>),\n",
       " tensor([[ 0.9187,  0.3937, -0.8414,  0.1928, -0.3927,  0.9119, -0.7422,  0.6156,\n",
       "           0.2376,  1.0105]], grad_fn=<EmbeddingBackward>))"
      ]
     },
     "execution_count": 60,
     "metadata": {},
     "output_type": "execute_result"
    }
   ],
   "source": [
    "emb(torch.LongTensor([90])), emb(torch.LongTensor([50]))"
   ]
  },
  {
   "cell_type": "markdown",
   "id": "3c74d7f0",
   "metadata": {},
   "source": [
    "### Driving licenses"
   ]
  },
  {
   "cell_type": "code",
   "execution_count": 107,
   "id": "03812d14",
   "metadata": {},
   "outputs": [],
   "source": [
    "sql_path = os.path.join(\"/home/ec2-user/SageMaker/data-science-development/talent_recommender/daily_snapshots\",\n",
    "                        Config.query_candidate_driving_license) "
   ]
  },
  {
   "cell_type": "code",
   "execution_count": 108,
   "id": "021ea346",
   "metadata": {},
   "outputs": [
    {
     "data": {
      "text/html": [
       "<div>\n",
       "<style scoped>\n",
       "    .dataframe tbody tr th:only-of-type {\n",
       "        vertical-align: middle;\n",
       "    }\n",
       "\n",
       "    .dataframe tbody tr th {\n",
       "        vertical-align: top;\n",
       "    }\n",
       "\n",
       "    .dataframe thead th {\n",
       "        text-align: right;\n",
       "    }\n",
       "</style>\n",
       "<table border=\"1\" class=\"dataframe\">\n",
       "  <thead>\n",
       "    <tr style=\"text-align: right;\">\n",
       "      <th></th>\n",
       "      <th>candidate_id</th>\n",
       "      <th>driving_licenses</th>\n",
       "      <th>date_driving_license</th>\n",
       "    </tr>\n",
       "  </thead>\n",
       "  <tbody>\n",
       "    <tr>\n",
       "      <th>0</th>\n",
       "      <td>395381</td>\n",
       "      <td>A</td>\n",
       "      <td>2005-09-02 11:31:09</td>\n",
       "    </tr>\n",
       "    <tr>\n",
       "      <th>1</th>\n",
       "      <td>430828</td>\n",
       "      <td>A</td>\n",
       "      <td>2005-09-06 17:57:28</td>\n",
       "    </tr>\n",
       "    <tr>\n",
       "      <th>2</th>\n",
       "      <td>1074181</td>\n",
       "      <td>A</td>\n",
       "      <td>2013-08-07 10:06:11</td>\n",
       "    </tr>\n",
       "    <tr>\n",
       "      <th>3</th>\n",
       "      <td>1976775</td>\n",
       "      <td>A</td>\n",
       "      <td>2014-11-03 15:29:38</td>\n",
       "    </tr>\n",
       "    <tr>\n",
       "      <th>4</th>\n",
       "      <td>94916</td>\n",
       "      <td>A</td>\n",
       "      <td>2013-11-25 15:09:48</td>\n",
       "    </tr>\n",
       "  </tbody>\n",
       "</table>\n",
       "</div>"
      ],
      "text/plain": [
       "   candidate_id driving_licenses date_driving_license\n",
       "0        395381                A  2005-09-02 11:31:09\n",
       "1        430828                A  2005-09-06 17:57:28\n",
       "2       1074181                A  2013-08-07 10:06:11\n",
       "3       1976775                A  2014-11-03 15:29:38\n",
       "4         94916                A  2013-11-25 15:09:48"
      ]
     },
     "execution_count": 108,
     "metadata": {},
     "output_type": "execute_result"
    }
   ],
   "source": [
    "candidate_driving = get_from_redshift(sql_path, Config.redshift_creds)\n",
    "candidate_driving.head()"
   ]
  },
  {
   "cell_type": "code",
   "execution_count": 113,
   "id": "2b17744f",
   "metadata": {},
   "outputs": [],
   "source": [
    "candidate_driving = candidate_driving[candidate_driving[\"candidate_id\"].isin(set(candidate_work_experience[\"candidate_id\"].unique()))]"
   ]
  },
  {
   "cell_type": "code",
   "execution_count": 114,
   "id": "a68c9b3b",
   "metadata": {},
   "outputs": [],
   "source": [
    "licenses_one_hot = pd.crosstab(candidate_driving[\"candidate_id\"],\n",
    "                               candidate_driving[\"driving_licenses\"])"
   ]
  },
  {
   "cell_type": "code",
   "execution_count": 115,
   "id": "5d8e4287",
   "metadata": {},
   "outputs": [
    {
     "data": {
      "text/plain": [
       "(216926, 8)"
      ]
     },
     "execution_count": 115,
     "metadata": {},
     "output_type": "execute_result"
    }
   ],
   "source": [
    "licenses_one_hot.shape"
   ]
  },
  {
   "cell_type": "code",
   "execution_count": 116,
   "id": "e513e4ba",
   "metadata": {},
   "outputs": [],
   "source": [
    "licenses_one_hot.to_csv(\"../Data/licenses_one-hot.csv\")"
   ]
  },
  {
   "cell_type": "markdown",
   "id": "1e57a30f",
   "metadata": {},
   "source": [
    "# Skill reindexing"
   ]
  },
  {
   "cell_type": "code",
   "execution_count": 8,
   "id": "caf2a65f",
   "metadata": {},
   "outputs": [],
   "source": [
    "skill_to_idx = {v : i for i, v in enumerate(sorted(candidate_skill[\"skill_id\"].astype(float).unique()))}\n",
    "idx_to_skill = {i : v for i, v in skill_to_idx.items()}\n",
    "candidate_skill[\"skill_id\"] = candidate_skill[\"skill_id\"].progress_apply(lambda x: skill_to_idx[x])\n",
    "skills_dict = candidate_skill.groupby(\"candidate_id\")[\"skill_id\"].apply(list).to_dict()"
   ]
  },
  {
   "cell_type": "code",
   "execution_count": 9,
   "id": "cdeae767",
   "metadata": {},
   "outputs": [],
   "source": [
    "# TODO: do this in a way that doesn't require 70gb of memory lol\n",
    "# Convert lists of skills to dataframe of skills per candidate\n",
    "skills_ct = pd.crosstab(candidate_skill[\"candidate_id\"], \n",
    "                        candidate_skill[\"skill_id\"])\n",
    "\n",
    "# # skills = skills_ct.where(skills_ct != 1, skills_ct.columns.to_series(), axis=1)\n",
    "skills_ct.columns = [f\"skill_{i}\" for i in skills_ct.columns]"
   ]
  },
  {
   "cell_type": "code",
   "execution_count": 10,
   "id": "ee673501",
   "metadata": {},
   "outputs": [
    {
     "name": "stdout",
     "output_type": "stream",
     "text": [
      "<class 'pandas.core.frame.DataFrame'>\n",
      "Int64Index: 465522 entries, 84267 to 7980693\n",
      "Columns: 317 entries, skill_0 to skill_316\n",
      "dtypes: int64(317)\n",
      "memory usage: 1.1 GB\n"
     ]
    }
   ],
   "source": [
    "skills_ct.info()"
   ]
  },
  {
   "cell_type": "code",
   "execution_count": 11,
   "id": "26df6464",
   "metadata": {},
   "outputs": [],
   "source": [
    "# skills_ct.to_csv(\"skills_one-hot.csv\")"
   ]
  },
  {
   "cell_type": "markdown",
   "id": "39a6ce96",
   "metadata": {},
   "source": [
    "# Merging and formatting"
   ]
  },
  {
   "cell_type": "code",
   "execution_count": 12,
   "id": "00386b49",
   "metadata": {},
   "outputs": [],
   "source": [
    "def clean_df(df, table = \"work_experience\"):\n",
    "    \n",
    "    if table == \"work_experience\":\n",
    "        start, end = \"date_start_job\", \"date_end_job\"\n",
    "    elif table == \"education\":\n",
    "        start, end = \"date_start\", \"date_end\"\n",
    "    else:\n",
    "        return NotImplemented\n",
    "    \n",
    "    # Drop nonsense data\n",
    "    df = df[df[start] >= dt.datetime(1800, 1, 1)]\n",
    "    df = df[df[end] <= dt.datetime(2100, 1, 1)]\n",
    "\n",
    "    # Convert datetime to date\n",
    "    df[start] = pd.to_datetime(df[start]).dt.date\n",
    "    df[end] = pd.to_datetime(df[end]).dt.date\n",
    "    \n",
    "    return df\n",
    "        \n",
    "candidate_work_experience = clean_df(candidate_work_experience)\n",
    "candidate_education = clean_df(candidate_education, table = \"education\")"
   ]
  },
  {
   "cell_type": "code",
   "execution_count": 13,
   "id": "764afe4a",
   "metadata": {},
   "outputs": [],
   "source": [
    "candidate_work_experience[\"time_spent\"] = (candidate_work_experience[\"date_end_job\"] - \n",
    "                                           candidate_work_experience[\"date_start_job\"]).dt.days.astype('int16')"
   ]
  },
  {
   "cell_type": "code",
   "execution_count": 14,
   "id": "6980e92d",
   "metadata": {},
   "outputs": [
    {
     "data": {
      "text/html": [
       "<div>\n",
       "<style scoped>\n",
       "    .dataframe tbody tr th:only-of-type {\n",
       "        vertical-align: middle;\n",
       "    }\n",
       "\n",
       "    .dataframe tbody tr th {\n",
       "        vertical-align: top;\n",
       "    }\n",
       "\n",
       "    .dataframe thead th {\n",
       "        text-align: right;\n",
       "    }\n",
       "</style>\n",
       "<table border=\"1\" class=\"dataframe\">\n",
       "  <thead>\n",
       "    <tr style=\"text-align: right;\">\n",
       "      <th></th>\n",
       "      <th>candidate_id</th>\n",
       "      <th>date_start_job</th>\n",
       "      <th>unique_id</th>\n",
       "      <th>date_end_job</th>\n",
       "      <th>function_id</th>\n",
       "      <th>isco_functie_niveau</th>\n",
       "      <th>isco_code4</th>\n",
       "      <th>function_name_self</th>\n",
       "      <th>company_name</th>\n",
       "      <th>source</th>\n",
       "      <th>time_spent</th>\n",
       "      <th>education</th>\n",
       "    </tr>\n",
       "  </thead>\n",
       "  <tbody>\n",
       "    <tr>\n",
       "      <th>0</th>\n",
       "      <td>96481</td>\n",
       "      <td>1999-07-27</td>\n",
       "      <td>214043</td>\n",
       "      <td>1999-08-23</td>\n",
       "      <td>2038.0</td>\n",
       "      <td>1.0</td>\n",
       "      <td>9329.0</td>\n",
       "      <td>Functienaam van code 9970</td>\n",
       "      <td>Drai Display Europe BV</td>\n",
       "      <td>plaatsing</td>\n",
       "      <td>27</td>\n",
       "      <td>0.0</td>\n",
       "    </tr>\n",
       "    <tr>\n",
       "      <th>1</th>\n",
       "      <td>96481</td>\n",
       "      <td>2000-08-14</td>\n",
       "      <td>2192150</td>\n",
       "      <td>2000-08-14</td>\n",
       "      <td>2038.0</td>\n",
       "      <td>1.0</td>\n",
       "      <td>9329.0</td>\n",
       "      <td>Functienaam van code 9970</td>\n",
       "      <td>Banta Global Turnkey B.V.</td>\n",
       "      <td>plaatsing</td>\n",
       "      <td>0</td>\n",
       "      <td>0.0</td>\n",
       "    </tr>\n",
       "    <tr>\n",
       "      <th>2</th>\n",
       "      <td>96481</td>\n",
       "      <td>2000-08-16</td>\n",
       "      <td>215214</td>\n",
       "      <td>2000-09-18</td>\n",
       "      <td>2038.0</td>\n",
       "      <td>1.0</td>\n",
       "      <td>9329.0</td>\n",
       "      <td>Functienaam van code 9970</td>\n",
       "      <td>Kamp Coating Apeldoorn BV</td>\n",
       "      <td>plaatsing</td>\n",
       "      <td>33</td>\n",
       "      <td>0.0</td>\n",
       "    </tr>\n",
       "    <tr>\n",
       "      <th>3</th>\n",
       "      <td>96481</td>\n",
       "      <td>2004-08-16</td>\n",
       "      <td>246438</td>\n",
       "      <td>2004-08-23</td>\n",
       "      <td>2038.0</td>\n",
       "      <td>1.0</td>\n",
       "      <td>9329.0</td>\n",
       "      <td>Productie-medew uitz</td>\n",
       "      <td>Coldec Productie B.V.</td>\n",
       "      <td>plaatsing</td>\n",
       "      <td>7</td>\n",
       "      <td>3.0</td>\n",
       "    </tr>\n",
       "    <tr>\n",
       "      <th>4</th>\n",
       "      <td>96481</td>\n",
       "      <td>2004-09-13</td>\n",
       "      <td>2182290</td>\n",
       "      <td>2005-03-31</td>\n",
       "      <td>2439.0</td>\n",
       "      <td>1.0</td>\n",
       "      <td>9321.0</td>\n",
       "      <td>None</td>\n",
       "      <td>Banta Global Turnkey B.V.</td>\n",
       "      <td>plaatsing</td>\n",
       "      <td>199</td>\n",
       "      <td>3.0</td>\n",
       "    </tr>\n",
       "  </tbody>\n",
       "</table>\n",
       "</div>"
      ],
      "text/plain": [
       "   candidate_id date_start_job  unique_id date_end_job  function_id  \\\n",
       "0         96481     1999-07-27     214043   1999-08-23       2038.0   \n",
       "1         96481     2000-08-14    2192150   2000-08-14       2038.0   \n",
       "2         96481     2000-08-16     215214   2000-09-18       2038.0   \n",
       "3         96481     2004-08-16     246438   2004-08-23       2038.0   \n",
       "4         96481     2004-09-13    2182290   2005-03-31       2439.0   \n",
       "\n",
       "   isco_functie_niveau  isco_code4         function_name_self  \\\n",
       "0                  1.0      9329.0  Functienaam van code 9970   \n",
       "1                  1.0      9329.0  Functienaam van code 9970   \n",
       "2                  1.0      9329.0  Functienaam van code 9970   \n",
       "3                  1.0      9329.0       Productie-medew uitz   \n",
       "4                  1.0      9321.0                       None   \n",
       "\n",
       "                company_name     source  time_spent  education  \n",
       "0     Drai Display Europe BV  plaatsing          27        0.0  \n",
       "1  Banta Global Turnkey B.V.  plaatsing           0        0.0  \n",
       "2  Kamp Coating Apeldoorn BV  plaatsing          33        0.0  \n",
       "3      Coldec Productie B.V.  plaatsing           7        3.0  \n",
       "4  Banta Global Turnkey B.V.  plaatsing         199        3.0  "
      ]
     },
     "execution_count": 14,
     "metadata": {},
     "output_type": "execute_result"
    }
   ],
   "source": [
    "def find_educations(df_work, df_education):\n",
    "\n",
    "    # Merge career data with education levels\n",
    "    career_education = pd.merge(df_work, \n",
    "                                df_education, \n",
    "                                on = \"candidate_id\", \n",
    "                                how = \"left\")[[\"candidate_id\",\n",
    "                                               \"date_start_job\",\n",
    "                                               \"date_end_job\",\n",
    "                                               \"time_spent\",\n",
    "                                               \"education_level\",\n",
    "                                               \"date_start\",\n",
    "                                               \"date_end\",\n",
    "                                               \"passed\"]]\n",
    "    \n",
    "    # Filter out education that were not passed (yet) at the time of starting a job\n",
    "    passed = career_education[(career_education[\"date_start_job\"] >= career_education[\"date_end\"]) & \n",
    "                              (career_education[\"passed\"] == 1)]\n",
    "    \n",
    "    # Only store the highest education level reached at the start of each job\n",
    "    education_through_time = passed.groupby([\"candidate_id\", \"date_start_job\"])[\"education_level\"].max()\n",
    "    \n",
    "    df_work.set_index([\"candidate_id\", \"date_start_job\"], inplace=True)\n",
    "\n",
    "    # Store education data in candidate_work_experience\n",
    "    df_work[\"education\"] = education_through_time\n",
    "\n",
    "    # np.nan education = no education\n",
    "    df_work[\"education\"].fillna(0, inplace=True)\n",
    "\n",
    "    # Reset index for further data augmentation\n",
    "    df_work.reset_index(inplace=True)\n",
    "        \n",
    "    return df_work\n",
    "\n",
    "candidate_work_experience = find_educations(candidate_work_experience, candidate_education)\n",
    "\n",
    "candidate_work_experience.head()"
   ]
  },
  {
   "cell_type": "code",
   "execution_count": 15,
   "id": "d6175d65",
   "metadata": {},
   "outputs": [],
   "source": [
    "# Add skills\n",
    "# candidate_work_experience = pd.merge(candidate_work_experience, \n",
    "#                                      skills_ct, \n",
    "#                                      left_on=\"candidate_id\", \n",
    "#                                      right_index=True, \n",
    "#                                      how=\"left\")"
   ]
  },
  {
   "cell_type": "markdown",
   "id": "8f8dc71a",
   "metadata": {},
   "source": [
    "# Filtering and reindexing"
   ]
  },
  {
   "cell_type": "code",
   "execution_count": 16,
   "id": "22d5a321",
   "metadata": {},
   "outputs": [],
   "source": [
    "more_than_5 = candidate_work_experience[\"isco_code4\"].value_counts()\n",
    "more_than_5 = set(more_than_5[more_than_5 > 5].index)\n",
    "candidate_work_experience = candidate_work_experience[candidate_work_experience[\"isco_code4\"].isin(more_than_5)]"
   ]
  },
  {
   "cell_type": "code",
   "execution_count": null,
   "id": "ff92e8fc",
   "metadata": {},
   "outputs": [],
   "source": [
    "id_to_idx = {v : i for i, v in enumerate(sorted(candidate_work_experience[\"function_id\"].astype(float).unique()))}\n",
    "idx_to_id = {i : v for i, v in id_to_idx.items()}\n",
    "\n",
    "code_to_idx = {v : i for i, v in enumerate(sorted(candidate_work_experience[\"isco_code4\"].astype(float).unique()))}\n",
    "idx_to_code = {i : v for i, v in code_to_idx.items()}"
   ]
  },
  {
   "cell_type": "code",
   "execution_count": null,
   "id": "c4579da6",
   "metadata": {},
   "outputs": [],
   "source": [
    "candidate_work_experience[\"function_id\"] = candidate_work_experience[\"function_id\"].replace(id_to_idx)\n",
    "candidate_work_experience[\"isco_code4\"] = candidate_work_experience[\"isco_code4\"].replace(code_to_idx)"
   ]
  },
  {
   "cell_type": "code",
   "execution_count": 17,
   "id": "baa32c24",
   "metadata": {},
   "outputs": [
    {
     "data": {
      "text/plain": [
       "(1666709, 12)"
      ]
     },
     "execution_count": 17,
     "metadata": {},
     "output_type": "execute_result"
    }
   ],
   "source": [
    "candidate_work_experience.shape"
   ]
  },
  {
   "cell_type": "code",
   "execution_count": 18,
   "id": "ebc24659",
   "metadata": {},
   "outputs": [
    {
     "name": "stderr",
     "output_type": "stream",
     "text": [
      "100%|██████████| 468039/468039 [04:25<00:00, 1766.18it/s]\n"
     ]
    }
   ],
   "source": [
    "# Calculate the time it took to go from one job to another (in order)\n",
    "candidate_work_experience[\"time_between\"] = candidate_work_experience.groupby(\n",
    "    \"candidate_id\")[\"date_start_job\"].progress_apply(lambda x: x - x.shift(1))"
   ]
  },
  {
   "cell_type": "markdown",
   "id": "b670304f",
   "metadata": {},
   "source": [
    "# Add CV embeddings"
   ]
  },
  {
   "cell_type": "code",
   "execution_count": 21,
   "id": "56f87ad2",
   "metadata": {},
   "outputs": [],
   "source": [
    "embedding_pd = pd.read_parquet(\"s3://s3-nl-prd-semrb-emr/embeddings/doc_embeddings/word2vec/word2vec_doc_embedding.parquet\")\n",
    "embedding_pd['cv_id'] = embedding_pd['cv_id'].astype('int')\n",
    "embedding_pd.rename(columns={\"doc_embedding\": \"tensor\"}, inplace=True)"
   ]
  },
  {
   "cell_type": "code",
   "execution_count": 22,
   "id": "e9365b57",
   "metadata": {},
   "outputs": [],
   "source": [
    "sql_path = os.path.join(\"/home/ec2-user/SageMaker/data-science-development/talent_recommender/daily_snapshots\",\n",
    "                        Config.query_candidate_cvs) \n",
    "\n",
    "candidate_cvs = get_from_redshift(sql_path, Config.redshift_creds)"
   ]
  },
  {
   "cell_type": "code",
   "execution_count": 23,
   "id": "99b8c887",
   "metadata": {},
   "outputs": [
    {
     "name": "stderr",
     "output_type": "stream",
     "text": [
      "/home/ec2-user/anaconda3/envs/pytorch_p36/lib/python3.6/site-packages/ipykernel/__main__.py:14: SettingWithCopyWarning: \n",
      "A value is trying to be set on a copy of a slice from a DataFrame.\n",
      "Try using .loc[row_indexer,col_indexer] = value instead\n",
      "\n",
      "See the caveats in the documentation: https://pandas.pydata.org/pandas-docs/stable/user_guide/indexing.html#returning-a-view-versus-a-copy\n"
     ]
    }
   ],
   "source": [
    "def find_embeddings(embedding_pd, candidate_cvs):\n",
    "    embedding_pd = embedding_pd.set_index(\"cv_id\")\n",
    "    \n",
    "    candidate_cvs = candidate_cvs[[\"cv_id\", \"candidate_id\", \"date_start\"]]\n",
    "\n",
    "    embedding_per_candidate = pd.merge(embedding_pd, \n",
    "                                       candidate_cvs, \n",
    "                                       left_index=True, \n",
    "                                       right_on=\"cv_id\")[[\"candidate_id\", \"embedding\", \"date_start\"]]\n",
    "    \n",
    "    matches = (set(embedding_per_candidate[\"candidate_id\"]) & set(candidate_work_experience[\"candidate_id\"]))\n",
    "    \n",
    "    matched_cvs = embedding_per_candidate[embedding_per_candidate[\"candidate_id\"].isin(matches)]\n",
    "    matched_cvs[\"date_start\"] = matched_cvs[\"date_start\"].dt.date\n",
    "    \n",
    "    last_cv_per_day = matched_cvs.groupby([\"candidate_id\", \"date_start\"])[\"embedding\"].apply(lambda x: list(x)[-1])\n",
    "    \n",
    "    cv_embeddings = last_cv_per_day.reset_index()\n",
    "    \n",
    "    return cv_embeddings\n",
    "\n",
    "cv_embeddings = find_embeddings(embedding_pd, candidate_cvs)"
   ]
  },
  {
   "cell_type": "code",
   "execution_count": 24,
   "id": "63e5ff58",
   "metadata": {},
   "outputs": [
    {
     "data": {
      "text/html": [
       "<div>\n",
       "<style scoped>\n",
       "    .dataframe tbody tr th:only-of-type {\n",
       "        vertical-align: middle;\n",
       "    }\n",
       "\n",
       "    .dataframe tbody tr th {\n",
       "        vertical-align: top;\n",
       "    }\n",
       "\n",
       "    .dataframe thead th {\n",
       "        text-align: right;\n",
       "    }\n",
       "</style>\n",
       "<table border=\"1\" class=\"dataframe\">\n",
       "  <thead>\n",
       "    <tr style=\"text-align: right;\">\n",
       "      <th></th>\n",
       "      <th>candidate_id</th>\n",
       "      <th>date_start</th>\n",
       "      <th>embedding</th>\n",
       "    </tr>\n",
       "  </thead>\n",
       "  <tbody>\n",
       "    <tr>\n",
       "      <th>0</th>\n",
       "      <td>84556.0</td>\n",
       "      <td>2020-07-02</td>\n",
       "      <td>[0.07265971601009369, -0.8582056760787964, -0....</td>\n",
       "    </tr>\n",
       "    <tr>\n",
       "      <th>1</th>\n",
       "      <td>84612.0</td>\n",
       "      <td>2020-05-30</td>\n",
       "      <td>[0.3474675714969635, -1.0429900884628296, -0.3...</td>\n",
       "    </tr>\n",
       "    <tr>\n",
       "      <th>2</th>\n",
       "      <td>84612.0</td>\n",
       "      <td>2020-06-03</td>\n",
       "      <td>[0.34068500995635986, -1.0179638862609863, -0....</td>\n",
       "    </tr>\n",
       "    <tr>\n",
       "      <th>3</th>\n",
       "      <td>84731.0</td>\n",
       "      <td>2020-06-03</td>\n",
       "      <td>[0.12455234676599503, -0.1725415289402008, -0....</td>\n",
       "    </tr>\n",
       "    <tr>\n",
       "      <th>4</th>\n",
       "      <td>85437.0</td>\n",
       "      <td>2020-06-06</td>\n",
       "      <td>[0.2048000991344452, -0.49068811535835266, -0....</td>\n",
       "    </tr>\n",
       "  </tbody>\n",
       "</table>\n",
       "</div>"
      ],
      "text/plain": [
       "   candidate_id date_start                                          embedding\n",
       "0       84556.0 2020-07-02  [0.07265971601009369, -0.8582056760787964, -0....\n",
       "1       84612.0 2020-05-30  [0.3474675714969635, -1.0429900884628296, -0.3...\n",
       "2       84612.0 2020-06-03  [0.34068500995635986, -1.0179638862609863, -0....\n",
       "3       84731.0 2020-06-03  [0.12455234676599503, -0.1725415289402008, -0....\n",
       "4       85437.0 2020-06-06  [0.2048000991344452, -0.49068811535835266, -0...."
      ]
     },
     "execution_count": 24,
     "metadata": {},
     "output_type": "execute_result"
    }
   ],
   "source": [
    "cv_embeddings.head()"
   ]
  },
  {
   "cell_type": "code",
   "execution_count": 25,
   "id": "7a65dace",
   "metadata": {},
   "outputs": [
    {
     "data": {
      "text/html": [
       "<div>\n",
       "<style scoped>\n",
       "    .dataframe tbody tr th:only-of-type {\n",
       "        vertical-align: middle;\n",
       "    }\n",
       "\n",
       "    .dataframe tbody tr th {\n",
       "        vertical-align: top;\n",
       "    }\n",
       "\n",
       "    .dataframe thead th {\n",
       "        text-align: right;\n",
       "    }\n",
       "</style>\n",
       "<table border=\"1\" class=\"dataframe\">\n",
       "  <thead>\n",
       "    <tr style=\"text-align: right;\">\n",
       "      <th></th>\n",
       "      <th>candidate_id</th>\n",
       "      <th>date_start_job</th>\n",
       "      <th>unique_id</th>\n",
       "      <th>date_end_job</th>\n",
       "      <th>function_id</th>\n",
       "      <th>isco_functie_niveau</th>\n",
       "      <th>isco_code4</th>\n",
       "      <th>function_name_self</th>\n",
       "      <th>company_name</th>\n",
       "      <th>source</th>\n",
       "      <th>time_spent</th>\n",
       "      <th>education</th>\n",
       "      <th>time_between</th>\n",
       "      <th>date_start</th>\n",
       "      <th>embedding</th>\n",
       "    </tr>\n",
       "  </thead>\n",
       "  <tbody>\n",
       "    <tr>\n",
       "      <th>0</th>\n",
       "      <td>96481</td>\n",
       "      <td>1999-07-27</td>\n",
       "      <td>214043</td>\n",
       "      <td>1999-08-23</td>\n",
       "      <td>2038.0</td>\n",
       "      <td>1.0</td>\n",
       "      <td>9329.0</td>\n",
       "      <td>Functienaam van code 9970</td>\n",
       "      <td>Drai Display Europe BV</td>\n",
       "      <td>plaatsing</td>\n",
       "      <td>27</td>\n",
       "      <td>0.0</td>\n",
       "      <td>NaT</td>\n",
       "      <td>NaT</td>\n",
       "      <td>NaN</td>\n",
       "    </tr>\n",
       "    <tr>\n",
       "      <th>1</th>\n",
       "      <td>96481</td>\n",
       "      <td>2000-08-14</td>\n",
       "      <td>2192150</td>\n",
       "      <td>2000-08-14</td>\n",
       "      <td>2038.0</td>\n",
       "      <td>1.0</td>\n",
       "      <td>9329.0</td>\n",
       "      <td>Functienaam van code 9970</td>\n",
       "      <td>Banta Global Turnkey B.V.</td>\n",
       "      <td>plaatsing</td>\n",
       "      <td>0</td>\n",
       "      <td>0.0</td>\n",
       "      <td>384 days</td>\n",
       "      <td>NaT</td>\n",
       "      <td>NaN</td>\n",
       "    </tr>\n",
       "    <tr>\n",
       "      <th>2</th>\n",
       "      <td>96481</td>\n",
       "      <td>2000-08-16</td>\n",
       "      <td>215214</td>\n",
       "      <td>2000-09-18</td>\n",
       "      <td>2038.0</td>\n",
       "      <td>1.0</td>\n",
       "      <td>9329.0</td>\n",
       "      <td>Functienaam van code 9970</td>\n",
       "      <td>Kamp Coating Apeldoorn BV</td>\n",
       "      <td>plaatsing</td>\n",
       "      <td>33</td>\n",
       "      <td>0.0</td>\n",
       "      <td>2 days</td>\n",
       "      <td>NaT</td>\n",
       "      <td>NaN</td>\n",
       "    </tr>\n",
       "    <tr>\n",
       "      <th>3</th>\n",
       "      <td>96481</td>\n",
       "      <td>2004-08-16</td>\n",
       "      <td>246438</td>\n",
       "      <td>2004-08-23</td>\n",
       "      <td>2038.0</td>\n",
       "      <td>1.0</td>\n",
       "      <td>9329.0</td>\n",
       "      <td>Productie-medew uitz</td>\n",
       "      <td>Coldec Productie B.V.</td>\n",
       "      <td>plaatsing</td>\n",
       "      <td>7</td>\n",
       "      <td>3.0</td>\n",
       "      <td>1461 days</td>\n",
       "      <td>NaT</td>\n",
       "      <td>NaN</td>\n",
       "    </tr>\n",
       "    <tr>\n",
       "      <th>4</th>\n",
       "      <td>96481</td>\n",
       "      <td>2004-09-13</td>\n",
       "      <td>2182290</td>\n",
       "      <td>2005-03-31</td>\n",
       "      <td>2439.0</td>\n",
       "      <td>1.0</td>\n",
       "      <td>9321.0</td>\n",
       "      <td>None</td>\n",
       "      <td>Banta Global Turnkey B.V.</td>\n",
       "      <td>plaatsing</td>\n",
       "      <td>199</td>\n",
       "      <td>3.0</td>\n",
       "      <td>28 days</td>\n",
       "      <td>NaT</td>\n",
       "      <td>NaN</td>\n",
       "    </tr>\n",
       "    <tr>\n",
       "      <th>...</th>\n",
       "      <td>...</td>\n",
       "      <td>...</td>\n",
       "      <td>...</td>\n",
       "      <td>...</td>\n",
       "      <td>...</td>\n",
       "      <td>...</td>\n",
       "      <td>...</td>\n",
       "      <td>...</td>\n",
       "      <td>...</td>\n",
       "      <td>...</td>\n",
       "      <td>...</td>\n",
       "      <td>...</td>\n",
       "      <td>...</td>\n",
       "      <td>...</td>\n",
       "      <td>...</td>\n",
       "    </tr>\n",
       "    <tr>\n",
       "      <th>1863012</th>\n",
       "      <td>8897546</td>\n",
       "      <td>2022-04-15</td>\n",
       "      <td>10582043</td>\n",
       "      <td>2023-04-16</td>\n",
       "      <td>292.0</td>\n",
       "      <td>1.0</td>\n",
       "      <td>9621.0</td>\n",
       "      <td>Courier</td>\n",
       "      <td>Takeaway.com Express Netherlands B.V.</td>\n",
       "      <td>plaatsing</td>\n",
       "      <td>366</td>\n",
       "      <td>0.0</td>\n",
       "      <td>NaT</td>\n",
       "      <td>NaT</td>\n",
       "      <td>NaN</td>\n",
       "    </tr>\n",
       "    <tr>\n",
       "      <th>1863013</th>\n",
       "      <td>8897547</td>\n",
       "      <td>2017-02-01</td>\n",
       "      <td>17680797</td>\n",
       "      <td>2018-04-01</td>\n",
       "      <td>292.0</td>\n",
       "      <td>1.0</td>\n",
       "      <td>9621.0</td>\n",
       "      <td>Bezorger</td>\n",
       "      <td>Dominos</td>\n",
       "      <td>dossier</td>\n",
       "      <td>424</td>\n",
       "      <td>0.0</td>\n",
       "      <td>NaT</td>\n",
       "      <td>NaT</td>\n",
       "      <td>NaN</td>\n",
       "    </tr>\n",
       "    <tr>\n",
       "      <th>1863014</th>\n",
       "      <td>8897799</td>\n",
       "      <td>2021-08-01</td>\n",
       "      <td>17680902</td>\n",
       "      <td>2021-12-01</td>\n",
       "      <td>2038.0</td>\n",
       "      <td>1.0</td>\n",
       "      <td>9329.0</td>\n",
       "      <td>Productiemedewerker</td>\n",
       "      <td>\"V  i  r g  i  n     N  u  t s\"</td>\n",
       "      <td>dossier</td>\n",
       "      <td>122</td>\n",
       "      <td>0.0</td>\n",
       "      <td>NaT</td>\n",
       "      <td>NaT</td>\n",
       "      <td>NaN</td>\n",
       "    </tr>\n",
       "    <tr>\n",
       "      <th>1863015</th>\n",
       "      <td>8897803</td>\n",
       "      <td>2016-02-01</td>\n",
       "      <td>17680904</td>\n",
       "      <td>2016-11-01</td>\n",
       "      <td>1092.0</td>\n",
       "      <td>2.0</td>\n",
       "      <td>5120.0</td>\n",
       "      <td>Zelfstandig werkende kok</td>\n",
       "      <td>Van der Valk</td>\n",
       "      <td>dossier</td>\n",
       "      <td>274</td>\n",
       "      <td>0.0</td>\n",
       "      <td>NaT</td>\n",
       "      <td>NaT</td>\n",
       "      <td>NaN</td>\n",
       "    </tr>\n",
       "    <tr>\n",
       "      <th>1863016</th>\n",
       "      <td>8897803</td>\n",
       "      <td>2020-03-01</td>\n",
       "      <td>17680905</td>\n",
       "      <td>2020-08-01</td>\n",
       "      <td>2038.0</td>\n",
       "      <td>1.0</td>\n",
       "      <td>9329.0</td>\n",
       "      <td>Productiemedewerker</td>\n",
       "      <td>Promen</td>\n",
       "      <td>dossier</td>\n",
       "      <td>153</td>\n",
       "      <td>0.0</td>\n",
       "      <td>1490 days</td>\n",
       "      <td>NaT</td>\n",
       "      <td>NaN</td>\n",
       "    </tr>\n",
       "  </tbody>\n",
       "</table>\n",
       "<p>1863017 rows × 15 columns</p>\n",
       "</div>"
      ],
      "text/plain": [
       "         candidate_id date_start_job  unique_id date_end_job  function_id  \\\n",
       "0               96481     1999-07-27     214043   1999-08-23       2038.0   \n",
       "1               96481     2000-08-14    2192150   2000-08-14       2038.0   \n",
       "2               96481     2000-08-16     215214   2000-09-18       2038.0   \n",
       "3               96481     2004-08-16     246438   2004-08-23       2038.0   \n",
       "4               96481     2004-09-13    2182290   2005-03-31       2439.0   \n",
       "...               ...            ...        ...          ...          ...   \n",
       "1863012       8897546     2022-04-15   10582043   2023-04-16        292.0   \n",
       "1863013       8897547     2017-02-01   17680797   2018-04-01        292.0   \n",
       "1863014       8897799     2021-08-01   17680902   2021-12-01       2038.0   \n",
       "1863015       8897803     2016-02-01   17680904   2016-11-01       1092.0   \n",
       "1863016       8897803     2020-03-01   17680905   2020-08-01       2038.0   \n",
       "\n",
       "         isco_functie_niveau  isco_code4         function_name_self  \\\n",
       "0                        1.0      9329.0  Functienaam van code 9970   \n",
       "1                        1.0      9329.0  Functienaam van code 9970   \n",
       "2                        1.0      9329.0  Functienaam van code 9970   \n",
       "3                        1.0      9329.0       Productie-medew uitz   \n",
       "4                        1.0      9321.0                       None   \n",
       "...                      ...         ...                        ...   \n",
       "1863012                  1.0      9621.0                    Courier   \n",
       "1863013                  1.0      9621.0                   Bezorger   \n",
       "1863014                  1.0      9329.0        Productiemedewerker   \n",
       "1863015                  2.0      5120.0   Zelfstandig werkende kok   \n",
       "1863016                  1.0      9329.0        Productiemedewerker   \n",
       "\n",
       "                                  company_name     source  time_spent  \\\n",
       "0                       Drai Display Europe BV  plaatsing          27   \n",
       "1                    Banta Global Turnkey B.V.  plaatsing           0   \n",
       "2                    Kamp Coating Apeldoorn BV  plaatsing          33   \n",
       "3                        Coldec Productie B.V.  plaatsing           7   \n",
       "4                    Banta Global Turnkey B.V.  plaatsing         199   \n",
       "...                                        ...        ...         ...   \n",
       "1863012  Takeaway.com Express Netherlands B.V.  plaatsing         366   \n",
       "1863013                                Dominos    dossier         424   \n",
       "1863014      \"V  i  r g  i  n     N  u  t s\"      dossier         122   \n",
       "1863015                           Van der Valk    dossier         274   \n",
       "1863016                                 Promen    dossier         153   \n",
       "\n",
       "         education time_between date_start embedding  \n",
       "0              0.0          NaT        NaT       NaN  \n",
       "1              0.0     384 days        NaT       NaN  \n",
       "2              0.0       2 days        NaT       NaN  \n",
       "3              3.0    1461 days        NaT       NaN  \n",
       "4              3.0      28 days        NaT       NaN  \n",
       "...            ...          ...        ...       ...  \n",
       "1863012        0.0          NaT        NaT       NaN  \n",
       "1863013        0.0          NaT        NaT       NaN  \n",
       "1863014        0.0          NaT        NaT       NaN  \n",
       "1863015        0.0          NaT        NaT       NaN  \n",
       "1863016        0.0    1490 days        NaT       NaN  \n",
       "\n",
       "[1863017 rows x 15 columns]"
      ]
     },
     "metadata": {},
     "output_type": "display_data"
    }
   ],
   "source": [
    "def add_embeddings(candidate_work_experience, cv_embeddings):\n",
    "    \n",
    "    # Add CVs to candidates (includes duplicates)\n",
    "    full_merge = pd.merge(candidate_work_experience,\n",
    "                          cv_embeddings,\n",
    "                          left_on=\"candidate_id\",\n",
    "                          right_on=\"candidate_id\",\n",
    "                          how=\"left\")\n",
    "    \n",
    "    display(full_merge)\n",
    "    \n",
    "    # Find the maximum date of uploaded cvs per job (i.e. most recent CV during each job)\n",
    "    most_recent_cvs = full_merge[(full_merge[\"date_start_job\"]\n",
    "                                  >= full_merge[\"date_start\"])].groupby(\n",
    "        \"unique_id\")[\"date_start\"].idxmax()   \n",
    "    \n",
    "    # Some candidates only added CVs after their last job started, so account for that too\n",
    "    late_cvs = full_merge[(full_merge[\"date_start_job\"] <= \n",
    "                           full_merge[\"date_start\"])].groupby(\"unique_id\")[\"date_start\"].idxmax()\n",
    "    \n",
    "    # Filter out everything we already found earlier\n",
    "    late_cvs = late_cvs[set(late_cvs.index) - set(most_recent_cvs.index)]\n",
    "    \n",
    "    # Now we have all the CVs in one place\n",
    "    cv_idxs = pd.concat([most_recent_cvs, late_cvs])\n",
    "    \n",
    "    # Combine the two frames to include candidates without any CVs\n",
    "    combined = pd.concat([full_merge[full_merge[\"embedding\"].isna()], \n",
    "                          full_merge.loc[cv_idxs.values]])\n",
    "    \n",
    "    return combined\n",
    "\n",
    "candidate_work_experience = add_embeddings(candidate_work_experience, cv_embeddings)"
   ]
  },
  {
   "cell_type": "code",
   "execution_count": 26,
   "id": "3df18bae",
   "metadata": {},
   "outputs": [],
   "source": [
    "# candidate_work_experience[\"embedding\"] = candidate_work_experience[\"embedding\"].apply(lambda x: x if x is not np.nan\n",
    "#                                                                                                   else [0] * 300)"
   ]
  },
  {
   "cell_type": "code",
   "execution_count": 27,
   "id": "aa0b523a",
   "metadata": {},
   "outputs": [],
   "source": [
    "candidate_work_experience = candidate_work_experience.reset_index().drop(\"index\", axis=1)"
   ]
  },
  {
   "cell_type": "code",
   "execution_count": 28,
   "id": "a922f441",
   "metadata": {},
   "outputs": [],
   "source": [
    "# embedding_lists = candidate_work_experience[\"embedding\"].to_list()\n",
    "# embeddings = pd.DataFrame(embedding_lists)"
   ]
  },
  {
   "cell_type": "code",
   "execution_count": 29,
   "id": "379ca7f8",
   "metadata": {},
   "outputs": [],
   "source": [
    "# embeddings.columns = [f\"embedding_{i}\" for i in range(len(embeddings.columns))]"
   ]
  },
  {
   "cell_type": "code",
   "execution_count": 30,
   "id": "82cfd3d9",
   "metadata": {},
   "outputs": [],
   "source": [
    "# candidate_work_experience = pd.concat([candidate_work_experience, embeddings], axis=1)"
   ]
  },
  {
   "cell_type": "markdown",
   "id": "e7490d7b",
   "metadata": {},
   "source": [
    "# Ordering & Time"
   ]
  },
  {
   "cell_type": "code",
   "execution_count": 31,
   "id": "d1e48c14",
   "metadata": {},
   "outputs": [],
   "source": [
    "def add_order(df):\n",
    "    \n",
    "    # Count the number of jobs each candidate has ahd\n",
    "    job_counts = df.groupby(\"candidate_id\").size()  \n",
    "    \n",
    "    # Sort by candidate_id, date_start_job\n",
    "    sorted_df = df.sort_values(by = ['candidate_id', \"date_start_job\"])\n",
    "    \n",
    "    # Reset index\n",
    "    sorted_df.reset_index(inplace=True, drop=True)\n",
    "    \n",
    "    # Create a list of lists containing the order of each candidates jobs (which came first, second, third, etc.)\n",
    "    order = [np.arange(count) for count in job_counts.values]\n",
    "    \n",
    "    # Flatten list\n",
    "    order = [item for sublist in order for item in sublist]\n",
    "    \n",
    "    # Add order to df\n",
    "    sorted_df[\"job_order\"] = order\n",
    "    \n",
    "    # Set a candidate_id, job_order as the index\n",
    "    return sorted_df.set_index([\"candidate_id\", \n",
    "                                \"job_order\"])\n",
    "\n",
    "df = add_order(candidate_work_experience)"
   ]
  },
  {
   "cell_type": "code",
   "execution_count": 32,
   "id": "8faa1dad",
   "metadata": {},
   "outputs": [
    {
     "data": {
      "text/html": [
       "<div>\n",
       "<style scoped>\n",
       "    .dataframe tbody tr th:only-of-type {\n",
       "        vertical-align: middle;\n",
       "    }\n",
       "\n",
       "    .dataframe tbody tr th {\n",
       "        vertical-align: top;\n",
       "    }\n",
       "\n",
       "    .dataframe thead th {\n",
       "        text-align: right;\n",
       "    }\n",
       "</style>\n",
       "<table border=\"1\" class=\"dataframe\">\n",
       "  <thead>\n",
       "    <tr style=\"text-align: right;\">\n",
       "      <th></th>\n",
       "      <th></th>\n",
       "      <th>date_start_job</th>\n",
       "      <th>date_end_job</th>\n",
       "      <th>time_spent</th>\n",
       "      <th>time_between</th>\n",
       "      <th>isco_code4</th>\n",
       "      <th>function_id</th>\n",
       "      <th>isco_functie_niveau</th>\n",
       "      <th>company_name</th>\n",
       "      <th>source</th>\n",
       "      <th>education</th>\n",
       "      <th>embedding</th>\n",
       "    </tr>\n",
       "    <tr>\n",
       "      <th>candidate_id</th>\n",
       "      <th>job_order</th>\n",
       "      <th></th>\n",
       "      <th></th>\n",
       "      <th></th>\n",
       "      <th></th>\n",
       "      <th></th>\n",
       "      <th></th>\n",
       "      <th></th>\n",
       "      <th></th>\n",
       "      <th></th>\n",
       "      <th></th>\n",
       "      <th></th>\n",
       "    </tr>\n",
       "  </thead>\n",
       "  <tbody>\n",
       "    <tr>\n",
       "      <th rowspan=\"5\" valign=\"top\">84556</th>\n",
       "      <th>0</th>\n",
       "      <td>2000-08-01</td>\n",
       "      <td>2001-01-04</td>\n",
       "      <td>156</td>\n",
       "      <td>37</td>\n",
       "      <td>5131.0</td>\n",
       "      <td>1236.0</td>\n",
       "      <td>2.0</td>\n",
       "      <td>(oud 3146Amsterdam RAI Catering Services</td>\n",
       "      <td>plaatsing</td>\n",
       "      <td>0.0</td>\n",
       "      <td>[0.07265971601009369, -0.8582056760787964, -0....</td>\n",
       "    </tr>\n",
       "    <tr>\n",
       "      <th>1</th>\n",
       "      <td>2000-09-07</td>\n",
       "      <td>2001-01-01</td>\n",
       "      <td>116</td>\n",
       "      <td>23</td>\n",
       "      <td>9412.0</td>\n",
       "      <td>1065.0</td>\n",
       "      <td>1.0</td>\n",
       "      <td>(oud 3146Amsterdam RAI Catering Services</td>\n",
       "      <td>plaatsing</td>\n",
       "      <td>0.0</td>\n",
       "      <td>[0.07265971601009369, -0.8582056760787964, -0....</td>\n",
       "    </tr>\n",
       "    <tr>\n",
       "      <th>2</th>\n",
       "      <td>2000-09-30</td>\n",
       "      <td>2001-07-02</td>\n",
       "      <td>275</td>\n",
       "      <td>23</td>\n",
       "      <td>5131.0</td>\n",
       "      <td>1236.0</td>\n",
       "      <td>2.0</td>\n",
       "      <td>AMSTERDAM RAI CATERING SERVICES B.V.</td>\n",
       "      <td>plaatsing</td>\n",
       "      <td>0.0</td>\n",
       "      <td>[0.07265971601009369, -0.8582056760787964, -0....</td>\n",
       "    </tr>\n",
       "    <tr>\n",
       "      <th>3</th>\n",
       "      <td>2000-10-23</td>\n",
       "      <td>2000-10-27</td>\n",
       "      <td>4</td>\n",
       "      <td>1155</td>\n",
       "      <td>9329.0</td>\n",
       "      <td>2038.0</td>\n",
       "      <td>1.0</td>\n",
       "      <td>Formido Bouwmarkt</td>\n",
       "      <td>plaatsing</td>\n",
       "      <td>0.0</td>\n",
       "      <td>[0.07265971601009369, -0.8582056760787964, -0....</td>\n",
       "    </tr>\n",
       "    <tr>\n",
       "      <th>4</th>\n",
       "      <td>2003-12-22</td>\n",
       "      <td>2004-01-02</td>\n",
       "      <td>11</td>\n",
       "      <td>203</td>\n",
       "      <td>9329.0</td>\n",
       "      <td>2038.0</td>\n",
       "      <td>1.0</td>\n",
       "      <td>Yakult Nederland B.V.</td>\n",
       "      <td>plaatsing</td>\n",
       "      <td>0.0</td>\n",
       "      <td>[0.07265971601009369, -0.8582056760787964, -0....</td>\n",
       "    </tr>\n",
       "  </tbody>\n",
       "</table>\n",
       "</div>"
      ],
      "text/plain": [
       "                       date_start_job date_end_job  time_spent  time_between  \\\n",
       "candidate_id job_order                                                         \n",
       "84556        0             2000-08-01   2001-01-04         156            37   \n",
       "             1             2000-09-07   2001-01-01         116            23   \n",
       "             2             2000-09-30   2001-07-02         275            23   \n",
       "             3             2000-10-23   2000-10-27           4          1155   \n",
       "             4             2003-12-22   2004-01-02          11           203   \n",
       "\n",
       "                        isco_code4  function_id  isco_functie_niveau  \\\n",
       "candidate_id job_order                                                 \n",
       "84556        0              5131.0       1236.0                  2.0   \n",
       "             1              9412.0       1065.0                  1.0   \n",
       "             2              5131.0       1236.0                  2.0   \n",
       "             3              9329.0       2038.0                  1.0   \n",
       "             4              9329.0       2038.0                  1.0   \n",
       "\n",
       "                                                    company_name     source  \\\n",
       "candidate_id job_order                                                        \n",
       "84556        0          (oud 3146Amsterdam RAI Catering Services  plaatsing   \n",
       "             1          (oud 3146Amsterdam RAI Catering Services  plaatsing   \n",
       "             2              AMSTERDAM RAI CATERING SERVICES B.V.  plaatsing   \n",
       "             3                                 Formido Bouwmarkt  plaatsing   \n",
       "             4                             Yakult Nederland B.V.  plaatsing   \n",
       "\n",
       "                        education  \\\n",
       "candidate_id job_order              \n",
       "84556        0                0.0   \n",
       "             1                0.0   \n",
       "             2                0.0   \n",
       "             3                0.0   \n",
       "             4                0.0   \n",
       "\n",
       "                                                                embedding  \n",
       "candidate_id job_order                                                     \n",
       "84556        0          [0.07265971601009369, -0.8582056760787964, -0....  \n",
       "             1          [0.07265971601009369, -0.8582056760787964, -0....  \n",
       "             2          [0.07265971601009369, -0.8582056760787964, -0....  \n",
       "             3          [0.07265971601009369, -0.8582056760787964, -0....  \n",
       "             4          [0.07265971601009369, -0.8582056760787964, -0....  "
      ]
     },
     "execution_count": 32,
     "metadata": {},
     "output_type": "execute_result"
    }
   ],
   "source": [
    "df = df[[\"date_start_job\", \"date_end_job\", \"time_spent\", \"time_between\", \"isco_code4\", \"function_id\",\n",
    "         \"isco_functie_niveau\", \"company_name\", \"source\", \"education\", \"embedding\"]]\n",
    "\n",
    "df[\"time_between\"] = df[\"time_between\"].shift(-1).fillna(pd.Timedelta(seconds=0)).dt.days.astype('int16')\n",
    "df.head()"
   ]
  },
  {
   "cell_type": "code",
   "execution_count": 33,
   "id": "b4c753be",
   "metadata": {},
   "outputs": [],
   "source": [
    "num_classes = len(df[\"isco_code4\"].unique())"
   ]
  },
  {
   "cell_type": "code",
   "execution_count": 34,
   "id": "e196e1f8",
   "metadata": {},
   "outputs": [],
   "source": [
    "# df_pred = df[[\"isco_functie_niveau\", \"education\", \"function_id\"]].fillna(0)\n",
    "pred_cols = [\"time_between\", \"time_spent\", \"isco_functie_niveau\", \n",
    "             \"education\", \"function_id\", \"isco_code4\"] # + [col for col in df.columns if \"skill_\" in col]\n",
    "num_features = len(pred_cols)\n",
    "\n",
    "df_pred = df[pred_cols].fillna(0)"
   ]
  },
  {
   "cell_type": "code",
   "execution_count": 35,
   "id": "36e621ce",
   "metadata": {},
   "outputs": [
    {
     "data": {
      "text/html": [
       "<div>\n",
       "<style scoped>\n",
       "    .dataframe tbody tr th:only-of-type {\n",
       "        vertical-align: middle;\n",
       "    }\n",
       "\n",
       "    .dataframe tbody tr th {\n",
       "        vertical-align: top;\n",
       "    }\n",
       "\n",
       "    .dataframe thead th {\n",
       "        text-align: right;\n",
       "    }\n",
       "</style>\n",
       "<table border=\"1\" class=\"dataframe\">\n",
       "  <thead>\n",
       "    <tr style=\"text-align: right;\">\n",
       "      <th></th>\n",
       "      <th></th>\n",
       "      <th>time_between</th>\n",
       "      <th>time_spent</th>\n",
       "      <th>isco_functie_niveau</th>\n",
       "      <th>education</th>\n",
       "      <th>function_id</th>\n",
       "      <th>isco_code4</th>\n",
       "    </tr>\n",
       "    <tr>\n",
       "      <th>candidate_id</th>\n",
       "      <th>job_order</th>\n",
       "      <th></th>\n",
       "      <th></th>\n",
       "      <th></th>\n",
       "      <th></th>\n",
       "      <th></th>\n",
       "      <th></th>\n",
       "    </tr>\n",
       "  </thead>\n",
       "  <tbody>\n",
       "    <tr>\n",
       "      <th rowspan=\"5\" valign=\"top\">84556</th>\n",
       "      <th>0</th>\n",
       "      <td>37</td>\n",
       "      <td>156</td>\n",
       "      <td>2.0</td>\n",
       "      <td>0.0</td>\n",
       "      <td>1236.0</td>\n",
       "      <td>5131.0</td>\n",
       "    </tr>\n",
       "    <tr>\n",
       "      <th>1</th>\n",
       "      <td>23</td>\n",
       "      <td>116</td>\n",
       "      <td>1.0</td>\n",
       "      <td>0.0</td>\n",
       "      <td>1065.0</td>\n",
       "      <td>9412.0</td>\n",
       "    </tr>\n",
       "    <tr>\n",
       "      <th>2</th>\n",
       "      <td>23</td>\n",
       "      <td>275</td>\n",
       "      <td>2.0</td>\n",
       "      <td>0.0</td>\n",
       "      <td>1236.0</td>\n",
       "      <td>5131.0</td>\n",
       "    </tr>\n",
       "    <tr>\n",
       "      <th>3</th>\n",
       "      <td>1155</td>\n",
       "      <td>4</td>\n",
       "      <td>1.0</td>\n",
       "      <td>0.0</td>\n",
       "      <td>2038.0</td>\n",
       "      <td>9329.0</td>\n",
       "    </tr>\n",
       "    <tr>\n",
       "      <th>4</th>\n",
       "      <td>203</td>\n",
       "      <td>11</td>\n",
       "      <td>1.0</td>\n",
       "      <td>0.0</td>\n",
       "      <td>2038.0</td>\n",
       "      <td>9329.0</td>\n",
       "    </tr>\n",
       "  </tbody>\n",
       "</table>\n",
       "</div>"
      ],
      "text/plain": [
       "                        time_between  time_spent  isco_functie_niveau  \\\n",
       "candidate_id job_order                                                  \n",
       "84556        0                    37         156                  2.0   \n",
       "             1                    23         116                  1.0   \n",
       "             2                    23         275                  2.0   \n",
       "             3                  1155           4                  1.0   \n",
       "             4                   203          11                  1.0   \n",
       "\n",
       "                        education  function_id  isco_code4  \n",
       "candidate_id job_order                                      \n",
       "84556        0                0.0       1236.0      5131.0  \n",
       "             1                0.0       1065.0      9412.0  \n",
       "             2                0.0       1236.0      5131.0  \n",
       "             3                0.0       2038.0      9329.0  \n",
       "             4                0.0       2038.0      9329.0  "
      ]
     },
     "execution_count": 35,
     "metadata": {},
     "output_type": "execute_result"
    }
   ],
   "source": [
    "df_pred.head()"
   ]
  },
  {
   "cell_type": "code",
   "execution_count": 38,
   "id": "04136867",
   "metadata": {},
   "outputs": [],
   "source": [
    "df_pred[[\"function_id\", \"isco_code4\"]].reset_index().to_csv(\"DTW_df_pred.csv\")"
   ]
  },
  {
   "cell_type": "markdown",
   "id": "907886d4",
   "metadata": {},
   "source": [
    "### Create separate embedding dict\n",
    "\n",
    "Done for optimization purposes"
   ]
  },
  {
   "cell_type": "code",
   "execution_count": null,
   "id": "3a565ffc",
   "metadata": {},
   "outputs": [],
   "source": [
    "embedding_order = df.reset_index()[[\"candidate_id\", \"job_order\", \"embedding\"]]"
   ]
  },
  {
   "cell_type": "code",
   "execution_count": null,
   "id": "83335975",
   "metadata": {},
   "outputs": [],
   "source": [
    "grouped_embeddings = embedding_order.groupby(\"candidate_id\")"
   ]
  },
  {
   "cell_type": "code",
   "execution_count": null,
   "id": "4505b273",
   "metadata": {},
   "outputs": [],
   "source": [
    "embedding_a = defaultdict(lambda: defaultdict(list))\n",
    "\n",
    "# Find each time step at which the candidate got a new CV\n",
    "for candidate, values in tqdm(grouped_embeddings):\n",
    "    embeddings = values[\"embedding\"].values\n",
    "  \n",
    "    if (type(embeddings[0]) == type(np.array([]))) and np.nan not in embeddings[0]:\n",
    "        embedding_a[candidate][0] = embeddings[0]\n",
    "        \n",
    "        for i, embedding in enumerate(embeddings):\n",
    "            if i > 0:\n",
    "                truths = embeddings[i - 1] != embedding\n",
    "\n",
    "                if (type(truths) == type(np.array([]))) and (truths).all():\n",
    "                    embedding_a[candidate][i] = embedding"
   ]
  },
  {
   "cell_type": "code",
   "execution_count": null,
   "id": "a186dafb",
   "metadata": {},
   "outputs": [],
   "source": [
    "class NumpyEncoder(json.JSONEncoder):\n",
    "    def default(self, obj):\n",
    "        if isinstance(obj, np.ndarray):\n",
    "            return obj.tolist()\n",
    "        return json.JSONEncoder.default(self, obj)"
   ]
  },
  {
   "cell_type": "code",
   "execution_count": null,
   "id": "ced9abc2",
   "metadata": {},
   "outputs": [],
   "source": [
    "with open('embeddings.json', 'w') as f:\n",
    "    json.dump(embedding_a, f, cls=NumpyEncoder)"
   ]
  },
  {
   "cell_type": "code",
   "execution_count": null,
   "id": "644d0dc5",
   "metadata": {},
   "outputs": [],
   "source": [
    "df_pred.reset_index().to_csv(\"../Data/df_pred.csv\")"
   ]
  },
  {
   "cell_type": "code",
   "execution_count": null,
   "id": "586f5196",
   "metadata": {},
   "outputs": [],
   "source": [
    "pd.Series(skills_dict).to_csv(\"../Data/skills.csv\")"
   ]
  },
  {
   "cell_type": "markdown",
   "id": "5cde5fe6",
   "metadata": {},
   "source": [
    "### Candidate Certificates"
   ]
  },
  {
   "cell_type": "code",
   "execution_count": null,
   "id": "4ee3e543",
   "metadata": {},
   "outputs": [],
   "source": [
    "sql_path = os.path.join(\"/home/ec2-user/SageMaker/data-science-development/talent_recommender/daily_snapshots\",\n",
    "                        Config.query_candidate_certificates) \n",
    "\n",
    "candidate_certificates = get_from_redshift(sql_path, Config.redshift_creds)\n",
    "candidate_certificates.head()"
   ]
  },
  {
   "cell_type": "code",
   "execution_count": null,
   "id": "22758c64",
   "metadata": {},
   "outputs": [],
   "source": [
    "candidate_certificates = pd.crosstab(candidate_certificates[\"candidate_id\"], \n",
    "                                     candidate_certificates[\"candidate_certificate_id\"])\n",
    "candidate_certificates.head()"
   ]
  },
  {
   "cell_type": "code",
   "execution_count": null,
   "id": "2df3b7c9",
   "metadata": {},
   "outputs": [],
   "source": [
    "candidate_certificates.to_csv(\"../Data/candidate_certificates_one-hot.csv\")"
   ]
  },
  {
   "cell_type": "markdown",
   "id": "a1cc63c3",
   "metadata": {},
   "source": [
    "### CV Embeddings"
   ]
  },
  {
   "cell_type": "code",
   "execution_count": null,
   "id": "bc2e91f4",
   "metadata": {},
   "outputs": [],
   "source": [
    "df_pred = pd.read_csv(\"../Data/df_pred.csv\")\n",
    "skills = pd.read_csv(\"../Data/skills.csv\")"
   ]
  },
  {
   "cell_type": "code",
   "execution_count": null,
   "id": "fbcaeaa3",
   "metadata": {},
   "outputs": [],
   "source": [
    "# s3 = s3fs.S3FileSystem()\n",
    "\n",
    "# embedding_pd = pq.ParquetDataset('s3a://s3-nl-prd-semrb-emr/embeddings/doc_embeddings/xlm-roberta-base-smartmatch', filesystem=s3).read_pandas().to_pandas()\n",
    "\n",
    "# embedding_pd['cv_id'] = embedding_pd['cv_id'].astype('int')\n",
    "# embedding_pd.rename(columns={\"doc_embedding\": \"tensor\"}, inplace=True)\n",
    "# embedding_pd.head() "
   ]
  },
  {
   "cell_type": "code",
   "execution_count": null,
   "id": "22a7bd95",
   "metadata": {},
   "outputs": [],
   "source": []
  },
  {
   "cell_type": "code",
   "execution_count": null,
   "id": "16853969",
   "metadata": {},
   "outputs": [],
   "source": []
  },
  {
   "cell_type": "code",
   "execution_count": null,
   "id": "b71ba294",
   "metadata": {},
   "outputs": [],
   "source": [
    "# cvPath = 's3a://s3-nl-prd-datahub-projects/smartmatch_cv/parsed_cv'\n",
    "\n",
    "# s3 = s3fs.S3FileSystem()\n",
    "# parsedCv_pd = pq.ParquetDataset(cvPath, filesystem=s3).read_pandas().to_pandas() "
   ]
  },
  {
   "cell_type": "code",
   "execution_count": null,
   "id": "2afd5c3a",
   "metadata": {},
   "outputs": [],
   "source": [
    "# parsedCv_pd"
   ]
  },
  {
   "cell_type": "code",
   "execution_count": null,
   "id": "daa0a83b",
   "metadata": {},
   "outputs": [],
   "source": []
  },
  {
   "cell_type": "code",
   "execution_count": null,
   "id": "cadb58ad",
   "metadata": {},
   "outputs": [],
   "source": []
  },
  {
   "cell_type": "code",
   "execution_count": null,
   "id": "6e16fa05",
   "metadata": {},
   "outputs": [],
   "source": []
  },
  {
   "cell_type": "code",
   "execution_count": null,
   "id": "de9c1816",
   "metadata": {},
   "outputs": [],
   "source": []
  },
  {
   "cell_type": "code",
   "execution_count": null,
   "id": "432525fb",
   "metadata": {},
   "outputs": [],
   "source": []
  },
  {
   "cell_type": "code",
   "execution_count": null,
   "id": "f3449a76",
   "metadata": {},
   "outputs": [],
   "source": []
  },
  {
   "cell_type": "code",
   "execution_count": null,
   "id": "5bec7048",
   "metadata": {},
   "outputs": [],
   "source": []
  },
  {
   "cell_type": "code",
   "execution_count": null,
   "id": "37e7c1b1",
   "metadata": {},
   "outputs": [],
   "source": []
  },
  {
   "cell_type": "code",
   "execution_count": null,
   "id": "ffec2b15",
   "metadata": {},
   "outputs": [],
   "source": [
    "len(set(cv_embeddings[\"candidate_id\"]) & set(df_pred[\"candidate_id\"]))"
   ]
  },
  {
   "cell_type": "code",
   "execution_count": null,
   "id": "ec10c614",
   "metadata": {},
   "outputs": [],
   "source": [
    "cv_embeddings.to_csv(\"../Data/cv_w2v_embeddings.csv\")"
   ]
  },
  {
   "cell_type": "code",
   "execution_count": null,
   "id": "2268cf47",
   "metadata": {},
   "outputs": [],
   "source": []
  }
 ],
 "metadata": {
  "kernelspec": {
   "display_name": "conda_pytorch_p36",
   "language": "python",
   "name": "conda_pytorch_p36"
  },
  "language_info": {
   "codemirror_mode": {
    "name": "ipython",
    "version": 3
   },
   "file_extension": ".py",
   "mimetype": "text/x-python",
   "name": "python",
   "nbconvert_exporter": "python",
   "pygments_lexer": "ipython3",
   "version": "3.6.13"
  }
 },
 "nbformat": 4,
 "nbformat_minor": 5
}
