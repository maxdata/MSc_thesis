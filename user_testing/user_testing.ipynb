{
 "cells": [
  {
   "cell_type": "code",
   "execution_count": 1,
   "id": "11a34e47",
   "metadata": {},
   "outputs": [],
   "source": [
    "import numpy as np\n",
    "import pandas as pd\n",
    "\n",
    "import os\n",
    "import flask\n",
    "import json\n",
    "import unidecode \n",
    "\n",
    "from flask import Flask, session, redirect, url_for, render_template, request\n",
    "from werkzeug.serving import run_simple"
   ]
  },
  {
   "cell_type": "code",
   "execution_count": 2,
   "id": "98cb7922",
   "metadata": {},
   "outputs": [],
   "source": [
    "# Connect to the database and setup the app\n",
    "app = Flask(__name__)\n",
    "app.secret_key = b'_5#y2L\"F4Q8z\\n\\xec]/'"
   ]
  },
  {
   "cell_type": "markdown",
   "id": "1c966bc2",
   "metadata": {},
   "source": [
    "# Load data"
   ]
  },
  {
   "cell_type": "code",
   "execution_count": 3,
   "id": "c70daf86",
   "metadata": {},
   "outputs": [],
   "source": [
    "df = pd.read_csv(\"data/df_get.csv\").drop([\"Unnamed: 0\", \"date_start_job\", \n",
    "                                          \"unique_id\", \"date_end_job\", \"source\"], axis=1)"
   ]
  },
  {
   "cell_type": "code",
   "execution_count": 4,
   "id": "b8649215",
   "metadata": {},
   "outputs": [
    {
     "data": {
      "text/html": [
       "<div>\n",
       "<style scoped>\n",
       "    .dataframe tbody tr th:only-of-type {\n",
       "        vertical-align: middle;\n",
       "    }\n",
       "\n",
       "    .dataframe tbody tr th {\n",
       "        vertical-align: top;\n",
       "    }\n",
       "\n",
       "    .dataframe thead th {\n",
       "        text-align: right;\n",
       "    }\n",
       "</style>\n",
       "<table border=\"1\" class=\"dataframe\">\n",
       "  <thead>\n",
       "    <tr style=\"text-align: right;\">\n",
       "      <th></th>\n",
       "      <th>candidate_id</th>\n",
       "      <th>function_id</th>\n",
       "      <th>isco_functie_niveau</th>\n",
       "      <th>isco_code4</th>\n",
       "      <th>function_name_self</th>\n",
       "      <th>company_name</th>\n",
       "      <th>time_spent</th>\n",
       "      <th>education</th>\n",
       "    </tr>\n",
       "  </thead>\n",
       "  <tbody>\n",
       "    <tr>\n",
       "      <th>0</th>\n",
       "      <td>93728</td>\n",
       "      <td>896.0</td>\n",
       "      <td>1.0</td>\n",
       "      <td>346.0</td>\n",
       "      <td>Functienaam van code 9721</td>\n",
       "      <td>378466.0</td>\n",
       "      <td>4.0</td>\n",
       "      <td>3.0</td>\n",
       "    </tr>\n",
       "    <tr>\n",
       "      <th>1</th>\n",
       "      <td>93728</td>\n",
       "      <td>73.0</td>\n",
       "      <td>2.0</td>\n",
       "      <td>202.0</td>\n",
       "      <td>Archiefmedewerker</td>\n",
       "      <td>349302.0</td>\n",
       "      <td>17.0</td>\n",
       "      <td>3.0</td>\n",
       "    </tr>\n",
       "    <tr>\n",
       "      <th>2</th>\n",
       "      <td>93728</td>\n",
       "      <td>1841.0</td>\n",
       "      <td>4.0</td>\n",
       "      <td>86.0</td>\n",
       "      <td>ICT-beheerder</td>\n",
       "      <td>70896.0</td>\n",
       "      <td>1461.0</td>\n",
       "      <td>3.0</td>\n",
       "    </tr>\n",
       "    <tr>\n",
       "      <th>3</th>\n",
       "      <td>93728</td>\n",
       "      <td>2529.0</td>\n",
       "      <td>2.0</td>\n",
       "      <td>233.0</td>\n",
       "      <td>Onderwijsassistent</td>\n",
       "      <td>73627.0</td>\n",
       "      <td>365.0</td>\n",
       "      <td>3.0</td>\n",
       "    </tr>\n",
       "    <tr>\n",
       "      <th>4</th>\n",
       "      <td>93728</td>\n",
       "      <td>20.0</td>\n",
       "      <td>2.0</td>\n",
       "      <td>196.0</td>\n",
       "      <td>Administratief Logistiek Medewerker</td>\n",
       "      <td>221032.0</td>\n",
       "      <td>1826.0</td>\n",
       "      <td>3.0</td>\n",
       "    </tr>\n",
       "  </tbody>\n",
       "</table>\n",
       "</div>"
      ],
      "text/plain": [
       "   candidate_id  function_id  isco_functie_niveau  isco_code4  \\\n",
       "0         93728        896.0                  1.0       346.0   \n",
       "1         93728         73.0                  2.0       202.0   \n",
       "2         93728       1841.0                  4.0        86.0   \n",
       "3         93728       2529.0                  2.0       233.0   \n",
       "4         93728         20.0                  2.0       196.0   \n",
       "\n",
       "                    function_name_self  company_name  time_spent  education  \n",
       "0            Functienaam van code 9721      378466.0         4.0        3.0  \n",
       "1                    Archiefmedewerker      349302.0        17.0        3.0  \n",
       "2                        ICT-beheerder       70896.0      1461.0        3.0  \n",
       "3                   Onderwijsassistent       73627.0       365.0        3.0  \n",
       "4  Administratief Logistiek Medewerker      221032.0      1826.0        3.0  "
      ]
     },
     "execution_count": 4,
     "metadata": {},
     "output_type": "execute_result"
    }
   ],
   "source": [
    "df.head()"
   ]
  },
  {
   "cell_type": "code",
   "execution_count": 5,
   "id": "3d7caeb7",
   "metadata": {},
   "outputs": [],
   "source": [
    "certs = pd.read_csv(\"data/candidate_certificates_mappings.csv\").drop(\"Unnamed: 0\", axis=1)\n",
    "certs = certs.groupby(\"candidate_id\")[\"candidate_certificate_id\"].apply(lambda x: x.values)"
   ]
  },
  {
   "cell_type": "code",
   "execution_count": 6,
   "id": "41be4e59",
   "metadata": {},
   "outputs": [],
   "source": [
    "isco_codes = pd.read_csv(\"data/isco translations it sp uk nl fr de - Sheet1.csv\")[[\"ISCO_08_Code\", \n",
    "                                                                                   \"NL ISCO \"]].set_index(\n",
    "    \"ISCO_08_Code\").to_dict()[\"NL ISCO \"]\n",
    "\n",
    "# isco_codes = {int(k): v for k, v in isco_codes.items() if k.isdigit()}"
   ]
  },
  {
   "cell_type": "code",
   "execution_count": 7,
   "id": "51764ecb",
   "metadata": {},
   "outputs": [],
   "source": [
    "languages = pd.read_csv(\"data/languages_mappings.csv\").drop(\"Unnamed: 0\", axis=1)\n",
    "languages = languages.groupby(\"candidate_id\")[\"language_id\"].apply(lambda x: x.values)"
   ]
  },
  {
   "cell_type": "code",
   "execution_count": 8,
   "id": "11223ea3",
   "metadata": {},
   "outputs": [],
   "source": [
    "licenses = pd.read_csv(\"data/license_mappings.csv\")\n",
    "licenses = licenses.groupby(\"candidate_id\")[\"driving_licenses\"].apply(lambda x: x.values)"
   ]
  },
  {
   "cell_type": "code",
   "execution_count": 9,
   "id": "27fc4e3c",
   "metadata": {},
   "outputs": [],
   "source": [
    "addresses = pd.read_csv(\"data/address_mappings.csv\").set_index(\"candidate_id\").to_dict()[\"from_post_code\"]"
   ]
  },
  {
   "cell_type": "code",
   "execution_count": 10,
   "id": "7e82e188",
   "metadata": {},
   "outputs": [],
   "source": [
    "skills = pd.read_csv(\"data/candidate_skills_mapped.csv\").drop([\"Unnamed: 0\", \"date_start\"], axis=1)\n",
    "skills = skills.groupby(\"candidate_id\")[\"skill_id\"].apply(lambda x: x.values)"
   ]
  },
  {
   "cell_type": "code",
   "execution_count": 11,
   "id": "66f2db3b",
   "metadata": {},
   "outputs": [],
   "source": [
    "education = {5 : \"WO\", 4 : \"HBO\", 3 : \"MBO\", 2 : \"Middelbaar onderwijs\", 1 : \"Basisonderwijs\", 0 : \"N.v.t.\"}"
   ]
  },
  {
   "cell_type": "code",
   "execution_count": 12,
   "id": "01737e7b",
   "metadata": {},
   "outputs": [],
   "source": [
    "with open(\"data/index_to_company.json\") as f:\n",
    "    companies = json.load(f)\n",
    "    companies = {int(k): v for k, v in companies.items()}"
   ]
  },
  {
   "cell_type": "code",
   "execution_count": 13,
   "id": "46828eb4",
   "metadata": {},
   "outputs": [],
   "source": [
    "with open(\"data/index_to_isco.json\") as f:\n",
    "    isco = json.load(f)\n",
    "    isco = {int(k): int(v) for k, v in isco.items()}"
   ]
  },
  {
   "cell_type": "code",
   "execution_count": 14,
   "id": "ccb5f23f",
   "metadata": {},
   "outputs": [],
   "source": [
    "skill_levels = {1 : \"Routineus werk\",\n",
    "                2 : \"Regulier werk\",\n",
    "                3 : \"Bovengemiddeld werk\",\n",
    "                4 : \"Kenniswerk\"}"
   ]
  },
  {
   "cell_type": "code",
   "execution_count": 15,
   "id": "8e91452b",
   "metadata": {},
   "outputs": [],
   "source": [
    "finance = {5, 20, 70, 71, 72, 73, 74, 75, 142, 143, 146, 195}\n",
    "\n",
    "healthcare = {16, 17, 48, 49, 50, 51, 52, 53, 54, 55, \n",
    "              56, 57, 58, 59, 60, 127, 128, 129, 130,\n",
    "              131, 132, 133, 134, 135, 136, 137, 138,\n",
    "              140, 141, 128, 234, 235, 236}\n",
    "\n",
    "cust_supp = {152, 183, 185, 186, 187, 188, 189, 190, 191, 192}\n",
    "\n",
    "index_to_name = {k: isco_codes[v] for k, v in isco.items()} "
   ]
  },
  {
   "cell_type": "code",
   "execution_count": 16,
   "id": "e7ef7be9",
   "metadata": {},
   "outputs": [],
   "source": [
    "df.dropna(subset=[\"isco_code4\"], inplace=True)\n",
    "df[\"education\"] = df[\"education\"].fillna(0)"
   ]
  },
  {
   "cell_type": "markdown",
   "id": "71c36580",
   "metadata": {},
   "source": [
    "# Convert DataFrame values to human-readable text"
   ]
  },
  {
   "cell_type": "code",
   "execution_count": 17,
   "id": "31cf002b",
   "metadata": {},
   "outputs": [],
   "source": [
    "df[\"company_name\"] = df[\"company_name\"].apply(lambda x: companies[x] if x in companies else x)"
   ]
  },
  {
   "cell_type": "code",
   "execution_count": 18,
   "id": "3cf9ed80",
   "metadata": {},
   "outputs": [],
   "source": [
    "df[\"isco_code4\"] = df[\"isco_code4\"].apply(lambda x: isco[int(x)] if int(x) in isco else int(x))"
   ]
  },
  {
   "cell_type": "code",
   "execution_count": 19,
   "id": "f5065fb7",
   "metadata": {},
   "outputs": [],
   "source": [
    "df[\"isco_code4\"] = df[\"isco_code4\"].apply(lambda x: isco_codes[x])"
   ]
  },
  {
   "cell_type": "code",
   "execution_count": 20,
   "id": "9e6f2927",
   "metadata": {},
   "outputs": [],
   "source": [
    "df[\"location\"] = df[\"candidate_id\"].apply(lambda x: addresses[x] if x in addresses else \"N.v.t.\")"
   ]
  },
  {
   "cell_type": "code",
   "execution_count": 21,
   "id": "57c0cf8e",
   "metadata": {},
   "outputs": [],
   "source": [
    "df[\"skills\"] = df[\"candidate_id\"].apply(lambda x: \", \".join(skills[x]) if x in skills else \"N.v.t.\")"
   ]
  },
  {
   "cell_type": "code",
   "execution_count": 22,
   "id": "d5c353de",
   "metadata": {},
   "outputs": [],
   "source": [
    "df[\"certificates\"] = df[\"candidate_id\"].apply(lambda x: \", \".join(certs[x]) if x in certs else \"N.v.t.\")"
   ]
  },
  {
   "cell_type": "code",
   "execution_count": 23,
   "id": "1e3a934b",
   "metadata": {},
   "outputs": [],
   "source": [
    "df[\"licenses\"] = df[\"candidate_id\"].apply(lambda x: \", \".join(licenses[x]) if x in licenses else \"N.v.t.\")"
   ]
  },
  {
   "cell_type": "code",
   "execution_count": 24,
   "id": "d38a3f0e",
   "metadata": {},
   "outputs": [],
   "source": [
    "df[\"languages\"] = df[\"candidate_id\"].apply(lambda x: \", \".join(languages[x]) if x in languages else \"N.v.t.\")"
   ]
  },
  {
   "cell_type": "code",
   "execution_count": 25,
   "id": "ac8cf2ea",
   "metadata": {},
   "outputs": [],
   "source": [
    "df[\"isco_functie_niveau\"] = df[\"isco_functie_niveau\"].apply(lambda x: skill_levels[int(x)])"
   ]
  },
  {
   "cell_type": "code",
   "execution_count": 26,
   "id": "c917e348",
   "metadata": {},
   "outputs": [],
   "source": [
    "df[\"education\"] = df[\"education\"].apply(lambda x: education[int(x)])"
   ]
  },
  {
   "cell_type": "code",
   "execution_count": 27,
   "id": "b92570f6",
   "metadata": {},
   "outputs": [],
   "source": [
    "df[\"time_spent\"] = df[\"time_spent\"].fillna(0).astype(int)"
   ]
  },
  {
   "cell_type": "code",
   "execution_count": 28,
   "id": "05a66451",
   "metadata": {},
   "outputs": [
    {
     "data": {
      "text/html": [
       "<div>\n",
       "<style scoped>\n",
       "    .dataframe tbody tr th:only-of-type {\n",
       "        vertical-align: middle;\n",
       "    }\n",
       "\n",
       "    .dataframe tbody tr th {\n",
       "        vertical-align: top;\n",
       "    }\n",
       "\n",
       "    .dataframe thead th {\n",
       "        text-align: right;\n",
       "    }\n",
       "</style>\n",
       "<table border=\"1\" class=\"dataframe\">\n",
       "  <thead>\n",
       "    <tr style=\"text-align: right;\">\n",
       "      <th></th>\n",
       "      <th>candidate_id</th>\n",
       "      <th>function_id</th>\n",
       "      <th>isco_functie_niveau</th>\n",
       "      <th>isco_code4</th>\n",
       "      <th>function_name_self</th>\n",
       "      <th>company_name</th>\n",
       "      <th>time_spent</th>\n",
       "      <th>education</th>\n",
       "      <th>location</th>\n",
       "      <th>skills</th>\n",
       "      <th>certificates</th>\n",
       "      <th>licenses</th>\n",
       "      <th>languages</th>\n",
       "    </tr>\n",
       "  </thead>\n",
       "  <tbody>\n",
       "    <tr>\n",
       "      <th>0</th>\n",
       "      <td>93728</td>\n",
       "      <td>896.0</td>\n",
       "      <td>Routineus werk</td>\n",
       "      <td>Laders en lossers</td>\n",
       "      <td>Functienaam van code 9721</td>\n",
       "      <td>Friesland Foods Fresh** NIET GEBRUIKEN**</td>\n",
       "      <td>4</td>\n",
       "      <td>MBO</td>\n",
       "      <td>3862</td>\n",
       "      <td>Programmeertalen, Rijervaring in Oostenrijk, A...</td>\n",
       "      <td>N.v.t.</td>\n",
       "      <td>B</td>\n",
       "      <td>Duits, Engels</td>\n",
       "    </tr>\n",
       "    <tr>\n",
       "      <th>1</th>\n",
       "      <td>93728</td>\n",
       "      <td>73.0</td>\n",
       "      <td>Regulier werk</td>\n",
       "      <td>Archiverings- en kopieermedewerkers</td>\n",
       "      <td>Archiefmedewerker</td>\n",
       "      <td>UL International (Netherlands) BV</td>\n",
       "      <td>17</td>\n",
       "      <td>MBO</td>\n",
       "      <td>3862</td>\n",
       "      <td>Programmeertalen, Rijervaring in Oostenrijk, A...</td>\n",
       "      <td>N.v.t.</td>\n",
       "      <td>B</td>\n",
       "      <td>Duits, Engels</td>\n",
       "    </tr>\n",
       "    <tr>\n",
       "      <th>2</th>\n",
       "      <td>93728</td>\n",
       "      <td>1841.0</td>\n",
       "      <td>Kenniswerk</td>\n",
       "      <td>Systeembeheerders</td>\n",
       "      <td>ICT-beheerder</td>\n",
       "      <td>Het Nieuwe Eemland college</td>\n",
       "      <td>1461</td>\n",
       "      <td>MBO</td>\n",
       "      <td>3862</td>\n",
       "      <td>Programmeertalen, Rijervaring in Oostenrijk, A...</td>\n",
       "      <td>N.v.t.</td>\n",
       "      <td>B</td>\n",
       "      <td>Duits, Engels</td>\n",
       "    </tr>\n",
       "    <tr>\n",
       "      <th>3</th>\n",
       "      <td>93728</td>\n",
       "      <td>2529.0</td>\n",
       "      <td>Regulier werk</td>\n",
       "      <td>Onderwijsassistenten</td>\n",
       "      <td>Onderwijsassistent</td>\n",
       "      <td>Het Nieuwe Eemland</td>\n",
       "      <td>365</td>\n",
       "      <td>MBO</td>\n",
       "      <td>3862</td>\n",
       "      <td>Programmeertalen, Rijervaring in Oostenrijk, A...</td>\n",
       "      <td>N.v.t.</td>\n",
       "      <td>B</td>\n",
       "      <td>Duits, Engels</td>\n",
       "    </tr>\n",
       "    <tr>\n",
       "      <th>4</th>\n",
       "      <td>93728</td>\n",
       "      <td>20.0</td>\n",
       "      <td>Regulier werk</td>\n",
       "      <td>Administratief magazijnpersoneel</td>\n",
       "      <td>Administratief Logistiek Medewerker</td>\n",
       "      <td>Veluweloop evenementorganisatie</td>\n",
       "      <td>1826</td>\n",
       "      <td>MBO</td>\n",
       "      <td>3862</td>\n",
       "      <td>Programmeertalen, Rijervaring in Oostenrijk, A...</td>\n",
       "      <td>N.v.t.</td>\n",
       "      <td>B</td>\n",
       "      <td>Duits, Engels</td>\n",
       "    </tr>\n",
       "  </tbody>\n",
       "</table>\n",
       "</div>"
      ],
      "text/plain": [
       "   candidate_id  function_id isco_functie_niveau  \\\n",
       "0         93728        896.0      Routineus werk   \n",
       "1         93728         73.0       Regulier werk   \n",
       "2         93728       1841.0          Kenniswerk   \n",
       "3         93728       2529.0       Regulier werk   \n",
       "4         93728         20.0       Regulier werk   \n",
       "\n",
       "                            isco_code4                   function_name_self  \\\n",
       "0                    Laders en lossers            Functienaam van code 9721   \n",
       "1  Archiverings- en kopieermedewerkers                    Archiefmedewerker   \n",
       "2                    Systeembeheerders                        ICT-beheerder   \n",
       "3                 Onderwijsassistenten                   Onderwijsassistent   \n",
       "4     Administratief magazijnpersoneel  Administratief Logistiek Medewerker   \n",
       "\n",
       "                               company_name  time_spent education location  \\\n",
       "0  Friesland Foods Fresh** NIET GEBRUIKEN**           4       MBO     3862   \n",
       "1         UL International (Netherlands) BV          17       MBO     3862   \n",
       "2                Het Nieuwe Eemland college        1461       MBO     3862   \n",
       "3                        Het Nieuwe Eemland         365       MBO     3862   \n",
       "4           Veluweloop evenementorganisatie        1826       MBO     3862   \n",
       "\n",
       "                                              skills certificates licenses  \\\n",
       "0  Programmeertalen, Rijervaring in Oostenrijk, A...       N.v.t.        B   \n",
       "1  Programmeertalen, Rijervaring in Oostenrijk, A...       N.v.t.        B   \n",
       "2  Programmeertalen, Rijervaring in Oostenrijk, A...       N.v.t.        B   \n",
       "3  Programmeertalen, Rijervaring in Oostenrijk, A...       N.v.t.        B   \n",
       "4  Programmeertalen, Rijervaring in Oostenrijk, A...       N.v.t.        B   \n",
       "\n",
       "       languages  \n",
       "0  Duits, Engels  \n",
       "1  Duits, Engels  \n",
       "2  Duits, Engels  \n",
       "3  Duits, Engels  \n",
       "4  Duits, Engels  "
      ]
     },
     "execution_count": 28,
     "metadata": {},
     "output_type": "execute_result"
    }
   ],
   "source": [
    "df.head()"
   ]
  },
  {
   "cell_type": "code",
   "execution_count": 29,
   "id": "d03d6633",
   "metadata": {},
   "outputs": [],
   "source": [
    "df.drop([\"function_id\"], axis=1, inplace=True)\n",
    "df = df.rename({\"function_name_self\": \"function_id\"}, axis=1)"
   ]
  },
  {
   "cell_type": "code",
   "execution_count": 30,
   "id": "99cbfcf7",
   "metadata": {},
   "outputs": [],
   "source": [
    "df_grouped = df.groupby(\"candidate_id\")"
   ]
  },
  {
   "cell_type": "code",
   "execution_count": 31,
   "id": "29affd0d",
   "metadata": {},
   "outputs": [],
   "source": [
    "                              # CNN-LSTM, LSTM, CNN, \n",
    "examples = {\"Gezondheidszorg\" : [(8468794, 131), (6894267, 235)],\n",
    "            \"Financiën\" : [(6924590, 70)],\n",
    "            \"Klantenservice\" : [(6615225, 186)]}"
   ]
  },
  {
   "cell_type": "markdown",
   "id": "ecbcf892",
   "metadata": {},
   "source": [
    "# Flask "
   ]
  },
  {
   "cell_type": "code",
   "execution_count": 32,
   "id": "66ec4140",
   "metadata": {},
   "outputs": [],
   "source": [
    "@app.route('/', methods=[\"GET\", \"POST\"])\n",
    "def index():\n",
    "    if request.method == \"POST\":\n",
    "        session[\"user_type\"] = request.form['submit_button']\n",
    "        session[\"example\"] = 0\n",
    "        return redirect(url_for(\"sliders\"))\n",
    "    else:\n",
    "        return render_template(\"/index.html\")"
   ]
  },
  {
   "cell_type": "code",
   "execution_count": 33,
   "id": "466fe30d",
   "metadata": {},
   "outputs": [],
   "source": [
    "@app.route('/sliders', methods=[\"GET\", \"POST\"])\n",
    "def sliders():\n",
    "    \n",
    "    if request.method == \"POST\":\n",
    "        top_left = int(request.form[\"topleft\"].replace(\"option\", \"\"))\n",
    "        top_right = int(request.form[\"topright\"].replace(\"option\", \"\"))\n",
    "        bottom = int(request.form[\"bottom\"].replace(\"option\", \"\"))\n",
    "        general = int(request.form[\"general\"].replace(\"option\", \"\"))\n",
    "        \n",
    "        print(f'Type: {session[\"user_type\"]}, Voorbeeld: {session[\"example\"] - 1}:\\n' +\n",
    "              f'- Top left: {top_left}\\n- Top right: {top_right}\\n- Bottom: {bottom}\\n- General: {general}')\n",
    "        \n",
    "    \n",
    "    if session[\"example\"] >= 3:\n",
    "        return \"We zijn klaar! Hartelijk dank voor uw bijdrage!\"\n",
    "    \n",
    "    current_example = examples[session[\"user_type\"]][session[\"example\"]]\n",
    "    session[\"pred\"] = index_to_name[current_example[1]]\n",
    "    \n",
    "    # instead --> get examples[group_type][example_number]    \n",
    "    df = df_grouped.get_group(current_example[0]).reset_index().drop([\"index\", \n",
    "                                                                      \"candidate_id\"], axis=1).iloc[:-1]\n",
    "            \n",
    "    static_features = pd.DataFrame(df[[\"location\", \"skills\", \"certificates\", \"licenses\", \"languages\"]].iloc[0].T)\n",
    "    df = df.drop([\"location\", \"skills\", \"certificates\", \"licenses\", \"languages\"], axis=1)\n",
    "    \n",
    "    df = df[[\"time_spent\", \"isco_functie_niveau\", \"education\", \"company_name\", \"function_id\", \"isco_code4\"]]\n",
    "        \n",
    "    df.index.name = \"Baan nummer\"\n",
    "    df.index += 1\n",
    "    df = df.T\n",
    "    df.index = [\"Dagen gewerkt\", \"Werkniveau\", \"Opleidingsniveau\", \"Bedrijf\", \"Functie\", \"Isco code\"]\n",
    "    df = df.loc[[\"Isco code\", \"Functie\", \"Bedrijf\", \"Opleidingsniveau\", \"Dagen gewerkt\", \"Werkniveau\"]]\n",
    "\n",
    "    static_features.index = [\"Postcode\", \"Vaardigheden\", \"Certificaten\", \"Rijbewijzen\", \"Talen\"]\n",
    "    static_feautres = static_features.loc[[\"Vaardigheden\", \"Certificaten\", \"Talen\", \"Rijbewijzen\", \"Postcode\"]]\n",
    "    \n",
    "    session[\"df\"] = df.to_html(classes=\"table\")\n",
    "    session[\"static_features\"] = static_features.to_html(header=False, \n",
    "                                                         classes=[\"table\", \"static_data\"])\n",
    "    \n",
    "    return render_template(\"/sliders.html\", \n",
    "                           dataframe=session[\"df\"], \n",
    "                           static_features=session[\"static_features\"],\n",
    "                           pred=session[\"pred\"])"
   ]
  },
  {
   "cell_type": "code",
   "execution_count": 34,
   "id": "2eb5a11a",
   "metadata": {},
   "outputs": [],
   "source": [
    "@app.route(\"/show_results\", methods=[\"GET\", \"POST\"])\n",
    "def show_results():\n",
    "    image = f\"../static/{unidecode.unidecode(session['user_type'])}/{session['example'] - 1}.png\"\n",
    "        \n",
    "    return render_template(\"/show_results.html\",\n",
    "                           image=image,\n",
    "                           dataframe=session[\"df\"],\n",
    "                           static_features=session[\"static_features\"],\n",
    "                           pred=session[\"pred\"])"
   ]
  },
  {
   "cell_type": "code",
   "execution_count": 35,
   "id": "fbe63ff8",
   "metadata": {},
   "outputs": [],
   "source": [
    "@app.route(\"/store_results\", methods=[\"POST\"])\n",
    "def store_results():\n",
    "    \n",
    "    r = request.get_json()\n",
    "    \n",
    "    values = dict(zip([\"isco code\", \"function id\", \"company\", \"education\", \"days worked\", \n",
    "                       \"isco level\", \"CV\", \"skills\", \"certificates\", \"languages\", \"licenses\",\n",
    "                       \"location\"], r[\"values\"]))\n",
    "    \n",
    "    print(session[\"user_type\"], session[\"example\"], values)\n",
    "    session[\"example\"] += 1\n",
    "        \n",
    "    return redirect(url_for(\"show_results\"))"
   ]
  },
  {
   "cell_type": "code",
   "execution_count": null,
   "id": "2f1677a7",
   "metadata": {
    "scrolled": false
   },
   "outputs": [
    {
     "name": "stderr",
     "output_type": "stream",
     "text": [
      " * Running on http://localhost:8080/ (Press CTRL+C to quit)\n",
      "127.0.0.1 - - [28/May/2022 00:33:19] \"GET / HTTP/1.1\" 200 -\n",
      "127.0.0.1 - - [28/May/2022 00:33:21] \"POST / HTTP/1.1\" 302 -\n",
      "127.0.0.1 - - [28/May/2022 00:33:22] \"GET /sliders HTTP/1.1\" 200 -\n",
      "127.0.0.1 - - [28/May/2022 00:33:24] \"POST /store_results HTTP/1.1\" 302 -\n"
     ]
    },
    {
     "name": "stdout",
     "output_type": "stream",
     "text": [
      "Gezondheidszorg 0 {'isco code': '2.5', 'function id': '2.5', 'company': '2.5', 'education': '2.5', 'days worked': '2.5', 'isco level': '2.5', 'CV': '2.5', 'skills': '2.5', 'certificates': '2.5', 'languages': '2.5', 'licenses': '2.5', 'location': '2.5'}\n"
     ]
    },
    {
     "name": "stderr",
     "output_type": "stream",
     "text": [
      "127.0.0.1 - - [28/May/2022 00:33:24] \"GET /show_results HTTP/1.1\" 200 -\n",
      "127.0.0.1 - - [28/May/2022 00:33:24] \"GET /show_results HTTP/1.1\" 200 -\n"
     ]
    }
   ],
   "source": [
    "run_simple('localhost', 8080, app)"
   ]
  },
  {
   "cell_type": "code",
   "execution_count": null,
   "id": "25ce7ddc",
   "metadata": {},
   "outputs": [],
   "source": []
  }
 ],
 "metadata": {
  "kernelspec": {
   "display_name": "Python 3 (ipykernel)",
   "language": "python",
   "name": "python3"
  },
  "language_info": {
   "codemirror_mode": {
    "name": "ipython",
    "version": 3
   },
   "file_extension": ".py",
   "mimetype": "text/x-python",
   "name": "python",
   "nbconvert_exporter": "python",
   "pygments_lexer": "ipython3",
   "version": "3.9.7"
  }
 },
 "nbformat": 4,
 "nbformat_minor": 5
}
