{
 "cells": [
  {
   "cell_type": "code",
   "execution_count": null,
   "id": "11a34e47",
   "metadata": {},
   "outputs": [],
   "source": [
    "import numpy as np\n",
    "import pandas as pd\n",
    "\n",
    "import os\n",
    "import flask\n",
    "from flask import *\n",
    "from werkzeug.serving import run_simple"
   ]
  },
  {
   "cell_type": "code",
   "execution_count": null,
   "id": "98cb7922",
   "metadata": {},
   "outputs": [],
   "source": [
    "# Connect to the database and setup the app\n",
    "app = Flask(__name__)\n",
    "app.secret_key = b'_5#y2L\"F4Q8z\\n\\xec]/'"
   ]
  },
  {
   "cell_type": "code",
   "execution_count": null,
   "id": "c70daf86",
   "metadata": {},
   "outputs": [],
   "source": [
    "df = pd.read_csv(\"df_pred_ext (1).csv\").drop([\"Unnamed: 0\", \n",
    "                                            \"job_order\", \n",
    "                                            \"source\", \n",
    "                                            \"time_between\"], axis=1)"
   ]
  },
  {
   "cell_type": "code",
   "execution_count": null,
   "id": "31cf002b",
   "metadata": {},
   "outputs": [],
   "source": [
    "df.head()"
   ]
  },
  {
   "cell_type": "code",
   "execution_count": null,
   "id": "99cbfcf7",
   "metadata": {},
   "outputs": [],
   "source": [
    "df_grouped = df.groupby(\"candidate_id\")"
   ]
  },
  {
   "cell_type": "code",
   "execution_count": null,
   "id": "17c1dd91",
   "metadata": {},
   "outputs": [],
   "source": [
    "# example = df_grouped.get_group(84612)"
   ]
  },
  {
   "cell_type": "code",
   "execution_count": null,
   "id": "fc359f61",
   "metadata": {},
   "outputs": [],
   "source": [
    "# example = example.reset_index().drop(\"index\", axis=1)\n",
    "# example.index += 1\n",
    "# example = example.T"
   ]
  },
  {
   "cell_type": "code",
   "execution_count": null,
   "id": "66ec4140",
   "metadata": {},
   "outputs": [],
   "source": [
    "@app.route('/', methods=[\"GET\", \"POST\"])\n",
    "def index():\n",
    "    if request.method == \"POST\":\n",
    "        session[\"user_type\"] = request.form['submit_button']\n",
    "        session[\"example\"] = 0\n",
    "        return redirect(url_for(\"sliders\"))\n",
    "    else:\n",
    "        return render_template(\"/index.html\")"
   ]
  },
  {
   "cell_type": "code",
   "execution_count": null,
   "id": "466fe30d",
   "metadata": {},
   "outputs": [],
   "source": [
    "@app.route('/sliders', methods=[\"GET\", \"POST\"])\n",
    "def sliders():\n",
    "    \n",
    "    if session[\"example\"] >= 3:\n",
    "        return \"klaar!\"\n",
    "    \n",
    "    # instead --> get examples[group_type][example_number]    \n",
    "    df = df_grouped.get_group(np.random.choice(\n",
    "        list(df_grouped.indices.keys()))\n",
    "                             ).reset_index().drop([\"index\", \n",
    "                                                   \"candidate_id\"], axis=1)\n",
    "    \n",
    "    df.index += 1\n",
    "    df = df.T\n",
    "    \n",
    "    return render_template(\"/sliders.html\", dataframe=df.to_html(classes=\"table\"))"
   ]
  },
  {
   "cell_type": "code",
   "execution_count": null,
   "id": "fbe63ff8",
   "metadata": {},
   "outputs": [],
   "source": [
    "@app.route(\"/store_results\", methods=[\"POST\"])\n",
    "def store_results():\n",
    "    \n",
    "    r = request.get_json()\n",
    "    values = dict(zip([\"isco code\", \"company name\", \"education\", \"skills\", \n",
    "                       \"Licenses\", \"Languages\", \"Other stuff\"], r[\"values\"]))\n",
    "    \n",
    "    print(session[\"user_type\"], session[\"example\"], values)\n",
    "    session[\"example\"] += 1\n",
    "        \n",
    "    return redirect(url_for(\"sliders\"))"
   ]
  },
  {
   "cell_type": "code",
   "execution_count": null,
   "id": "2f1677a7",
   "metadata": {
    "scrolled": false
   },
   "outputs": [],
   "source": [
    "run_simple('localhost', 8080, app)"
   ]
  },
  {
   "cell_type": "code",
   "execution_count": null,
   "id": "25ce7ddc",
   "metadata": {},
   "outputs": [],
   "source": []
  }
 ],
 "metadata": {
  "kernelspec": {
   "display_name": "Python 3 (ipykernel)",
   "language": "python",
   "name": "python3"
  },
  "language_info": {
   "codemirror_mode": {
    "name": "ipython",
    "version": 3
   },
   "file_extension": ".py",
   "mimetype": "text/x-python",
   "name": "python",
   "nbconvert_exporter": "python",
   "pygments_lexer": "ipython3",
   "version": "3.9.7"
  }
 },
 "nbformat": 4,
 "nbformat_minor": 5
}
