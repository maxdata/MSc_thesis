{
 "cells": [
  {
   "cell_type": "code",
   "execution_count": 1,
   "id": "3a528af5",
   "metadata": {},
   "outputs": [],
   "source": [
    "import numpy as np\n",
    "import pandas as pd\n",
    "\n",
    "import os\n",
    "import flask\n",
    "import json\n",
    "\n",
    "from flask import Flask, session, redirect, url_for, render_template, request\n",
    "from werkzeug.serving import run_simple"
   ]
  },
  {
   "cell_type": "code",
   "execution_count": 2,
   "id": "aba7bc2f",
   "metadata": {},
   "outputs": [],
   "source": [
    "# Connect to the database and setup the app\n",
    "app = Flask(__name__)\n",
    "app.secret_key = b'_5#y2L\"F4Q8z\\n\\xec]/'"
   ]
  },
  {
   "cell_type": "markdown",
   "id": "a6f13532",
   "metadata": {},
   "source": [
    "# Load data"
   ]
  },
  {
   "cell_type": "code",
   "execution_count": 3,
   "id": "78467b0d",
   "metadata": {},
   "outputs": [],
   "source": [
    "df = pd.read_csv(\"df_pred_ext (1).csv\").drop([\"Unnamed: 0\", \n",
    "                                            \"job_order\", \n",
    "                                            \"source\", \n",
    "                                            \"time_between\"], axis=1)"
   ]
  },
  {
   "cell_type": "code",
   "execution_count": 4,
   "id": "3d725e59",
   "metadata": {},
   "outputs": [
    {
     "data": {
      "text/html": [
       "<div>\n",
       "<style scoped>\n",
       "    .dataframe tbody tr th:only-of-type {\n",
       "        vertical-align: middle;\n",
       "    }\n",
       "\n",
       "    .dataframe tbody tr th {\n",
       "        vertical-align: top;\n",
       "    }\n",
       "\n",
       "    .dataframe thead th {\n",
       "        text-align: right;\n",
       "    }\n",
       "</style>\n",
       "<table border=\"1\" class=\"dataframe\">\n",
       "  <thead>\n",
       "    <tr style=\"text-align: right;\">\n",
       "      <th></th>\n",
       "      <th>candidate_id</th>\n",
       "      <th>time_spent</th>\n",
       "      <th>isco_functie_niveau</th>\n",
       "      <th>education</th>\n",
       "      <th>company_name</th>\n",
       "      <th>function_id</th>\n",
       "      <th>isco_code4</th>\n",
       "    </tr>\n",
       "  </thead>\n",
       "  <tbody>\n",
       "    <tr>\n",
       "      <th>0</th>\n",
       "      <td>84556</td>\n",
       "      <td>156</td>\n",
       "      <td>2.0</td>\n",
       "      <td>0.0</td>\n",
       "      <td>324258</td>\n",
       "      <td>936</td>\n",
       "      <td>208</td>\n",
       "    </tr>\n",
       "    <tr>\n",
       "      <th>1</th>\n",
       "      <td>84556</td>\n",
       "      <td>116</td>\n",
       "      <td>1.0</td>\n",
       "      <td>0.0</td>\n",
       "      <td>324258</td>\n",
       "      <td>809</td>\n",
       "      <td>348</td>\n",
       "    </tr>\n",
       "    <tr>\n",
       "      <th>2</th>\n",
       "      <td>84556</td>\n",
       "      <td>275</td>\n",
       "      <td>2.0</td>\n",
       "      <td>0.0</td>\n",
       "      <td>329244</td>\n",
       "      <td>936</td>\n",
       "      <td>208</td>\n",
       "    </tr>\n",
       "    <tr>\n",
       "      <th>3</th>\n",
       "      <td>84556</td>\n",
       "      <td>4</td>\n",
       "      <td>1.0</td>\n",
       "      <td>0.0</td>\n",
       "      <td>368140</td>\n",
       "      <td>1519</td>\n",
       "      <td>344</td>\n",
       "    </tr>\n",
       "    <tr>\n",
       "      <th>4</th>\n",
       "      <td>84556</td>\n",
       "      <td>11</td>\n",
       "      <td>1.0</td>\n",
       "      <td>0.0</td>\n",
       "      <td>419826</td>\n",
       "      <td>1519</td>\n",
       "      <td>344</td>\n",
       "    </tr>\n",
       "  </tbody>\n",
       "</table>\n",
       "</div>"
      ],
      "text/plain": [
       "   candidate_id  time_spent  isco_functie_niveau  education  company_name  \\\n",
       "0         84556         156                  2.0        0.0        324258   \n",
       "1         84556         116                  1.0        0.0        324258   \n",
       "2         84556         275                  2.0        0.0        329244   \n",
       "3         84556           4                  1.0        0.0        368140   \n",
       "4         84556          11                  1.0        0.0        419826   \n",
       "\n",
       "   function_id  isco_code4  \n",
       "0          936         208  \n",
       "1          809         348  \n",
       "2          936         208  \n",
       "3         1519         344  \n",
       "4         1519         344  "
      ]
     },
     "execution_count": 4,
     "metadata": {},
     "output_type": "execute_result"
    }
   ],
   "source": [
    "df.head()"
   ]
  },
  {
   "cell_type": "code",
   "execution_count": 5,
   "id": "cd958a2e",
   "metadata": {},
   "outputs": [],
   "source": [
    "certs = pd.read_csv(\"data/candidate_certificates_mappings.csv\").drop(\"Unnamed: 0\", axis=1)\n",
    "certs = certs.groupby(\"candidate_id\")[\"candidate_certificate_id\"].apply(lambda x: x.values)"
   ]
  },
  {
   "cell_type": "code",
   "execution_count": 6,
   "id": "8e0715ce",
   "metadata": {},
   "outputs": [],
   "source": [
    "isco_codes = pd.read_csv(\"data/isco translations it sp uk nl fr de - Sheet1.csv\")[[\"ISCO_08_Code\", \n",
    "                                                                                   \"NL ISCO \"]].set_index(\n",
    "    \"ISCO_08_Code\").to_dict()[\"NL ISCO \"]\n",
    "\n",
    "# isco_codes = {int(k): v for k, v in isco_codes.items() if k.isdigit()}"
   ]
  },
  {
   "cell_type": "code",
   "execution_count": 7,
   "id": "b2b54912",
   "metadata": {},
   "outputs": [],
   "source": [
    "languages = pd.read_csv(\"data/languages_mappings.csv\").drop(\"Unnamed: 0\", axis=1)\n",
    "languages = languages.groupby(\"candidate_id\")[\"language_id\"].apply(lambda x: x.values)"
   ]
  },
  {
   "cell_type": "code",
   "execution_count": 8,
   "id": "c197e625",
   "metadata": {},
   "outputs": [],
   "source": [
    "licenses = pd.read_csv(\"data/license_mappings.csv\")\n",
    "licenses = licenses.groupby(\"candidate_id\")[\"driving_licenses\"].apply(lambda x: x.values)"
   ]
  },
  {
   "cell_type": "code",
   "execution_count": 9,
   "id": "f4524134",
   "metadata": {},
   "outputs": [],
   "source": [
    "addresses = pd.read_csv(\"data/address_mappings.csv\").set_index(\"candidate_id\").to_dict()[\"from_post_code\"]"
   ]
  },
  {
   "cell_type": "code",
   "execution_count": 10,
   "id": "9ab0acaa",
   "metadata": {},
   "outputs": [],
   "source": [
    "skills = pd.read_csv(\"data/candidate_skills_mapped.csv\").drop([\"Unnamed: 0\", \"date_start\"], axis=1)\n",
    "skills = skills.groupby(\"candidate_id\")[\"skill_id\"].apply(lambda x: x.values)"
   ]
  },
  {
   "cell_type": "code",
   "execution_count": 11,
   "id": "f640f52d",
   "metadata": {},
   "outputs": [],
   "source": [
    "with open(\"data/index_to_company.json\") as f:\n",
    "    companies = json.load(f)\n",
    "    companies = {int(k): v for k, v in companies.items()}"
   ]
  },
  {
   "cell_type": "code",
   "execution_count": 12,
   "id": "c2895ca7",
   "metadata": {},
   "outputs": [],
   "source": [
    "with open(\"data/index_to_isco.json\") as f:\n",
    "    isco = json.load(f)\n",
    "    isco = {int(k): int(v) for k, v in isco.items()}"
   ]
  },
  {
   "cell_type": "code",
   "execution_count": 13,
   "id": "5c9101ea",
   "metadata": {},
   "outputs": [],
   "source": [
    "skill_levels = {1 : \"Routineus werk\",\n",
    "                2 : \"Gemiddeld werk\",\n",
    "                3 : \"Bovengemiddeld werk\",\n",
    "                4 : \"Kenniswerk\"}"
   ]
  },
  {
   "cell_type": "markdown",
   "id": "79ea0ad3",
   "metadata": {},
   "source": [
    "# Convert DataFrame values to human-readable text"
   ]
  },
  {
   "cell_type": "code",
   "execution_count": 14,
   "id": "4159190e",
   "metadata": {},
   "outputs": [],
   "source": [
    "df[\"company_name\"] = df[\"company_name\"].apply(lambda x: companies[x] if x in companies else x)"
   ]
  },
  {
   "cell_type": "code",
   "execution_count": 15,
   "id": "915a0e5e",
   "metadata": {},
   "outputs": [],
   "source": [
    "df[\"isco_code4\"] = df[\"isco_code4\"].apply(lambda x: isco[int(x)] if int(x) in isco else int(x))"
   ]
  },
  {
   "cell_type": "code",
   "execution_count": 16,
   "id": "29b267d5",
   "metadata": {},
   "outputs": [],
   "source": [
    "df[\"isco_code4\"] = df[\"isco_code4\"].apply(lambda x: isco_codes[x])"
   ]
  },
  {
   "cell_type": "code",
   "execution_count": 17,
   "id": "55fe8f7f",
   "metadata": {},
   "outputs": [],
   "source": [
    "df[\"location\"] = df[\"candidate_id\"].apply(lambda x: addresses[x] if x in addresses else \"N.v.t.\")"
   ]
  },
  {
   "cell_type": "code",
   "execution_count": 18,
   "id": "77b815c4",
   "metadata": {},
   "outputs": [],
   "source": [
    "df[\"skills\"] = df[\"candidate_id\"].apply(lambda x: \", \".join(skills[x]) if x in skills else \"N.v.t.\")"
   ]
  },
  {
   "cell_type": "code",
   "execution_count": 19,
   "id": "b8421e80",
   "metadata": {},
   "outputs": [],
   "source": [
    "df[\"certificates\"] = df[\"candidate_id\"].apply(lambda x: \", \".join(certs[x]) if x in certs else \"N.v.t.\")"
   ]
  },
  {
   "cell_type": "code",
   "execution_count": 20,
   "id": "ce28e9e3",
   "metadata": {},
   "outputs": [],
   "source": [
    "df[\"licenses\"] = df[\"candidate_id\"].apply(lambda x: \", \".join(licenses[x]) if x in licenses else \"N.v.t.\")"
   ]
  },
  {
   "cell_type": "code",
   "execution_count": 21,
   "id": "fd2ab6e8",
   "metadata": {},
   "outputs": [],
   "source": [
    "df[\"languages\"] = df[\"candidate_id\"].apply(lambda x: \", \".join(languages[x]) if x in languages else \"N.v.t.\")"
   ]
  },
  {
   "cell_type": "code",
   "execution_count": 22,
   "id": "d46db6c2",
   "metadata": {},
   "outputs": [],
   "source": [
    "df[\"isco_functie_niveau\"] = df[\"isco_functie_niveau\"].apply(lambda x: skill_levels[int(x)])"
   ]
  },
  {
   "cell_type": "code",
   "execution_count": 23,
   "id": "06eb6717",
   "metadata": {},
   "outputs": [
    {
     "data": {
      "text/html": [
       "<div>\n",
       "<style scoped>\n",
       "    .dataframe tbody tr th:only-of-type {\n",
       "        vertical-align: middle;\n",
       "    }\n",
       "\n",
       "    .dataframe tbody tr th {\n",
       "        vertical-align: top;\n",
       "    }\n",
       "\n",
       "    .dataframe thead th {\n",
       "        text-align: right;\n",
       "    }\n",
       "</style>\n",
       "<table border=\"1\" class=\"dataframe\">\n",
       "  <thead>\n",
       "    <tr style=\"text-align: right;\">\n",
       "      <th></th>\n",
       "      <th>candidate_id</th>\n",
       "      <th>time_spent</th>\n",
       "      <th>isco_functie_niveau</th>\n",
       "      <th>education</th>\n",
       "      <th>company_name</th>\n",
       "      <th>function_id</th>\n",
       "      <th>isco_code4</th>\n",
       "      <th>location</th>\n",
       "      <th>skills</th>\n",
       "      <th>certificates</th>\n",
       "      <th>licenses</th>\n",
       "      <th>languages</th>\n",
       "    </tr>\n",
       "  </thead>\n",
       "  <tbody>\n",
       "    <tr>\n",
       "      <th>0</th>\n",
       "      <td>84556</td>\n",
       "      <td>156</td>\n",
       "      <td>Gemiddeld werk</td>\n",
       "      <td>0.0</td>\n",
       "      <td>Rest. Les 3 suisses, CH</td>\n",
       "      <td>936</td>\n",
       "      <td>Koks</td>\n",
       "      <td>1102</td>\n",
       "      <td>Klantgerichtheid, Aanpassingsvermogen, Communi...</td>\n",
       "      <td>N.v.t.</td>\n",
       "      <td>B</td>\n",
       "      <td>Nederlands</td>\n",
       "    </tr>\n",
       "    <tr>\n",
       "      <th>1</th>\n",
       "      <td>84556</td>\n",
       "      <td>116</td>\n",
       "      <td>Routineus werk</td>\n",
       "      <td>0.0</td>\n",
       "      <td>Rest. Les 3 suisses, CH</td>\n",
       "      <td>809</td>\n",
       "      <td>Bereiders van fastfood</td>\n",
       "      <td>1102</td>\n",
       "      <td>Klantgerichtheid, Aanpassingsvermogen, Communi...</td>\n",
       "      <td>N.v.t.</td>\n",
       "      <td>B</td>\n",
       "      <td>Nederlands</td>\n",
       "    </tr>\n",
       "    <tr>\n",
       "      <th>2</th>\n",
       "      <td>84556</td>\n",
       "      <td>275</td>\n",
       "      <td>Gemiddeld werk</td>\n",
       "      <td>0.0</td>\n",
       "      <td>Logidex BV</td>\n",
       "      <td>936</td>\n",
       "      <td>Koks</td>\n",
       "      <td>1102</td>\n",
       "      <td>Klantgerichtheid, Aanpassingsvermogen, Communi...</td>\n",
       "      <td>N.v.t.</td>\n",
       "      <td>B</td>\n",
       "      <td>Nederlands</td>\n",
       "    </tr>\n",
       "    <tr>\n",
       "      <th>3</th>\n",
       "      <td>84556</td>\n",
       "      <td>4</td>\n",
       "      <td>Routineus werk</td>\n",
       "      <td>0.0</td>\n",
       "      <td>Little indian Horses</td>\n",
       "      <td>1519</td>\n",
       "      <td>Inpakkers</td>\n",
       "      <td>1102</td>\n",
       "      <td>Klantgerichtheid, Aanpassingsvermogen, Communi...</td>\n",
       "      <td>N.v.t.</td>\n",
       "      <td>B</td>\n",
       "      <td>Nederlands</td>\n",
       "    </tr>\n",
       "    <tr>\n",
       "      <th>4</th>\n",
       "      <td>84556</td>\n",
       "      <td>11</td>\n",
       "      <td>Routineus werk</td>\n",
       "      <td>0.0</td>\n",
       "      <td>Tassos island</td>\n",
       "      <td>1519</td>\n",
       "      <td>Inpakkers</td>\n",
       "      <td>1102</td>\n",
       "      <td>Klantgerichtheid, Aanpassingsvermogen, Communi...</td>\n",
       "      <td>N.v.t.</td>\n",
       "      <td>B</td>\n",
       "      <td>Nederlands</td>\n",
       "    </tr>\n",
       "  </tbody>\n",
       "</table>\n",
       "</div>"
      ],
      "text/plain": [
       "   candidate_id  time_spent isco_functie_niveau  education  \\\n",
       "0         84556         156      Gemiddeld werk        0.0   \n",
       "1         84556         116      Routineus werk        0.0   \n",
       "2         84556         275      Gemiddeld werk        0.0   \n",
       "3         84556           4      Routineus werk        0.0   \n",
       "4         84556          11      Routineus werk        0.0   \n",
       "\n",
       "              company_name  function_id              isco_code4 location  \\\n",
       "0  Rest. Les 3 suisses, CH          936                    Koks     1102   \n",
       "1  Rest. Les 3 suisses, CH          809  Bereiders van fastfood     1102   \n",
       "2               Logidex BV          936                    Koks     1102   \n",
       "3     Little indian Horses         1519               Inpakkers     1102   \n",
       "4            Tassos island         1519               Inpakkers     1102   \n",
       "\n",
       "                                              skills certificates licenses  \\\n",
       "0  Klantgerichtheid, Aanpassingsvermogen, Communi...       N.v.t.        B   \n",
       "1  Klantgerichtheid, Aanpassingsvermogen, Communi...       N.v.t.        B   \n",
       "2  Klantgerichtheid, Aanpassingsvermogen, Communi...       N.v.t.        B   \n",
       "3  Klantgerichtheid, Aanpassingsvermogen, Communi...       N.v.t.        B   \n",
       "4  Klantgerichtheid, Aanpassingsvermogen, Communi...       N.v.t.        B   \n",
       "\n",
       "    languages  \n",
       "0  Nederlands  \n",
       "1  Nederlands  \n",
       "2  Nederlands  \n",
       "3  Nederlands  \n",
       "4  Nederlands  "
      ]
     },
     "execution_count": 23,
     "metadata": {},
     "output_type": "execute_result"
    }
   ],
   "source": [
    "df.head()"
   ]
  },
  {
   "cell_type": "code",
   "execution_count": 24,
   "id": "c4d1b61b",
   "metadata": {},
   "outputs": [],
   "source": [
    "df_grouped = df.groupby(\"candidate_id\")"
   ]
  },
  {
   "cell_type": "markdown",
   "id": "6ce3fcde",
   "metadata": {},
   "source": [
    "# Flask "
   ]
  },
  {
   "cell_type": "code",
   "execution_count": 25,
   "id": "ccab6c9e",
   "metadata": {},
   "outputs": [],
   "source": [
    "@app.route('/', methods=[\"GET\", \"POST\"])\n",
    "def index():\n",
    "    if request.method == \"POST\":\n",
    "        session[\"user_type\"] = request.form['submit_button']\n",
    "        session[\"example\"] = 0\n",
    "        return redirect(url_for(\"sliders\"))\n",
    "    else:\n",
    "        return render_template(\"/index.html\")"
   ]
  },
  {
   "cell_type": "code",
   "execution_count": 26,
   "id": "1234bca0",
   "metadata": {},
   "outputs": [],
   "source": [
    "@app.route('/sliders', methods=[\"GET\", \"POST\"])\n",
    "def sliders():\n",
    "    \n",
    "    if session[\"example\"] >= 3:\n",
    "        return \"klaar!\"\n",
    "    \n",
    "    # instead --> get examples[group_type][example_number]    \n",
    "    df = df_grouped.get_group(np.random.choice(\n",
    "        list(df_grouped.indices.keys()))\n",
    "                             ).reset_index().drop([\"index\", \n",
    "                                                   \"candidate_id\"], axis=1)\n",
    "        \n",
    "    static_features = pd.DataFrame(df[[\"location\", \"skills\", \"certificates\", \"licenses\", \"languages\"]].iloc[0].T)\n",
    "    df = df.drop([\"location\", \"skills\", \"certificates\", \"licenses\", \"languages\"], axis=1)\n",
    "    \n",
    "    df.index.name = \"Baan nummer\"\n",
    "    df.index += 1\n",
    "    df = df.T\n",
    "    df.index = [\"Dagen gewerkt\", \"Werkniveau\", \"Opleidingsniveau\", \"Bedrijf\", \"Functie\", \"Isco code\"]\n",
    "    df = df.loc[[\"Isco code\", \"Functie\", \"Bedrijf\", \"Opleidingsniveau\", \"Dagen gewerkt\", \"Werkniveau\"]]\n",
    "\n",
    "    static_features.index = [\"Postcode\", \"Vaardigheden\", \"Certificaten\", \"Rijbewijzen\", \"Talen\"]\n",
    "    static_feautres = static_features.loc[[\"Vaardigheden\", \"Certificaten\", \"Talen\", \"Rijbewijzen\", \"Postcode\"]]\n",
    "    \n",
    "    return render_template(\"/sliders.html\", \n",
    "                           dataframe=df.to_html(classes=\"table\"), \n",
    "                           static_features=static_features.to_html(header=False, classes=[\"table\", \"static_data\"]))"
   ]
  },
  {
   "cell_type": "code",
   "execution_count": 27,
   "id": "2e3a183f",
   "metadata": {},
   "outputs": [],
   "source": [
    "@app.route(\"/store_results\", methods=[\"POST\"])\n",
    "def store_results():\n",
    "    \n",
    "    r = request.get_json()\n",
    "    values = dict(zip([\"isco code\", \"function id\", \"company\", \"education\", \"days worked\", \n",
    "                       \"isco level\", \"CV\", \"skills\", \"certificates\", \"languages\", \"licenses\",\n",
    "                       \"location\"], r[\"values\"]))\n",
    "    \n",
    "    print(session[\"user_type\"], session[\"example\"], values)\n",
    "    session[\"example\"] += 1\n",
    "        \n",
    "    return redirect(url_for(\"sliders\"))"
   ]
  },
  {
   "cell_type": "code",
   "execution_count": null,
   "id": "7034b2fe",
   "metadata": {},
   "outputs": [
    {
     "name": "stderr",
     "output_type": "stream",
     "text": [
      " * Running on http://localhost:8080/ (Press CTRL+C to quit)\n",
      "127.0.0.1 - - [23/May/2022 15:37:57] \"GET / HTTP/1.1\" 200 -\n",
      "127.0.0.1 - - [23/May/2022 15:37:59] \"POST / HTTP/1.1\" 302 -\n",
      "127.0.0.1 - - [23/May/2022 15:37:59] \"GET /sliders HTTP/1.1\" 200 -\n"
     ]
    }
   ],
   "source": [
    "run_simple('localhost', 8080, app)"
   ]
  },
  {
   "cell_type": "code",
   "execution_count": null,
   "id": "d0fbc367",
   "metadata": {},
   "outputs": [],
   "source": []
  }
 ],
 "metadata": {
  "kernelspec": {
   "display_name": "conda_python3",
   "language": "python",
   "name": "conda_python3"
  },
  "language_info": {
   "codemirror_mode": {
    "name": "ipython",
    "version": 3
   },
   "file_extension": ".py",
   "mimetype": "text/x-python",
   "name": "python",
   "nbconvert_exporter": "python",
   "pygments_lexer": "ipython3",
   "version": "3.6.13"
  }
 },
 "nbformat": 4,
 "nbformat_minor": 5
}
