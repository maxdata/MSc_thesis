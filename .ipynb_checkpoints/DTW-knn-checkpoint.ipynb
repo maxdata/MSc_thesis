{
 "cells": [
  {
   "cell_type": "code",
   "execution_count": 2,
   "id": "77eca9db",
   "metadata": {},
   "outputs": [
    {
     "name": "stdout",
     "output_type": "stream",
     "text": [
      "Requirement already satisfied: dtaidistance in /home/ec2-user/anaconda3/envs/pytorch_p36/lib/python3.6/site-packages (2.3.6)\r\n",
      "Requirement already satisfied: numpy in /home/ec2-user/anaconda3/envs/pytorch_p36/lib/python3.6/site-packages (from dtaidistance) (1.19.5)\r\n"
     ]
    }
   ],
   "source": [
    "!pip install dtaidistance"
   ]
  },
  {
   "cell_type": "code",
   "execution_count": 3,
   "id": "76deac5d",
   "metadata": {},
   "outputs": [],
   "source": [
    "from sys import path\n",
    "path.append(\"/home/ec2-user/SageMaker/data-science-development/utils\")\n",
    "path.append(\"/home/ec2-user/SageMaker/data-science-development/config\")\n",
    "\n",
    "import pandas as pd\n",
    "import numpy as np\n",
    "import matplotlib.pyplot as plt\n",
    "\n",
    "from datetime import datetime\n",
    "from collections import defaultdict\n",
    "from tqdm import tqdm \n",
    "from dtaidistance import dtw\n",
    "\n",
    "tqdm.pandas()"
   ]
  },
  {
   "cell_type": "code",
   "execution_count": null,
   "id": "42322b61",
   "metadata": {},
   "outputs": [],
   "source": [
    "df_pred = pd.read_csv(\"DTW_df_pred.csv\").drop(\"Unnamed: 0\", axis=1)"
   ]
  },
  {
   "cell_type": "code",
   "execution_count": 5,
   "id": "b737088e",
   "metadata": {},
   "outputs": [
    {
     "data": {
      "text/html": [
       "<div>\n",
       "<style scoped>\n",
       "    .dataframe tbody tr th:only-of-type {\n",
       "        vertical-align: middle;\n",
       "    }\n",
       "\n",
       "    .dataframe tbody tr th {\n",
       "        vertical-align: top;\n",
       "    }\n",
       "\n",
       "    .dataframe thead th {\n",
       "        text-align: right;\n",
       "    }\n",
       "</style>\n",
       "<table border=\"1\" class=\"dataframe\">\n",
       "  <thead>\n",
       "    <tr style=\"text-align: right;\">\n",
       "      <th></th>\n",
       "      <th>candidate_id</th>\n",
       "      <th>job_order</th>\n",
       "      <th>time_between</th>\n",
       "      <th>time_spent</th>\n",
       "      <th>isco_functie_niveau</th>\n",
       "      <th>education</th>\n",
       "      <th>function_id</th>\n",
       "      <th>isco_code4</th>\n",
       "    </tr>\n",
       "  </thead>\n",
       "  <tbody>\n",
       "    <tr>\n",
       "      <th>0</th>\n",
       "      <td>84556</td>\n",
       "      <td>0</td>\n",
       "      <td>37</td>\n",
       "      <td>156</td>\n",
       "      <td>2.0</td>\n",
       "      <td>0.0</td>\n",
       "      <td>937.0</td>\n",
       "      <td>207.0</td>\n",
       "    </tr>\n",
       "    <tr>\n",
       "      <th>1</th>\n",
       "      <td>84556</td>\n",
       "      <td>1</td>\n",
       "      <td>23</td>\n",
       "      <td>116</td>\n",
       "      <td>1.0</td>\n",
       "      <td>0.0</td>\n",
       "      <td>811.0</td>\n",
       "      <td>347.0</td>\n",
       "    </tr>\n",
       "    <tr>\n",
       "      <th>2</th>\n",
       "      <td>84556</td>\n",
       "      <td>2</td>\n",
       "      <td>23</td>\n",
       "      <td>275</td>\n",
       "      <td>2.0</td>\n",
       "      <td>0.0</td>\n",
       "      <td>937.0</td>\n",
       "      <td>207.0</td>\n",
       "    </tr>\n",
       "    <tr>\n",
       "      <th>3</th>\n",
       "      <td>84556</td>\n",
       "      <td>3</td>\n",
       "      <td>1155</td>\n",
       "      <td>4</td>\n",
       "      <td>1.0</td>\n",
       "      <td>0.0</td>\n",
       "      <td>1521.0</td>\n",
       "      <td>343.0</td>\n",
       "    </tr>\n",
       "    <tr>\n",
       "      <th>4</th>\n",
       "      <td>84556</td>\n",
       "      <td>4</td>\n",
       "      <td>203</td>\n",
       "      <td>11</td>\n",
       "      <td>1.0</td>\n",
       "      <td>0.0</td>\n",
       "      <td>1521.0</td>\n",
       "      <td>343.0</td>\n",
       "    </tr>\n",
       "  </tbody>\n",
       "</table>\n",
       "</div>"
      ],
      "text/plain": [
       "   candidate_id  job_order  time_between  time_spent  isco_functie_niveau  \\\n",
       "0         84556          0            37         156                  2.0   \n",
       "1         84556          1            23         116                  1.0   \n",
       "2         84556          2            23         275                  2.0   \n",
       "3         84556          3          1155           4                  1.0   \n",
       "4         84556          4           203          11                  1.0   \n",
       "\n",
       "   education  function_id  isco_code4  \n",
       "0        0.0        937.0       207.0  \n",
       "1        0.0        811.0       347.0  \n",
       "2        0.0        937.0       207.0  \n",
       "3        0.0       1521.0       343.0  \n",
       "4        0.0       1521.0       343.0  "
      ]
     },
     "execution_count": 5,
     "metadata": {},
     "output_type": "execute_result"
    }
   ],
   "source": [
    "df_pred.head()"
   ]
  },
  {
   "cell_type": "code",
   "execution_count": 6,
   "id": "f57828d7",
   "metadata": {},
   "outputs": [],
   "source": [
    "career_paths = df_pred.groupby(\"candidate_id\")[\"isco_code4\"]"
   ]
  },
  {
   "cell_type": "code",
   "execution_count": 7,
   "id": "3c016c9b",
   "metadata": {},
   "outputs": [
    {
     "name": "stderr",
     "output_type": "stream",
     "text": [
      "100%|██████████| 465468/465468 [00:11<00:00, 39341.25it/s]\n"
     ]
    }
   ],
   "source": [
    "# Convert to 2d-arrays, getting rid of candidate_ids as values\n",
    "career_paths = career_paths.progress_apply(lambda x: x.values)"
   ]
  },
  {
   "cell_type": "code",
   "execution_count": 8,
   "id": "280f5388",
   "metadata": {},
   "outputs": [],
   "source": [
    "career_lens = career_paths.apply(len)\n",
    "career_paths = career_paths.loc[(career_lens > 1) & (career_lens <= 100)]"
   ]
  },
  {
   "cell_type": "code",
   "execution_count": 9,
   "id": "73c69a70",
   "metadata": {},
   "outputs": [],
   "source": [
    "size = max(career_paths.apply(len))"
   ]
  },
  {
   "cell_type": "code",
   "execution_count": 9,
   "id": "4d46f60e",
   "metadata": {},
   "outputs": [],
   "source": [
    "to_fill = np.zeros([len(career_paths), size])\n",
    "\n",
    "for i, career in enumerate(career_paths.values):\n",
    "    career = career[:-1]\n",
    "    to_fill[i][-len(career):] = career"
   ]
  },
  {
   "cell_type": "code",
   "execution_count": 14,
   "id": "0e00e1b2",
   "metadata": {},
   "outputs": [],
   "source": [
    "del df_pred\n",
    "del career_paths\n",
    "del career_lens\n",
    "del size"
   ]
  },
  {
   "cell_type": "code",
   "execution_count": 10,
   "id": "6dae5873",
   "metadata": {},
   "outputs": [
    {
     "name": "stderr",
     "output_type": "stream",
     "text": [
      "  0%|          | 1001/265302 [36:13<159:26:00,  2.17s/it]\n"
     ]
    }
   ],
   "source": [
    "results = defaultdict(lambda: defaultdict(int))\n",
    "\n",
    "try:\n",
    "    for i, current in tqdm(enumerate(career_paths.iteritems()), total=len(career_paths)):\n",
    "        candidate, career = current\n",
    "        career = career[:-1]\n",
    "\n",
    "        for j in career_paths.iteritems():\n",
    "            candidate2, career2 = j\n",
    "\n",
    "            if candidate != candidate2:\n",
    "                results[candidate][candidate2] = dtw.distance(career, \n",
    "                                                              career2, \n",
    "                                                              use_c=True, \n",
    "                                                              use_pruning=True)\n",
    "                \n",
    "        if i > 1000:\n",
    "            break\n",
    "        \n",
    "except KeyboardInterrupt:\n",
    "    pass"
   ]
  },
  {
   "cell_type": "code",
   "execution_count": 11,
   "id": "3aa7c140",
   "metadata": {},
   "outputs": [],
   "source": [
    "best_matches = {}\n",
    "\n",
    "for i in results:\n",
    "    if len(results[i]):\n",
    "        best_matches[i] = min(results[i], key=lambda x: results[i][x])"
   ]
  },
  {
   "cell_type": "code",
   "execution_count": 12,
   "id": "b6ed77c6",
   "metadata": {},
   "outputs": [],
   "source": [
    "a = np.array([[career_paths[k][-1] == career_paths[k][-2],\n",
    "               career_paths[k][-1] == career_paths[v][-1]] for k, v in best_matches.items()])"
   ]
  },
  {
   "cell_type": "code",
   "execution_count": 13,
   "id": "9dd8965d",
   "metadata": {},
   "outputs": [
    {
     "data": {
      "text/plain": [
       "(0.5369261477045908, 0.35429141716566864)"
      ]
     },
     "execution_count": 13,
     "metadata": {},
     "output_type": "execute_result"
    }
   ],
   "source": [
    "# t-1          # DTW + knn\n",
    "a[:,0].mean(), a[:,1].mean()"
   ]
  },
  {
   "cell_type": "code",
   "execution_count": 11,
   "id": "5e7a1ba6",
   "metadata": {},
   "outputs": [
    {
     "data": {
      "text/plain": [
       "(265302, 100)"
      ]
     },
     "execution_count": 11,
     "metadata": {},
     "output_type": "execute_result"
    }
   ],
   "source": [
    "to_fill.shape"
   ]
  },
  {
   "cell_type": "code",
   "execution_count": 13,
   "id": "b909419d",
   "metadata": {},
   "outputs": [],
   "source": [
    "ds = dtw.distance_matrix(to_fill, compact=True, use_c=True, parallel=True, block=((0,1), (0, 265302)))"
   ]
  },
  {
   "cell_type": "code",
   "execution_count": 15,
   "id": "8b220d9f",
   "metadata": {},
   "outputs": [
    {
     "data": {
      "text/plain": [
       "1792.5214085192958"
      ]
     },
     "execution_count": 15,
     "metadata": {},
     "output_type": "execute_result"
    }
   ],
   "source": [
    "dtw.distance(to_fill[0], to_fill[1])"
   ]
  },
  {
   "cell_type": "code",
   "execution_count": 17,
   "id": "9270ef3b",
   "metadata": {},
   "outputs": [
    {
     "data": {
      "text/plain": [
       "svmem(total=33731719168, available=32250499072, percent=4.4, used=1085788160, free=30616322048, active=1764462592, inactive=1128648704, buffers=171974656, cached=1857634304, shared=90112, slab=121921536)"
      ]
     },
     "execution_count": 17,
     "metadata": {},
     "output_type": "execute_result"
    }
   ],
   "source": [
    "import psutil\n",
    "psutil.virtual_memory()"
   ]
  },
  {
   "cell_type": "code",
   "execution_count": 28,
   "id": "1d8c3971",
   "metadata": {},
   "outputs": [
    {
     "data": {
      "text/plain": [
       "array([[1, 2, 3],\n",
       "       [3, 2, 1]])"
      ]
     },
     "execution_count": 28,
     "metadata": {},
     "output_type": "execute_result"
    }
   ],
   "source": [
    "np.array([[1, 2, 3], [3, 2, 1]])"
   ]
  },
  {
   "cell_type": "code",
   "execution_count": 29,
   "id": "08e51875",
   "metadata": {},
   "outputs": [],
   "source": [
    "ds = dtw.distance_matrix_fast(np.array([[1, 2, 3], [1, 2, 0]], dtype=np.double),\n",
    "                              compact=True, \n",
    "                              use_pruning=True, \n",
    "                              max_length_diff = 100)"
   ]
  },
  {
   "cell_type": "code",
   "execution_count": 30,
   "id": "e6673005",
   "metadata": {},
   "outputs": [
    {
     "data": {
      "text/plain": [
       "array('d', [3.0])"
      ]
     },
     "execution_count": 30,
     "metadata": {},
     "output_type": "execute_result"
    }
   ],
   "source": [
    "ds"
   ]
  },
  {
   "cell_type": "code",
   "execution_count": null,
   "id": "bef54d66",
   "metadata": {},
   "outputs": [],
   "source": []
  }
 ],
 "metadata": {
  "kernelspec": {
   "display_name": "conda_pytorch_p36",
   "language": "python",
   "name": "conda_pytorch_p36"
  },
  "language_info": {
   "codemirror_mode": {
    "name": "ipython",
    "version": 3
   },
   "file_extension": ".py",
   "mimetype": "text/x-python",
   "name": "python",
   "nbconvert_exporter": "python",
   "pygments_lexer": "ipython3",
   "version": "3.6.13"
  }
 },
 "nbformat": 4,
 "nbformat_minor": 5
}
