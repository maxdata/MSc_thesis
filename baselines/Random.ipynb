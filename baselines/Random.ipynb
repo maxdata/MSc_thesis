{
 "cells": [
  {
   "cell_type": "code",
   "execution_count": 1,
   "id": "75f8d7ac",
   "metadata": {},
   "outputs": [],
   "source": [
    "from sys import path\n",
    "path.append(\"/home/ec2-user/SageMaker/data-science-development/utils\")\n",
    "path.append(\"/home/ec2-user/SageMaker/data-science-development/config\")\n",
    "\n",
    "import pandas as pd\n",
    "import numpy as np\n",
    "\n",
    "from collections import defaultdict\n",
    "from tqdm import tqdm \n",
    "\n",
    "tqdm.pandas()"
   ]
  },
  {
   "cell_type": "code",
   "execution_count": 2,
   "id": "ba53c19c",
   "metadata": {},
   "outputs": [],
   "source": [
    "df_pred = pd.read_csv(\"../Data/df_pred_ext.csv\").drop(\"Unnamed: 0\", axis=1)"
   ]
  },
  {
   "cell_type": "code",
   "execution_count": 3,
   "id": "05ff8b91",
   "metadata": {},
   "outputs": [],
   "source": [
    "career_paths = df_pred.groupby(\"candidate_id\")[\"isco_code4\"]"
   ]
  },
  {
   "cell_type": "code",
   "execution_count": 4,
   "id": "8e0df52e",
   "metadata": {},
   "outputs": [
    {
     "name": "stderr",
     "output_type": "stream",
     "text": [
      "100%|██████████| 469568/469568 [00:12<00:00, 37527.86it/s]\n"
     ]
    }
   ],
   "source": [
    "# Convert to 2d-arrays, getting rid of candidate_ids as values\n",
    "career_paths = career_paths.progress_apply(lambda x: x.values)"
   ]
  },
  {
   "cell_type": "code",
   "execution_count": 5,
   "id": "6801048b",
   "metadata": {},
   "outputs": [],
   "source": [
    "career_lens = career_paths.apply(len)\n",
    "career_paths = career_paths.loc[(career_lens > 1)]"
   ]
  },
  {
   "cell_type": "code",
   "execution_count": 6,
   "id": "5941a6fb",
   "metadata": {},
   "outputs": [],
   "source": [
    "career_paths = career_paths.loc[career_paths.apply(lambda x: x[-1] != x[-2])]"
   ]
  },
  {
   "cell_type": "code",
   "execution_count": 7,
   "id": "f0bcb969",
   "metadata": {},
   "outputs": [
    {
     "data": {
      "text/plain": [
       "candidate_id\n",
       "84556      [208, 348, 208, 344, 344, 344, 344, 344, 344, ...\n",
       "84612                    [344, 335, 332, 344, 335, 222, 344]\n",
       "84731                    [344, 208, 208, 345, 229, 345, 323]\n",
       "85437      [344, 323, 344, 185, 177, 185, 185, 185, 189, ...\n",
       "85888                                        [229, 229, 208]\n",
       "                                 ...                        \n",
       "8909379                                           [130, 177]\n",
       "8909451                                           [222, 345]\n",
       "8909472                                   [46, 46, 345, 168]\n",
       "8909570                                           [351, 345]\n",
       "8909578                                      [222, 185, 117]\n",
       "Name: isco_code4, Length: 113724, dtype: object"
      ]
     },
     "execution_count": 7,
     "metadata": {},
     "output_type": "execute_result"
    }
   ],
   "source": [
    "career_paths"
   ]
  },
  {
   "cell_type": "code",
   "execution_count": 9,
   "id": "9e09f478",
   "metadata": {},
   "outputs": [
    {
     "data": {
      "text/plain": [
       "239"
      ]
     },
     "execution_count": 9,
     "metadata": {},
     "output_type": "execute_result"
    }
   ],
   "source": [
    "classes = df_pred[\"isco_code4\"].unique()"
   ]
  },
  {
   "cell_type": "code",
   "execution_count": 10,
   "id": "cccf7f6e",
   "metadata": {},
   "outputs": [
    {
     "name": "stderr",
     "output_type": "stream",
     "text": [
      "100%|██████████| 113724/113724 [00:00<00:00, 150052.59it/s]\n"
     ]
    }
   ],
   "source": [
    "random_class = career_paths.progress_apply(lambda x: x[-1] == np.random.choice(classes)).mean()"
   ]
  },
  {
   "cell_type": "code",
   "execution_count": 11,
   "id": "d69d8504",
   "metadata": {},
   "outputs": [
    {
     "name": "stdout",
     "output_type": "stream",
     "text": [
      "Most common switch accuracy: 0.30%\n"
     ]
    }
   ],
   "source": [
    "print(f\"Most common switch accuracy: {random_class * 100:>.2f}%\")"
   ]
  }
 ],
 "metadata": {
  "kernelspec": {
   "display_name": "conda_python3",
   "language": "python",
   "name": "conda_python3"
  },
  "language_info": {
   "codemirror_mode": {
    "name": "ipython",
    "version": 3
   },
   "file_extension": ".py",
   "mimetype": "text/x-python",
   "name": "python",
   "nbconvert_exporter": "python",
   "pygments_lexer": "ipython3",
   "version": "3.6.13"
  }
 },
 "nbformat": 4,
 "nbformat_minor": 5
}
