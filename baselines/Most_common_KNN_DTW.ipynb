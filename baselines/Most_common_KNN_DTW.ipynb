{
 "cells": [
  {
   "cell_type": "code",
   "execution_count": 11,
   "id": "5b81d9e4",
   "metadata": {},
   "outputs": [
    {
     "name": "stdout",
     "output_type": "stream",
     "text": [
      "Collecting dtw-python\n",
      "  Downloading dtw_python-1.1.12-cp36-cp36m-manylinux2010_x86_64.whl (581 kB)\n",
      "     |████████████████████████████████| 581 kB 24.6 MB/s            \n",
      "\u001b[?25hRequirement already satisfied: scipy>=1.1 in /home/ec2-user/anaconda3/envs/python3/lib/python3.6/site-packages (from dtw-python) (1.5.3)\n",
      "Requirement already satisfied: numpy>=1.19 in /home/ec2-user/anaconda3/envs/python3/lib/python3.6/site-packages (from dtw-python) (1.19.5)\n",
      "Installing collected packages: dtw-python\n",
      "Successfully installed dtw-python-1.1.12\n"
     ]
    }
   ],
   "source": [
    "!pip install dtw-python"
   ]
  },
  {
   "cell_type": "code",
   "execution_count": 51,
   "id": "6f11c214",
   "metadata": {},
   "outputs": [],
   "source": [
    "from sys import path\n",
    "path.append(\"/home/ec2-user/SageMaker/data-science-development/utils\")\n",
    "path.append(\"/home/ec2-user/SageMaker/data-science-development/config\")\n",
    "\n",
    "import pandas as pd\n",
    "import numpy as np\n",
    "\n",
    "from collections import defaultdict\n",
    "from tqdm import tqdm \n",
    "from heapq import nlargest\n",
    "import dtw\n",
    "\n",
    "tqdm.pandas()"
   ]
  },
  {
   "cell_type": "code",
   "execution_count": 52,
   "id": "01c5ee11",
   "metadata": {},
   "outputs": [],
   "source": [
    "df_pred = pd.read_csv(\"../Data/df_pred_ext.csv\").drop(\"Unnamed: 0\", axis=1)"
   ]
  },
  {
   "cell_type": "code",
   "execution_count": 53,
   "id": "c47c24ed",
   "metadata": {},
   "outputs": [
    {
     "data": {
      "text/plain": [
       "(1666675, 10)"
      ]
     },
     "execution_count": 53,
     "metadata": {},
     "output_type": "execute_result"
    }
   ],
   "source": [
    "df_pred.shape"
   ]
  },
  {
   "cell_type": "code",
   "execution_count": 54,
   "id": "ce5ff344",
   "metadata": {},
   "outputs": [],
   "source": [
    "career_paths = df_pred.groupby(\"candidate_id\")[\"isco_code4\"]"
   ]
  },
  {
   "cell_type": "code",
   "execution_count": 56,
   "id": "814b02a0",
   "metadata": {},
   "outputs": [
    {
     "name": "stderr",
     "output_type": "stream",
     "text": [
      "100%|██████████| 469568/469568 [00:11<00:00, 41353.90it/s]\n"
     ]
    }
   ],
   "source": [
    "# Convert to 2d-arrays, getting rid of candidate_ids as values\n",
    "career_paths = career_paths.progress_apply(lambda x: x.values)"
   ]
  },
  {
   "cell_type": "code",
   "execution_count": 57,
   "id": "227e1841",
   "metadata": {},
   "outputs": [],
   "source": [
    "career_lens = career_paths.apply(len)\n",
    "career_paths = career_paths.loc[(career_lens > 1)]"
   ]
  },
  {
   "cell_type": "code",
   "execution_count": 58,
   "id": "fd82e108",
   "metadata": {},
   "outputs": [
    {
     "data": {
      "text/plain": [
       "113724"
      ]
     },
     "execution_count": 58,
     "metadata": {},
     "output_type": "execute_result"
    }
   ],
   "source": [
    "career_paths = career_paths.loc[career_paths.apply(lambda x: x[-1] != x[-2])]\n",
    "len(career_paths)"
   ]
  },
  {
   "cell_type": "code",
   "execution_count": 59,
   "id": "d66abb88",
   "metadata": {},
   "outputs": [],
   "source": [
    "career_paths_train = career_paths.iloc[:int(0.8 * len(career_paths))]\n",
    "career_paths_valid = career_paths.iloc[int(0.8 * len(career_paths)):int(0.9 * len(career_paths))]\n",
    "career_paths_test = career_paths.iloc[int(0.9 * len(career_paths)):]"
   ]
  },
  {
   "cell_type": "code",
   "execution_count": 60,
   "id": "9b5e13e6",
   "metadata": {},
   "outputs": [],
   "source": [
    "s = career_paths_train.apply(lambda x : x[-2])\n",
    "second_to_last_jobs = s.to_frame().groupby(\"isco_code4\").apply(lambda x: set(x.index))"
   ]
  },
  {
   "cell_type": "code",
   "execution_count": 62,
   "id": "59be23ff",
   "metadata": {},
   "outputs": [
    {
     "name": "stderr",
     "output_type": "stream",
     "text": [
      "100%|█████████▉| 11372/11373 [1:15:03<00:00,  2.53it/s]\n"
     ]
    }
   ],
   "source": [
    "results = defaultdict(lambda: defaultdict(int))\n",
    "\n",
    "for c, jobs in tqdm(career_paths_valid.iteritems(), total=len(career_paths_test)):\n",
    "    # We can only find similar individuals if others have had the same second-to-last job\n",
    "    if jobs[-2] in second_to_last_jobs:\n",
    "        similar = second_to_last_jobs[jobs[-2]]\n",
    "        similar = career_paths_train.loc[similar]\n",
    "\n",
    "        jobs = jobs[:-1].astype(\"double\")\n",
    "\n",
    "        for j in similar.iteritems():\n",
    "            c2, jobs2 = j\n",
    "\n",
    "            if c != c2:\n",
    "                results[c][c2] = dtw.dtw(c, c2, distance_only=True).normalizedDistance"
   ]
  },
  {
   "cell_type": "code",
   "execution_count": 63,
   "id": "de3821f5",
   "metadata": {},
   "outputs": [
    {
     "name": "stderr",
     "output_type": "stream",
     "text": [
      "100%|██████████| 11371/11371 [00:21<00:00, 524.49it/s]\n"
     ]
    }
   ],
   "source": [
    "best_matches = {}\n",
    "\n",
    "for i in tqdm(results):\n",
    "    if len(results[i]):\n",
    "        best_matches[i] = sorted(results[i], key=lambda x: results[i][x])"
   ]
  },
  {
   "cell_type": "code",
   "execution_count": 64,
   "id": "1711c3b1",
   "metadata": {},
   "outputs": [],
   "source": [
    "def knn_classifier(best_matches, career_paths, k=1, n=[]):\n",
    "    \n",
    "    predictions = defaultdict(list)\n",
    "    \n",
    "    for candidate in best_matches.keys():\n",
    "        correct = career_paths[candidate][-1]\n",
    "                \n",
    "        neighbors = [(career_paths[neighbor][-1], i + 1) for i, neighbor in enumerate(best_matches[candidate][:k])]\n",
    "        \n",
    "        weights = defaultdict(int)\n",
    "        \n",
    "        for job, weight in neighbors:\n",
    "            weights[job] += 1/np.log(1 + weight)\n",
    "            \n",
    "        for v in n :\n",
    "            predictions[v].append(correct in nlargest(v, weights, key=weights.get))\n",
    "\n",
    "    return {k: np.mean(v) for k, v in predictions.items()}"
   ]
  },
  {
   "cell_type": "code",
   "execution_count": null,
   "id": "9da700bd",
   "metadata": {},
   "outputs": [
    {
     "name": "stderr",
     "output_type": "stream",
     "text": [
      "100%|██████████| 100/100 [07:28<00:00,  4.49s/it]\n"
     ]
    },
    {
     "data": {
      "text/html": [
       "<div>\n",
       "<style scoped>\n",
       "    .dataframe tbody tr th:only-of-type {\n",
       "        vertical-align: middle;\n",
       "    }\n",
       "\n",
       "    .dataframe tbody tr th {\n",
       "        vertical-align: top;\n",
       "    }\n",
       "\n",
       "    .dataframe thead th {\n",
       "        text-align: right;\n",
       "    }\n",
       "</style>\n",
       "<table border=\"1\" class=\"dataframe\">\n",
       "  <thead>\n",
       "    <tr style=\"text-align: right;\">\n",
       "      <th></th>\n",
       "      <th>acc@1</th>\n",
       "      <th>acc@5</th>\n",
       "      <th>acc@10</th>\n",
       "    </tr>\n",
       "    <tr>\n",
       "      <th>k</th>\n",
       "      <th></th>\n",
       "      <th></th>\n",
       "      <th></th>\n",
       "    </tr>\n",
       "  </thead>\n",
       "  <tbody>\n",
       "    <tr>\n",
       "      <th>1</th>\n",
       "      <td>0.068596</td>\n",
       "      <td>0.068596</td>\n",
       "      <td>0.068596</td>\n",
       "    </tr>\n",
       "    <tr>\n",
       "      <th>2</th>\n",
       "      <td>0.068596</td>\n",
       "      <td>0.147480</td>\n",
       "      <td>0.147480</td>\n",
       "    </tr>\n",
       "    <tr>\n",
       "      <th>3</th>\n",
       "      <td>0.073608</td>\n",
       "      <td>0.234368</td>\n",
       "      <td>0.234368</td>\n",
       "    </tr>\n",
       "    <tr>\n",
       "      <th>4</th>\n",
       "      <td>0.075279</td>\n",
       "      <td>0.273942</td>\n",
       "      <td>0.273942</td>\n",
       "    </tr>\n",
       "    <tr>\n",
       "      <th>5</th>\n",
       "      <td>0.076686</td>\n",
       "      <td>0.299974</td>\n",
       "      <td>0.299974</td>\n",
       "    </tr>\n",
       "    <tr>\n",
       "      <th>...</th>\n",
       "      <td>...</td>\n",
       "      <td>...</td>\n",
       "      <td>...</td>\n",
       "    </tr>\n",
       "    <tr>\n",
       "      <th>96</th>\n",
       "      <td>0.179228</td>\n",
       "      <td>0.464515</td>\n",
       "      <td>0.580600</td>\n",
       "    </tr>\n",
       "    <tr>\n",
       "      <th>97</th>\n",
       "      <td>0.179228</td>\n",
       "      <td>0.464515</td>\n",
       "      <td>0.581919</td>\n",
       "    </tr>\n",
       "    <tr>\n",
       "      <th>98</th>\n",
       "      <td>0.180283</td>\n",
       "      <td>0.464955</td>\n",
       "      <td>0.582007</td>\n",
       "    </tr>\n",
       "    <tr>\n",
       "      <th>99</th>\n",
       "      <td>0.180283</td>\n",
       "      <td>0.464515</td>\n",
       "      <td>0.582095</td>\n",
       "    </tr>\n",
       "    <tr>\n",
       "      <th>100</th>\n",
       "      <td>0.180195</td>\n",
       "      <td>0.464427</td>\n",
       "      <td>0.581303</td>\n",
       "    </tr>\n",
       "  </tbody>\n",
       "</table>\n",
       "<p>100 rows × 3 columns</p>\n",
       "</div>"
      ],
      "text/plain": [
       "        acc@1     acc@5    acc@10\n",
       "k                                \n",
       "1    0.068596  0.068596  0.068596\n",
       "2    0.068596  0.147480  0.147480\n",
       "3    0.073608  0.234368  0.234368\n",
       "4    0.075279  0.273942  0.273942\n",
       "5    0.076686  0.299974  0.299974\n",
       "..        ...       ...       ...\n",
       "96   0.179228  0.464515  0.580600\n",
       "97   0.179228  0.464515  0.581919\n",
       "98   0.180283  0.464955  0.582007\n",
       "99   0.180283  0.464515  0.582095\n",
       "100  0.180195  0.464427  0.581303\n",
       "\n",
       "[100 rows x 3 columns]"
      ]
     },
     "execution_count": 66,
     "metadata": {},
     "output_type": "execute_result"
    }
   ],
   "source": [
    "results = defaultdict(list)\n",
    "\n",
    "for k in tqdm(range(1, 101)):\n",
    "    results[\"k\"].append(k)\n",
    "    r = knn_classifier(best_matches, career_paths, k=k, n=[1, 5, 10])\n",
    "    results[\"acc@1\"].append(r[1])\n",
    "    results[\"acc@5\"].append(r[5])\n",
    "    results[\"acc@10\"].append(r[10])\n",
    "    \n",
    "pd.DataFrame(results).set_index(\"k\")"
   ]
  },
  {
   "cell_type": "code",
   "execution_count": 69,
   "id": "0a2f7e5d",
   "metadata": {},
   "outputs": [
    {
     "data": {
      "text/html": [
       "<div>\n",
       "<style scoped>\n",
       "    .dataframe tbody tr th:only-of-type {\n",
       "        vertical-align: middle;\n",
       "    }\n",
       "\n",
       "    .dataframe tbody tr th {\n",
       "        vertical-align: top;\n",
       "    }\n",
       "\n",
       "    .dataframe thead th {\n",
       "        text-align: right;\n",
       "    }\n",
       "</style>\n",
       "<table border=\"1\" class=\"dataframe\">\n",
       "  <thead>\n",
       "    <tr style=\"text-align: right;\">\n",
       "      <th></th>\n",
       "      <th>acc@1</th>\n",
       "      <th>acc@5</th>\n",
       "      <th>acc@10</th>\n",
       "    </tr>\n",
       "    <tr>\n",
       "      <th>k</th>\n",
       "      <th></th>\n",
       "      <th></th>\n",
       "      <th></th>\n",
       "    </tr>\n",
       "  </thead>\n",
       "  <tbody>\n",
       "    <tr>\n",
       "      <th>1</th>\n",
       "      <td>0.068596</td>\n",
       "      <td>0.068596</td>\n",
       "      <td>0.068596</td>\n",
       "    </tr>\n",
       "    <tr>\n",
       "      <th>2</th>\n",
       "      <td>0.068596</td>\n",
       "      <td>0.147480</td>\n",
       "      <td>0.147480</td>\n",
       "    </tr>\n",
       "    <tr>\n",
       "      <th>3</th>\n",
       "      <td>0.073608</td>\n",
       "      <td>0.234368</td>\n",
       "      <td>0.234368</td>\n",
       "    </tr>\n",
       "    <tr>\n",
       "      <th>4</th>\n",
       "      <td>0.075279</td>\n",
       "      <td>0.273942</td>\n",
       "      <td>0.273942</td>\n",
       "    </tr>\n",
       "    <tr>\n",
       "      <th>5</th>\n",
       "      <td>0.076686</td>\n",
       "      <td>0.299974</td>\n",
       "      <td>0.299974</td>\n",
       "    </tr>\n",
       "    <tr>\n",
       "      <th>6</th>\n",
       "      <td>0.085217</td>\n",
       "      <td>0.311054</td>\n",
       "      <td>0.328027</td>\n",
       "    </tr>\n",
       "    <tr>\n",
       "      <th>7</th>\n",
       "      <td>0.114062</td>\n",
       "      <td>0.317035</td>\n",
       "      <td>0.355554</td>\n",
       "    </tr>\n",
       "    <tr>\n",
       "      <th>8</th>\n",
       "      <td>0.114238</td>\n",
       "      <td>0.326181</td>\n",
       "      <td>0.375253</td>\n",
       "    </tr>\n",
       "    <tr>\n",
       "      <th>9</th>\n",
       "      <td>0.120922</td>\n",
       "      <td>0.330226</td>\n",
       "      <td>0.408935</td>\n",
       "    </tr>\n",
       "    <tr>\n",
       "      <th>13</th>\n",
       "      <td>0.121977</td>\n",
       "      <td>0.371735</td>\n",
       "      <td>0.456600</td>\n",
       "    </tr>\n",
       "  </tbody>\n",
       "</table>\n",
       "</div>"
      ],
      "text/plain": [
       "       acc@1     acc@5    acc@10\n",
       "k                               \n",
       "1   0.068596  0.068596  0.068596\n",
       "2   0.068596  0.147480  0.147480\n",
       "3   0.073608  0.234368  0.234368\n",
       "4   0.075279  0.273942  0.273942\n",
       "5   0.076686  0.299974  0.299974\n",
       "6   0.085217  0.311054  0.328027\n",
       "7   0.114062  0.317035  0.355554\n",
       "8   0.114238  0.326181  0.375253\n",
       "9   0.120922  0.330226  0.408935\n",
       "13  0.121977  0.371735  0.456600"
      ]
     },
     "execution_count": 69,
     "metadata": {},
     "output_type": "execute_result"
    }
   ],
   "source": [
    "pd.DataFrame(results).set_index(\"k\").sort_values(by=\"acc@1\").head(10)"
   ]
  },
  {
   "cell_type": "code",
   "execution_count": 12,
   "id": "d74e4201",
   "metadata": {},
   "outputs": [
    {
     "data": {
      "text/plain": [
       "(0.6130138491976258, 0.006329914804694123)"
      ]
     },
     "execution_count": 12,
     "metadata": {},
     "output_type": "execute_result"
    }
   ],
   "source": [
    "most_common_switch, 1.96 * np.sqrt(((1 - most_common_switch)* (most_common_switch)) / (113724*0.2))"
   ]
  },
  {
   "cell_type": "code",
   "execution_count": 13,
   "id": "809dbcd5",
   "metadata": {},
   "outputs": [
    {
     "name": "stdout",
     "output_type": "stream",
     "text": [
      "Most common switch accuracy: 61.30%\n"
     ]
    }
   ],
   "source": [
    "print(f\"Most common switch accuracy: {most_common_switch * 100:>.2f}%\")"
   ]
  },
  {
   "cell_type": "code",
   "execution_count": null,
   "id": "bd4eadd4",
   "metadata": {},
   "outputs": [],
   "source": []
  }
 ],
 "metadata": {
  "kernelspec": {
   "display_name": "conda_python3",
   "language": "python",
   "name": "conda_python3"
  },
  "language_info": {
   "codemirror_mode": {
    "name": "ipython",
    "version": 3
   },
   "file_extension": ".py",
   "mimetype": "text/x-python",
   "name": "python",
   "nbconvert_exporter": "python",
   "pygments_lexer": "ipython3",
   "version": "3.6.13"
  }
 },
 "nbformat": 4,
 "nbformat_minor": 5
}
