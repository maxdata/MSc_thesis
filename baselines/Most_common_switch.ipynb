{
 "cells": [
  {
   "cell_type": "code",
   "execution_count": 1,
   "id": "9014e8f7",
   "metadata": {},
   "outputs": [],
   "source": [
    "from sys import path\n",
    "path.append(\"/home/ec2-user/SageMaker/data-science-development/utils\")\n",
    "path.append(\"/home/ec2-user/SageMaker/data-science-development/config\")\n",
    "\n",
    "import pandas as pd\n",
    "import numpy as np\n",
    "\n",
    "from collections import defaultdict\n",
    "from tqdm import tqdm \n",
    "\n",
    "tqdm.pandas()"
   ]
  },
  {
   "cell_type": "code",
   "execution_count": 2,
   "id": "1f9c5f42",
   "metadata": {},
   "outputs": [],
   "source": [
    "df_pred = pd.read_csv(\"../Data/df_pred_ext.csv\").drop(\"Unnamed: 0\", axis=1)"
   ]
  },
  {
   "cell_type": "code",
   "execution_count": 3,
   "id": "406df61e",
   "metadata": {},
   "outputs": [],
   "source": [
    "career_paths = df_pred.groupby(\"candidate_id\")[\"isco_code4\"]"
   ]
  },
  {
   "cell_type": "code",
   "execution_count": 4,
   "id": "f0d011c3",
   "metadata": {},
   "outputs": [
    {
     "name": "stderr",
     "output_type": "stream",
     "text": [
      "100%|██████████| 469568/469568 [00:20<00:00, 23179.63it/s]\n"
     ]
    }
   ],
   "source": [
    "# Convert to 2d-arrays, getting rid of candidate_ids as values\n",
    "career_paths = career_paths.progress_apply(lambda x: x.values)"
   ]
  },
  {
   "cell_type": "code",
   "execution_count": 5,
   "id": "28d06a24",
   "metadata": {},
   "outputs": [],
   "source": [
    "career_lens = career_paths.apply(len)\n",
    "career_paths = career_paths.loc[(career_lens > 1)]"
   ]
  },
  {
   "cell_type": "code",
   "execution_count": 6,
   "id": "d2efa3f2",
   "metadata": {},
   "outputs": [],
   "source": [
    "career_paths = career_paths.loc[career_paths.apply(lambda x: x[-1] != x[-2])]"
   ]
  },
  {
   "cell_type": "code",
   "execution_count": 7,
   "id": "4361a285",
   "metadata": {},
   "outputs": [
    {
     "data": {
      "text/plain": [
       "candidate_id\n",
       "84556      [208, 348, 208, 344, 344, 344, 344, 344, 344, ...\n",
       "84612                    [344, 335, 332, 344, 335, 222, 344]\n",
       "84731                    [344, 208, 208, 345, 229, 345, 323]\n",
       "85437      [344, 323, 344, 185, 177, 185, 185, 185, 189, ...\n",
       "85888                                        [229, 229, 208]\n",
       "                                 ...                        \n",
       "8909379                                           [130, 177]\n",
       "8909451                                           [222, 345]\n",
       "8909472                                   [46, 46, 345, 168]\n",
       "8909570                                           [351, 345]\n",
       "8909578                                      [222, 185, 117]\n",
       "Name: isco_code4, Length: 113724, dtype: object"
      ]
     },
     "execution_count": 7,
     "metadata": {},
     "output_type": "execute_result"
    }
   ],
   "source": [
    "career_paths"
   ]
  },
  {
   "cell_type": "code",
   "execution_count": 8,
   "id": "60524a23",
   "metadata": {},
   "outputs": [],
   "source": [
    "switches = defaultdict(lambda: defaultdict(int))\n",
    "\n",
    "for c, jobs in career_paths.iteritems():\n",
    "    for i in range(len(jobs)):\n",
    "        if i < len(jobs) - 1 and jobs[i] != jobs[i + 1]:\n",
    "            switches[jobs[i]][jobs[i  + 1]] += 1"
   ]
  },
  {
   "cell_type": "code",
   "execution_count": 9,
   "id": "5435ca94",
   "metadata": {},
   "outputs": [],
   "source": [
    "most_common = pd.Series({k: max(v, key=v.get) for k, v in switches.items()})"
   ]
  },
  {
   "cell_type": "code",
   "execution_count": 10,
   "id": "b501aa8e",
   "metadata": {},
   "outputs": [
    {
     "data": {
      "text/plain": [
       "208    348\n",
       "348    208\n",
       "344    345\n",
       "345    344\n",
       "185    177\n",
       "dtype: int64"
      ]
     },
     "execution_count": 10,
     "metadata": {},
     "output_type": "execute_result"
    }
   ],
   "source": [
    "most_common.head()"
   ]
  },
  {
   "cell_type": "code",
   "execution_count": 11,
   "id": "de7d6710",
   "metadata": {},
   "outputs": [
    {
     "name": "stderr",
     "output_type": "stream",
     "text": [
      "100%|██████████| 113724/113724 [00:04<00:00, 25561.24it/s]\n"
     ]
    }
   ],
   "source": [
    "most_common_switch = career_paths.progress_apply(lambda x: x[-1] == most_common.loc[x[-2]]).mean()"
   ]
  },
  {
   "cell_type": "code",
   "execution_count": 12,
   "id": "94391654",
   "metadata": {},
   "outputs": [
    {
     "name": "stdout",
     "output_type": "stream",
     "text": [
      "Most common switch accuracy: 23.15%\n"
     ]
    }
   ],
   "source": [
    "print(f\"Most common switch accuracy: {most_common_switch * 100:>.2f}%\")"
   ]
  },
  {
   "cell_type": "code",
   "execution_count": null,
   "id": "23694f70",
   "metadata": {},
   "outputs": [],
   "source": []
  }
 ],
 "metadata": {
  "kernelspec": {
   "display_name": "conda_python3",
   "language": "python",
   "name": "conda_python3"
  },
  "language_info": {
   "codemirror_mode": {
    "name": "ipython",
    "version": 3
   },
   "file_extension": ".py",
   "mimetype": "text/x-python",
   "name": "python",
   "nbconvert_exporter": "python",
   "pygments_lexer": "ipython3",
   "version": "3.6.13"
  }
 },
 "nbformat": 4,
 "nbformat_minor": 5
}
