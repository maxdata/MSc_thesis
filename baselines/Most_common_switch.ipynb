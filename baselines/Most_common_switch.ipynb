{
 "cells": [
  {
   "cell_type": "code",
   "execution_count": 39,
   "id": "83a3f323",
   "metadata": {},
   "outputs": [],
   "source": [
    "from sys import path\n",
    "path.append(\"/home/ec2-user/SageMaker/data-science-development/utils\")\n",
    "path.append(\"/home/ec2-user/SageMaker/data-science-development/config\")\n",
    "\n",
    "import pandas as pd\n",
    "import numpy as np\n",
    "\n",
    "from collections import defaultdict\n",
    "from tqdm import tqdm \n",
    "from heapq import nlargest\n",
    "\n",
    "tqdm.pandas()"
   ]
  },
  {
   "cell_type": "code",
   "execution_count": 40,
   "id": "197927e8",
   "metadata": {},
   "outputs": [],
   "source": [
    "df_pred = pd.read_csv(\"../Data/df_pred_ext.csv\").drop(\"Unnamed: 0\", axis=1)"
   ]
  },
  {
   "cell_type": "code",
   "execution_count": 41,
   "id": "0aefc2cc",
   "metadata": {},
   "outputs": [],
   "source": [
    "df_pred = df_pred[df_pred[\"source\"] == 0]"
   ]
  },
  {
   "cell_type": "code",
   "execution_count": 42,
   "id": "387122e9",
   "metadata": {},
   "outputs": [],
   "source": [
    "career_paths = df_pred.groupby(\"candidate_id\")[\"isco_code4\"]"
   ]
  },
  {
   "cell_type": "code",
   "execution_count": 43,
   "id": "0059dbe6",
   "metadata": {},
   "outputs": [
    {
     "name": "stderr",
     "output_type": "stream",
     "text": [
      "100%|██████████| 382133/382133 [00:10<00:00, 35514.46it/s]\n"
     ]
    }
   ],
   "source": [
    "# Convert to 2d-arrays, getting rid of candidate_ids as values\n",
    "career_paths = career_paths.progress_apply(lambda x: x.values)"
   ]
  },
  {
   "cell_type": "code",
   "execution_count": 44,
   "id": "4bc7a261",
   "metadata": {},
   "outputs": [],
   "source": [
    "career_lens = career_paths.apply(len)\n",
    "career_paths = career_paths.loc[(career_lens > 1)]"
   ]
  },
  {
   "cell_type": "code",
   "execution_count": 45,
   "id": "bcdf7d39",
   "metadata": {},
   "outputs": [
    {
     "data": {
      "text/plain": [
       "61293"
      ]
     },
     "execution_count": 45,
     "metadata": {},
     "output_type": "execute_result"
    }
   ],
   "source": [
    "career_paths = career_paths.loc[career_paths.apply(lambda x: x[-1] != x[-2])]\n",
    "len(career_paths)"
   ]
  },
  {
   "cell_type": "code",
   "execution_count": 46,
   "id": "4fc2e934",
   "metadata": {},
   "outputs": [],
   "source": [
    "career_paths_train = career_paths.iloc[:int(0.8 * 61293)]\n",
    "career_paths_test = career_paths.iloc[int(0.8 * 61293):]"
   ]
  },
  {
   "cell_type": "code",
   "execution_count": 47,
   "id": "5d853614",
   "metadata": {},
   "outputs": [],
   "source": [
    "switches = defaultdict(lambda: defaultdict(int))\n",
    "\n",
    "for c, jobs in career_paths_train.iteritems():\n",
    "    for i in range(len(jobs)):\n",
    "        if i < len(jobs) - 1 and jobs[i] != jobs[i + 1]:\n",
    "            switches[jobs[i]][jobs[i  + 1]] += 1"
   ]
  },
  {
   "cell_type": "code",
   "execution_count": 83,
   "id": "8aa275fc",
   "metadata": {},
   "outputs": [],
   "source": [
    "most_common = pd.Series({k: set(nlargest(1, v, key=v.get)) for k, v in switches.items()})"
   ]
  },
  {
   "cell_type": "code",
   "execution_count": 84,
   "id": "928a3987",
   "metadata": {},
   "outputs": [
    {
     "data": {
      "text/plain": [
       "208    {348}\n",
       "348    {208}\n",
       "344    {345}\n",
       "345    {344}\n",
       "185    {177}\n",
       "dtype: object"
      ]
     },
     "execution_count": 84,
     "metadata": {},
     "output_type": "execute_result"
    }
   ],
   "source": [
    "most_common.head()"
   ]
  },
  {
   "cell_type": "code",
   "execution_count": 85,
   "id": "b6bf5cf4",
   "metadata": {},
   "outputs": [
    {
     "name": "stderr",
     "output_type": "stream",
     "text": [
      "100%|██████████| 12259/12259 [00:00<00:00, 43083.80it/s]\n"
     ]
    }
   ],
   "source": [
    "most_common_switch = career_paths_test.progress_apply(lambda x: x[-1] in most_common.loc[x[-2]] if x[-2] in most_common.index else False).mean()"
   ]
  },
  {
   "cell_type": "code",
   "execution_count": 86,
   "id": "944b382a",
   "metadata": {},
   "outputs": [
    {
     "data": {
      "text/plain": [
       "(0.30573456236234603, 0.005987562386471285)"
      ]
     },
     "execution_count": 86,
     "metadata": {},
     "output_type": "execute_result"
    }
   ],
   "source": [
    "most_common_switch, 1.96 * np.sqrt(((1 - most_common_switch)* (most_common_switch)) / (113724*0.2))"
   ]
  },
  {
   "cell_type": "code",
   "execution_count": 62,
   "id": "357cd39d",
   "metadata": {},
   "outputs": [
    {
     "name": "stdout",
     "output_type": "stream",
     "text": [
      "Most common switch accuracy: 60.36%\n"
     ]
    }
   ],
   "source": [
    "print(f\"Most common switch accuracy: {most_common_switch * 100:>.2f}%\")"
   ]
  },
  {
   "cell_type": "code",
   "execution_count": null,
   "id": "98cd3d5a",
   "metadata": {},
   "outputs": [],
   "source": []
  }
 ],
 "metadata": {
  "kernelspec": {
   "display_name": "conda_python3",
   "language": "python",
   "name": "conda_python3"
  },
  "language_info": {
   "codemirror_mode": {
    "name": "ipython",
    "version": 3
   },
   "file_extension": ".py",
   "mimetype": "text/x-python",
   "name": "python",
   "nbconvert_exporter": "python",
   "pygments_lexer": "ipython3",
   "version": "3.6.13"
  }
 },
 "nbformat": 4,
 "nbformat_minor": 5
}
