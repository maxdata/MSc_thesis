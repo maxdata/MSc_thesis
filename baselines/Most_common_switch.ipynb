{
 "cells": [
  {
   "cell_type": "code",
   "execution_count": 1,
   "id": "7eac3ae8",
   "metadata": {},
   "outputs": [],
   "source": [
    "from sys import path\n",
    "path.append(\"/home/ec2-user/SageMaker/data-science-development/utils\")\n",
    "path.append(\"/home/ec2-user/SageMaker/data-science-development/config\")\n",
    "\n",
    "import pandas as pd\n",
    "import numpy as np\n",
    "\n",
    "from collections import defaultdict\n",
    "from tqdm import tqdm \n",
    "from heapq import nlargest\n",
    "\n",
    "tqdm.pandas()"
   ]
  },
  {
   "cell_type": "code",
   "execution_count": 2,
   "id": "640bfbec",
   "metadata": {},
   "outputs": [],
   "source": [
    "df_pred = pd.read_csv(\"../Data/df_pred_ext.csv\").drop(\"Unnamed: 0\", axis=1)"
   ]
  },
  {
   "cell_type": "code",
   "execution_count": 3,
   "id": "c0659530",
   "metadata": {},
   "outputs": [],
   "source": [
    "career_paths = df_pred.groupby(\"candidate_id\")[\"isco_code4\"]"
   ]
  },
  {
   "cell_type": "code",
   "execution_count": 4,
   "id": "99c3d166",
   "metadata": {},
   "outputs": [
    {
     "name": "stderr",
     "output_type": "stream",
     "text": [
      "100%|██████████| 14647/14647 [00:00<00:00, 38929.74it/s]\n"
     ]
    }
   ],
   "source": [
    "# Convert to 2d-arrays, getting rid of candidate_ids as values\n",
    "career_paths = career_paths.progress_apply(lambda x: x.values)"
   ]
  },
  {
   "cell_type": "code",
   "execution_count": 5,
   "id": "8bb2f840",
   "metadata": {},
   "outputs": [],
   "source": [
    "career_lens = career_paths.apply(len)\n",
    "career_paths = career_paths.loc[(career_lens > 1)]"
   ]
  },
  {
   "cell_type": "code",
   "execution_count": 6,
   "id": "40764cfc",
   "metadata": {},
   "outputs": [],
   "source": [
    "career_paths = career_paths.loc[career_paths.apply(lambda x: x[-1] != x[-2])]"
   ]
  },
  {
   "cell_type": "code",
   "execution_count": 7,
   "id": "62a5c6ed",
   "metadata": {},
   "outputs": [
    {
     "data": {
      "text/plain": [
       "candidate_id\n",
       "84556      [208.0, 348.0, 208.0, 344.0, 344.0, 344.0, 344...\n",
       "84612      [344.0, 335.0, 332.0, 344.0, 335.0, 222.0, 344.0]\n",
       "84731      [344.0, 208.0, 208.0, 345.0, 229.0, 345.0, 323.0]\n",
       "85437      [344.0, 323.0, 344.0, 185.0, 177.0, 185.0, 185...\n",
       "85888                                  [229.0, 229.0, 208.0]\n",
       "                                 ...                        \n",
       "2712644    [142.0, 193.0, 344.0, 345.0, 345.0, 323.0, 323...\n",
       "2713636    [345.0, 344.0, 344.0, 345.0, 345.0, 345.0, 344...\n",
       "2713846                  [208.0, 208.0, 177.0, 177.0, 187.0]\n",
       "2714059      [208.0, 207.0, 150.0, 24.0, 229.0, 353.0, 24.0]\n",
       "2714264    [199.0, 208.0, 208.0, 208.0, 208.0, 208.0, 208...\n",
       "Name: isco_code4, Length: 6420, dtype: object"
      ]
     },
     "execution_count": 7,
     "metadata": {},
     "output_type": "execute_result"
    }
   ],
   "source": [
    "career_paths"
   ]
  },
  {
   "cell_type": "code",
   "execution_count": 8,
   "id": "dd484dde",
   "metadata": {},
   "outputs": [],
   "source": [
    "switches = defaultdict(lambda: defaultdict(int))\n",
    "\n",
    "for c, jobs in career_paths.iteritems():\n",
    "    for i in range(len(jobs)):\n",
    "        if i < len(jobs) - 1 and jobs[i] != jobs[i + 1]:\n",
    "            switches[jobs[i]][jobs[i  + 1]] += 1"
   ]
  },
  {
   "cell_type": "code",
   "execution_count": 13,
   "id": "f439d1a8",
   "metadata": {},
   "outputs": [],
   "source": [
    "most_common = pd.Series({k: set(nlargest(5, v, key=v.get)) for k, v in switches.items()})"
   ]
  },
  {
   "cell_type": "code",
   "execution_count": 14,
   "id": "1c61b572",
   "metadata": {},
   "outputs": [
    {
     "data": {
      "text/plain": [
       "208.0    {229.0, 335.0, 177.0, 345.0, 348.0}\n",
       "348.0    {229.0, 335.0, 208.0, 207.0, 345.0}\n",
       "344.0    {323.0, 332.0, 335.0, 343.0, 345.0}\n",
       "345.0    {195.0, 332.0, 335.0, 177.0, 344.0}\n",
       "185.0    {227.0, 174.0, 177.0, 344.0, 345.0}\n",
       "dtype: object"
      ]
     },
     "execution_count": 14,
     "metadata": {},
     "output_type": "execute_result"
    }
   ],
   "source": [
    "most_common.head()"
   ]
  },
  {
   "cell_type": "code",
   "execution_count": 15,
   "id": "d26f6001",
   "metadata": {},
   "outputs": [
    {
     "name": "stderr",
     "output_type": "stream",
     "text": [
      "100%|██████████| 6420/6420 [00:00<00:00, 35282.69it/s]\n"
     ]
    }
   ],
   "source": [
    "most_common_switch = career_paths.progress_apply(lambda x: x[-1] in most_common.loc[x[-2]]).mean()"
   ]
  },
  {
   "cell_type": "code",
   "execution_count": 16,
   "id": "23e66011",
   "metadata": {},
   "outputs": [
    {
     "name": "stdout",
     "output_type": "stream",
     "text": [
      "Most common switch accuracy: 55.08%\n"
     ]
    }
   ],
   "source": [
    "print(f\"Most common switch accuracy: {most_common_switch * 100:>.2f}%\")"
   ]
  },
  {
   "cell_type": "code",
   "execution_count": null,
   "id": "c3d006a1",
   "metadata": {},
   "outputs": [],
   "source": []
  }
 ],
 "metadata": {
  "kernelspec": {
   "display_name": "conda_python3",
   "language": "python",
   "name": "conda_python3"
  },
  "language_info": {
   "codemirror_mode": {
    "name": "ipython",
    "version": 3
   },
   "file_extension": ".py",
   "mimetype": "text/x-python",
   "name": "python",
   "nbconvert_exporter": "python",
   "pygments_lexer": "ipython3",
   "version": "3.6.13"
  }
 },
 "nbformat": 4,
 "nbformat_minor": 5
}
