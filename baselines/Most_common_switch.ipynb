{
 "cells": [
  {
   "cell_type": "code",
   "execution_count": 2,
   "id": "99aa88a1",
   "metadata": {},
   "outputs": [],
   "source": [
    "from sys import path\n",
    "path.append(\"/home/ec2-user/SageMaker/data-science-development/utils\")\n",
    "path.append(\"/home/ec2-user/SageMaker/data-science-development/config\")\n",
    "\n",
    "import pandas as pd\n",
    "import numpy as np\n",
    "\n",
    "from collections import defaultdict\n",
    "from tqdm import tqdm \n",
    "from heapq import nlargest\n",
    "\n",
    "tqdm.pandas()"
   ]
  },
  {
   "cell_type": "code",
   "execution_count": 3,
   "id": "9a074a61",
   "metadata": {},
   "outputs": [],
   "source": [
    "df_pred = pd.read_csv(\"../Data/df_pred_ext.csv\").drop(\"Unnamed: 0\", axis=1)"
   ]
  },
  {
   "cell_type": "code",
   "execution_count": 4,
   "id": "a677871a",
   "metadata": {},
   "outputs": [],
   "source": [
    "career_paths = df_pred.groupby(\"candidate_id\")[\"isco_code4\"]"
   ]
  },
  {
   "cell_type": "code",
   "execution_count": 5,
   "id": "511549a4",
   "metadata": {},
   "outputs": [
    {
     "name": "stderr",
     "output_type": "stream",
     "text": [
      "100%|██████████| 469568/469568 [00:11<00:00, 41203.50it/s]\n"
     ]
    }
   ],
   "source": [
    "# Convert to 2d-arrays, getting rid of candidate_ids as values\n",
    "career_paths = career_paths.progress_apply(lambda x: x.values)"
   ]
  },
  {
   "cell_type": "code",
   "execution_count": 6,
   "id": "fe85e2a4",
   "metadata": {},
   "outputs": [],
   "source": [
    "career_lens = career_paths.apply(len)\n",
    "career_paths = career_paths.loc[(career_lens > 1)]"
   ]
  },
  {
   "cell_type": "code",
   "execution_count": 7,
   "id": "cd436639",
   "metadata": {},
   "outputs": [
    {
     "data": {
      "text/plain": [
       "113724"
      ]
     },
     "execution_count": 7,
     "metadata": {},
     "output_type": "execute_result"
    }
   ],
   "source": [
    "career_paths = career_paths.loc[career_paths.apply(lambda x: x[-1] != x[-2])]\n",
    "len(career_paths)"
   ]
  },
  {
   "cell_type": "code",
   "execution_count": 13,
   "id": "4fb0c06f",
   "metadata": {},
   "outputs": [],
   "source": [
    "career_paths_train = career_paths.iloc[:int(0.8 * 113724)]\n",
    "career_paths_test = career_paths.iloc[int(0.8 * 113724):]"
   ]
  },
  {
   "cell_type": "code",
   "execution_count": 14,
   "id": "56593f8d",
   "metadata": {},
   "outputs": [],
   "source": [
    "switches = defaultdict(lambda: defaultdict(int))\n",
    "\n",
    "for c, jobs in career_paths_train.iteritems():\n",
    "    for i in range(len(jobs)):\n",
    "        if i < len(jobs) - 1 and jobs[i] != jobs[i + 1]:\n",
    "            switches[jobs[i]][jobs[i  + 1]] += 1"
   ]
  },
  {
   "cell_type": "code",
   "execution_count": 51,
   "id": "ac9a2fe7",
   "metadata": {},
   "outputs": [],
   "source": [
    "most_common = pd.Series({k: set(nlargest(5, v, key=v.get)) for k, v in switches.items()})"
   ]
  },
  {
   "cell_type": "code",
   "execution_count": 52,
   "id": "40a69854",
   "metadata": {},
   "outputs": [
    {
     "data": {
      "text/plain": [
       "208    {229, 344, 345, 348, 189}\n",
       "348    {229, 207, 208, 344, 345}\n",
       "344    {323, 195, 117, 343, 345}\n",
       "345    {323, 195, 332, 177, 344}\n",
       "185    {195, 227, 177, 344, 345}\n",
       "dtype: object"
      ]
     },
     "execution_count": 52,
     "metadata": {},
     "output_type": "execute_result"
    }
   ],
   "source": [
    "most_common.head()"
   ]
  },
  {
   "cell_type": "code",
   "execution_count": 53,
   "id": "1bc6979d",
   "metadata": {},
   "outputs": [
    {
     "name": "stderr",
     "output_type": "stream",
     "text": [
      "100%|██████████| 22745/22745 [00:00<00:00, 38877.47it/s]\n"
     ]
    }
   ],
   "source": [
    "most_common_switch = career_paths_test.progress_apply(lambda x: x[-1] in most_common.loc[x[-2]]).mean()"
   ]
  },
  {
   "cell_type": "code",
   "execution_count": 54,
   "id": "80113255",
   "metadata": {},
   "outputs": [
    {
     "data": {
      "text/plain": [
       "(0.46564080017586285, 0.006482718581574373)"
      ]
     },
     "execution_count": 54,
     "metadata": {},
     "output_type": "execute_result"
    }
   ],
   "source": [
    "most_common_switch, 1.96 * np.sqrt(((1 - most_common_switch)* (most_common_switch)) / (113724*0.2))"
   ]
  },
  {
   "cell_type": "code",
   "execution_count": 55,
   "id": "563880b8",
   "metadata": {},
   "outputs": [
    {
     "name": "stdout",
     "output_type": "stream",
     "text": [
      "Most common switch accuracy: 46.56%\n"
     ]
    }
   ],
   "source": [
    "print(f\"Most common switch accuracy: {most_common_switch * 100:>.2f}%\")"
   ]
  },
  {
   "cell_type": "code",
   "execution_count": null,
   "id": "f13f5bf5",
   "metadata": {},
   "outputs": [],
   "source": []
  }
 ],
 "metadata": {
  "kernelspec": {
   "display_name": "conda_python3",
   "language": "python",
   "name": "conda_python3"
  },
  "language_info": {
   "codemirror_mode": {
    "name": "ipython",
    "version": 3
   },
   "file_extension": ".py",
   "mimetype": "text/x-python",
   "name": "python",
   "nbconvert_exporter": "python",
   "pygments_lexer": "ipython3",
   "version": "3.6.13"
  }
 },
 "nbformat": 4,
 "nbformat_minor": 5
}
