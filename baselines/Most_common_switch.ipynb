{
 "cells": [
  {
   "cell_type": "code",
   "execution_count": 1,
   "id": "0f8e157a",
   "metadata": {},
   "outputs": [],
   "source": [
    "from sys import path\n",
    "path.append(\"/home/ec2-user/SageMaker/data-science-development/utils\")\n",
    "path.append(\"/home/ec2-user/SageMaker/data-science-development/config\")\n",
    "\n",
    "import pandas as pd\n",
    "import numpy as np\n",
    "\n",
    "from collections import defaultdict\n",
    "from tqdm import tqdm \n",
    "from heapq import nlargest\n",
    "\n",
    "tqdm.pandas()"
   ]
  },
  {
   "cell_type": "code",
   "execution_count": 20,
   "id": "27e4cb82",
   "metadata": {},
   "outputs": [],
   "source": [
    "df_pred = pd.read_csv(\"../Data/df_pred_ext.csv\").drop(\"Unnamed: 0\", axis=1)"
   ]
  },
  {
   "cell_type": "code",
   "execution_count": 21,
   "id": "ba1a5ccc",
   "metadata": {},
   "outputs": [],
   "source": [
    "career_paths = df_pred.groupby(\"candidate_id\")[\"isco_code4\"]"
   ]
  },
  {
   "cell_type": "code",
   "execution_count": 22,
   "id": "c435f1b1",
   "metadata": {},
   "outputs": [
    {
     "name": "stderr",
     "output_type": "stream",
     "text": [
      "100%|██████████| 469568/469568 [00:12<00:00, 38210.77it/s]\n"
     ]
    }
   ],
   "source": [
    "# Convert to 2d-arrays, getting rid of candidate_ids as values\n",
    "career_paths = career_paths.progress_apply(lambda x: x.values)"
   ]
  },
  {
   "cell_type": "code",
   "execution_count": 23,
   "id": "caaf071d",
   "metadata": {},
   "outputs": [],
   "source": [
    "career_lens = career_paths.apply(len)\n",
    "career_paths = career_paths.loc[(career_lens > 1)]"
   ]
  },
  {
   "cell_type": "code",
   "execution_count": 24,
   "id": "77297fd0",
   "metadata": {},
   "outputs": [
    {
     "data": {
      "text/plain": [
       "113724"
      ]
     },
     "execution_count": 24,
     "metadata": {},
     "output_type": "execute_result"
    }
   ],
   "source": [
    "career_paths = career_paths.loc[career_paths.apply(lambda x: x[-1] != x[-2])]\n",
    "len(career_paths)"
   ]
  },
  {
   "cell_type": "code",
   "execution_count": 32,
   "id": "8a0cc79e",
   "metadata": {},
   "outputs": [],
   "source": [
    "career_paths_train = career_paths.iloc[:int(0.8 * 113724)]\n",
    "career_paths_test = career_paths.iloc[int(0.8 * 113724):]"
   ]
  },
  {
   "cell_type": "code",
   "execution_count": 33,
   "id": "15b13766",
   "metadata": {},
   "outputs": [],
   "source": [
    "switches = defaultdict(lambda: defaultdict(int))\n",
    "\n",
    "for c, jobs in career_paths_train.iteritems():\n",
    "    for i in range(len(jobs)):\n",
    "        if i < len(jobs) - 1 and jobs[i] != jobs[i + 1]:\n",
    "            switches[jobs[i]][jobs[i  + 1]] += 1"
   ]
  },
  {
   "cell_type": "code",
   "execution_count": 44,
   "id": "a8be871b",
   "metadata": {},
   "outputs": [],
   "source": [
    "most_common = pd.Series({k: set(nlargest(10, v, key=v.get)) for k, v in switches.items()})"
   ]
  },
  {
   "cell_type": "code",
   "execution_count": 45,
   "id": "f6b76b88",
   "metadata": {},
   "outputs": [
    {
     "data": {
      "text/plain": [
       "208    {185, 229, 335, 177, 209, 344, 345, 348, 189, ...\n",
       "348    {195, 229, 207, 208, 335, 177, 344, 345, 189, ...\n",
       "344    {323, 195, 185, 332, 335, 208, 177, 117, 343, ...\n",
       "345    {323, 195, 326, 199, 332, 335, 208, 177, 343, ...\n",
       "185    {193, 195, 227, 174, 208, 177, 344, 345, 188, ...\n",
       "dtype: object"
      ]
     },
     "execution_count": 45,
     "metadata": {},
     "output_type": "execute_result"
    }
   ],
   "source": [
    "most_common.head()"
   ]
  },
  {
   "cell_type": "code",
   "execution_count": 46,
   "id": "7a84eb78",
   "metadata": {},
   "outputs": [
    {
     "name": "stderr",
     "output_type": "stream",
     "text": [
      "100%|██████████| 22745/22745 [00:00<00:00, 46453.27it/s]\n"
     ]
    }
   ],
   "source": [
    "most_common_switch = career_paths_test.progress_apply(lambda x: x[-1] in most_common.loc[x[-2]] if x[-2] in most_common.index else False).mean()"
   ]
  },
  {
   "cell_type": "code",
   "execution_count": 47,
   "id": "b535c7a3",
   "metadata": {},
   "outputs": [
    {
     "data": {
      "text/plain": [
       "(0.6130138491976258, 0.006329914804694123)"
      ]
     },
     "execution_count": 47,
     "metadata": {},
     "output_type": "execute_result"
    }
   ],
   "source": [
    "most_common_switch, 1.96 * np.sqrt(((1 - most_common_switch)* (most_common_switch)) / (113724*0.2))"
   ]
  },
  {
   "cell_type": "code",
   "execution_count": 48,
   "id": "314ce206",
   "metadata": {},
   "outputs": [
    {
     "name": "stdout",
     "output_type": "stream",
     "text": [
      "Most common switch accuracy: 61.30%\n"
     ]
    }
   ],
   "source": [
    "print(f\"Most common switch accuracy: {most_common_switch * 100:>.2f}%\")"
   ]
  },
  {
   "cell_type": "code",
   "execution_count": null,
   "id": "08312241",
   "metadata": {},
   "outputs": [],
   "source": []
  }
 ],
 "metadata": {
  "kernelspec": {
   "display_name": "conda_python3",
   "language": "python",
   "name": "conda_python3"
  },
  "language_info": {
   "codemirror_mode": {
    "name": "ipython",
    "version": 3
   },
   "file_extension": ".py",
   "mimetype": "text/x-python",
   "name": "python",
   "nbconvert_exporter": "python",
   "pygments_lexer": "ipython3",
   "version": "3.6.13"
  }
 },
 "nbformat": 4,
 "nbformat_minor": 5
}
