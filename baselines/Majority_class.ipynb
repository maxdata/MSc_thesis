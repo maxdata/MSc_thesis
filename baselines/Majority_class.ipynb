{
 "cells": [
  {
   "cell_type": "code",
   "execution_count": 17,
   "id": "4bbaeb1d",
   "metadata": {},
   "outputs": [],
   "source": [
    "from sys import path\n",
    "path.append(\"/home/ec2-user/SageMaker/data-science-development/utils\")\n",
    "path.append(\"/home/ec2-user/SageMaker/data-science-development/config\")\n",
    "\n",
    "import pandas as pd\n",
    "import numpy as np\n",
    "\n",
    "from tqdm import tqdm \n",
    "from heapq import nlargest\n",
    "from collections import Counter\n",
    "\n",
    "tqdm.pandas()"
   ]
  },
  {
   "cell_type": "code",
   "execution_count": 2,
   "id": "c3beb28e",
   "metadata": {},
   "outputs": [],
   "source": [
    "df_pred = pd.read_csv(\"../Data/df_pred_ext.csv\").drop(\"Unnamed: 0\", axis=1)"
   ]
  },
  {
   "cell_type": "code",
   "execution_count": 3,
   "id": "20c6ab63",
   "metadata": {},
   "outputs": [
    {
     "data": {
      "text/html": [
       "<div>\n",
       "<style scoped>\n",
       "    .dataframe tbody tr th:only-of-type {\n",
       "        vertical-align: middle;\n",
       "    }\n",
       "\n",
       "    .dataframe tbody tr th {\n",
       "        vertical-align: top;\n",
       "    }\n",
       "\n",
       "    .dataframe thead th {\n",
       "        text-align: right;\n",
       "    }\n",
       "</style>\n",
       "<table border=\"1\" class=\"dataframe\">\n",
       "  <thead>\n",
       "    <tr style=\"text-align: right;\">\n",
       "      <th></th>\n",
       "      <th>candidate_id</th>\n",
       "      <th>job_order</th>\n",
       "      <th>time_between</th>\n",
       "      <th>time_spent</th>\n",
       "      <th>isco_functie_niveau</th>\n",
       "      <th>source</th>\n",
       "      <th>education</th>\n",
       "      <th>company_name</th>\n",
       "      <th>function_id</th>\n",
       "      <th>isco_code4</th>\n",
       "    </tr>\n",
       "  </thead>\n",
       "  <tbody>\n",
       "    <tr>\n",
       "      <th>0</th>\n",
       "      <td>84556</td>\n",
       "      <td>0</td>\n",
       "      <td>37</td>\n",
       "      <td>156</td>\n",
       "      <td>2.0</td>\n",
       "      <td>0</td>\n",
       "      <td>0.0</td>\n",
       "      <td>324258</td>\n",
       "      <td>936</td>\n",
       "      <td>208</td>\n",
       "    </tr>\n",
       "    <tr>\n",
       "      <th>1</th>\n",
       "      <td>84556</td>\n",
       "      <td>1</td>\n",
       "      <td>23</td>\n",
       "      <td>116</td>\n",
       "      <td>1.0</td>\n",
       "      <td>0</td>\n",
       "      <td>0.0</td>\n",
       "      <td>324258</td>\n",
       "      <td>809</td>\n",
       "      <td>348</td>\n",
       "    </tr>\n",
       "    <tr>\n",
       "      <th>2</th>\n",
       "      <td>84556</td>\n",
       "      <td>2</td>\n",
       "      <td>23</td>\n",
       "      <td>275</td>\n",
       "      <td>2.0</td>\n",
       "      <td>0</td>\n",
       "      <td>0.0</td>\n",
       "      <td>329244</td>\n",
       "      <td>936</td>\n",
       "      <td>208</td>\n",
       "    </tr>\n",
       "    <tr>\n",
       "      <th>3</th>\n",
       "      <td>84556</td>\n",
       "      <td>3</td>\n",
       "      <td>1155</td>\n",
       "      <td>4</td>\n",
       "      <td>1.0</td>\n",
       "      <td>0</td>\n",
       "      <td>0.0</td>\n",
       "      <td>368140</td>\n",
       "      <td>1519</td>\n",
       "      <td>344</td>\n",
       "    </tr>\n",
       "    <tr>\n",
       "      <th>4</th>\n",
       "      <td>84556</td>\n",
       "      <td>4</td>\n",
       "      <td>203</td>\n",
       "      <td>11</td>\n",
       "      <td>1.0</td>\n",
       "      <td>0</td>\n",
       "      <td>0.0</td>\n",
       "      <td>419826</td>\n",
       "      <td>1519</td>\n",
       "      <td>344</td>\n",
       "    </tr>\n",
       "  </tbody>\n",
       "</table>\n",
       "</div>"
      ],
      "text/plain": [
       "   candidate_id  job_order  time_between  time_spent  isco_functie_niveau  \\\n",
       "0         84556          0            37         156                  2.0   \n",
       "1         84556          1            23         116                  1.0   \n",
       "2         84556          2            23         275                  2.0   \n",
       "3         84556          3          1155           4                  1.0   \n",
       "4         84556          4           203          11                  1.0   \n",
       "\n",
       "   source  education  company_name  function_id  isco_code4  \n",
       "0       0        0.0        324258          936         208  \n",
       "1       0        0.0        324258          809         348  \n",
       "2       0        0.0        329244          936         208  \n",
       "3       0        0.0        368140         1519         344  \n",
       "4       0        0.0        419826         1519         344  "
      ]
     },
     "execution_count": 3,
     "metadata": {},
     "output_type": "execute_result"
    }
   ],
   "source": [
    "df_pred.head()"
   ]
  },
  {
   "cell_type": "code",
   "execution_count": 4,
   "id": "e2937534",
   "metadata": {},
   "outputs": [],
   "source": [
    "career_paths = df_pred.groupby(\"candidate_id\")[\"isco_code4\"]"
   ]
  },
  {
   "cell_type": "code",
   "execution_count": 5,
   "id": "5f60c77a",
   "metadata": {},
   "outputs": [
    {
     "name": "stderr",
     "output_type": "stream",
     "text": [
      "100%|██████████| 469568/469568 [00:11<00:00, 40221.84it/s]\n"
     ]
    }
   ],
   "source": [
    "# Convert to 2d-arrays, getting rid of candidate_ids as values\n",
    "career_paths = career_paths.progress_apply(lambda x: x.values)"
   ]
  },
  {
   "cell_type": "code",
   "execution_count": 6,
   "id": "d7f6671d",
   "metadata": {},
   "outputs": [],
   "source": [
    "career_lens = career_paths.apply(len)\n",
    "career_paths = career_paths.loc[(career_lens > 1)]"
   ]
  },
  {
   "cell_type": "code",
   "execution_count": 7,
   "id": "77907e23",
   "metadata": {},
   "outputs": [],
   "source": [
    "career_paths = career_paths.loc[career_paths.apply(lambda x: x[-1] != x[-2])]"
   ]
  },
  {
   "cell_type": "code",
   "execution_count": 8,
   "id": "23d1daf0",
   "metadata": {},
   "outputs": [],
   "source": [
    "career_paths_train = career_paths.iloc[:int(0.8 * 113724)]\n",
    "career_paths_test = career_paths.iloc[int(0.8 * 113724):]"
   ]
  },
  {
   "cell_type": "code",
   "execution_count": 19,
   "id": "bfbef3e2",
   "metadata": {},
   "outputs": [],
   "source": [
    "class_counts = Counter(np.concatenate(career_paths_train.values))"
   ]
  },
  {
   "cell_type": "code",
   "execution_count": 66,
   "id": "7d350257",
   "metadata": {},
   "outputs": [],
   "source": [
    "majority_class = set(nlargest(20, class_counts, key=class_counts.get))"
   ]
  },
  {
   "cell_type": "code",
   "execution_count": 67,
   "id": "eca01864",
   "metadata": {},
   "outputs": [
    {
     "data": {
      "text/plain": [
       "{117,\n",
       " 177,\n",
       " 178,\n",
       " 185,\n",
       " 189,\n",
       " 193,\n",
       " 195,\n",
       " 199,\n",
       " 208,\n",
       " 222,\n",
       " 229,\n",
       " 323,\n",
       " 326,\n",
       " 332,\n",
       " 335,\n",
       " 343,\n",
       " 344,\n",
       " 345,\n",
       " 348,\n",
       " 351}"
      ]
     },
     "execution_count": 67,
     "metadata": {},
     "output_type": "execute_result"
    }
   ],
   "source": [
    "majority_class"
   ]
  },
  {
   "cell_type": "code",
   "execution_count": 68,
   "id": "48a8e231",
   "metadata": {},
   "outputs": [],
   "source": [
    "majority_class_performance = career_paths_test.apply(lambda x: x[-1] in majority_class).mean()"
   ]
  },
  {
   "cell_type": "code",
   "execution_count": 69,
   "id": "06781f23",
   "metadata": {},
   "outputs": [
    {
     "data": {
      "text/plain": [
       "(0.6383820619916465, 0.006244250690152155)"
      ]
     },
     "execution_count": 69,
     "metadata": {},
     "output_type": "execute_result"
    }
   ],
   "source": [
    "majority_class_performance, 1.96 * np.sqrt(((1 - majority_class_performance)* (majority_class_performance)) / (113724*0.2))"
   ]
  },
  {
   "cell_type": "code",
   "execution_count": 51,
   "id": "802e4e0f",
   "metadata": {},
   "outputs": [
    {
     "name": "stdout",
     "output_type": "stream",
     "text": [
      "Majority class predictor accuracy: 63.84%\n"
     ]
    }
   ],
   "source": [
    "print(f\"Majority class predictor accuracy: {majority_class_performance * 100:>.2f}%\")"
   ]
  },
  {
   "cell_type": "code",
   "execution_count": null,
   "id": "111fd00c",
   "metadata": {},
   "outputs": [],
   "source": []
  }
 ],
 "metadata": {
  "kernelspec": {
   "display_name": "conda_pytorch_p36",
   "language": "python",
   "name": "conda_pytorch_p36"
  },
  "language_info": {
   "codemirror_mode": {
    "name": "ipython",
    "version": 3
   },
   "file_extension": ".py",
   "mimetype": "text/x-python",
   "name": "python",
   "nbconvert_exporter": "python",
   "pygments_lexer": "ipython3",
   "version": "3.6.13"
  }
 },
 "nbformat": 4,
 "nbformat_minor": 5
}
