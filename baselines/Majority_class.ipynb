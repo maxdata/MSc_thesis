{
 "cells": [
  {
   "cell_type": "code",
   "execution_count": 1,
   "id": "286aa3c8",
   "metadata": {},
   "outputs": [],
   "source": [
    "from sys import path\n",
    "path.append(\"/home/ec2-user/SageMaker/data-science-development/utils\")\n",
    "path.append(\"/home/ec2-user/SageMaker/data-science-development/config\")\n",
    "\n",
    "import pandas as pd\n",
    "import numpy as np\n",
    "\n",
    "from tqdm import tqdm \n",
    "\n",
    "tqdm.pandas()"
   ]
  },
  {
   "cell_type": "code",
   "execution_count": 22,
   "id": "8a447c4a",
   "metadata": {},
   "outputs": [],
   "source": [
    "df_pred = pd.read_csv(\"../Data/df_pred_ext.csv\").drop(\"Unnamed: 0\", axis=1)"
   ]
  },
  {
   "cell_type": "code",
   "execution_count": 23,
   "id": "2910cbe9",
   "metadata": {},
   "outputs": [
    {
     "data": {
      "text/html": [
       "<div>\n",
       "<style scoped>\n",
       "    .dataframe tbody tr th:only-of-type {\n",
       "        vertical-align: middle;\n",
       "    }\n",
       "\n",
       "    .dataframe tbody tr th {\n",
       "        vertical-align: top;\n",
       "    }\n",
       "\n",
       "    .dataframe thead th {\n",
       "        text-align: right;\n",
       "    }\n",
       "</style>\n",
       "<table border=\"1\" class=\"dataframe\">\n",
       "  <thead>\n",
       "    <tr style=\"text-align: right;\">\n",
       "      <th></th>\n",
       "      <th>candidate_id</th>\n",
       "      <th>job_order</th>\n",
       "      <th>time_between</th>\n",
       "      <th>time_spent</th>\n",
       "      <th>isco_functie_niveau</th>\n",
       "      <th>source</th>\n",
       "      <th>education</th>\n",
       "      <th>company_name</th>\n",
       "      <th>function_id</th>\n",
       "      <th>isco_code4</th>\n",
       "    </tr>\n",
       "  </thead>\n",
       "  <tbody>\n",
       "    <tr>\n",
       "      <th>0</th>\n",
       "      <td>84556</td>\n",
       "      <td>0.0</td>\n",
       "      <td>37.0</td>\n",
       "      <td>156.0</td>\n",
       "      <td>2.0</td>\n",
       "      <td>0.0</td>\n",
       "      <td>0.0</td>\n",
       "      <td>324258.0</td>\n",
       "      <td>936.0</td>\n",
       "      <td>208.0</td>\n",
       "    </tr>\n",
       "    <tr>\n",
       "      <th>1</th>\n",
       "      <td>84556</td>\n",
       "      <td>1.0</td>\n",
       "      <td>23.0</td>\n",
       "      <td>116.0</td>\n",
       "      <td>1.0</td>\n",
       "      <td>0.0</td>\n",
       "      <td>0.0</td>\n",
       "      <td>324258.0</td>\n",
       "      <td>809.0</td>\n",
       "      <td>348.0</td>\n",
       "    </tr>\n",
       "    <tr>\n",
       "      <th>2</th>\n",
       "      <td>84556</td>\n",
       "      <td>2.0</td>\n",
       "      <td>23.0</td>\n",
       "      <td>275.0</td>\n",
       "      <td>2.0</td>\n",
       "      <td>0.0</td>\n",
       "      <td>0.0</td>\n",
       "      <td>329244.0</td>\n",
       "      <td>936.0</td>\n",
       "      <td>208.0</td>\n",
       "    </tr>\n",
       "    <tr>\n",
       "      <th>3</th>\n",
       "      <td>84556</td>\n",
       "      <td>3.0</td>\n",
       "      <td>1155.0</td>\n",
       "      <td>4.0</td>\n",
       "      <td>1.0</td>\n",
       "      <td>0.0</td>\n",
       "      <td>0.0</td>\n",
       "      <td>368140.0</td>\n",
       "      <td>1519.0</td>\n",
       "      <td>344.0</td>\n",
       "    </tr>\n",
       "    <tr>\n",
       "      <th>4</th>\n",
       "      <td>84556</td>\n",
       "      <td>4.0</td>\n",
       "      <td>203.0</td>\n",
       "      <td>11.0</td>\n",
       "      <td>1.0</td>\n",
       "      <td>0.0</td>\n",
       "      <td>0.0</td>\n",
       "      <td>419826.0</td>\n",
       "      <td>1519.0</td>\n",
       "      <td>344.0</td>\n",
       "    </tr>\n",
       "  </tbody>\n",
       "</table>\n",
       "</div>"
      ],
      "text/plain": [
       "   candidate_id  job_order  time_between  time_spent  isco_functie_niveau  \\\n",
       "0         84556        0.0          37.0       156.0                  2.0   \n",
       "1         84556        1.0          23.0       116.0                  1.0   \n",
       "2         84556        2.0          23.0       275.0                  2.0   \n",
       "3         84556        3.0        1155.0         4.0                  1.0   \n",
       "4         84556        4.0         203.0        11.0                  1.0   \n",
       "\n",
       "   source  education  company_name  function_id  isco_code4  \n",
       "0     0.0        0.0      324258.0        936.0       208.0  \n",
       "1     0.0        0.0      324258.0        809.0       348.0  \n",
       "2     0.0        0.0      329244.0        936.0       208.0  \n",
       "3     0.0        0.0      368140.0       1519.0       344.0  \n",
       "4     0.0        0.0      419826.0       1519.0       344.0  "
      ]
     },
     "execution_count": 23,
     "metadata": {},
     "output_type": "execute_result"
    }
   ],
   "source": [
    "df_pred.head()"
   ]
  },
  {
   "cell_type": "code",
   "execution_count": 24,
   "id": "f755bfdb",
   "metadata": {},
   "outputs": [],
   "source": [
    "career_paths = df_pred.groupby(\"candidate_id\")[\"isco_code4\"]"
   ]
  },
  {
   "cell_type": "code",
   "execution_count": 25,
   "id": "c68d6647",
   "metadata": {},
   "outputs": [
    {
     "name": "stderr",
     "output_type": "stream",
     "text": [
      "100%|██████████| 14647/14647 [00:00<00:00, 35807.05it/s]\n"
     ]
    }
   ],
   "source": [
    "# Convert to 2d-arrays, getting rid of candidate_ids as values\n",
    "career_paths = career_paths.progress_apply(lambda x: x.values)"
   ]
  },
  {
   "cell_type": "code",
   "execution_count": 26,
   "id": "31a2750a",
   "metadata": {},
   "outputs": [],
   "source": [
    "career_lens = career_paths.apply(len)\n",
    "career_paths = career_paths.loc[(career_lens > 1)]"
   ]
  },
  {
   "cell_type": "code",
   "execution_count": 27,
   "id": "55cb1234",
   "metadata": {},
   "outputs": [],
   "source": [
    "career_paths = career_paths.loc[career_paths.apply(lambda x: x[-1] != x[-2])]"
   ]
  },
  {
   "cell_type": "code",
   "execution_count": 32,
   "id": "e1471493",
   "metadata": {},
   "outputs": [],
   "source": [
    "majority_class = set(df_pred[\"isco_code4\"].value_counts().nlargest(1).index)"
   ]
  },
  {
   "cell_type": "code",
   "execution_count": 33,
   "id": "83700da9",
   "metadata": {},
   "outputs": [
    {
     "data": {
      "text/plain": [
       "{344.0}"
      ]
     },
     "execution_count": 33,
     "metadata": {},
     "output_type": "execute_result"
    }
   ],
   "source": [
    "majority_class"
   ]
  },
  {
   "cell_type": "code",
   "execution_count": 34,
   "id": "1c03a9c3",
   "metadata": {},
   "outputs": [],
   "source": [
    "majority_class_performance = career_paths.apply(lambda x: x[-1] in majority_class).mean()"
   ]
  },
  {
   "cell_type": "code",
   "execution_count": 35,
   "id": "5aa20cd3",
   "metadata": {},
   "outputs": [
    {
     "name": "stdout",
     "output_type": "stream",
     "text": [
      "Majority class predictor accuracy: 10.50%\n"
     ]
    }
   ],
   "source": [
    "print(f\"Majority class predictor accuracy: {majority_class_performance * 100:>.2f}%\")"
   ]
  },
  {
   "cell_type": "code",
   "execution_count": null,
   "id": "e90ea5c8",
   "metadata": {},
   "outputs": [],
   "source": []
  }
 ],
 "metadata": {
  "kernelspec": {
   "display_name": "conda_pytorch_p36",
   "language": "python",
   "name": "conda_pytorch_p36"
  },
  "language_info": {
   "codemirror_mode": {
    "name": "ipython",
    "version": 3
   },
   "file_extension": ".py",
   "mimetype": "text/x-python",
   "name": "python",
   "nbconvert_exporter": "python",
   "pygments_lexer": "ipython3",
   "version": "3.6.13"
  }
 },
 "nbformat": 4,
 "nbformat_minor": 5
}
