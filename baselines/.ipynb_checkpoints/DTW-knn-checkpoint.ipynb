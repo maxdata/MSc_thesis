{
 "cells": [
  {
   "cell_type": "code",
   "execution_count": 5,
   "id": "b3d07592",
   "metadata": {},
   "outputs": [
    {
     "name": "stdout",
     "output_type": "stream",
     "text": [
      "Requirement already satisfied: dtaidistance in /home/ec2-user/anaconda3/envs/pytorch_p36/lib/python3.6/site-packages (2.3.6)\n",
      "Requirement already satisfied: numpy in /home/ec2-user/anaconda3/envs/pytorch_p36/lib/python3.6/site-packages (from dtaidistance) (1.19.5)\n"
     ]
    }
   ],
   "source": [
    "!pip install dtaidistance"
   ]
  },
  {
   "cell_type": "code",
   "execution_count": 6,
   "id": "a8a4b459",
   "metadata": {},
   "outputs": [],
   "source": [
    "from sys import path\n",
    "path.append(\"/home/ec2-user/SageMaker/data-science-development/utils\")\n",
    "path.append(\"/home/ec2-user/SageMaker/data-science-development/config\")\n",
    "\n",
    "import pandas as pd\n",
    "import numpy as np\n",
    "import matplotlib.pyplot as plt\n",
    "\n",
    "from datetime import datetime\n",
    "from collections import defaultdict\n",
    "from tqdm import tqdm \n",
    "from dtaidistance import dtw\n",
    "\n",
    "tqdm.pandas()"
   ]
  },
  {
   "cell_type": "code",
   "execution_count": 7,
   "id": "089ba13e",
   "metadata": {},
   "outputs": [],
   "source": [
    "df_pred = pd.read_csv(\"../Data/DTW_df_pred.csv\").drop(\"Unnamed: 0\", axis=1)"
   ]
  },
  {
   "cell_type": "code",
   "execution_count": 8,
   "id": "e8a663a7",
   "metadata": {},
   "outputs": [
    {
     "data": {
      "text/html": [
       "<div>\n",
       "<style scoped>\n",
       "    .dataframe tbody tr th:only-of-type {\n",
       "        vertical-align: middle;\n",
       "    }\n",
       "\n",
       "    .dataframe tbody tr th {\n",
       "        vertical-align: top;\n",
       "    }\n",
       "\n",
       "    .dataframe thead th {\n",
       "        text-align: right;\n",
       "    }\n",
       "</style>\n",
       "<table border=\"1\" class=\"dataframe\">\n",
       "  <thead>\n",
       "    <tr style=\"text-align: right;\">\n",
       "      <th></th>\n",
       "      <th>candidate_id</th>\n",
       "      <th>job_order</th>\n",
       "      <th>function_id</th>\n",
       "      <th>isco_code4</th>\n",
       "    </tr>\n",
       "  </thead>\n",
       "  <tbody>\n",
       "    <tr>\n",
       "      <th>0</th>\n",
       "      <td>84556</td>\n",
       "      <td>0</td>\n",
       "      <td>1236.0</td>\n",
       "      <td>5131.0</td>\n",
       "    </tr>\n",
       "    <tr>\n",
       "      <th>1</th>\n",
       "      <td>84556</td>\n",
       "      <td>1</td>\n",
       "      <td>1065.0</td>\n",
       "      <td>9412.0</td>\n",
       "    </tr>\n",
       "    <tr>\n",
       "      <th>2</th>\n",
       "      <td>84556</td>\n",
       "      <td>2</td>\n",
       "      <td>1236.0</td>\n",
       "      <td>5131.0</td>\n",
       "    </tr>\n",
       "    <tr>\n",
       "      <th>3</th>\n",
       "      <td>84556</td>\n",
       "      <td>3</td>\n",
       "      <td>2038.0</td>\n",
       "      <td>9329.0</td>\n",
       "    </tr>\n",
       "    <tr>\n",
       "      <th>4</th>\n",
       "      <td>84556</td>\n",
       "      <td>4</td>\n",
       "      <td>2038.0</td>\n",
       "      <td>9329.0</td>\n",
       "    </tr>\n",
       "  </tbody>\n",
       "</table>\n",
       "</div>"
      ],
      "text/plain": [
       "   candidate_id  job_order  function_id  isco_code4\n",
       "0         84556          0       1236.0      5131.0\n",
       "1         84556          1       1065.0      9412.0\n",
       "2         84556          2       1236.0      5131.0\n",
       "3         84556          3       2038.0      9329.0\n",
       "4         84556          4       2038.0      9329.0"
      ]
     },
     "execution_count": 8,
     "metadata": {},
     "output_type": "execute_result"
    }
   ],
   "source": [
    "df_pred.head()"
   ]
  },
  {
   "cell_type": "code",
   "execution_count": 9,
   "id": "01a9d83f",
   "metadata": {},
   "outputs": [],
   "source": [
    "career_paths = df_pred.groupby(\"candidate_id\")[\"isco_code4\"]"
   ]
  },
  {
   "cell_type": "code",
   "execution_count": 10,
   "id": "a120d63f",
   "metadata": {},
   "outputs": [
    {
     "name": "stderr",
     "output_type": "stream",
     "text": [
      "100%|██████████| 468031/468031 [00:11<00:00, 39015.20it/s]\n"
     ]
    }
   ],
   "source": [
    "# Convert to 2d-arrays, getting rid of candidate_ids as values\n",
    "career_paths = career_paths.progress_apply(lambda x: x.values)"
   ]
  },
  {
   "cell_type": "code",
   "execution_count": 11,
   "id": "d40e945e",
   "metadata": {},
   "outputs": [],
   "source": [
    "career_lens = career_paths.apply(len)\n",
    "career_paths = career_paths.loc[(career_lens > 1)]"
   ]
  },
  {
   "cell_type": "code",
   "execution_count": 45,
   "id": "5d9c59b9",
   "metadata": {},
   "outputs": [
    {
     "name": "stderr",
     "output_type": "stream",
     "text": [
      "  0%|          | 154/266487 [05:03<145:58:56,  1.97s/it]\n"
     ]
    }
   ],
   "source": [
    "results = defaultdict(lambda: defaultdict(int))\n",
    "\n",
    "try:\n",
    "    for i, current in tqdm(enumerate(career_paths.iteritems()), total=len(career_paths)):\n",
    "        candidate, career = current\n",
    "        career = career[:-1]\n",
    "\n",
    "        for j in career_paths.iteritems():\n",
    "            candidate2, career2 = j\n",
    "\n",
    "            if candidate != candidate2:\n",
    "                results[candidate][candidate2] = dtw.distance(career, \n",
    "                                                              career2, \n",
    "                                                              use_c=True, \n",
    "                                                              use_pruning=True)\n",
    "                        \n",
    "except KeyboardInterrupt:\n",
    "    pass"
   ]
  },
  {
   "cell_type": "code",
   "execution_count": 46,
   "id": "29785f8b",
   "metadata": {},
   "outputs": [],
   "source": [
    "best_matches = {}\n",
    "\n",
    "for i in results:\n",
    "    if len(results[i]):\n",
    "        best_matches[i] = sorted(results[i], key=lambda x: results[i][x])"
   ]
  },
  {
   "cell_type": "code",
   "execution_count": 47,
   "id": "58e1a959",
   "metadata": {},
   "outputs": [],
   "source": [
    "def knn_classifier(best_matches, career_paths, k=1):\n",
    "    \n",
    "    predictions = []\n",
    "    \n",
    "    for candidate in best_matches.keys():\n",
    "        correct = career_paths[candidate][-1]\n",
    "                \n",
    "        neighbors = [(career_paths[neighbor][-1], i + 1) for i, neighbor in enumerate(best_matches[candidate][:k])]\n",
    "        \n",
    "        weights = defaultdict(int)\n",
    "        \n",
    "        for job, weight in neighbors:\n",
    "            weights[job] += 1/np.log(1 + weight)\n",
    "            \n",
    "        predictions.append(correct == max(weights, key=lambda x: weights[x]))\n",
    "        \n",
    "    return np.mean(predictions)"
   ]
  },
  {
   "cell_type": "code",
   "execution_count": 49,
   "id": "e4e93886",
   "metadata": {},
   "outputs": [
    {
     "data": {
      "text/html": [
       "<div>\n",
       "<style scoped>\n",
       "    .dataframe tbody tr th:only-of-type {\n",
       "        vertical-align: middle;\n",
       "    }\n",
       "\n",
       "    .dataframe tbody tr th {\n",
       "        vertical-align: top;\n",
       "    }\n",
       "\n",
       "    .dataframe thead th {\n",
       "        text-align: right;\n",
       "    }\n",
       "</style>\n",
       "<table border=\"1\" class=\"dataframe\">\n",
       "  <thead>\n",
       "    <tr style=\"text-align: right;\">\n",
       "      <th></th>\n",
       "      <th>accuracy</th>\n",
       "    </tr>\n",
       "    <tr>\n",
       "      <th>k</th>\n",
       "      <th></th>\n",
       "    </tr>\n",
       "  </thead>\n",
       "  <tbody>\n",
       "    <tr>\n",
       "      <th>1</th>\n",
       "      <td>0.354839</td>\n",
       "    </tr>\n",
       "    <tr>\n",
       "      <th>2</th>\n",
       "      <td>0.354839</td>\n",
       "    </tr>\n",
       "    <tr>\n",
       "      <th>3</th>\n",
       "      <td>0.380645</td>\n",
       "    </tr>\n",
       "    <tr>\n",
       "      <th>4</th>\n",
       "      <td>0.387097</td>\n",
       "    </tr>\n",
       "    <tr>\n",
       "      <th>5</th>\n",
       "      <td>0.380645</td>\n",
       "    </tr>\n",
       "    <tr>\n",
       "      <th>6</th>\n",
       "      <td>0.374194</td>\n",
       "    </tr>\n",
       "    <tr>\n",
       "      <th>7</th>\n",
       "      <td>0.387097</td>\n",
       "    </tr>\n",
       "    <tr>\n",
       "      <th>8</th>\n",
       "      <td>0.380645</td>\n",
       "    </tr>\n",
       "    <tr>\n",
       "      <th>9</th>\n",
       "      <td>0.393548</td>\n",
       "    </tr>\n",
       "    <tr>\n",
       "      <th>10</th>\n",
       "      <td>0.387097</td>\n",
       "    </tr>\n",
       "    <tr>\n",
       "      <th>11</th>\n",
       "      <td>0.393548</td>\n",
       "    </tr>\n",
       "    <tr>\n",
       "      <th>12</th>\n",
       "      <td>0.400000</td>\n",
       "    </tr>\n",
       "    <tr>\n",
       "      <th>13</th>\n",
       "      <td>0.374194</td>\n",
       "    </tr>\n",
       "    <tr>\n",
       "      <th>14</th>\n",
       "      <td>0.367742</td>\n",
       "    </tr>\n",
       "    <tr>\n",
       "      <th>15</th>\n",
       "      <td>0.380645</td>\n",
       "    </tr>\n",
       "    <tr>\n",
       "      <th>16</th>\n",
       "      <td>0.374194</td>\n",
       "    </tr>\n",
       "    <tr>\n",
       "      <th>17</th>\n",
       "      <td>0.380645</td>\n",
       "    </tr>\n",
       "    <tr>\n",
       "      <th>18</th>\n",
       "      <td>0.380645</td>\n",
       "    </tr>\n",
       "    <tr>\n",
       "      <th>19</th>\n",
       "      <td>0.387097</td>\n",
       "    </tr>\n",
       "  </tbody>\n",
       "</table>\n",
       "</div>"
      ],
      "text/plain": [
       "    accuracy\n",
       "k           \n",
       "1   0.354839\n",
       "2   0.354839\n",
       "3   0.380645\n",
       "4   0.387097\n",
       "5   0.380645\n",
       "6   0.374194\n",
       "7   0.387097\n",
       "8   0.380645\n",
       "9   0.393548\n",
       "10  0.387097\n",
       "11  0.393548\n",
       "12  0.400000\n",
       "13  0.374194\n",
       "14  0.367742\n",
       "15  0.380645\n",
       "16  0.374194\n",
       "17  0.380645\n",
       "18  0.380645\n",
       "19  0.387097"
      ]
     },
     "execution_count": 49,
     "metadata": {},
     "output_type": "execute_result"
    }
   ],
   "source": [
    "results = defaultdict(list)\n",
    "\n",
    "for k in range(1, 20):\n",
    "    results[\"k\"].append(k)\n",
    "    results[\"accuracy\"].append(knn_classifier(best_matches, career_paths, k=k))\n",
    "    \n",
    "pd.DataFrame(results).set_index(\"k\")"
   ]
  },
  {
   "cell_type": "code",
   "execution_count": null,
   "id": "5c441218",
   "metadata": {},
   "outputs": [],
   "source": []
  }
 ],
 "metadata": {
  "kernelspec": {
   "display_name": "conda_pytorch_p36",
   "language": "python",
   "name": "conda_pytorch_p36"
  },
  "language_info": {
   "codemirror_mode": {
    "name": "ipython",
    "version": 3
   },
   "file_extension": ".py",
   "mimetype": "text/x-python",
   "name": "python",
   "nbconvert_exporter": "python",
   "pygments_lexer": "ipython3",
   "version": "3.6.13"
  }
 },
 "nbformat": 4,
 "nbformat_minor": 5
}
