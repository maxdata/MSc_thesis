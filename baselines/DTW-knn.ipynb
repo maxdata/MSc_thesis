{
 "cells": [
  {
   "cell_type": "code",
   "execution_count": 1,
   "id": "4ea0dd01",
   "metadata": {},
   "outputs": [
    {
     "name": "stdout",
     "output_type": "stream",
     "text": [
      "Collecting dtaidistance\n",
      "  Downloading dtaidistance-2.3.6.tar.gz (797 kB)\n",
      "     |████████████████████████████████| 797 kB 22.6 MB/s            \n",
      "\u001b[?25h  Installing build dependencies ... \u001b[?25ldone\n",
      "\u001b[?25h  Getting requirements to build wheel ... \u001b[?25ldone\n",
      "\u001b[?25h  Preparing metadata (pyproject.toml) ... \u001b[?25ldone\n",
      "\u001b[?25hRequirement already satisfied: numpy in /home/ec2-user/anaconda3/envs/pytorch_p36/lib/python3.6/site-packages (from dtaidistance) (1.19.5)\n",
      "Building wheels for collected packages: dtaidistance\n",
      "  Building wheel for dtaidistance (pyproject.toml) ... \u001b[?25ldone\n",
      "\u001b[?25h  Created wheel for dtaidistance: filename=dtaidistance-2.3.6-cp36-cp36m-linux_x86_64.whl size=888976 sha256=1faaef044bd1ced9a0bf955cb4d969f2584d34d84eaa95bd2f88a8524c4dd554\n",
      "  Stored in directory: /home/ec2-user/.cache/pip/wheels/30/5f/18/3db8e0572e06cde30543380d60b4511e3802d1481c3a3a2642\n",
      "Successfully built dtaidistance\n",
      "Installing collected packages: dtaidistance\n",
      "Successfully installed dtaidistance-2.3.6\n"
     ]
    }
   ],
   "source": [
    "!pip install dtaidistance"
   ]
  },
  {
   "cell_type": "code",
   "execution_count": 2,
   "id": "64b2d138",
   "metadata": {},
   "outputs": [],
   "source": [
    "from sys import path\n",
    "path.append(\"/home/ec2-user/SageMaker/data-science-development/utils\")\n",
    "path.append(\"/home/ec2-user/SageMaker/data-science-development/config\")\n",
    "\n",
    "import pandas as pd\n",
    "import numpy as np\n",
    "import matplotlib.pyplot as plt\n",
    "\n",
    "from datetime import datetime\n",
    "from collections import defaultdict\n",
    "from tqdm import tqdm \n",
    "from dtaidistance import dtw\n",
    "\n",
    "tqdm.pandas()"
   ]
  },
  {
   "cell_type": "code",
   "execution_count": 3,
   "id": "89e5f7aa",
   "metadata": {},
   "outputs": [],
   "source": [
    "df_pred = pd.read_csv(\"../Data/DTW_df_pred.csv\").drop(\"Unnamed: 0\", axis=1)"
   ]
  },
  {
   "cell_type": "code",
   "execution_count": 4,
   "id": "925a4a91",
   "metadata": {},
   "outputs": [
    {
     "data": {
      "text/html": [
       "<div>\n",
       "<style scoped>\n",
       "    .dataframe tbody tr th:only-of-type {\n",
       "        vertical-align: middle;\n",
       "    }\n",
       "\n",
       "    .dataframe tbody tr th {\n",
       "        vertical-align: top;\n",
       "    }\n",
       "\n",
       "    .dataframe thead th {\n",
       "        text-align: right;\n",
       "    }\n",
       "</style>\n",
       "<table border=\"1\" class=\"dataframe\">\n",
       "  <thead>\n",
       "    <tr style=\"text-align: right;\">\n",
       "      <th></th>\n",
       "      <th>candidate_id</th>\n",
       "      <th>job_order</th>\n",
       "      <th>function_id</th>\n",
       "      <th>isco_code4</th>\n",
       "    </tr>\n",
       "  </thead>\n",
       "  <tbody>\n",
       "    <tr>\n",
       "      <th>0</th>\n",
       "      <td>84556</td>\n",
       "      <td>0</td>\n",
       "      <td>1236.0</td>\n",
       "      <td>5131.0</td>\n",
       "    </tr>\n",
       "    <tr>\n",
       "      <th>1</th>\n",
       "      <td>84556</td>\n",
       "      <td>1</td>\n",
       "      <td>1065.0</td>\n",
       "      <td>9412.0</td>\n",
       "    </tr>\n",
       "    <tr>\n",
       "      <th>2</th>\n",
       "      <td>84556</td>\n",
       "      <td>2</td>\n",
       "      <td>1236.0</td>\n",
       "      <td>5131.0</td>\n",
       "    </tr>\n",
       "    <tr>\n",
       "      <th>3</th>\n",
       "      <td>84556</td>\n",
       "      <td>3</td>\n",
       "      <td>2038.0</td>\n",
       "      <td>9329.0</td>\n",
       "    </tr>\n",
       "    <tr>\n",
       "      <th>4</th>\n",
       "      <td>84556</td>\n",
       "      <td>4</td>\n",
       "      <td>2038.0</td>\n",
       "      <td>9329.0</td>\n",
       "    </tr>\n",
       "  </tbody>\n",
       "</table>\n",
       "</div>"
      ],
      "text/plain": [
       "   candidate_id  job_order  function_id  isco_code4\n",
       "0         84556          0       1236.0      5131.0\n",
       "1         84556          1       1065.0      9412.0\n",
       "2         84556          2       1236.0      5131.0\n",
       "3         84556          3       2038.0      9329.0\n",
       "4         84556          4       2038.0      9329.0"
      ]
     },
     "execution_count": 4,
     "metadata": {},
     "output_type": "execute_result"
    }
   ],
   "source": [
    "df_pred.head()"
   ]
  },
  {
   "cell_type": "code",
   "execution_count": 6,
   "id": "06566026",
   "metadata": {},
   "outputs": [],
   "source": [
    "career_paths = df_pred.groupby(\"candidate_id\")[\"isco_code4\"]"
   ]
  },
  {
   "cell_type": "code",
   "execution_count": 7,
   "id": "c18687c7",
   "metadata": {},
   "outputs": [
    {
     "name": "stderr",
     "output_type": "stream",
     "text": [
      "100%|██████████| 465468/465468 [00:11<00:00, 39341.25it/s]\n"
     ]
    }
   ],
   "source": [
    "# Convert to 2d-arrays, getting rid of candidate_ids as values\n",
    "career_paths = career_paths.progress_apply(lambda x: x.values)"
   ]
  },
  {
   "cell_type": "code",
   "execution_count": 8,
   "id": "8e56a2f7",
   "metadata": {},
   "outputs": [],
   "source": [
    "career_lens = career_paths.apply(len)\n",
    "career_paths = career_paths.loc[(career_lens > 1) & (career_lens <= 100)]"
   ]
  },
  {
   "cell_type": "code",
   "execution_count": 9,
   "id": "5863696a",
   "metadata": {},
   "outputs": [],
   "source": [
    "size = max(career_paths.apply(len))"
   ]
  },
  {
   "cell_type": "code",
   "execution_count": 9,
   "id": "617fa2f0",
   "metadata": {},
   "outputs": [],
   "source": [
    "to_fill = np.zeros([len(career_paths), size])\n",
    "\n",
    "for i, career in enumerate(career_paths.values):\n",
    "    career = career[:-1]\n",
    "    to_fill[i][-len(career):] = career"
   ]
  },
  {
   "cell_type": "code",
   "execution_count": 14,
   "id": "55943f4f",
   "metadata": {},
   "outputs": [],
   "source": [
    "del df_pred\n",
    "del career_paths\n",
    "del career_lens\n",
    "del size"
   ]
  },
  {
   "cell_type": "code",
   "execution_count": 10,
   "id": "6ffc7bf6",
   "metadata": {},
   "outputs": [
    {
     "name": "stderr",
     "output_type": "stream",
     "text": [
      "  0%|          | 1001/265302 [36:13<159:26:00,  2.17s/it]\n"
     ]
    }
   ],
   "source": [
    "results = defaultdict(lambda: defaultdict(int))\n",
    "\n",
    "try:\n",
    "    for i, current in tqdm(enumerate(career_paths.iteritems()), total=len(career_paths)):\n",
    "        candidate, career = current\n",
    "        career = career[:-1]\n",
    "\n",
    "        for j in career_paths.iteritems():\n",
    "            candidate2, career2 = j\n",
    "\n",
    "            if candidate != candidate2:\n",
    "                results[candidate][candidate2] = dtw.distance(career, \n",
    "                                                              career2, \n",
    "                                                              use_c=True, \n",
    "                                                              use_pruning=True)\n",
    "                        \n",
    "except KeyboardInterrupt:\n",
    "    pass"
   ]
  },
  {
   "cell_type": "code",
   "execution_count": 11,
   "id": "2dcc2f64",
   "metadata": {},
   "outputs": [],
   "source": [
    "best_matches = {}\n",
    "\n",
    "for i in results:\n",
    "    if len(results[i]):\n",
    "        best_matches[i] = min(results[i], key=lambda x: results[i][x])"
   ]
  },
  {
   "cell_type": "code",
   "execution_count": 12,
   "id": "bce035ea",
   "metadata": {},
   "outputs": [],
   "source": [
    "a = np.array([[career_paths[k][-1] == career_paths[k][-2],\n",
    "               career_paths[k][-1] == career_paths[v][-1]] for k, v in best_matches.items()])"
   ]
  },
  {
   "cell_type": "code",
   "execution_count": 13,
   "id": "343a580e",
   "metadata": {},
   "outputs": [
    {
     "data": {
      "text/plain": [
       "(0.5369261477045908, 0.35429141716566864)"
      ]
     },
     "execution_count": 13,
     "metadata": {},
     "output_type": "execute_result"
    }
   ],
   "source": [
    "# t-1          # DTW + knn\n",
    "a[:,0].mean(), a[:,1].mean()"
   ]
  },
  {
   "cell_type": "code",
   "execution_count": null,
   "id": "98ea19f0",
   "metadata": {},
   "outputs": [],
   "source": []
  }
 ],
 "metadata": {
  "kernelspec": {
   "display_name": "conda_pytorch_p36",
   "language": "python",
   "name": "conda_pytorch_p36"
  },
  "language_info": {
   "codemirror_mode": {
    "name": "ipython",
    "version": 3
   },
   "file_extension": ".py",
   "mimetype": "text/x-python",
   "name": "python",
   "nbconvert_exporter": "python",
   "pygments_lexer": "ipython3",
   "version": "3.6.13"
  }
 },
 "nbformat": 4,
 "nbformat_minor": 5
}
