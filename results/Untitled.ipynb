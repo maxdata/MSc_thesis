{
 "cells": [
  {
   "cell_type": "code",
   "execution_count": 1,
   "id": "9141b5bb",
   "metadata": {},
   "outputs": [],
   "source": [
    "import pandas as pd \n",
    "import numpy as np\n",
    "import os\n",
    "\n",
    "from collections import defaultdict"
   ]
  },
  {
   "cell_type": "code",
   "execution_count": 2,
   "id": "a2af69a9",
   "metadata": {},
   "outputs": [
    {
     "data": {
      "text/html": [
       "<div>\n",
       "<style scoped>\n",
       "    .dataframe tbody tr th:only-of-type {\n",
       "        vertical-align: middle;\n",
       "    }\n",
       "\n",
       "    .dataframe tbody tr th {\n",
       "        vertical-align: top;\n",
       "    }\n",
       "\n",
       "    .dataframe thead th {\n",
       "        text-align: right;\n",
       "    }\n",
       "</style>\n",
       "<table border=\"1\" class=\"dataframe\">\n",
       "  <thead>\n",
       "    <tr style=\"text-align: right;\">\n",
       "      <th></th>\n",
       "      <th>Model</th>\n",
       "      <th>Category</th>\n",
       "      <th>Feature attention</th>\n",
       "      <th>Temporal attention</th>\n",
       "      <th>Spatiotemporal attention</th>\n",
       "      <th>General</th>\n",
       "    </tr>\n",
       "  </thead>\n",
       "  <tbody>\n",
       "    <tr>\n",
       "      <th>0</th>\n",
       "      <td>LSTM</td>\n",
       "      <td>customer_support</td>\n",
       "      <td>10</td>\n",
       "      <td>3</td>\n",
       "      <td>5</td>\n",
       "      <td>7</td>\n",
       "    </tr>\n",
       "    <tr>\n",
       "      <th>1</th>\n",
       "      <td>CNN</td>\n",
       "      <td>customer_support</td>\n",
       "      <td>4</td>\n",
       "      <td>1</td>\n",
       "      <td>4</td>\n",
       "      <td>8</td>\n",
       "    </tr>\n",
       "    <tr>\n",
       "      <th>2</th>\n",
       "      <td>CNN-LSTM</td>\n",
       "      <td>customer_support</td>\n",
       "      <td>10</td>\n",
       "      <td>7</td>\n",
       "      <td>9</td>\n",
       "      <td>8</td>\n",
       "    </tr>\n",
       "  </tbody>\n",
       "</table>\n",
       "</div>"
      ],
      "text/plain": [
       "      Model          Category Feature attention Temporal attention  \\\n",
       "0      LSTM  customer_support                10                  3   \n",
       "1       CNN  customer_support                 4                  1   \n",
       "2  CNN-LSTM  customer_support                10                  7   \n",
       "\n",
       "  Spatiotemporal attention General  \n",
       "0                        5       7  \n",
       "1                        4       8  \n",
       "2                        9       8  "
      ]
     },
     "execution_count": 2,
     "metadata": {},
     "output_type": "execute_result"
    }
   ],
   "source": [
    "ratings = []\n",
    "\n",
    "for category in [\"customer_support\", \"finance\", \"health_care\"]:\n",
    "    for file in os.listdir(f\"ratings/{category}\"):\n",
    "        if file != \".ipynb_checkpoints\":\n",
    "            \n",
    "            # Find model type\n",
    "            model = file.split(\"_\")[1]\n",
    "            \n",
    "            with open(f\"ratings/{category}/{file}\") as f:\n",
    "                text = f.read()\n",
    "                # Combine data and metadata\n",
    "                ratings.append({**{\"Model\": model, \"Category\": category}, **dict([score[2:].split(\":\") for score in text.split(\"\\n\")[4:]])})\n",
    "                \n",
    "pd.DataFrame(ratings)"
   ]
  },
  {
   "cell_type": "code",
   "execution_count": 33,
   "id": "0452a058",
   "metadata": {},
   "outputs": [],
   "source": [
    "sliders = []\n",
    "\n",
    "for category in [\"customer_support\", \"finance\", \"health_care\"]:\n",
    "    for file in os.listdir(f\"sliders/{category}\"):\n",
    "        if file != \".ipynb_checkpoints\":\n",
    "            \n",
    "            # Find model type\n",
    "            model = file.split(\"_\")[1]\n",
    "            \n",
    "            with open(f\"sliders/{category}/{file}\") as f:\n",
    "                text = f.read()\n",
    "                # Combine data and metadata\n",
    "                combined = {**{\"Model\": model, \"Category\": category}, **eval(text.split(\"\\n\")[-1][8:])}\n",
    "                combined = {k: float(v) if k not in [\"Model\", \"Category\"] else v for k, v in combined.items() }\n",
    "                sliders.append(combined)\n",
    "\n",
    "df1 = pd.DataFrame(sliders) #.iloc[:, 2:].sum(axis=1)"
   ]
  },
  {
   "cell_type": "code",
   "execution_count": 34,
   "id": "ad9fb9b7",
   "metadata": {},
   "outputs": [
    {
     "data": {
      "text/html": [
       "<div>\n",
       "<style scoped>\n",
       "    .dataframe tbody tr th:only-of-type {\n",
       "        vertical-align: middle;\n",
       "    }\n",
       "\n",
       "    .dataframe tbody tr th {\n",
       "        vertical-align: top;\n",
       "    }\n",
       "\n",
       "    .dataframe thead th {\n",
       "        text-align: right;\n",
       "    }\n",
       "</style>\n",
       "<table border=\"1\" class=\"dataframe\">\n",
       "  <thead>\n",
       "    <tr style=\"text-align: right;\">\n",
       "      <th></th>\n",
       "      <th>Model</th>\n",
       "      <th>Category</th>\n",
       "      <th>isco code</th>\n",
       "      <th>function id</th>\n",
       "      <th>company</th>\n",
       "      <th>education</th>\n",
       "      <th>days worked</th>\n",
       "      <th>isco level</th>\n",
       "      <th>CV</th>\n",
       "      <th>skills</th>\n",
       "      <th>certificates</th>\n",
       "      <th>languages</th>\n",
       "      <th>licenses</th>\n",
       "      <th>location</th>\n",
       "    </tr>\n",
       "  </thead>\n",
       "  <tbody>\n",
       "    <tr>\n",
       "      <th>0</th>\n",
       "      <td>LSTM</td>\n",
       "      <td>customer_support</td>\n",
       "      <td>12.406203</td>\n",
       "      <td>9.754877</td>\n",
       "      <td>7.703852</td>\n",
       "      <td>14.407204</td>\n",
       "      <td>14.407204</td>\n",
       "      <td>0.000000</td>\n",
       "      <td>15.257629</td>\n",
       "      <td>0.0</td>\n",
       "      <td>0.0</td>\n",
       "      <td>16.108054</td>\n",
       "      <td>0.0</td>\n",
       "      <td>9.954977</td>\n",
       "    </tr>\n",
       "    <tr>\n",
       "      <th>1</th>\n",
       "      <td>CNN</td>\n",
       "      <td>customer_support</td>\n",
       "      <td>0.000000</td>\n",
       "      <td>0.000000</td>\n",
       "      <td>23.716012</td>\n",
       "      <td>0.000000</td>\n",
       "      <td>23.967774</td>\n",
       "      <td>14.551863</td>\n",
       "      <td>0.000000</td>\n",
       "      <td>0.0</td>\n",
       "      <td>0.0</td>\n",
       "      <td>18.429003</td>\n",
       "      <td>0.0</td>\n",
       "      <td>19.335347</td>\n",
       "    </tr>\n",
       "    <tr>\n",
       "      <th>2</th>\n",
       "      <td>CNN-LSTM</td>\n",
       "      <td>customer_support</td>\n",
       "      <td>5.002501</td>\n",
       "      <td>4.902451</td>\n",
       "      <td>3.201601</td>\n",
       "      <td>21.260630</td>\n",
       "      <td>22.211106</td>\n",
       "      <td>13.956978</td>\n",
       "      <td>0.000000</td>\n",
       "      <td>0.0</td>\n",
       "      <td>0.0</td>\n",
       "      <td>20.260130</td>\n",
       "      <td>0.0</td>\n",
       "      <td>9.204602</td>\n",
       "    </tr>\n",
       "  </tbody>\n",
       "</table>\n",
       "</div>"
      ],
      "text/plain": [
       "      Model          Category  isco code  function id    company  education  \\\n",
       "0      LSTM  customer_support  12.406203     9.754877   7.703852  14.407204   \n",
       "1       CNN  customer_support   0.000000     0.000000  23.716012   0.000000   \n",
       "2  CNN-LSTM  customer_support   5.002501     4.902451   3.201601  21.260630   \n",
       "\n",
       "   days worked  isco level         CV  skills  certificates  languages  \\\n",
       "0    14.407204    0.000000  15.257629     0.0           0.0  16.108054   \n",
       "1    23.967774   14.551863   0.000000     0.0           0.0  18.429003   \n",
       "2    22.211106   13.956978   0.000000     0.0           0.0  20.260130   \n",
       "\n",
       "   licenses   location  \n",
       "0       0.0   9.954977  \n",
       "1       0.0  19.335347  \n",
       "2       0.0   9.204602  "
      ]
     },
     "execution_count": 34,
     "metadata": {},
     "output_type": "execute_result"
    }
   ],
   "source": [
    "df1.iloc[:, 2:] = df1.iloc[:, 2:].divide(df1.iloc[:, 2:].sum(axis=1), axis=0) * 100\n",
    "df1"
   ]
  },
  {
   "cell_type": "code",
   "execution_count": 56,
   "id": "510fec05",
   "metadata": {},
   "outputs": [
    {
     "data": {
      "text/plain": [
       "array([<AxesSubplot:title={'center':'CNN'}>,\n",
       "       <AxesSubplot:title={'center':'CNN-LSTM'}>,\n",
       "       <AxesSubplot:title={'center':'LSTM'}>], dtype=object)"
      ]
     },
     "execution_count": 56,
     "metadata": {},
     "output_type": "execute_result"
    },
    {
     "data": {
      "image/png": "[encoded data removed]",
      "text/plain": [
       "<Figure size 1152x648 with 3 Axes>"
      ]
     },
     "metadata": {
      "needs_background": "light"
     },
     "output_type": "display_data"
    }
   ],
   "source": [
    "df1.drop(\"Category\", axis=1).groupby(\"Model\").mean().T.plot(kind=\"barh\", subplots=True, figsize=(16, 9))"
   ]
  },
  {
   "cell_type": "code",
   "execution_count": 5,
   "id": "83295e84",
   "metadata": {},
   "outputs": [
    {
     "data": {
      "text/plain": [
       "0.008943066794025734"
      ]
     },
     "execution_count": 5,
     "metadata": {},
     "output_type": "execute_result"
    }
   ],
   "source": [
    "acc = 0.615\n",
    "n = 11373\n",
    "\n",
    "1.96 * np.sqrt( ((1 - acc) * (acc)) / n)"
   ]
  },
  {
   "cell_type": "code",
   "execution_count": null,
   "id": "1d559482",
   "metadata": {},
   "outputs": [],
   "source": []
  }
 ],
 "metadata": {
  "kernelspec": {
   "display_name": "conda_python3",
   "language": "python",
   "name": "conda_python3"
  },
  "language_info": {
   "codemirror_mode": {
    "name": "ipython",
    "version": 3
   },
   "file_extension": ".py",
   "mimetype": "text/x-python",
   "name": "python",
   "nbconvert_exporter": "python",
   "pygments_lexer": "ipython3",
   "version": "3.6.13"
  }
 },
 "nbformat": 4,
 "nbformat_minor": 5
}
